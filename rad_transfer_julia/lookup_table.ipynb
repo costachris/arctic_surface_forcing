{
 "cells": [
  {
   "cell_type": "code",
   "execution_count": 21,
   "metadata": {},
   "outputs": [],
   "source": [
    "using CUDA\n",
    "device!(2)\n",
    "# 0 indexed\n",
    "\n",
    "include(\"ese156_tools.jl\")\n",
    "using RadiativeTransfer\n",
    "using RadiativeTransfer.Architectures\n",
    "using RadiativeTransfer.CrossSection\n",
    "\n",
    "# ask rupesh about 32 float\n",
    "# 25hpa spacing, 200-400 KM (every 5 K)"
   ]
  },
  {
   "cell_type": "code",
   "execution_count": null,
   "metadata": {},
   "outputs": [],
   "source": []
  },
  {
   "cell_type": "code",
   "execution_count": 22,
   "metadata": {},
   "outputs": [],
   "source": [
    "# To change things up, choose lat/lon of your birthplace (or any place you like!)\n",
    "file_folder = \"files\"\n",
    "# Locate articafts, see https://julialang.github.io/Pkg.jl/v1/artifacts/\n",
    "# file = joinpath(file_folder, \"MERRA300.prod.assim.inst6_3d_ana_Nv.20150613.hdf.nc4\")\n",
    "\n",
    "file = \"/home/cchristo/proj_christian/rad_transfer_julia/files/MERRA300.prod.assim.inst6_3d_ana_Nv.20150613.hdf.nc4\"\n",
    "timeIndex = 2 # There is 00, 06, 12 and 18 in UTC, i.e. 6 hourly data stacked together\n",
    "\n",
    "# What latitude do we want?\n",
    "myLat = 34.05;\n",
    "myLon = -118.24;"
   ]
  },
  {
   "cell_type": "code",
   "execution_count": 23,
   "metadata": {},
   "outputs": [
    {
     "name": "stdout",
     "output_type": "stream",
     "text": [
      "ds[\"T\"] = T (540 × 361 × 72 × 4)\n",
      "  Datatype:    Float32\n",
      "  Dimensions:  XDim × YDim × Height × TIME\n",
      "  Attributes:\n",
      "   _FillValue           = 1.0e15\n",
      "   long_name            = Air temperature\n",
      "   standard_name        = air_temperature\n",
      "   units                = K\n",
      "   scale_factor         = 1.0\n",
      "   add_offset           = 0.0\n",
      "   missing_value        = 1.0e15\n",
      "   fmissing_value       = 1.0e15\n",
      "   vmin                 = -1.0e30\n",
      "   vmax                 = 1.0e30\n",
      "   valid_range          = Float32[-1.0f30, 1.0f30]\n",
      "   coordinates          = TIME Height YDim XDim\n",
      "   fullpath             = /EOSGRID/Data Fields/T\n",
      "\n"
     ]
    }
   ],
   "source": [
    "profile = read_atmos_profile(file, myLat, myLon, timeIndex);"
   ]
  },
  {
   "cell_type": "code",
   "execution_count": 24,
   "metadata": {},
   "outputs": [],
   "source": [
    "# Minimum wavenumber\n",
    "ν_min  = 400.0\n",
    "# Maximum wavenumber\n",
    "ν_max = 2100.0\n",
    "\n",
    "co2_par = CrossSection.read_hitran(joinpath(file_folder, \"hitran_molec_id_2_CO2.tar\"), mol=2, iso=1, ν_min=ν_min, ν_max=ν_max);\n",
    "ch4_par = CrossSection.read_hitran(joinpath(file_folder, \"hitran_molec_id_6_CH4.tar\"), mol=6, iso=1, ν_min=ν_min, ν_max=ν_max);\n",
    "h2o_par = CrossSection.read_hitran(joinpath(file_folder, \"hitran_molec_id_1_H2O.tar\"), mol=1, iso=1, ν_min=ν_min, ν_max=ν_max);"
   ]
  },
  {
   "cell_type": "code",
   "execution_count": 34,
   "metadata": {},
   "outputs": [],
   "source": [
    "# GPU\n",
    "co2_voigt   = make_hitran_model(co2_par, Voigt(), wing_cutoff=10, CEF=HumlicekWeidemann32SDErrorFunction(), architecture=CrossSection.GPU())\n",
    "h2o_voigt   = make_hitran_model(h2o_par, Voigt(), wing_cutoff=10, CEF=HumlicekWeidemann32SDErrorFunction(), architecture=CrossSection.GPU())\n",
    "ch4_voigt   = make_hitran_model(ch4_par, Voigt(), wing_cutoff=10, CEF=HumlicekWeidemann32SDErrorFunction(), architecture=CrossSection.GPU())\n",
    "\n",
    "hitran_array = [co2_voigt, h2o_voigt, ch4_voigt];"
   ]
  },
  {
   "cell_type": "code",
   "execution_count": 54,
   "metadata": {},
   "outputs": [],
   "source": [
    "res = 0.01\n",
    "ν = ν_min:res:ν_max\n",
    "# σ_matrix = compute_profile_crossSections(profile, hitran_array , ν);"
   ]
  },
  {
   "cell_type": "markdown",
   "metadata": {},
   "source": [
    "# New\n"
   ]
  },
  {
   "cell_type": "code",
   "execution_count": 44,
   "metadata": {},
   "outputs": [
    {
     "data": {
      "text/plain": [
       "180:5:350"
      ]
     },
     "execution_count": 44,
     "metadata": {},
     "output_type": "execute_result"
    }
   ],
   "source": [
    "pressures = 1250:10:150 #pressure can be relaxed \n",
    "temperatures = 180:5:350"
   ]
  },
  {
   "cell_type": "code",
   "execution_count": 37,
   "metadata": {},
   "outputs": [
    {
     "data": {
      "text/plain": [
       "400.0:0.01:2100.0"
      ]
     },
     "execution_count": 37,
     "metadata": {},
     "output_type": "execute_result"
    }
   ],
   "source": [
    "# co2_par\n",
    "# 2:32"
   ]
  },
  {
   "cell_type": "code",
   "execution_count": 60,
   "metadata": {},
   "outputs": [
    {
     "name": "stderr",
     "output_type": "stream",
     "text": [
      "\u001b[32mComputing Cross Sections for Interpolation...100%|██████| Time: 0:38:32\u001b[39m\n",
      "\u001b[32mComputing Cross Sections for Interpolation...100%|██████| Time: 2:56:40\u001b[39m\n"
     ]
    },
    {
     "data": {
      "text/plain": [
       "InterpolationModel\n",
       "  itp: Interpolations.BSplineInterpolation{Float64,3,OffsetArrays.OffsetArray{Float64,3,Array{Float64,3}},BSpline{Cubic{Line{OnGrid}}},Tuple{Base.OneTo{Int64},Base.OneTo{Int64},Base.OneTo{Int64}}}\n",
       "  mol: Int64 6\n",
       "  iso: Int64 1\n",
       "  broadening: Voigt Voigt()\n",
       "  ν_grid: StepRangeLen{Float64,Base.TwicePrecision{Float64},Base.TwicePrecision{Float64}}\n",
       "  p_grid: StepRange{Int64,Int64}\n",
       "  t_grid: StepRange{Int64,Int64}\n",
       "  wing_cutoff: Int64 40\n",
       "  vmr: Int64 0\n",
       "  CEF: HumlicekWeidemann32SDErrorFunction HumlicekWeidemann32SDErrorFunction()\n",
       "  architecture: GPU GPU()\n"
      ]
     },
     "execution_count": 60,
     "metadata": {},
     "output_type": "execute_result"
    }
   ],
   "source": [
    "# Create the Interpolation Model\n",
    "pressures = 150:10:1200\n",
    "temperatures = 180:5:335\n",
    "# pressures = 250:250:1250\n",
    "# temperatures = 100:75:400 \n",
    "\n",
    "# interp_model_co2 = make_interpolation_model(co2_par, Voigt(), ν, pressures, \n",
    "#                                         temperatures, CEF=HumlicekWeidemann32SDErrorFunction())\n",
    "# #                                         architecture=CrossSection.GPU()) \n",
    "\n",
    "interp_model_h2o = make_interpolation_model(h2o_par, Voigt(), ν, pressures, \n",
    "                                        temperatures, CEF=HumlicekWeidemann32SDErrorFunction(),\n",
    "                                        architecture=CrossSection.GPU())\n",
    "\n",
    "interp_model_ch4 = make_interpolation_model(ch4_par, Voigt(), ν, pressures, \n",
    "                                        temperatures, CEF=HumlicekWeidemann32SDErrorFunction(),\n",
    "                                        architecture=CrossSection.GPU())\n"
   ]
  },
  {
   "cell_type": "code",
   "execution_count": 61,
   "metadata": {},
   "outputs": [],
   "source": [
    "# start 5:04\n",
    "\n",
    "save_interpolation_model(interp_model_h2o, \"/net/fluo/data2/groupMembers/cchristo/interp_models/test/h2o_p10_t_5\")\n",
    "save_interpolation_model(interp_model_ch4, \"/net/fluo/data2/groupMembers/cchristo/interp_models/test/ch4_p10_t_5\")"
   ]
  },
  {
   "cell_type": "code",
   "execution_count": 59,
   "metadata": {},
   "outputs": [],
   "source": [
    "# save_interpolation_model(interp_model, \"/net/fluo/data2/groupMembers/cchristo/interp_models/test/co2_p10_t_5\")"
   ]
  },
  {
   "cell_type": "code",
   "execution_count": 32,
   "metadata": {},
   "outputs": [
    {
     "data": {
      "text/plain": [
       "6000.0:0.01:6400.0"
      ]
     },
     "execution_count": 32,
     "metadata": {},
     "output_type": "execute_result"
    }
   ],
   "source": [
    "pressures = 250:250:1250\n",
    "temperatures = 100:75:400 \n",
    "# Wavelength grid\n",
    "ν_grid = 6000:0.01:6400"
   ]
  },
  {
   "cell_type": "code",
   "execution_count": null,
   "metadata": {},
   "outputs": [],
   "source": []
  }
 ],
 "metadata": {
  "kernelspec": {
   "display_name": "Julia 1.5.3",
   "language": "julia",
   "name": "julia-1.5"
  },
  "language_info": {
   "file_extension": ".jl",
   "mimetype": "application/julia",
   "name": "julia",
   "version": "1.5.3"
  }
 },
 "nbformat": 4,
 "nbformat_minor": 4
}
