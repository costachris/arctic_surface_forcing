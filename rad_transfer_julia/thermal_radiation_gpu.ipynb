{
 "cells": [
  {
   "cell_type": "markdown",
   "metadata": {},
   "source": [
    "# Thermal Radiation"
   ]
  },
  {
   "cell_type": "code",
   "execution_count": 28,
   "metadata": {},
   "outputs": [],
   "source": [
    "# Use our tools (you might need to add packages, see file)\n",
    "using CUDA\n",
    "device!(2)\n",
    "# 0 indexed\n",
    "\n",
    "include(\"ese156_tools.jl\")\n",
    "using RadiativeTransfer\n",
    "using RadiativeTransfer.Architectures\n",
    "using RadiativeTransfer.CrossSection\n",
    "using ..Architectures: GPU\n",
    "\n",
    "using JLD2\n",
    "# using PyPlot\n",
    "# use float32\n",
    "\n"
   ]
  },
  {
   "cell_type": "markdown",
   "metadata": {},
   "source": [
    "---\n",
    "#### Define file and lat/lon"
   ]
  },
  {
   "cell_type": "code",
   "execution_count": 29,
   "metadata": {},
   "outputs": [],
   "source": [
    "# To change things up, choose lat/lon of your birthplace (or any place you like!)\n",
    "file_folder = \"files\"\n",
    "# Locate articafts, see https://julialang.github.io/Pkg.jl/v1/artifacts/\n",
    "# file = joinpath(file_folder, \"MERRA300.prod.assim.inst6_3d_ana_Nv.20150613.hdf.nc4\")\n",
    "\n",
    "file = \"/home/cchristo/proj_christian/rad_transfer_julia/files/MERRA300.prod.assim.inst6_3d_ana_Nv.20150613.hdf.nc4\"\n",
    "timeIndex = 2 # There is 00, 06, 12 and 18 in UTC, i.e. 6 hourly data stacked together\n",
    "\n",
    "# What latitude do we want?\n",
    "myLat = 72.58;\n",
    "myLon = -38.47;"
   ]
  },
  {
   "cell_type": "code",
   "execution_count": 30,
   "metadata": {},
   "outputs": [
    {
     "name": "stdout",
     "output_type": "stream",
     "text": [
      "ds[\"T\"] = T (540 × 361 × 72 × 4)\n",
      "  Datatype:    Float32\n",
      "  Dimensions:  XDim × YDim × Height × TIME\n",
      "  Attributes:\n",
      "   _FillValue           = 1.0e15\n",
      "   long_name            = Air temperature\n",
      "   standard_name        = air_temperature\n",
      "   units                = K\n",
      "   scale_factor         = 1.0\n",
      "   add_offset           = 0.0\n",
      "   missing_value        = 1.0e15\n",
      "   fmissing_value       = 1.0e15\n",
      "   vmin                 = -1.0e30\n",
      "   vmax                 = 1.0e30\n",
      "   valid_range          = Float32[-1.0f30, 1.0f30]\n",
      "   coordinates          = TIME Height YDim XDim\n",
      "   fullpath             = /EOSGRID/Data Fields/T\n",
      "\n"
     ]
    }
   ],
   "source": [
    "# Read profile (and generate dry/wet VCDs per layer)\n",
    "profile = read_atmos_profile(file, myLat, myLon, timeIndex);"
   ]
  },
  {
   "cell_type": "code",
   "execution_count": 4,
   "metadata": {},
   "outputs": [
    {
     "data": {
      "text/plain": [
       "pressure_filter (generic function with 1 method)"
      ]
     },
     "execution_count": 4,
     "metadata": {},
     "output_type": "execute_result"
    }
   ],
   "source": [
    "function pressure_filter(var_array::Array, t_array::Array, p_threshold::Real)\n",
    "    p_thres_inds = findall(var_array -> (var_array > p_threshold), var_array)\n",
    "    return var_array[p_thres_inds], t_array[p_thres_inds] \n",
    "end"
   ]
  },
  {
   "cell_type": "code",
   "execution_count": 151,
   "metadata": {},
   "outputs": [],
   "source": [
    "# length(profile.vcd_h2o)"
   ]
  },
  {
   "cell_type": "code",
   "execution_count": 7,
   "metadata": {},
   "outputs": [
    {
     "data": {
      "text/plain": [
       "AtmosphericProfile{Float64}(72.58, -38.47, 68309.4375, [229.61293029785156, 230.0013427734375, 229.46194458007812, 227.2235870361328, 224.24952697753906, 225.36508178710938, 228.47772216796875, 231.8462371826172, 234.6579132080078, 236.8384552001953  …  250.45309448242188, 250.91180419921875, 251.8614501953125, 252.51412963867188, 252.95654296875, 253.18356323242188, 253.27947998046875, 253.2998046875, 253.74810791015625, 250.8155517578125], [5.0486814870964736e-6, 5.692243576049805e-6, 3.073364496231079e-6, 7.543712854385376e-7, 2.703070640563965e-5, 7.987022399902344e-5, 0.00011789798736572266, 0.00016117095947265625, 0.00018334388732910156, 0.0001838207244873047  …  0.0007925306563265622, 0.0008392405579797924, 0.0008917509694583714, 0.0009145797812379897, 0.0009327124571427703, 0.0009442089940421283, 0.0009546990040689707, 0.0009663659147918224, 0.0009724379633553326, 0.0007615452632308006], [16366.15359954144, 19143.82050070841, 22097.244301109065, 25194.41723253252, 28469.43866346986, 31349.536041202256, 33724.98911479814, 36040.723178680986, 38300.425581318326, 40519.13732864708  …  60314.35890716128, 61137.53335017152, 61960.71507798508, 62783.03614424355, 63603.43232824281, 64422.766327317804, 65242.09068151377, 66060.42476387322, 66877.70952621289, 67797.87878164649], [15039.302734375, 17693.00446470788, 20594.636536708946, 23599.852065509185, 26788.982399555854, 30149.894927383866, 32549.177155020647, 34900.80107457563, 37180.64528278634, 39420.20587985031  …  59902.77180772647, 60725.94600659609, 61549.120693746954, 62372.3094622232, 63193.762826263905, 64013.10183022171, 64832.430824413896, 65651.75053861365, 66469.09898913279, 67286.32006329298], [8.117195218131676e-6, 9.151904800103567e-6, 4.9413098560768595e-6, 1.212866964673411e-6, 4.345956886750751e-5, 0.00012841416159307622, 0.00018955463554560056, 0.00025912827831916276, 0.0002947775828808227, 0.0002955442345918261  …  0.0012742190352468556, 0.0013493185223719692, 0.0014337439831671164, 0.0014704478081730618, 0.0014996012555676735, 0.0015180852170897168, 0.001534950899633895, 0.001553708785662543, 0.0015634713352886105, 0.0012244011797707928], [5.618728391089793e23, 6.143671620916969e23, 6.363007181452791e23, 6.752429595144031e23, 7.115961565793114e23, 5.079661476855828e23, 4.9785719015671e23, 4.826399712619686e23, 4.741014682844459e23, 4.6527409489696844e23  …  1.7415477213574396e23, 1.74146726146355e23, 1.7414054312707556e23, 1.737694539992507e23, 1.7331903509397058e23, 1.7331492099356032e23, 1.733111360952048e23, 1.7289213220865488e23, 1.728641366336253e23, 2.164624631189288e23], [4.5608685442738125e18, 5.622681238016419e18, 3.1441745463407263e18, 8.189808720381693e17, 3.0927006247070097e19, 6.5238424510296e19, 9.438903011211433e19, 1.2509808125153988e20, 1.3979569349776438e20, 1.375497282808923e20  …  2.2219445013232845e20, 2.352968936565831e20, 2.50031437002303e20, 2.5589519328671842e20, 2.6029978853040013e20, 2.6350684530785996e20, 2.6643304590941782e20, 2.6904203776230084e20, 2.706913406779478e20, 2.653618045254352e20])"
      ]
     },
     "execution_count": 7,
     "metadata": {},
     "output_type": "execute_result"
    }
   ],
   "source": [
    "p_array = profile.p\n",
    "p_filt_inds = findall(p_array -> (p_array > 15000), p_array)\n",
    "\n",
    "profile_filt = AtmosphericProfile(profile.lat, \n",
    "                                  profile.lon, \n",
    "                                  profile.psurf, \n",
    "                                  profile.T[p_filt_inds], \n",
    "                                  profile.q[p_filt_inds], \n",
    "                                  profile.p[p_filt_inds], \n",
    "                                  profile.p_levels[p_filt_inds], \n",
    "                                  profile.vmr_h2o[p_filt_inds], \n",
    "                                  profile.vcd_dry[p_filt_inds], \n",
    "                                  profile.vcd_h2o[p_filt_inds])\n",
    "\n",
    "\n"
   ]
  },
  {
   "cell_type": "code",
   "execution_count": 8,
   "metadata": {},
   "outputs": [
    {
     "ename": "LoadError",
     "evalue": "\u001b[91mUndefVarError: t_filt not defined\u001b[39m",
     "output_type": "error",
     "traceback": [
      "\u001b[91mUndefVarError: t_filt not defined\u001b[39m",
      "",
      "Stacktrace:",
      " [1] top-level scope at In[8]:3",
      " [2] include_string(::Function, ::Module, ::String, ::String) at ./loading.jl:1091"
     ]
    }
   ],
   "source": [
    "# profile.T = CuArray(profile.T)\n",
    "\n",
    "plot(t_filt)\n",
    "# map(maxof, profile.p)\n",
    "# findmax(profile.p)\n",
    "# length(profile.p[profile.p .< 10000])\n",
    "# profile.p"
   ]
  },
  {
   "cell_type": "markdown",
   "metadata": {},
   "source": [
    "---\n",
    "#### Define HITRAN parameters"
   ]
  },
  {
   "cell_type": "code",
   "execution_count": 9,
   "metadata": {},
   "outputs": [],
   "source": [
    "# Minimum wavenumber\n",
    "ν_min  = 400.0\n",
    "# Maximum wavenumber\n",
    "ν_max = 2100.0\n",
    "\n",
    "# define grid\n",
    "res = 0.01\n",
    "ν = ν_min:res:ν_max\n",
    "\n",
    "co2_par = CrossSection.read_hitran(joinpath(file_folder, \"hitran_molec_id_2_CO2.tar\"), mol=2, iso=1, ν_min=ν_min, ν_max=ν_max);\n",
    "ch4_par = CrossSection.read_hitran(joinpath(file_folder, \"hitran_molec_id_6_CH4.tar\"), mol=6, iso=1, ν_min=ν_min, ν_max=ν_max);\n",
    "h2o_par = CrossSection.read_hitran(joinpath(file_folder, \"hitran_molec_id_1_H2O.tar\"), mol=1, iso=1, ν_min=ν_min, ν_max=ν_max);"
   ]
  },
  {
   "cell_type": "code",
   "execution_count": 9,
   "metadata": {},
   "outputs": [],
   "source": [
    "# GPU\n",
    "co2_voigt   = make_hitran_model(co2_par, Voigt(), wing_cutoff=10, CEF=HumlicekWeidemann32SDErrorFunction(), architecture=CrossSection.GPU())\n",
    "h2o_voigt   = make_hitran_model(h2o_par, Voigt(), wing_cutoff=10, CEF=HumlicekWeidemann32SDErrorFunction(), architecture=CrossSection.GPU())\n",
    "ch4_voigt   = make_hitran_model(ch4_par, Voigt(), wing_cutoff=10, CEF=HumlicekWeidemann32SDErrorFunction(), architecture=CrossSection.GPU())\n",
    "\n",
    "# CPU\n",
    "# co2_voigt   = make_hitran_model(co2_par, Voigt(), wing_cutoff=10)\n",
    "# h2o_voigt   = make_hitran_model(h2o_par, Voigt(), wing_cutoff=10)\n",
    "# ch4_voigt   = make_hitran_model(ch4_par, Voigt(), wing_cutoff=10)\n",
    "\n",
    "\n",
    "\n",
    "hitran_array = [co2_voigt, h2o_voigt, ch4_voigt];"
   ]
  },
  {
   "cell_type": "markdown",
   "metadata": {},
   "source": [
    "---\n",
    "#### Define model resolution and compute all cross sections for profile"
   ]
  },
  {
   "cell_type": "code",
   "execution_count": 60,
   "metadata": {},
   "outputs": [],
   "source": [
    "# res = 0.01\n",
    "# ν = ν_min:res:ν_max\n",
    "# σ_matrix = compute_profile_crossSections(profile, hitran_array , ν);"
   ]
  },
  {
   "cell_type": "markdown",
   "metadata": {},
   "source": [
    "# Use saved interpolation models"
   ]
  },
  {
   "cell_type": "code",
   "execution_count": 10,
   "metadata": {},
   "outputs": [
    {
     "data": {
      "text/plain": [
       "InterpolationModel\n",
       "  itp: Interpolations.BSplineInterpolation{Float64,3,OffsetArrays.OffsetArray{Float64,3,Array{Float64,3}},BSpline{Cubic{Line{OnGrid}}},Tuple{Base.OneTo{Int64},Base.OneTo{Int64},Base.OneTo{Int64}}}\n",
       "  mol: Int64 6\n",
       "  iso: Int64 1\n",
       "  broadening: Voigt Voigt()\n",
       "  ν_grid: StepRangeLen{Float64,Base.TwicePrecision{Float64},Base.TwicePrecision{Float64}}\n",
       "  p_grid: StepRange{Int64,Int64}\n",
       "  t_grid: StepRange{Int64,Int64}\n",
       "  wing_cutoff: Int64 40\n",
       "  vmr: Int64 0\n",
       "  CEF: HumlicekWeidemann32SDErrorFunction HumlicekWeidemann32SDErrorFunction()\n",
       "  architecture: GPU GPU()\n"
      ]
     },
     "execution_count": 10,
     "metadata": {},
     "output_type": "execute_result"
    }
   ],
   "source": [
    "# load interp model \n",
    "# interp_model_co2 = load_interpolation_model(\"/net/fluo/data2/groupMembers/cchristo/interp_models/test/co2_p10_t_5\")\n",
    "interp_model_co2 = @load \"/net/fluo/data2/groupMembers/cchristo/interp_models/test/co2_p10_t_5\" \n",
    "interp_model_co2  = eval(interp_model_co2[1])\n",
    "\n",
    "interp_model_h2o = @load \"/net/fluo/data2/groupMembers/cchristo/interp_models/test/h2o_p10_t_5\"\n",
    "interp_model_h2o = eval(interp_model_h2o[1])\n",
    "\n",
    "interp_model_ch4 = @load \"/net/fluo/data2/groupMembers/cchristo/interp_models/test/ch4_p10_t_5\"\n",
    "interp_model_ch4 = eval(interp_model_ch4[1])"
   ]
  },
  {
   "cell_type": "code",
   "execution_count": 11,
   "metadata": {},
   "outputs": [],
   "source": [
    "hitran_array_interp = [interp_model_co2, interp_model_h2o, interp_model_ch4];"
   ]
  },
  {
   "cell_type": "code",
   "execution_count": 21,
   "metadata": {},
   "outputs": [],
   "source": [
    "# interp_model_ch4"
   ]
  },
  {
   "cell_type": "code",
   "execution_count": 80,
   "metadata": {},
   "outputs": [
    {
     "data": {
      "text/plain": [
       "InterpolationModel"
      ]
     },
     "execution_count": 80,
     "metadata": {},
     "output_type": "execute_result"
    }
   ],
   "source": [
    "typeof(hitran_array_interp[1])"
   ]
  },
  {
   "cell_type": "code",
   "execution_count": 12,
   "metadata": {},
   "outputs": [
    {
     "name": "stderr",
     "output_type": "stream",
     "text": [
      "\u001b[32mProgress: 100%|█████████████████████████████████████████| Time: 0:00:05\u001b[39m\n"
     ]
    }
   ],
   "source": [
    "σ_matrix = compute_profile_crossSections_interp(profile_filt, hitran_array_interp , ν);"
   ]
  },
  {
   "cell_type": "code",
   "execution_count": null,
   "metadata": {},
   "outputs": [],
   "source": []
  },
  {
   "cell_type": "markdown",
   "metadata": {},
   "source": [
    "# Reduce dims and Radiative Transfer"
   ]
  },
  {
   "cell_type": "code",
   "execution_count": 13,
   "metadata": {},
   "outputs": [],
   "source": [
    "# Reduce dimensions, group layers together to get roughly layers of equal pressure difference:\n",
    "# n_layers = 20\n",
    "# profile_red, σ_matrix_red = reduce_profile(n_layers, profile_filt, σ_matrix);\n",
    "profile_red = profile_filt ; "
   ]
  },
  {
   "cell_type": "code",
   "execution_count": 17,
   "metadata": {},
   "outputs": [],
   "source": [
    "# i = 2; j = 20;\n",
    "# plot(1e4./ν,σ_matrix[:,j,i].+1e-90, yscale=:log10,alpha=0.8, lw=2,label=\"H₂O\")\n",
    "# i = 1;\n",
    "# plot!(1e4./ν,σ_matrix[:,j,i].+1e-90, yscale=:log10, alpha=0.6,lw=2,label=\"CO₂\")\n",
    "# i = 3; \n",
    "# plot!(1e4./ν,σ_matrix[:,j,i].+1e-90, yscale=:log10, alpha=0.4,lw=2,label=\"CH₄\")\n",
    "# ylims!(1e-35, 1e-15)\n",
    "# xlabel!(\"Wavelength (μm)\")\n",
    "# ylabel!(\"Cross Section (cm²)\")"
   ]
  },
  {
   "cell_type": "code",
   "execution_count": 14,
   "metadata": {},
   "outputs": [
    {
     "name": "stdout",
     "output_type": "stream",
     "text": [
      "nL = 32\n"
     ]
    },
    {
     "data": {
      "text/plain": [
       "32"
      ]
     },
     "execution_count": 14,
     "metadata": {},
     "output_type": "execute_result"
    }
   ],
   "source": [
    "# Define concentration profile:\n",
    "nL = length(profile_red.T)\n",
    "vmr_co2 = zeros(nL) .+ 400e-6\n",
    "vmr_ch4 = zeros(nL) .+ 2e-6\n",
    "vmr_h2o = profile_red.vcd_h2o ./ profile_red.vcd_dry\n",
    "vmrs = [vmr_co2, vmr_h2o, vmr_ch4 ];\n",
    "@show nL"
   ]
  },
  {
   "cell_type": "markdown",
   "metadata": {},
   "source": [
    "---\n",
    "### Define Instrument models:"
   ]
  },
  {
   "cell_type": "code",
   "execution_count": 126,
   "metadata": {},
   "outputs": [],
   "source": [
    "# Define an Instrument, TCCON specs\n",
    "FWHM = 0.2  # 0.2cm-1 resolution\n",
    "Δν = 0.05\n",
    "satellite = KernelInstrument(gaussian_kernel(FWHM, res), collect(minimum(ν)+2FWHM:Δν:maximum(ν)-2FWHM));"
   ]
  },
  {
   "cell_type": "markdown",
   "metadata": {},
   "source": [
    "### Planck Curve\n",
    "Here, we need to define the blackbody radiation as a function of wavelength and Temperature. The equation for total outgoing radiance as a function of wavelength wavelength would be\n",
    "$$B_\\lambda(T)\\mathrm{d}\\lambda = \\frac{2 h c^2}{\\lambda^5}\\frac{1}{e^{\\frac{hc}{\\lambda k_BT}}-1}\\mathrm{d}\\lambda\\,$$\n",
    "with $k_B$ being the Boltzmann constant, $h$ the Planck constant, and c the speed of light. Here, $B_\\lambda(T)$ is described in terms of the power (W) emitted per unit area of the body, per unit solid angle (sr) that the radiation is measured over, per unit frequency (in SI unit of meters here, we will need to convert to get to nm or $\\mu$m). For the sun, we will want to look at the total radiation emitted at the sun's surface, for which we just have to integrate across all solid angles in one hemisphere, effectively mulitplying by $\\pi$.  \n",
    "\n",
    "Similarly, if we are looking at solar irradiance at the top of the Earth's atmosphere, we need to take the distance between the sun and the earth into account. We do so by computing the ratio of the sphere area with radius of sun-earth distance (1AU) and the surface area of the sun. The radius of the sun is about 695,700km. The distance between the centers of sun and earth is 1 Astronomical Unit (AU), i.e. 149,597,870.7km. The ratio of the distances (sun center to sun surface vs sun center to earth surface) is thus (149597870.7-6300)/695700=215.02. Thus, we have to divide the solar irradiance at the sun's surface by 215.02$^2$ to get to the fluxes at the extended distance. The conversion factor is about 2.1629e-05. \n",
    "___________\n",
    " First, we need to actually define the Planck function. "
   ]
  },
  {
   "cell_type": "code",
   "execution_count": 177,
   "metadata": {},
   "outputs": [
    {
     "data": {
      "text/plain": [
       "planck (generic function with 1 method)"
      ]
     },
     "execution_count": 177,
     "metadata": {},
     "output_type": "execute_result"
    }
   ],
   "source": [
    "# Some constants and the planck function (as radiance!)\n",
    "# plank functions of wavelength\n",
    "# function planck(wav, T)\n",
    "#     h = 6.626e-34\n",
    "#     c = 299792458\n",
    "#     k = 1.38e-23\n",
    "#     c1 = 2h*c^2\n",
    "#     c2 = h*c/(wav*k*T)\n",
    "#     intensity = c1/ ( (wav^5)*(exp(c2) - 1.0) )\n",
    "#     # Convert to W/sr/m^2/µm here directly (it was W/sr/m^2/m)\n",
    "#     return intensity*1.0e-6\n",
    "# end\n"
   ]
  },
  {
   "cell_type": "code",
   "execution_count": 15,
   "metadata": {},
   "outputs": [
    {
     "data": {
      "text/plain": [
       "planck (generic function with 1 method)"
      ]
     },
     "execution_count": 15,
     "metadata": {},
     "output_type": "execute_result"
    }
   ],
   "source": [
    "function planck(wavenum, T)\n",
    "    wavenum_m = wavenum*1.0e-2\n",
    "    h = 6.62607004e-34 # m^2/kg/s\n",
    "    c = 299792458 # m/s\n",
    "    k = 1.380649e-23 # J/K\n",
    "    c1 = 2.0*h*(c^2)*(wavenum_m^3)\n",
    "    c2 = (h*c*wavenum_m)/(k*T)\n",
    "    intensity = c1/(exp(c2) - 1.0)\n",
    "    return intensity*1.0e-2\n",
    "end\n"
   ]
  },
  {
   "cell_type": "code",
   "execution_count": 195,
   "metadata": {},
   "outputs": [],
   "source": [
    "# ν_grid = collect(ν)\n",
    "# ν_grid_cu = CuArray(ν_grid)\n",
    "# ν_grid\n",
    "# planck.(ν_grid, profile.T[1])\n",
    "# wavenum = ν_grid\n",
    "# h = 6.62607004e-34 # m^2/kg/s\n",
    "# c = 299792458 # m/s\n",
    "# k = 1.380649e-23 # J/K\n",
    "# c1 = 2.0*h*(c^2)*(wavenum^3)"
   ]
  },
  {
   "cell_type": "code",
   "execution_count": 232,
   "metadata": {},
   "outputs": [],
   "source": [
    "# wavenum\n",
    "# @time map(x -> plank(x, 280), ν_grid_cu)\n",
    "# @time map(x -> plank(x, 280), ν_grid)"
   ]
  },
  {
   "cell_type": "code",
   "execution_count": 241,
   "metadata": {},
   "outputs": [],
   "source": [
    "# Define a wavelengths grid (equation demands SI unit of meters).\n",
    "# wl = (1e7*1e-9)./collect(ν[1:100:end]);\n",
    "# plot(ν, planck.(ν,280), label=\"Planck Curve\",lw=2)\n",
    "# ylabel!(\"Radiance (W/sr/m²/μm)\")\n",
    "# xlabel!(\"Wavelength (μm)\")"
   ]
  },
  {
   "cell_type": "code",
   "execution_count": 55,
   "metadata": {},
   "outputs": [
    {
     "data": {
      "text/plain": [
       "\"here\""
      ]
     },
     "metadata": {},
     "output_type": "display_data"
    }
   ],
   "source": [
    "display(\"here\")"
   ]
  },
  {
   "cell_type": "markdown",
   "metadata": {},
   "source": [
    "---\n",
    "### Define a simplified Forward model:"
   ]
  },
  {
   "cell_type": "code",
   "execution_count": 24,
   "metadata": {},
   "outputs": [
    {
     "data": {
      "text/plain": [
       "forward_model_thermal_gpu (generic function with 1 method)"
      ]
     },
     "execution_count": 24,
     "metadata": {},
     "output_type": "execute_result"
    }
   ],
   "source": [
    "function forward_model_thermal_gpu(vmrs, σ_matrix, profile, albedo, Tsurf, μ, ν)\n",
    "    nProfile = length(profile.T)\n",
    "    nSpec    = size(σ_matrix,1)\n",
    "    nGas     = length(vmrs)\n",
    "    \n",
    "    # wavelength in meter\n",
    "#     wl = CuArray((1e7*1e-9)./collect(ν))\n",
    "#     wl = CuArray((1e7*1e-9)./collect(ν)\n",
    "#     display(wl)\n",
    "    # Total sum of τ\n",
    "    ∑τ       = CuArray(zeros(nSpec,nProfile))\n",
    "#     ∑τ       = zeros(nSpec,nProfile)\n",
    "    \n",
    "    # Planck Source function\n",
    "    S        = CuArray(zeros(nSpec,nProfile))\n",
    "    \n",
    "    # Layer boundary up and down fluxes:\n",
    "    rad_down = CuArray(zeros(nSpec,nProfile+1))\n",
    "    rad_up   = CuArray(zeros(nSpec,nProfile+1))\n",
    "    \n",
    "    # Planck Source per layer:\n",
    "    display(\"here0\")\n",
    "#     planck.(wl, profile.T[1])\n",
    "    display(\"here00\")\n",
    "    for i=1:nProfile\n",
    "        S[:,i] = planck.(ν, profile.T[i])\n",
    "    end\n",
    "    \n",
    "    display(\"here1\")\n",
    "    # sum up total layer τ:\n",
    "    for i=1:nGas,j=1:nProfile\n",
    "        ∑τ[:,j] .+= σ_matrix[:,j,i] .* (vmrs[i][j] .* profile.vcd_dry[j])'\n",
    "    end\n",
    "    \n",
    "    \n",
    "    # Transmission per layer\n",
    "    T = exp.(-∑τ/μ)\n",
    "    \n",
    "    # Atmosphere from top to bottom:\n",
    "    for i=1:nProfile\n",
    "        rad_down[:,i+1] = rad_down[:,i].*T[:,i] .+ (1 .-T[:,i]).*S[:,i]\n",
    "    end\n",
    "#     display(rad_down)\n",
    "    # Upward flux at surface:\n",
    "    rad_up[:,end] = (1-albedo)*planck.(ν,Tsurf) .+ Array(rad_down[:,end])*albedo\n",
    "    display(\"past\")   \n",
    "    # Atmosphere from bottom to top\n",
    "    for i=nProfile:-1:1\n",
    "        rad_up[:,i] = rad_up[:,i+1].*T[:,i] .+ (1 .-T[:,i]) .* S[:,i]\n",
    "    end\n",
    "    \n",
    "    return T, rad_down, rad_up\n",
    "end"
   ]
  },
  {
   "cell_type": "code",
   "execution_count": null,
   "metadata": {},
   "outputs": [],
   "source": []
  },
  {
   "cell_type": "code",
   "execution_count": 57,
   "metadata": {},
   "outputs": [],
   "source": [
    "#  planck.(wl, profile.T[1])"
   ]
  },
  {
   "cell_type": "code",
   "execution_count": 104,
   "metadata": {},
   "outputs": [],
   "source": [
    "# σ_matrix_red_cu[]"
   ]
  },
  {
   "cell_type": "code",
   "execution_count": 18,
   "metadata": {},
   "outputs": [],
   "source": [
    "σ_matrix_red_cu = CuArray(σ_matrix);\n",
    "# profile_red_cu = CuArray(profile_red)"
   ]
  },
  {
   "cell_type": "code",
   "execution_count": 25,
   "metadata": {},
   "outputs": [
    {
     "data": {
      "text/plain": [
       "\"here0\""
      ]
     },
     "metadata": {},
     "output_type": "display_data"
    },
    {
     "data": {
      "text/plain": [
       "\"here00\""
      ]
     },
     "metadata": {},
     "output_type": "display_data"
    },
    {
     "data": {
      "text/plain": [
       "\"here1\""
      ]
     },
     "metadata": {},
     "output_type": "display_data"
    },
    {
     "ename": "LoadError",
     "evalue": "\u001b[91mCUDA error: an illegal memory access was encountered (code 700, ERROR_ILLEGAL_ADDRESS)\u001b[39m",
     "output_type": "error",
     "traceback": [
      "\u001b[91mCUDA error: an illegal memory access was encountered (code 700, ERROR_ILLEGAL_ADDRESS)\u001b[39m",
      "",
      "Stacktrace:",
      " [1] throw_api_error(::CUDA.cudaError_enum) at /home/cchristo/.julia/packages/CUDA/wTQsK/lib/cudadrv/error.jl:97",
      " [2] CuModule(::String, ::Dict{CUDA.CUjit_option_enum,Any}) at /home/cchristo/.julia/packages/CUDA/wTQsK/lib/cudadrv/module.jl:42",
      " [3] cufunction_link(::GPUCompiler.FunctionSpec, ::Tuple{String,String,Array{String,1},Array{NamedTuple{(:name, :type, :external),Tuple{String,LLVM.PointerType,Bool}},1}}; kwargs::Base.Iterators.Pairs{Union{},Union{},Tuple{},NamedTuple{(),Tuple{}}}) at /home/cchristo/.julia/packages/CUDA/wTQsK/src/compiler/execution.jl:335",
      " [4] cufunction_link(::GPUCompiler.FunctionSpec, ::Tuple{String,String,Array{String,1},Array{NamedTuple{(:name, :type, :external),Tuple{String,LLVM.PointerType,Bool}},1}}) at /home/cchristo/.julia/packages/CUDA/wTQsK/src/compiler/execution.jl:308",
      " [5] check_cache(::Dict{UInt64,Any}, ::Any, ::Any, ::GPUCompiler.FunctionSpec{GPUArrays.var\"#broadcast_kernel#12\",Tuple{CUDA.CuKernelContext,CuDeviceArray{Float64,1,1},Base.Broadcast.Broadcasted{Nothing,Tuple{Base.OneTo{Int64}},typeof(+),Tuple{Base.Broadcast.Extruded{CuDeviceArray{Float64,1,1},Tuple{Bool},Tuple{Int64}},Base.Broadcast.Broadcasted{CUDA.CuArrayStyle{1},Nothing,typeof(*),Tuple{Base.Broadcast.Extruded{CuDeviceArray{Float64,1,1},Tuple{Bool},Tuple{Int64}},Float64}}}},Int64}}, ::UInt64; kwargs::Base.Iterators.Pairs{Union{},Union{},Tuple{},NamedTuple{(),Tuple{}}}) at /home/cchristo/.julia/packages/GPUCompiler/uTpNx/src/cache.jl:48",
      " [6] broadcast_kernel at /home/cchristo/.julia/packages/GPUArrays/WV76E/src/host/broadcast.jl:60 [inlined]",
      " [7] cached_compilation at /home/cchristo/.julia/packages/GPUCompiler/uTpNx/src/cache.jl:65 [inlined]",
      " [8] cufunction(::GPUArrays.var\"#broadcast_kernel#12\", ::Type{Tuple{CUDA.CuKernelContext,CuDeviceArray{Float64,1,1},Base.Broadcast.Broadcasted{Nothing,Tuple{Base.OneTo{Int64}},typeof(+),Tuple{Base.Broadcast.Extruded{CuDeviceArray{Float64,1,1},Tuple{Bool},Tuple{Int64}},Base.Broadcast.Broadcasted{CUDA.CuArrayStyle{1},Nothing,typeof(*),Tuple{Base.Broadcast.Extruded{CuDeviceArray{Float64,1,1},Tuple{Bool},Tuple{Int64}},Float64}}}},Int64}}; name::Nothing, kwargs::Base.Iterators.Pairs{Union{},Union{},Tuple{},NamedTuple{(),Tuple{}}}) at /home/cchristo/.julia/packages/CUDA/wTQsK/src/compiler/execution.jl:289",
      " [9] cufunction(::GPUArrays.var\"#broadcast_kernel#12\", ::Type{Tuple{CUDA.CuKernelContext,CuDeviceArray{Float64,1,1},Base.Broadcast.Broadcasted{Nothing,Tuple{Base.OneTo{Int64}},typeof(+),Tuple{Base.Broadcast.Extruded{CuDeviceArray{Float64,1,1},Tuple{Bool},Tuple{Int64}},Base.Broadcast.Broadcasted{CUDA.CuArrayStyle{1},Nothing,typeof(*),Tuple{Base.Broadcast.Extruded{CuDeviceArray{Float64,1,1},Tuple{Bool},Tuple{Int64}},Float64}}}},Int64}}) at /home/cchristo/.julia/packages/CUDA/wTQsK/src/compiler/execution.jl:286",
      " [10] macro expansion at /home/cchristo/.julia/packages/CUDA/wTQsK/src/compiler/execution.jl:100 [inlined]",
      " [11] #launch_heuristic#857 at /home/cchristo/.julia/packages/CUDA/wTQsK/src/gpuarrays.jl:17 [inlined]",
      " [12] launch_heuristic at /home/cchristo/.julia/packages/CUDA/wTQsK/src/gpuarrays.jl:17 [inlined]",
      " [13] copyto! at /home/cchristo/.julia/packages/GPUArrays/WV76E/src/host/broadcast.jl:66 [inlined]",
      " [14] copyto! at ./broadcast.jl:886 [inlined]",
      " [15] materialize! at ./broadcast.jl:848 [inlined]",
      " [16] materialize! at ./broadcast.jl:845 [inlined]",
      " [17] forward_model_thermal_gpu(::Array{Array{Float64,1},1}, ::CuArray{Float64,3}, ::AtmosphericProfile{Float64}, ::Float64, ::Float64, ::Float64, ::StepRangeLen{Float64,Base.TwicePrecision{Float64},Base.TwicePrecision{Float64}}) at ./In[24]:32",
      " [18] top-level scope at ./timing.jl:174 [inlined]",
      " [19] top-level scope at ./In[25]:0",
      " [20] include_string(::Function, ::Module, ::String, ::String) at ./loading.jl:1091"
     ]
    }
   ],
   "source": [
    "@time T, rad_down, rad_up = forward_model_thermal_gpu(vmrs,\n",
    "                                                     σ_matrix_red_cu,\n",
    "                                                     profile_red,\n",
    "                                                     0.05, 280.0, 1.0, ν);"
   ]
  },
  {
   "cell_type": "code",
   "execution_count": 22,
   "metadata": {},
   "outputs": [
    {
     "data": {
      "text/plain": [
       "170001"
      ]
     },
     "execution_count": 22,
     "metadata": {},
     "output_type": "execute_result"
    }
   ],
   "source": [
    "# rad_down\n",
    "length(ν)"
   ]
  },
  {
   "cell_type": "code",
   "execution_count": 189,
   "metadata": {},
   "outputs": [],
   "source": [
    "# rad_up\n",
    "# profile_red.T"
   ]
  },
  {
   "cell_type": "code",
   "execution_count": 110,
   "metadata": {},
   "outputs": [
    {
     "name": "stdout",
     "output_type": "stream",
     "text": [
      "  0.490811 seconds (712 allocations: 671.589 MiB, 1.10% gc time)\n"
     ]
    }
   ],
   "source": [
    "@time T, rad_down, rad_up = forward_model_thermal(vmrs,σ_matrix_red, profile_red, 0.05, 280.0, 1.0, ν);"
   ]
  },
  {
   "cell_type": "markdown",
   "metadata": {},
   "source": [
    "## Timing:\n",
    "# CPU: 1.673095 seconds (2.14 M allocations: 775.430 MiB, 12.45% gc time) \n",
    "# GPU: ~1 second"
   ]
  },
  {
   "cell_type": "code",
   "execution_count": 96,
   "metadata": {},
   "outputs": [],
   "source": [
    "# plot(1e4./ν, prod(T,dims=2),lw=2)\n",
    "# ylabel!(\"Total Atmosphere Transmission\")\n",
    "# xlabel!(\"Wavelength (μm)\")\n"
   ]
  },
  {
   "cell_type": "code",
   "execution_count": 110,
   "metadata": {},
   "outputs": [],
   "source": [
    "# plot(1e4./ν, Array(rad_up[:,1]))\n",
    "# ylabel!(\"Radiance (W/sr/m²/μm)\")\n",
    "# xlabel!(\"Wavelength (μm)\")"
   ]
  },
  {
   "cell_type": "code",
   "execution_count": 213,
   "metadata": {},
   "outputs": [],
   "source": [
    "# rad_down"
   ]
  },
  {
   "cell_type": "code",
   "execution_count": 247,
   "metadata": {},
   "outputs": [],
   "source": [
    "# plot(ν, Array(rad_down[:,end]))\n",
    "# ylabel!(\"Radiance (W/sr/m²/cm)\")\n",
    "# xlabel!(\"Wavenumber (μm)\")"
   ]
  },
  {
   "cell_type": "code",
   "execution_count": 206,
   "metadata": {},
   "outputs": [],
   "source": [
    "# heatmap(ν, profile_red.p_levels, rad_down', yflip=true)\n",
    "# xlabel!(\"Wavenumber (cm⁻¹)\")\n",
    "# ylabel!(\"pressure (Pa)\")\n",
    "# title!(\"Downwelling radiation\")"
   ]
  },
  {
   "cell_type": "code",
   "execution_count": 20,
   "metadata": {},
   "outputs": [
    {
     "ename": "LoadError",
     "evalue": "UndefVarError: rad_up not defined",
     "output_type": "error",
     "traceback": [
      "UndefVarError: rad_up not defined",
      "",
      "Stacktrace:",
      " [1] top-level scope at In[20]:1",
      " [2] include_string(::Function, ::Module, ::String, ::String) at ./loading.jl:1091"
     ]
    }
   ],
   "source": [
    "heatmap(ν, profile_red.p_levels, rad_up', yflip=true)\n",
    "xlabel!(\"Wavenumber (cm⁻¹)\")\n",
    "ylabel!(\"pressure (Pa)\")\n",
    "title!(\"Downwelling radiation\")"
   ]
  },
  {
   "cell_type": "code",
   "execution_count": 21,
   "metadata": {},
   "outputs": [
    {
     "ename": "LoadError",
     "evalue": "UndefVarError: T not defined",
     "output_type": "error",
     "traceback": [
      "UndefVarError: T not defined",
      "",
      "Stacktrace:",
      " [1] top-level scope at In[21]:1",
      " [2] include_string(::Function, ::Module, ::String, ::String) at ./loading.jl:1091"
     ]
    }
   ],
   "source": [
    "heatmap(ν, profile_red.p, T', yflip=true)\n",
    "xlabel!(\"Wavenumber (cm⁻¹)\")\n",
    "ylabel!(\"Transmission\")"
   ]
  },
  {
   "cell_type": "code",
   "execution_count": null,
   "metadata": {},
   "outputs": [],
   "source": []
  }
 ],
 "metadata": {
  "@webio": {
   "lastCommId": null,
   "lastKernelId": null
  },
  "kernelspec": {
   "display_name": "Julia 1.5.3",
   "language": "julia",
   "name": "julia-1.5"
  },
  "language_info": {
   "file_extension": ".jl",
   "mimetype": "application/julia",
   "name": "julia",
   "version": "1.5.3"
  }
 },
 "nbformat": 4,
 "nbformat_minor": 4
}
