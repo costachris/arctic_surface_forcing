{
 "cells": [
  {
   "cell_type": "markdown",
   "metadata": {},
   "source": [
    "# Thermal Radiation\n",
    "#### ESE156 2020,  7th notebook, Christian Frankenberg "
   ]
  },
  {
   "cell_type": "code",
   "execution_count": 22,
   "metadata": {},
   "outputs": [],
   "source": [
    "# Use our tools (you might need to add packages, see file)\n",
    "using CUDA\n",
    "device!(2)\n",
    "# 0 indexed\n",
    "\n",
    "include(\"ese156_tools.jl\")\n",
    "using RadiativeTransfer\n",
    "using RadiativeTransfer.Architectures\n",
    "using RadiativeTransfer.CrossSection\n",
    "\n",
    "# use float32\n"
   ]
  },
  {
   "cell_type": "markdown",
   "metadata": {},
   "source": [
    "---\n",
    "#### Define file and lat/lon"
   ]
  },
  {
   "cell_type": "code",
   "execution_count": 15,
   "metadata": {},
   "outputs": [],
   "source": [
    "# To change things up, choose lat/lon of your birthplace (or any place you like!)\n",
    "file_folder = \"files\"\n",
    "# Locate articafts, see https://julialang.github.io/Pkg.jl/v1/artifacts/\n",
    "# file = joinpath(file_folder, \"MERRA300.prod.assim.inst6_3d_ana_Nv.20150613.hdf.nc4\")\n",
    "\n",
    "file = \"/home/cchristo/proj_christian/rad_transfer_julia/files/MERRA300.prod.assim.inst6_3d_ana_Nv.20150613.hdf.nc4\"\n",
    "timeIndex = 2 # There is 00, 06, 12 and 18 in UTC, i.e. 6 hourly data stacked together\n",
    "\n",
    "# What latitude do we want?\n",
    "myLat = 50.642;\n",
    "myLon = 7.226;"
   ]
  },
  {
   "cell_type": "code",
   "execution_count": 16,
   "metadata": {},
   "outputs": [
    {
     "name": "stdout",
     "output_type": "stream",
     "text": [
      "ds[\"T\"] = T (540 × 361 × 72 × 4)\n",
      "  Datatype:    Float32\n",
      "  Dimensions:  XDim × YDim × Height × TIME\n",
      "  Attributes:\n",
      "   _FillValue           = 1.0e15\n",
      "   long_name            = Air temperature\n",
      "   standard_name        = air_temperature\n",
      "   units                = K\n",
      "   scale_factor         = 1.0\n",
      "   add_offset           = 0.0\n",
      "   missing_value        = 1.0e15\n",
      "   fmissing_value       = 1.0e15\n",
      "   vmin                 = -1.0e30\n",
      "   vmax                 = 1.0e30\n",
      "   valid_range          = Float32[-1.0f30, 1.0f30]\n",
      "   coordinates          = TIME Height YDim XDim\n",
      "   fullpath             = /EOSGRID/Data Fields/T\n",
      "\n"
     ]
    }
   ],
   "source": [
    "# Read profile (and generate dry/wet VCDs per layer)\n",
    "profile = read_atmos_profile(file, myLat, myLon, timeIndex);"
   ]
  },
  {
   "cell_type": "markdown",
   "metadata": {},
   "source": [
    "---\n",
    "#### Define HITRAN parameters"
   ]
  },
  {
   "cell_type": "code",
   "execution_count": 10,
   "metadata": {},
   "outputs": [],
   "source": [
    "# Minimum wavenumber\n",
    "ν_min  = 200.0\n",
    "# Maximum wavenumber\n",
    "ν_xmax = 2000.0\n",
    "\n",
    "# co2_par = CrossSection.read_hitran(joinpath(file_folder, \"hitran_molec_id_2_CO2.par\"), mol=2, iso=1, ν_min=ν_min, ν_max=ν_xmax);\n",
    "# ch4_par = CrossSection.read_hitran(joinpath(file_folder, \"hitran_molec_id_6_CH4.par\"), mol=6, iso=1, ν_min=ν_min, ν_max=ν_xmax);\n",
    "# h2o_par = CrossSection.read_hitran(joinpath(file_folder, \"hitran_molec_id_1_H2O.par\"), mol=1, iso=1, ν_min=ν_min, ν_max=ν_xmax);\n",
    "\n",
    "\n",
    "co2_par = CrossSection.read_hitran(joinpath(file_folder, \"hitran_molec_id_2_CO2.tar\"), mol=2, iso=1, ν_min=ν_min, ν_max=ν_xmax);\n",
    "ch4_par = CrossSection.read_hitran(joinpath(file_folder, \"hitran_molec_id_6_CH4.tar\"), mol=6, iso=1, ν_min=ν_min, ν_max=ν_xmax);\n",
    "h2o_par = CrossSection.read_hitran(joinpath(file_folder, \"hitran_molec_id_1_H2O.tar\"), mol=1, iso=1, ν_min=ν_min, ν_max=ν_xmax);"
   ]
  },
  {
   "cell_type": "code",
   "execution_count": 17,
   "metadata": {},
   "outputs": [],
   "source": [
    "co2_voigt   = make_hitran_model(co2_par, Voigt(), wing_cutoff=10, CEF=HumlicekWeidemann32SDErrorFunction(), architecture=CrossSection.GPU())\n",
    "h2o_voigt   = make_hitran_model(h2o_par, Voigt(), wing_cutoff=10, CEF=HumlicekWeidemann32SDErrorFunction(), architecture=CrossSection.GPU())\n",
    "ch4_voigt   = make_hitran_model(ch4_par, Voigt(), wing_cutoff=10, CEF=HumlicekWeidemann32SDErrorFunction(), architecture=CrossSection.GPU())\n",
    "\n",
    "hitran_array = [co2_voigt, h2o_voigt, ch4_voigt];"
   ]
  },
  {
   "cell_type": "markdown",
   "metadata": {},
   "source": [
    "---\n",
    "#### Define model resolution and compute all cross sections for profile"
   ]
  },
  {
   "cell_type": "code",
   "execution_count": 18,
   "metadata": {},
   "outputs": [
    {
     "name": "stderr",
     "output_type": "stream",
     "text": [
      "\u001b[32mProgress: 100%|█████████████████████████████████████████| Time: 0:04:02\u001b[39m\n"
     ]
    }
   ],
   "source": [
    "res = 0.01\n",
    "ν = 200:res:2000\n",
    "σ_matrix = compute_profile_crossSections(profile, hitran_array , ν);"
   ]
  },
  {
   "cell_type": "code",
   "execution_count": null,
   "metadata": {},
   "outputs": [],
   "source": [
    "# Reduce dimensions, group layers together to get roughly layers of equal pressure difference:\n",
    "n_layers = 20\n",
    "profile_red, σ_matrix_red = reduce_profile(n_layers, profile, σ_matrix);"
   ]
  },
  {
   "cell_type": "code",
   "execution_count": 9,
   "metadata": {},
   "outputs": [
    {
     "ename": "LoadError",
     "evalue": "UndefVarError: σ_matrix not defined",
     "output_type": "error",
     "traceback": [
      "UndefVarError: σ_matrix not defined",
      "",
      "Stacktrace:",
      " [1] top-level scope at In[9]:2",
      " [2] include_string(::Function, ::Module, ::String, ::String) at ./loading.jl:1091"
     ]
    }
   ],
   "source": [
    "i = 2; j = 20;\n",
    "plot(1e4./ν,σ_matrix[:,j,i].+1e-90, yscale=:log10,alpha=0.8, lw=2,label=\"H₂O\")\n",
    "i = 1;\n",
    "plot!(1e4./ν,σ_matrix[:,j,i].+1e-90, yscale=:log10, alpha=0.6,lw=2,label=\"CO₂\")\n",
    "i = 3; \n",
    "plot!(1e4./ν,σ_matrix[:,j,i].+1e-90, yscale=:log10, alpha=0.4,lw=2,label=\"CH₄\")\n",
    "ylims!(1e-35, 1e-15)\n",
    "xlabel!(\"Wavelength (μm)\")\n",
    "ylabel!(\"Cross Section (cm²)\")"
   ]
  },
  {
   "cell_type": "code",
   "execution_count": 10,
   "metadata": {},
   "outputs": [
    {
     "ename": "LoadError",
     "evalue": "UndefVarError: profile_red not defined",
     "output_type": "error",
     "traceback": [
      "UndefVarError: profile_red not defined",
      "",
      "Stacktrace:",
      " [1] top-level scope at In[10]:2",
      " [2] include_string(::Function, ::Module, ::String, ::String) at ./loading.jl:1091"
     ]
    }
   ],
   "source": [
    "# Define concentration profile:\n",
    "nL = length(profile_red.T)\n",
    "vmr_co2 = zeros(nL) .+ 400e-6\n",
    "vmr_ch4 = zeros(nL) .+ 2e-6\n",
    "vmr_h2o = profile_red.vcd_h2o ./ profile_red.vcd_dry\n",
    "vmrs = [vmr_co2, vmr_h2o, vmr_ch4 ];\n",
    "@show nL"
   ]
  },
  {
   "cell_type": "markdown",
   "metadata": {},
   "source": [
    "---\n",
    "### Define Instrument models:"
   ]
  },
  {
   "cell_type": "code",
   "execution_count": 11,
   "metadata": {},
   "outputs": [],
   "source": [
    "# Define an Instrument, TCCON specs\n",
    "FWHM = 0.2  # 0.2cm-1 resolution\n",
    "Δν = 0.05\n",
    "satellite = KernelInstrument(gaussian_kernel(FWHM, res), collect(minimum(ν)+2FWHM:Δν:maximum(ν)-2FWHM));"
   ]
  },
  {
   "cell_type": "markdown",
   "metadata": {},
   "source": [
    "### Planck Curve\n",
    "Here, we need to define the blackbody radiation as a function of wavelength and Temperature. The equation for total outgoing radiance as a function of wavelength wavelength would be\n",
    "$$B_\\lambda(T)\\mathrm{d}\\lambda = \\frac{2 h c^2}{\\lambda^5}\\frac{1}{e^{\\frac{hc}{\\lambda k_BT}}-1}\\mathrm{d}\\lambda\\,$$\n",
    "with $k_B$ being the Boltzmann constant, $h$ the Planck constant, and c the speed of light. Here, $B_\\lambda(T)$ is described in terms of the power (W) emitted per unit area of the body, per unit solid angle (sr) that the radiation is measured over, per unit frequency (in SI unit of meters here, we will need to convert to get to nm or $\\mu$m). For the sun, we will want to look at the total radiation emitted at the sun's surface, for which we just have to integrate across all solid angles in one hemisphere, effectively mulitplying by $\\pi$.  \n",
    "\n",
    "Similarly, if we are looking at solar irradiance at the top of the Earth's atmosphere, we need to take the distance between the sun and the earth into account. We do so by computing the ratio of the sphere area with radius of sun-earth distance (1AU) and the surface area of the sun. The radius of the sun is about 695,700km. The distance between the centers of sun and earth is 1 Astronomical Unit (AU), i.e. 149,597,870.7km. The ratio of the distances (sun center to sun surface vs sun center to earth surface) is thus (149597870.7-6300)/695700=215.02. Thus, we have to divide the solar irradiance at the sun's surface by 215.02$^2$ to get to the fluxes at the extended distance. The conversion factor is about 2.1629e-05. \n",
    "___________\n",
    " First, we need to actually define the Planck function. "
   ]
  },
  {
   "cell_type": "code",
   "execution_count": 12,
   "metadata": {},
   "outputs": [
    {
     "data": {
      "text/plain": [
       "planck (generic function with 1 method)"
      ]
     },
     "execution_count": 12,
     "metadata": {},
     "output_type": "execute_result"
    }
   ],
   "source": [
    "# Some constants and the planck function (as radiance!)\n",
    "function planck(wav, T)\n",
    "    h = 6.626e-34\n",
    "    c = 299792458\n",
    "    k = 1.38e-23\n",
    "    c1 = 2h*c^2\n",
    "    c2 = h*c/(wav*k*T)\n",
    "    intensity = c1/ ( (wav^5)*(exp(c2) - 1.0) )\n",
    "    # Convert to W/sr/m^2/µm here directly (it was W/sr/m^2/m)\n",
    "    return intensity*1.0e-6\n",
    "end"
   ]
  },
  {
   "cell_type": "code",
   "execution_count": 13,
   "metadata": {},
   "outputs": [
    {
     "data": {
      "image/svg+xml": [
       "<?xml version=\"1.0\" encoding=\"utf-8\"?>\n",
       "<svg xmlns=\"http://www.w3.org/2000/svg\" xmlns:xlink=\"http://www.w3.org/1999/xlink\" width=\"600\" height=\"400\" viewBox=\"0 0 2400 1600\">\n",
       "<defs>\n",
       "  <clipPath id=\"clip030\">\n",
       "    <rect x=\"0\" y=\"0\" width=\"2400\" height=\"1600\"/>\n",
       "  </clipPath>\n",
       "</defs>\n",
       "<path clip-path=\"url(#clip030)\" d=\"\n",
       "M0 1600 L2400 1600 L2400 0 L0 0  Z\n",
       "  \" fill=\"#ffffff\" fill-rule=\"evenodd\" fill-opacity=\"1\"/>\n",
       "<defs>\n",
       "  <clipPath id=\"clip031\">\n",
       "    <rect x=\"480\" y=\"0\" width=\"1681\" height=\"1600\"/>\n",
       "  </clipPath>\n",
       "</defs>\n",
       "<path clip-path=\"url(#clip030)\" d=\"\n",
       "M175.445 1423.18 L2352.76 1423.18 L2352.76 47.2441 L175.445 47.2441  Z\n",
       "  \" fill=\"#ffffff\" fill-rule=\"evenodd\" fill-opacity=\"1\"/>\n",
       "<defs>\n",
       "  <clipPath id=\"clip032\">\n",
       "    <rect x=\"175\" y=\"47\" width=\"2178\" height=\"1377\"/>\n",
       "  </clipPath>\n",
       "</defs>\n",
       "<polyline clip-path=\"url(#clip032)\" style=\"stroke:#000000; stroke-width:2; stroke-opacity:0.1; fill:none\" points=\"\n",
       "  465.297,1423.18 465.297,47.2441 \n",
       "  \"/>\n",
       "<polyline clip-path=\"url(#clip032)\" style=\"stroke:#000000; stroke-width:2; stroke-opacity:0.1; fill:none\" points=\"\n",
       "  921.756,1423.18 921.756,47.2441 \n",
       "  \"/>\n",
       "<polyline clip-path=\"url(#clip032)\" style=\"stroke:#000000; stroke-width:2; stroke-opacity:0.1; fill:none\" points=\"\n",
       "  1378.22,1423.18 1378.22,47.2441 \n",
       "  \"/>\n",
       "<polyline clip-path=\"url(#clip032)\" style=\"stroke:#000000; stroke-width:2; stroke-opacity:0.1; fill:none\" points=\"\n",
       "  1834.67,1423.18 1834.67,47.2441 \n",
       "  \"/>\n",
       "<polyline clip-path=\"url(#clip032)\" style=\"stroke:#000000; stroke-width:2; stroke-opacity:0.1; fill:none\" points=\"\n",
       "  2291.13,1423.18 2291.13,47.2441 \n",
       "  \"/>\n",
       "<polyline clip-path=\"url(#clip030)\" style=\"stroke:#000000; stroke-width:4; stroke-opacity:1; fill:none\" points=\"\n",
       "  175.445,1423.18 2352.76,1423.18 \n",
       "  \"/>\n",
       "<polyline clip-path=\"url(#clip030)\" style=\"stroke:#000000; stroke-width:4; stroke-opacity:1; fill:none\" points=\"\n",
       "  465.297,1423.18 465.297,1406.67 \n",
       "  \"/>\n",
       "<polyline clip-path=\"url(#clip030)\" style=\"stroke:#000000; stroke-width:4; stroke-opacity:1; fill:none\" points=\"\n",
       "  921.756,1423.18 921.756,1406.67 \n",
       "  \"/>\n",
       "<polyline clip-path=\"url(#clip030)\" style=\"stroke:#000000; stroke-width:4; stroke-opacity:1; fill:none\" points=\"\n",
       "  1378.22,1423.18 1378.22,1406.67 \n",
       "  \"/>\n",
       "<polyline clip-path=\"url(#clip030)\" style=\"stroke:#000000; stroke-width:4; stroke-opacity:1; fill:none\" points=\"\n",
       "  1834.67,1423.18 1834.67,1406.67 \n",
       "  \"/>\n",
       "<polyline clip-path=\"url(#clip030)\" style=\"stroke:#000000; stroke-width:4; stroke-opacity:1; fill:none\" points=\"\n",
       "  2291.13,1423.18 2291.13,1406.67 \n",
       "  \"/>\n",
       "<path clip-path=\"url(#clip030)\" d=\"M 0 0 M442.172 1479.92 L449.811 1479.92 L449.811 1453.55 L441.501 1455.22 L441.501 1450.96 L449.765 1449.29 L454.44 1449.29 L454.44 1479.92 L462.079 1479.92 L462.079 1483.85 L442.172 1483.85 L442.172 1479.92 Z\" fill=\"#000000\" fill-rule=\"evenodd\" fill-opacity=\"1\" /><path clip-path=\"url(#clip030)\" d=\"M 0 0 M477.149 1452.37 Q473.538 1452.37 471.709 1455.94 Q469.903 1459.48 469.903 1466.61 Q469.903 1473.71 471.709 1477.28 Q473.538 1480.82 477.149 1480.82 Q480.783 1480.82 482.588 1477.28 Q484.417 1473.71 484.417 1466.61 Q484.417 1459.48 482.588 1455.94 Q480.783 1452.37 477.149 1452.37 M477.149 1448.67 Q482.959 1448.67 486.014 1453.27 Q489.093 1457.86 489.093 1466.61 Q489.093 1475.33 486.014 1479.94 Q482.959 1484.52 477.149 1484.52 Q471.338 1484.52 468.26 1479.94 Q465.204 1475.33 465.204 1466.61 Q465.204 1457.86 468.26 1453.27 Q471.338 1448.67 477.149 1448.67 Z\" fill=\"#000000\" fill-rule=\"evenodd\" fill-opacity=\"1\" /><path clip-path=\"url(#clip030)\" d=\"M 0 0 M902.902 1479.92 L919.221 1479.92 L919.221 1483.85 L897.277 1483.85 L897.277 1479.92 Q899.939 1477.16 904.522 1472.53 Q909.129 1467.88 910.309 1466.54 Q912.555 1464.01 913.434 1462.28 Q914.337 1460.52 914.337 1458.83 Q914.337 1456.07 912.393 1454.34 Q910.471 1452.6 907.37 1452.6 Q905.171 1452.6 902.717 1453.37 Q900.286 1454.13 897.509 1455.68 L897.509 1450.96 Q900.333 1449.82 902.786 1449.25 Q905.24 1448.67 907.277 1448.67 Q912.647 1448.67 915.842 1451.35 Q919.036 1454.04 919.036 1458.53 Q919.036 1460.66 918.226 1462.58 Q917.439 1464.48 915.333 1467.07 Q914.754 1467.74 911.652 1470.96 Q908.55 1474.15 902.902 1479.92 Z\" fill=\"#000000\" fill-rule=\"evenodd\" fill-opacity=\"1\" /><path clip-path=\"url(#clip030)\" d=\"M 0 0 M934.291 1452.37 Q930.68 1452.37 928.851 1455.94 Q927.045 1459.48 927.045 1466.61 Q927.045 1473.71 928.851 1477.28 Q930.68 1480.82 934.291 1480.82 Q937.925 1480.82 939.731 1477.28 Q941.559 1473.71 941.559 1466.61 Q941.559 1459.48 939.731 1455.94 Q937.925 1452.37 934.291 1452.37 M934.291 1448.67 Q940.101 1448.67 943.156 1453.27 Q946.235 1457.86 946.235 1466.61 Q946.235 1475.33 943.156 1479.94 Q940.101 1484.52 934.291 1484.52 Q928.481 1484.52 925.402 1479.94 Q922.346 1475.33 922.346 1466.61 Q922.346 1457.86 925.402 1453.27 Q928.481 1448.67 934.291 1448.67 Z\" fill=\"#000000\" fill-rule=\"evenodd\" fill-opacity=\"1\" /><path clip-path=\"url(#clip030)\" d=\"M 0 0 M1368.96 1465.22 Q1372.31 1465.94 1374.19 1468.2 Q1376.09 1470.47 1376.09 1473.81 Q1376.09 1478.92 1372.57 1481.72 Q1369.05 1484.52 1362.57 1484.52 Q1360.39 1484.52 1358.08 1484.08 Q1355.78 1483.67 1353.33 1482.81 L1353.33 1478.3 Q1355.28 1479.43 1357.59 1480.01 Q1359.91 1480.59 1362.43 1480.59 Q1366.83 1480.59 1369.12 1478.85 Q1371.43 1477.12 1371.43 1473.81 Q1371.43 1470.75 1369.28 1469.04 Q1367.15 1467.3 1363.33 1467.3 L1359.3 1467.3 L1359.3 1463.46 L1363.52 1463.46 Q1366.97 1463.46 1368.79 1462.09 Q1370.62 1460.7 1370.62 1458.11 Q1370.62 1455.45 1368.72 1454.04 Q1366.85 1452.6 1363.33 1452.6 Q1361.41 1452.6 1359.21 1453.02 Q1357.01 1453.44 1354.37 1454.31 L1354.37 1450.15 Q1357.03 1449.41 1359.35 1449.04 Q1361.69 1448.67 1363.75 1448.67 Q1369.07 1448.67 1372.17 1451.1 Q1375.28 1453.5 1375.28 1457.63 Q1375.28 1460.5 1373.63 1462.49 Q1371.99 1464.45 1368.96 1465.22 Z\" fill=\"#000000\" fill-rule=\"evenodd\" fill-opacity=\"1\" /><path clip-path=\"url(#clip030)\" d=\"M 0 0 M1391.16 1452.37 Q1387.54 1452.37 1385.72 1455.94 Q1383.91 1459.48 1383.91 1466.61 Q1383.91 1473.71 1385.72 1477.28 Q1387.54 1480.82 1391.16 1480.82 Q1394.79 1480.82 1396.59 1477.28 Q1398.42 1473.71 1398.42 1466.61 Q1398.42 1459.48 1396.59 1455.94 Q1394.79 1452.37 1391.16 1452.37 M1391.16 1448.67 Q1396.97 1448.67 1400.02 1453.27 Q1403.1 1457.86 1403.1 1466.61 Q1403.1 1475.33 1400.02 1479.94 Q1396.97 1484.52 1391.16 1484.52 Q1385.34 1484.52 1382.27 1479.94 Q1379.21 1475.33 1379.21 1466.61 Q1379.21 1457.86 1382.27 1453.27 Q1385.34 1448.67 1391.16 1448.67 Z\" fill=\"#000000\" fill-rule=\"evenodd\" fill-opacity=\"1\" /><path clip-path=\"url(#clip030)\" d=\"M 0 0 M1824.18 1453.37 L1812.37 1471.81 L1824.18 1471.81 L1824.18 1453.37 M1822.95 1449.29 L1828.83 1449.29 L1828.83 1471.81 L1833.76 1471.81 L1833.76 1475.7 L1828.83 1475.7 L1828.83 1483.85 L1824.18 1483.85 L1824.18 1475.7 L1808.58 1475.7 L1808.58 1471.19 L1822.95 1449.29 Z\" fill=\"#000000\" fill-rule=\"evenodd\" fill-opacity=\"1\" /><path clip-path=\"url(#clip030)\" d=\"M 0 0 M1848.83 1452.37 Q1845.22 1452.37 1843.39 1455.94 Q1841.58 1459.48 1841.58 1466.61 Q1841.58 1473.71 1843.39 1477.28 Q1845.22 1480.82 1848.83 1480.82 Q1852.46 1480.82 1854.27 1477.28 Q1856.1 1473.71 1856.1 1466.61 Q1856.1 1459.48 1854.27 1455.94 Q1852.46 1452.37 1848.83 1452.37 M1848.83 1448.67 Q1854.64 1448.67 1857.7 1453.27 Q1860.77 1457.86 1860.77 1466.61 Q1860.77 1475.33 1857.7 1479.94 Q1854.64 1484.52 1848.83 1484.52 Q1843.02 1484.52 1839.94 1479.94 Q1836.89 1475.33 1836.89 1466.61 Q1836.89 1457.86 1839.94 1453.27 Q1843.02 1448.67 1848.83 1448.67 Z\" fill=\"#000000\" fill-rule=\"evenodd\" fill-opacity=\"1\" /><path clip-path=\"url(#clip030)\" d=\"M 0 0 M2267.9 1449.29 L2286.26 1449.29 L2286.26 1453.23 L2272.19 1453.23 L2272.19 1461.7 Q2273.21 1461.35 2274.22 1461.19 Q2275.24 1461 2276.26 1461 Q2282.05 1461 2285.43 1464.18 Q2288.81 1467.35 2288.81 1472.76 Q2288.81 1478.34 2285.34 1481.44 Q2281.86 1484.52 2275.54 1484.52 Q2273.37 1484.52 2271.1 1484.15 Q2268.85 1483.78 2266.45 1483.04 L2266.45 1478.34 Q2268.53 1479.48 2270.75 1480.03 Q2272.97 1480.59 2275.45 1480.59 Q2279.46 1480.59 2281.79 1478.48 Q2284.13 1476.38 2284.13 1472.76 Q2284.13 1469.15 2281.79 1467.05 Q2279.46 1464.94 2275.45 1464.94 Q2273.58 1464.94 2271.7 1465.36 Q2269.85 1465.77 2267.9 1466.65 L2267.9 1449.29 Z\" fill=\"#000000\" fill-rule=\"evenodd\" fill-opacity=\"1\" /><path clip-path=\"url(#clip030)\" d=\"M 0 0 M2303.88 1452.37 Q2300.27 1452.37 2298.44 1455.94 Q2296.63 1459.48 2296.63 1466.61 Q2296.63 1473.71 2298.44 1477.28 Q2300.27 1480.82 2303.88 1480.82 Q2307.51 1480.82 2309.32 1477.28 Q2311.15 1473.71 2311.15 1466.61 Q2311.15 1459.48 2309.32 1455.94 Q2307.51 1452.37 2303.88 1452.37 M2303.88 1448.67 Q2309.69 1448.67 2312.74 1453.27 Q2315.82 1457.86 2315.82 1466.61 Q2315.82 1475.33 2312.74 1479.94 Q2309.69 1484.52 2303.88 1484.52 Q2298.07 1484.52 2294.99 1479.94 Q2291.93 1475.33 2291.93 1466.61 Q2291.93 1457.86 2294.99 1453.27 Q2298.07 1448.67 2303.88 1448.67 Z\" fill=\"#000000\" fill-rule=\"evenodd\" fill-opacity=\"1\" /><path clip-path=\"url(#clip030)\" d=\"M 0 0 M1013.34 1508.52 L1019.83 1508.52 L1029.83 1548.69 L1039.79 1508.52 L1047.01 1508.52 L1057.01 1548.69 L1066.97 1508.52 L1073.5 1508.52 L1061.56 1556.04 L1053.48 1556.04 L1043.45 1514.79 L1033.33 1556.04 L1025.24 1556.04 L1013.34 1508.52 Z\" fill=\"#000000\" fill-rule=\"evenodd\" fill-opacity=\"1\" /><path clip-path=\"url(#clip030)\" d=\"M 0 0 M1091.67 1538.12 Q1084.57 1538.12 1081.83 1539.75 Q1079.1 1541.37 1079.1 1545.29 Q1079.1 1548.4 1081.13 1550.25 Q1083.2 1552.07 1086.74 1552.07 Q1091.61 1552.07 1094.53 1548.63 Q1097.49 1545.16 1097.49 1539.43 L1097.49 1538.12 L1091.67 1538.12 M1103.35 1535.71 L1103.35 1556.04 L1097.49 1556.04 L1097.49 1550.63 Q1095.49 1553.88 1092.5 1555.44 Q1089.51 1556.97 1085.18 1556.97 Q1079.7 1556.97 1076.46 1553.91 Q1073.24 1550.82 1073.24 1545.67 Q1073.24 1539.65 1077.25 1536.6 Q1081.29 1533.54 1089.28 1533.54 L1097.49 1533.54 L1097.49 1532.97 Q1097.49 1528.93 1094.82 1526.73 Q1092.18 1524.5 1087.37 1524.5 Q1084.32 1524.5 1081.42 1525.23 Q1078.52 1525.97 1075.85 1527.43 L1075.85 1522.02 Q1079.07 1520.78 1082.09 1520.17 Q1085.11 1519.54 1087.98 1519.54 Q1095.71 1519.54 1099.53 1523.55 Q1103.35 1527.56 1103.35 1535.71 Z\" fill=\"#000000\" fill-rule=\"evenodd\" fill-opacity=\"1\" /><path clip-path=\"url(#clip030)\" d=\"M 0 0 M1105.29 1520.4 L1111.5 1520.4 L1122.64 1550.31 L1133.78 1520.4 L1139.99 1520.4 L1126.62 1556.04 L1118.66 1556.04 L1105.29 1520.4 Z\" fill=\"#000000\" fill-rule=\"evenodd\" fill-opacity=\"1\" /><path clip-path=\"url(#clip030)\" d=\"M 0 0 M1176.62 1536.76 L1176.62 1539.62 L1149.69 1539.62 Q1150.07 1545.67 1153.32 1548.85 Q1156.6 1552 1162.42 1552 Q1165.8 1552 1168.95 1551.17 Q1172.13 1550.35 1175.25 1548.69 L1175.25 1554.23 Q1172.1 1555.57 1168.79 1556.27 Q1165.48 1556.97 1162.07 1556.97 Q1153.54 1556.97 1148.55 1552 Q1143.58 1547.04 1143.58 1538.57 Q1143.58 1529.82 1148.29 1524.69 Q1153.03 1519.54 1161.06 1519.54 Q1168.25 1519.54 1172.42 1524.18 Q1176.62 1528.8 1176.62 1536.76 M1170.76 1535.04 Q1170.7 1530.23 1168.06 1527.37 Q1165.45 1524.5 1161.12 1524.5 Q1156.22 1524.5 1153.26 1527.27 Q1150.33 1530.04 1149.88 1535.07 L1170.76 1535.04 Z\" fill=\"#000000\" fill-rule=\"evenodd\" fill-opacity=\"1\" /><path clip-path=\"url(#clip030)\" d=\"M 0 0 M1182.76 1506.52 L1188.62 1506.52 L1188.62 1556.04 L1182.76 1556.04 L1182.76 1506.52 Z\" fill=\"#000000\" fill-rule=\"evenodd\" fill-opacity=\"1\" /><path clip-path=\"url(#clip030)\" d=\"M 0 0 M1225.25 1536.76 L1225.25 1539.62 L1198.33 1539.62 Q1198.71 1545.67 1201.96 1548.85 Q1205.23 1552 1211.06 1552 Q1214.43 1552 1217.58 1551.17 Q1220.77 1550.35 1223.89 1548.69 L1223.89 1554.23 Q1220.73 1555.57 1217.42 1556.27 Q1214.11 1556.97 1210.71 1556.97 Q1202.18 1556.97 1197.18 1552 Q1192.22 1547.04 1192.22 1538.57 Q1192.22 1529.82 1196.93 1524.69 Q1201.67 1519.54 1209.69 1519.54 Q1216.88 1519.54 1221.05 1524.18 Q1225.25 1528.8 1225.25 1536.76 M1219.4 1535.04 Q1219.33 1530.23 1216.69 1527.37 Q1214.08 1524.5 1209.75 1524.5 Q1204.85 1524.5 1201.89 1527.27 Q1198.96 1530.04 1198.52 1535.07 L1219.4 1535.04 Z\" fill=\"#000000\" fill-rule=\"evenodd\" fill-opacity=\"1\" /><path clip-path=\"url(#clip030)\" d=\"M 0 0 M1261.03 1534.53 L1261.03 1556.04 L1255.17 1556.04 L1255.17 1534.72 Q1255.17 1529.66 1253.2 1527.14 Q1251.23 1524.63 1247.28 1524.63 Q1242.54 1524.63 1239.8 1527.65 Q1237.06 1530.68 1237.06 1535.9 L1237.06 1556.04 L1231.17 1556.04 L1231.17 1520.4 L1237.06 1520.4 L1237.06 1525.93 Q1239.16 1522.72 1242 1521.13 Q1244.86 1519.54 1248.58 1519.54 Q1254.73 1519.54 1257.88 1523.36 Q1261.03 1527.14 1261.03 1534.53 Z\" fill=\"#000000\" fill-rule=\"evenodd\" fill-opacity=\"1\" /><path clip-path=\"url(#clip030)\" d=\"M 0 0 M1290.63 1537.81 Q1290.63 1531.44 1287.99 1527.94 Q1285.38 1524.44 1280.64 1524.44 Q1275.92 1524.44 1273.28 1527.94 Q1270.67 1531.44 1270.67 1537.81 Q1270.67 1544.14 1273.28 1547.64 Q1275.92 1551.14 1280.64 1551.14 Q1285.38 1551.14 1287.99 1547.64 Q1290.63 1544.14 1290.63 1537.81 M1296.49 1551.62 Q1296.49 1560.72 1292.44 1565.15 Q1288.4 1569.6 1280.06 1569.6 Q1276.98 1569.6 1274.24 1569.13 Q1271.5 1568.68 1268.92 1567.72 L1268.92 1562.03 Q1271.5 1563.43 1274.02 1564.1 Q1276.53 1564.76 1279.14 1564.76 Q1284.9 1564.76 1287.77 1561.74 Q1290.63 1558.75 1290.63 1552.67 L1290.63 1549.77 Q1288.82 1552.92 1285.98 1554.48 Q1283.15 1556.04 1279.2 1556.04 Q1272.65 1556.04 1268.64 1551.05 Q1264.63 1546.05 1264.63 1537.81 Q1264.63 1529.53 1268.64 1524.53 Q1272.65 1519.54 1279.2 1519.54 Q1283.15 1519.54 1285.98 1521.1 Q1288.82 1522.66 1290.63 1525.81 L1290.63 1520.4 L1296.49 1520.4 L1296.49 1551.62 Z\" fill=\"#000000\" fill-rule=\"evenodd\" fill-opacity=\"1\" /><path clip-path=\"url(#clip030)\" d=\"M 0 0 M1308.42 1510.27 L1308.42 1520.4 L1320.48 1520.4 L1320.48 1524.95 L1308.42 1524.95 L1308.42 1544.3 Q1308.42 1548.66 1309.6 1549.9 Q1310.81 1551.14 1314.47 1551.14 L1320.48 1551.14 L1320.48 1556.04 L1314.47 1556.04 Q1307.69 1556.04 1305.11 1553.53 Q1302.53 1550.98 1302.53 1544.3 L1302.53 1524.95 L1298.24 1524.95 L1298.24 1520.4 L1302.53 1520.4 L1302.53 1510.27 L1308.42 1510.27 Z\" fill=\"#000000\" fill-rule=\"evenodd\" fill-opacity=\"1\" /><path clip-path=\"url(#clip030)\" d=\"M 0 0 M1356.26 1534.53 L1356.26 1556.04 L1350.4 1556.04 L1350.4 1534.72 Q1350.4 1529.66 1348.43 1527.14 Q1346.46 1524.63 1342.51 1524.63 Q1337.77 1524.63 1335.03 1527.65 Q1332.29 1530.68 1332.29 1535.9 L1332.29 1556.04 L1326.4 1556.04 L1326.4 1506.52 L1332.29 1506.52 L1332.29 1525.93 Q1334.39 1522.72 1337.23 1521.13 Q1340.09 1519.54 1343.82 1519.54 Q1349.96 1519.54 1353.11 1523.36 Q1356.26 1527.14 1356.26 1534.53 Z\" fill=\"#000000\" fill-rule=\"evenodd\" fill-opacity=\"1\" /><path clip-path=\"url(#clip030)\" d=\"M 0 0 M1397.19 1506.58 Q1392.93 1513.9 1390.86 1521.06 Q1388.79 1528.23 1388.79 1535.58 Q1388.79 1542.93 1390.86 1550.16 Q1392.96 1557.35 1397.19 1564.64 L1392.1 1564.64 Q1387.32 1557.16 1384.94 1549.93 Q1382.58 1542.71 1382.58 1535.58 Q1382.58 1528.48 1384.94 1521.29 Q1387.29 1514.09 1392.1 1506.58 L1397.19 1506.58 Z\" fill=\"#000000\" fill-rule=\"evenodd\" fill-opacity=\"1\" /><path clip-path=\"url(#clip030)\" d=\"M 0 0 M1402.73 1569.6 L1402.73 1520.4 L1408.59 1520.4 L1408.59 1542.55 Q1408.59 1547.16 1410.78 1549.52 Q1412.98 1551.87 1417.28 1551.87 Q1421.99 1551.87 1424.34 1549.2 Q1426.73 1546.53 1426.73 1541.18 L1426.73 1520.4 L1432.58 1520.4 L1432.58 1547.83 Q1432.58 1549.74 1433.13 1550.66 Q1433.7 1551.56 1434.88 1551.56 Q1435.16 1551.56 1435.67 1551.4 Q1436.18 1551.21 1437.07 1550.82 L1437.07 1555.53 Q1435.77 1556.27 1434.59 1556.62 Q1433.44 1556.97 1432.33 1556.97 Q1430.13 1556.97 1428.83 1555.73 Q1427.52 1554.48 1427.05 1551.94 Q1425.46 1554.45 1423.13 1555.73 Q1420.84 1556.97 1417.72 1556.97 Q1414.47 1556.97 1412.18 1555.73 Q1409.92 1554.48 1408.59 1552 L1408.59 1569.6 L1402.73 1569.6 Z\" fill=\"#000000\" fill-rule=\"evenodd\" fill-opacity=\"1\" /><path clip-path=\"url(#clip030)\" d=\"M 0 0 M1470.97 1527.24 Q1473.17 1523.29 1476.22 1521.41 Q1479.28 1519.54 1483.42 1519.54 Q1488.99 1519.54 1492.01 1523.45 Q1495.03 1527.33 1495.03 1534.53 L1495.03 1556.04 L1489.14 1556.04 L1489.14 1534.72 Q1489.14 1529.59 1487.33 1527.11 Q1485.52 1524.63 1481.79 1524.63 Q1477.24 1524.63 1474.6 1527.65 Q1471.96 1530.68 1471.96 1535.9 L1471.96 1556.04 L1466.07 1556.04 L1466.07 1534.72 Q1466.07 1529.56 1464.25 1527.11 Q1462.44 1524.63 1458.65 1524.63 Q1454.16 1524.63 1451.52 1527.68 Q1448.88 1530.71 1448.88 1535.9 L1448.88 1556.04 L1442.99 1556.04 L1442.99 1520.4 L1448.88 1520.4 L1448.88 1525.93 Q1450.89 1522.66 1453.69 1521.1 Q1456.49 1519.54 1460.34 1519.54 Q1464.22 1519.54 1466.93 1521.51 Q1469.67 1523.48 1470.97 1527.24 Z\" fill=\"#000000\" fill-rule=\"evenodd\" fill-opacity=\"1\" /><path clip-path=\"url(#clip030)\" d=\"M 0 0 M1500.25 1506.58 L1505.34 1506.58 Q1510.12 1514.09 1512.47 1521.29 Q1514.86 1528.48 1514.86 1535.58 Q1514.86 1542.71 1512.47 1549.93 Q1510.12 1557.16 1505.34 1564.64 L1500.25 1564.64 Q1504.49 1557.35 1506.55 1550.16 Q1508.66 1542.93 1508.66 1535.58 Q1508.66 1528.23 1506.55 1521.06 Q1504.49 1513.9 1500.25 1506.58 Z\" fill=\"#000000\" fill-rule=\"evenodd\" fill-opacity=\"1\" /><polyline clip-path=\"url(#clip032)\" style=\"stroke:#000000; stroke-width:2; stroke-opacity:0.1; fill:none\" points=\"\n",
       "  175.445,1234.31 2352.76,1234.31 \n",
       "  \"/>\n",
       "<polyline clip-path=\"url(#clip032)\" style=\"stroke:#000000; stroke-width:2; stroke-opacity:0.1; fill:none\" points=\"\n",
       "  175.445,1043.99 2352.76,1043.99 \n",
       "  \"/>\n",
       "<polyline clip-path=\"url(#clip032)\" style=\"stroke:#000000; stroke-width:2; stroke-opacity:0.1; fill:none\" points=\"\n",
       "  175.445,853.665 2352.76,853.665 \n",
       "  \"/>\n",
       "<polyline clip-path=\"url(#clip032)\" style=\"stroke:#000000; stroke-width:2; stroke-opacity:0.1; fill:none\" points=\"\n",
       "  175.445,663.344 2352.76,663.344 \n",
       "  \"/>\n",
       "<polyline clip-path=\"url(#clip032)\" style=\"stroke:#000000; stroke-width:2; stroke-opacity:0.1; fill:none\" points=\"\n",
       "  175.445,473.023 2352.76,473.023 \n",
       "  \"/>\n",
       "<polyline clip-path=\"url(#clip032)\" style=\"stroke:#000000; stroke-width:2; stroke-opacity:0.1; fill:none\" points=\"\n",
       "  175.445,282.702 2352.76,282.702 \n",
       "  \"/>\n",
       "<polyline clip-path=\"url(#clip032)\" style=\"stroke:#000000; stroke-width:2; stroke-opacity:0.1; fill:none\" points=\"\n",
       "  175.445,92.3811 2352.76,92.3811 \n",
       "  \"/>\n",
       "<polyline clip-path=\"url(#clip030)\" style=\"stroke:#000000; stroke-width:4; stroke-opacity:1; fill:none\" points=\"\n",
       "  175.445,1423.18 175.445,47.2441 \n",
       "  \"/>\n",
       "<polyline clip-path=\"url(#clip030)\" style=\"stroke:#000000; stroke-width:4; stroke-opacity:1; fill:none\" points=\"\n",
       "  175.445,1234.31 201.573,1234.31 \n",
       "  \"/>\n",
       "<polyline clip-path=\"url(#clip030)\" style=\"stroke:#000000; stroke-width:4; stroke-opacity:1; fill:none\" points=\"\n",
       "  175.445,1043.99 201.573,1043.99 \n",
       "  \"/>\n",
       "<polyline clip-path=\"url(#clip030)\" style=\"stroke:#000000; stroke-width:4; stroke-opacity:1; fill:none\" points=\"\n",
       "  175.445,853.665 201.573,853.665 \n",
       "  \"/>\n",
       "<polyline clip-path=\"url(#clip030)\" style=\"stroke:#000000; stroke-width:4; stroke-opacity:1; fill:none\" points=\"\n",
       "  175.445,663.344 201.573,663.344 \n",
       "  \"/>\n",
       "<polyline clip-path=\"url(#clip030)\" style=\"stroke:#000000; stroke-width:4; stroke-opacity:1; fill:none\" points=\"\n",
       "  175.445,473.023 201.573,473.023 \n",
       "  \"/>\n",
       "<polyline clip-path=\"url(#clip030)\" style=\"stroke:#000000; stroke-width:4; stroke-opacity:1; fill:none\" points=\"\n",
       "  175.445,282.702 201.573,282.702 \n",
       "  \"/>\n",
       "<polyline clip-path=\"url(#clip030)\" style=\"stroke:#000000; stroke-width:4; stroke-opacity:1; fill:none\" points=\"\n",
       "  175.445,92.3811 201.573,92.3811 \n",
       "  \"/>\n",
       "<path clip-path=\"url(#clip030)\" d=\"M 0 0 M119.538 1247.65 L127.177 1247.65 L127.177 1221.29 L118.867 1222.95 L118.867 1218.69 L127.13 1217.03 L131.806 1217.03 L131.806 1247.65 L139.445 1247.65 L139.445 1251.59 L119.538 1251.59 L119.538 1247.65 Z\" fill=\"#000000\" fill-rule=\"evenodd\" fill-opacity=\"1\" /><path clip-path=\"url(#clip030)\" d=\"M 0 0 M123.126 1057.33 L139.445 1057.33 L139.445 1061.27 L117.501 1061.27 L117.501 1057.33 Q120.163 1054.58 124.746 1049.95 Q129.353 1045.29 130.533 1043.95 Q132.779 1041.43 133.658 1039.69 Q134.561 1037.93 134.561 1036.24 Q134.561 1033.49 132.617 1031.75 Q130.695 1030.02 127.593 1030.02 Q125.394 1030.02 122.941 1030.78 Q120.51 1031.54 117.732 1033.09 L117.732 1028.37 Q120.556 1027.24 123.01 1026.66 Q125.464 1026.08 127.501 1026.08 Q132.871 1026.08 136.066 1028.77 Q139.26 1031.45 139.26 1035.94 Q139.26 1038.07 138.45 1039.99 Q137.663 1041.89 135.556 1044.48 Q134.978 1045.15 131.876 1048.37 Q128.774 1051.57 123.126 1057.33 Z\" fill=\"#000000\" fill-rule=\"evenodd\" fill-opacity=\"1\" /><path clip-path=\"url(#clip030)\" d=\"M 0 0 M132.316 852.311 Q135.672 853.028 137.547 855.297 Q139.445 857.565 139.445 860.899 Q139.445 866.014 135.927 868.815 Q132.408 871.616 125.927 871.616 Q123.751 871.616 121.436 871.176 Q119.144 870.76 116.691 869.903 L116.691 865.389 Q118.635 866.524 120.95 867.102 Q123.265 867.681 125.788 867.681 Q130.186 867.681 132.478 865.945 Q134.792 864.209 134.792 860.899 Q134.792 857.843 132.64 856.13 Q130.51 854.394 126.691 854.394 L122.663 854.394 L122.663 850.551 L126.876 850.551 Q130.325 850.551 132.154 849.186 Q133.982 847.797 133.982 845.204 Q133.982 842.542 132.084 841.13 Q130.209 839.695 126.691 839.695 Q124.769 839.695 122.57 840.112 Q120.371 840.528 117.732 841.408 L117.732 837.241 Q120.394 836.501 122.709 836.13 Q125.047 835.76 127.107 835.76 Q132.431 835.76 135.533 838.19 Q138.635 840.598 138.635 844.718 Q138.635 847.588 136.992 849.579 Q135.348 851.547 132.316 852.311 Z\" fill=\"#000000\" fill-rule=\"evenodd\" fill-opacity=\"1\" /><path clip-path=\"url(#clip030)\" d=\"M 0 0 M129.862 650.138 L118.056 668.587 L129.862 668.587 L129.862 650.138 M128.635 646.064 L134.515 646.064 L134.515 668.587 L139.445 668.587 L139.445 672.476 L134.515 672.476 L134.515 680.624 L129.862 680.624 L129.862 672.476 L114.26 672.476 L114.26 667.962 L128.635 646.064 Z\" fill=\"#000000\" fill-rule=\"evenodd\" fill-opacity=\"1\" /><path clip-path=\"url(#clip030)\" d=\"M 0 0 M118.543 455.743 L136.899 455.743 L136.899 459.678 L122.825 459.678 L122.825 468.15 Q123.843 467.803 124.862 467.641 Q125.88 467.456 126.899 467.456 Q132.686 467.456 136.066 470.627 Q139.445 473.798 139.445 479.215 Q139.445 484.794 135.973 487.896 Q132.501 490.974 126.181 490.974 Q124.005 490.974 121.737 490.604 Q119.492 490.233 117.084 489.493 L117.084 484.794 Q119.168 485.928 121.39 486.484 Q123.612 487.039 126.089 487.039 Q130.093 487.039 132.431 484.933 Q134.769 482.826 134.769 479.215 Q134.769 475.604 132.431 473.497 Q130.093 471.391 126.089 471.391 Q124.214 471.391 122.339 471.808 Q120.487 472.224 118.543 473.104 L118.543 455.743 Z\" fill=\"#000000\" fill-rule=\"evenodd\" fill-opacity=\"1\" /><path clip-path=\"url(#clip030)\" d=\"M 0 0 M127.917 280.839 Q124.769 280.839 122.918 282.991 Q121.089 285.144 121.089 288.894 Q121.089 292.621 122.918 294.797 Q124.769 296.95 127.917 296.95 Q131.066 296.95 132.894 294.797 Q134.746 292.621 134.746 288.894 Q134.746 285.144 132.894 282.991 Q131.066 280.839 127.917 280.839 M137.2 266.186 L137.2 270.445 Q135.441 269.612 133.635 269.172 Q131.853 268.732 130.093 268.732 Q125.464 268.732 123.01 271.857 Q120.58 274.982 120.232 281.302 Q121.598 279.288 123.658 278.223 Q125.718 277.135 128.195 277.135 Q133.404 277.135 136.413 280.306 Q139.445 283.454 139.445 288.894 Q139.445 294.218 136.297 297.436 Q133.149 300.653 127.917 300.653 Q121.922 300.653 118.751 296.07 Q115.58 291.464 115.58 282.737 Q115.58 274.542 119.468 269.681 Q123.357 264.797 129.908 264.797 Q131.667 264.797 133.45 265.144 Q135.255 265.491 137.2 266.186 Z\" fill=\"#000000\" fill-rule=\"evenodd\" fill-opacity=\"1\" /><path clip-path=\"url(#clip030)\" d=\"M 0 0 M117.223 75.1011 L139.445 75.1011 L139.445 77.0918 L126.899 109.661 L122.015 109.661 L133.82 79.0363 L117.223 79.0363 L117.223 75.1011 Z\" fill=\"#000000\" fill-rule=\"evenodd\" fill-opacity=\"1\" /><path clip-path=\"url(#clip030)\" d=\"M 0 0 M65.7242 1052.51 Q66.4244 1050.44 68.7161 1048.5 Q71.0077 1046.53 75.0181 1044.55 L88.0042 1038.03 L88.0042 1044.94 L75.8138 1051.01 Q71.0395 1053.37 69.48 1055.6 Q67.9204 1057.79 67.9204 1061.61 L67.9204 1068.62 L88.0042 1068.62 L88.0042 1075.05 L40.4842 1075.05 L40.4842 1060.53 Q40.4842 1052.38 43.8898 1048.37 Q47.2955 1044.36 54.1704 1044.36 Q58.6582 1044.36 61.6183 1046.46 Q64.5784 1048.53 65.7242 1052.51 M45.7677 1068.62 L62.6368 1068.62 L62.6368 1060.53 Q62.6368 1055.88 60.5043 1053.53 Q58.34 1051.14 54.1704 1051.14 Q50.0009 1051.14 47.9002 1053.53 Q45.7677 1055.88 45.7677 1060.53 L45.7677 1068.62 Z\" fill=\"#000000\" fill-rule=\"evenodd\" fill-opacity=\"1\" /><path clip-path=\"url(#clip030)\" d=\"M 0 0 M70.0847 1017.12 Q70.0847 1024.22 71.7079 1026.95 Q73.3312 1029.69 77.2461 1029.69 Q80.3653 1029.69 82.2114 1027.65 Q84.0256 1025.58 84.0256 1022.05 Q84.0256 1017.18 80.5881 1014.25 Q77.1188 1011.29 71.3897 1011.29 L70.0847 1011.29 L70.0847 1017.12 M67.6657 1005.44 L88.0042 1005.44 L88.0042 1011.29 L82.5933 1011.29 Q85.8398 1013.3 87.3994 1016.29 Q88.9272 1019.28 88.9272 1023.61 Q88.9272 1029.08 85.8716 1032.33 Q82.7843 1035.55 77.6281 1035.55 Q71.6125 1035.55 68.5569 1031.54 Q65.5014 1027.49 65.5014 1019.5 L65.5014 1011.29 L64.9285 1011.29 Q60.8862 1011.29 58.6901 1013.97 Q56.4621 1016.61 56.4621 1021.41 Q56.4621 1024.47 57.1941 1027.37 Q57.9262 1030.26 59.3903 1032.94 L53.9795 1032.94 Q52.7381 1029.72 52.1334 1026.7 Q51.4968 1023.67 51.4968 1020.81 Q51.4968 1013.08 55.5072 1009.26 Q59.5176 1005.44 67.6657 1005.44 Z\" fill=\"#000000\" fill-rule=\"evenodd\" fill-opacity=\"1\" /><path clip-path=\"url(#clip030)\" d=\"M 0 0 M57.7671 975.836 L38.479 975.836 L38.479 969.979 L88.0042 969.979 L88.0042 975.836 L82.657 975.836 Q85.8398 977.682 87.3994 980.514 Q88.9272 983.315 88.9272 987.262 Q88.9272 993.723 83.771 997.797 Q78.6147 1001.84 70.212 1001.84 Q61.8093 1001.84 56.6531 997.797 Q51.4968 993.723 51.4968 987.262 Q51.4968 983.315 53.0564 980.514 Q54.5842 977.682 57.7671 975.836 M70.212 995.792 Q76.6732 995.792 80.3653 993.15 Q84.0256 990.477 84.0256 985.83 Q84.0256 981.183 80.3653 978.509 Q76.6732 975.836 70.212 975.836 Q63.7508 975.836 60.0905 978.509 Q56.3984 981.183 56.3984 985.83 Q56.3984 990.477 60.0905 993.15 Q63.7508 995.792 70.212 995.792 Z\" fill=\"#000000\" fill-rule=\"evenodd\" fill-opacity=\"1\" /><path clip-path=\"url(#clip030)\" d=\"M 0 0 M52.3562 963.836 L52.3562 957.98 L88.0042 957.98 L88.0042 963.836 L52.3562 963.836 M38.479 963.836 L38.479 957.98 L45.895 957.98 L45.895 963.836 L38.479 963.836 Z\" fill=\"#000000\" fill-rule=\"evenodd\" fill-opacity=\"1\" /><path clip-path=\"url(#clip030)\" d=\"M 0 0 M70.0847 935.636 Q70.0847 942.734 71.7079 945.471 Q73.3312 948.209 77.2461 948.209 Q80.3653 948.209 82.2114 946.171 Q84.0256 944.103 84.0256 940.57 Q84.0256 935.7 80.5881 932.772 Q77.1188 929.812 71.3897 929.812 L70.0847 929.812 L70.0847 935.636 M67.6657 923.955 L88.0042 923.955 L88.0042 929.812 L82.5933 929.812 Q85.8398 931.817 87.3994 934.809 Q88.9272 937.801 88.9272 942.129 Q88.9272 947.604 85.8716 950.85 Q82.7843 954.065 77.6281 954.065 Q71.6125 954.065 68.5569 950.055 Q65.5014 946.012 65.5014 938.023 L65.5014 929.812 L64.9285 929.812 Q60.8862 929.812 58.6901 932.485 Q56.4621 935.127 56.4621 939.933 Q56.4621 942.989 57.1941 945.885 Q57.9262 948.781 59.3903 951.455 L53.9795 951.455 Q52.7381 948.24 52.1334 945.217 Q51.4968 942.193 51.4968 939.328 Q51.4968 931.594 55.5072 927.775 Q59.5176 923.955 67.6657 923.955 Z\" fill=\"#000000\" fill-rule=\"evenodd\" fill-opacity=\"1\" /><path clip-path=\"url(#clip030)\" d=\"M 0 0 M66.4881 888.18 L88.0042 888.18 L88.0042 894.036 L66.679 894.036 Q61.6183 894.036 59.1038 896.01 Q56.5894 897.983 56.5894 901.93 Q56.5894 906.672 59.6131 909.41 Q62.6368 912.147 67.8567 912.147 L88.0042 912.147 L88.0042 918.035 L52.3562 918.035 L52.3562 912.147 L57.8944 912.147 Q54.6797 910.046 53.0883 907.213 Q51.4968 904.349 51.4968 900.625 Q51.4968 894.482 55.3163 891.331 Q59.1038 888.18 66.4881 888.18 Z\" fill=\"#000000\" fill-rule=\"evenodd\" fill-opacity=\"1\" /><path clip-path=\"url(#clip030)\" d=\"M 0 0 M53.7248 856.383 L59.1993 856.383 Q57.8307 858.866 57.1623 861.38 Q56.4621 863.863 56.4621 866.409 Q56.4621 872.106 60.0905 875.258 Q63.6872 878.409 70.212 878.409 Q76.7369 878.409 80.3653 875.258 Q83.9619 872.106 83.9619 866.409 Q83.9619 863.863 83.2935 861.38 Q82.5933 858.866 81.2247 856.383 L86.6355 856.383 Q87.7814 858.834 88.3543 861.476 Q88.9272 864.086 88.9272 867.046 Q88.9272 875.098 83.8664 879.841 Q78.8057 884.583 70.212 884.583 Q61.491 884.583 56.4939 879.809 Q51.4968 875.003 51.4968 866.664 Q51.4968 863.958 52.0697 861.38 Q52.6108 858.802 53.7248 856.383 Z\" fill=\"#000000\" fill-rule=\"evenodd\" fill-opacity=\"1\" /><path clip-path=\"url(#clip030)\" d=\"M 0 0 M68.7161 819.749 L71.5806 819.749 L71.5806 846.675 Q77.6281 846.294 80.8109 843.047 Q83.9619 839.769 83.9619 833.944 Q83.9619 830.57 83.1344 827.419 Q82.3069 824.236 80.6518 821.117 L86.1899 821.117 Q87.5267 824.268 88.227 827.578 Q88.9272 830.889 88.9272 834.294 Q88.9272 842.824 83.9619 847.821 Q78.9967 852.787 70.5303 852.787 Q61.7774 852.787 56.6531 848.076 Q51.4968 843.333 51.4968 835.313 Q51.4968 828.119 56.1438 823.95 Q60.7589 819.749 68.7161 819.749 M66.9973 825.605 Q62.1912 825.669 59.3266 828.31 Q56.4621 830.92 56.4621 835.249 Q56.4621 840.151 59.2312 843.111 Q62.0002 846.039 67.0292 846.485 L66.9973 825.605 Z\" fill=\"#000000\" fill-rule=\"evenodd\" fill-opacity=\"1\" /><path clip-path=\"url(#clip030)\" d=\"M 0 0 M38.5426 778.817 Q45.8632 783.082 53.0246 785.151 Q60.186 787.22 67.5384 787.22 Q74.8908 787.22 82.1159 785.151 Q89.3091 783.05 96.5979 778.817 L96.5979 783.91 Q89.1182 788.684 81.8931 791.071 Q74.668 793.426 67.5384 793.426 Q60.4406 793.426 53.2474 791.071 Q46.0542 788.716 38.5426 783.91 L38.5426 778.817 Z\" fill=\"#000000\" fill-rule=\"evenodd\" fill-opacity=\"1\" /><path clip-path=\"url(#clip030)\" d=\"M 0 0 M40.4842 776.653 L40.4842 770.16 L80.6518 760.166 L40.4842 750.203 L40.4842 742.978 L80.6518 732.984 L40.4842 723.022 L40.4842 716.497 L88.0042 728.432 L88.0042 736.517 L46.7544 746.543 L88.0042 756.664 L88.0042 764.749 L40.4842 776.653 Z\" fill=\"#000000\" fill-rule=\"evenodd\" fill-opacity=\"1\" /><path clip-path=\"url(#clip030)\" d=\"M 0 0 M40.4842 699.946 L40.4842 694.535 L94.0516 711.086 L94.0516 716.497 L40.4842 699.946 Z\" fill=\"#000000\" fill-rule=\"evenodd\" fill-opacity=\"1\" /><path clip-path=\"url(#clip030)\" d=\"M 0 0 M53.4065 665.667 L58.9447 665.667 Q57.6716 668.149 57.035 670.823 Q56.3984 673.496 56.3984 676.361 Q56.3984 680.722 57.7352 682.918 Q59.072 685.082 61.7456 685.082 Q63.7826 685.082 64.9603 683.522 Q66.1061 681.963 67.1565 677.252 L67.6021 675.247 Q68.9389 669.009 71.3897 666.399 Q73.8086 663.757 78.1691 663.757 Q83.1344 663.757 86.0308 667.704 Q88.9272 671.619 88.9272 678.494 Q88.9272 681.358 88.3543 684.477 Q87.8132 687.565 86.6992 691.002 L80.6518 691.002 Q82.3387 687.756 83.198 684.605 Q84.0256 681.454 84.0256 678.366 Q84.0256 674.228 82.6251 672.001 Q81.1929 669.773 78.6147 669.773 Q76.2276 669.773 74.9545 671.396 Q73.6813 672.987 72.5037 678.43 L72.0262 680.467 Q70.8804 685.91 68.5251 688.329 Q66.138 690.748 62.0002 690.748 Q56.9713 690.748 54.2341 687.183 Q51.4968 683.618 51.4968 677.061 Q51.4968 673.815 51.9743 670.95 Q52.4517 668.086 53.4065 665.667 Z\" fill=\"#000000\" fill-rule=\"evenodd\" fill-opacity=\"1\" /><path clip-path=\"url(#clip030)\" d=\"M 0 0 M57.8307 636.957 Q57.2578 637.944 57.0032 639.122 Q56.7167 640.267 56.7167 641.668 Q56.7167 646.633 59.9632 649.307 Q63.1779 651.949 69.2253 651.949 L88.0042 651.949 L88.0042 657.837 L52.3562 657.837 L52.3562 651.949 L57.8944 651.949 Q54.6479 650.102 53.0883 647.142 Q51.4968 644.182 51.4968 639.949 Q51.4968 639.344 51.5923 638.612 Q51.656 637.88 51.8151 636.989 L57.8307 636.957 Z\" fill=\"#000000\" fill-rule=\"evenodd\" fill-opacity=\"1\" /><path clip-path=\"url(#clip030)\" d=\"M 0 0 M40.4842 620.406 L40.4842 614.996 L94.0516 631.546 L94.0516 636.957 L40.4842 620.406 Z\" fill=\"#000000\" fill-rule=\"evenodd\" fill-opacity=\"1\" /><path clip-path=\"url(#clip030)\" d=\"M 0 0 M59.1993 581.098 Q55.2526 578.902 53.3747 575.847 Q51.4968 572.791 51.4968 568.653 Q51.4968 563.083 55.4117 560.06 Q59.2948 557.036 66.4881 557.036 L88.0042 557.036 L88.0042 562.924 L66.679 562.924 Q61.5546 562.924 59.072 564.738 Q56.5894 566.553 56.5894 570.277 Q56.5894 574.828 59.6131 577.47 Q62.6368 580.112 67.8567 580.112 L88.0042 580.112 L88.0042 586 L66.679 586 Q61.5228 586 59.072 587.814 Q56.5894 589.628 56.5894 593.416 Q56.5894 597.904 59.6449 600.545 Q62.6686 603.187 67.8567 603.187 L88.0042 603.187 L88.0042 609.075 L52.3562 609.075 L52.3562 603.187 L57.8944 603.187 Q54.616 601.182 53.0564 598.381 Q51.4968 595.58 51.4968 591.729 Q51.4968 587.846 53.4702 585.14 Q55.4436 582.403 59.1993 581.098 Z\" fill=\"#000000\" fill-rule=\"evenodd\" fill-opacity=\"1\" /><path clip-path=\"url(#clip030)\" d=\"M 0 0 M63.1142 548.506 L63.1142 535.01 L66.7427 535.01 L66.7427 554.044 L63.2416 554.044 Q62.2549 552.962 60.4725 550.957 Q50.7648 540.008 47.7729 540.008 Q45.6722 540.008 44.3991 541.663 Q43.0941 543.318 43.0941 546.023 Q43.0941 547.678 43.667 549.62 Q44.2081 551.561 45.3221 553.853 L41.4072 553.853 Q40.516 551.402 40.0704 549.302 Q39.6248 547.169 39.6248 545.355 Q39.6248 540.74 41.7255 537.971 Q43.8262 535.201 47.2636 535.201 Q51.6878 535.201 60.7271 545.737 Q62.2549 547.519 63.1142 548.506 Z\" fill=\"#000000\" fill-rule=\"evenodd\" fill-opacity=\"1\" /><path clip-path=\"url(#clip030)\" d=\"M 0 0 M40.4842 518.46 L40.4842 513.049 L94.0516 529.6 L94.0516 535.01 L40.4842 518.46 Z\" fill=\"#000000\" fill-rule=\"evenodd\" fill-opacity=\"1\" /><path clip-path=\"url(#clip030)\" d=\"M 0 0 M101.563 507.511 L52.3562 507.511 L52.3562 501.654 L74.5089 501.654 Q79.124 501.654 81.4793 499.458 Q83.8346 497.262 83.8346 492.965 Q83.8346 488.254 81.161 485.899 Q78.4874 483.512 73.1402 483.512 L52.3562 483.512 L52.3562 477.655 L79.7924 477.655 Q81.7021 477.655 82.6251 477.114 Q83.5163 476.541 83.5163 475.364 Q83.5163 475.077 83.3572 474.568 Q83.1662 474.059 82.7843 473.168 L87.4949 473.168 Q88.227 474.473 88.5771 475.65 Q88.9272 476.796 88.9272 477.91 Q88.9272 480.106 87.6859 481.411 Q86.4446 482.716 83.8983 483.194 Q86.4127 484.785 87.6859 487.109 Q88.9272 489.4 88.9272 492.519 Q88.9272 495.766 87.6859 498.058 Q86.4446 500.317 83.9619 501.654 L101.563 501.654 L101.563 507.511 Z\" fill=\"#000000\" fill-rule=\"evenodd\" fill-opacity=\"1\" /><path clip-path=\"url(#clip030)\" d=\"M 0 0 M59.1993 439.27 Q55.2526 437.074 53.3747 434.019 Q51.4968 430.963 51.4968 426.825 Q51.4968 421.255 55.4117 418.232 Q59.2948 415.208 66.4881 415.208 L88.0042 415.208 L88.0042 421.096 L66.679 421.096 Q61.5546 421.096 59.072 422.91 Q56.5894 424.725 56.5894 428.449 Q56.5894 433 59.6131 435.642 Q62.6368 438.284 67.8567 438.284 L88.0042 438.284 L88.0042 444.172 L66.679 444.172 Q61.5228 444.172 59.072 445.986 Q56.5894 447.8 56.5894 451.588 Q56.5894 456.076 59.6449 458.718 Q62.6686 461.359 67.8567 461.359 L88.0042 461.359 L88.0042 467.248 L52.3562 467.248 L52.3562 461.359 L57.8944 461.359 Q54.616 459.354 53.0564 456.553 Q51.4968 453.752 51.4968 449.901 Q51.4968 446.018 53.4702 443.312 Q55.4436 440.575 59.1993 439.27 Z\" fill=\"#000000\" fill-rule=\"evenodd\" fill-opacity=\"1\" /><path clip-path=\"url(#clip030)\" d=\"M 0 0 M38.5426 409.988 L38.5426 404.895 Q46.0542 400.121 53.2474 397.766 Q60.4406 395.379 67.5384 395.379 Q74.668 395.379 81.8931 397.766 Q89.1182 400.121 96.5979 404.895 L96.5979 409.988 Q89.3091 405.755 82.1159 403.686 Q74.8908 401.585 67.5384 401.585 Q60.186 401.585 53.0246 403.686 Q45.8632 405.755 38.5426 409.988 Z\" fill=\"#000000\" fill-rule=\"evenodd\" fill-opacity=\"1\" /><polyline clip-path=\"url(#clip032)\" style=\"stroke:#009af9; stroke-width:8; stroke-opacity:1; fill:none\" points=\"\n",
       "  2291.13,1384.24 2279.78,1383.55 2268.54,1382.85 2257.41,1382.14 2246.38,1381.43 2235.47,1380.71 2224.66,1379.98 2213.95,1379.25 2203.35,1378.5 2192.85,1377.75 \n",
       "  2182.45,1376.99 2172.15,1376.22 2161.95,1375.45 2151.84,1374.67 2141.82,1373.88 2131.9,1373.08 2122.07,1372.27 2112.34,1371.46 2102.69,1370.63 2093.13,1369.8 \n",
       "  2083.65,1368.96 2074.26,1368.12 2064.96,1367.26 2055.74,1366.4 2046.6,1365.53 2037.55,1364.65 2028.57,1363.76 2019.67,1362.87 2010.85,1361.96 2002.11,1361.05 \n",
       "  1993.44,1360.13 1984.85,1359.21 1976.33,1358.27 1967.89,1357.32 1959.52,1356.37 1951.22,1355.41 1942.99,1354.44 1934.83,1353.46 1926.73,1352.48 1918.71,1351.48 \n",
       "  1910.75,1350.48 1902.86,1349.47 1895.03,1348.45 1887.27,1347.42 1879.57,1346.38 1871.94,1345.34 1864.36,1344.29 1856.85,1343.23 1849.4,1342.16 1842.01,1341.08 \n",
       "  1834.67,1339.99 1827.4,1338.89 1820.18,1337.79 1813.02,1336.68 1805.92,1335.56 1798.87,1334.43 1791.88,1333.29 1784.94,1332.14 1778.06,1330.99 1771.23,1329.82 \n",
       "  1764.45,1328.65 1757.72,1327.47 1751.05,1326.28 1744.42,1325.08 1737.85,1323.88 1731.33,1322.66 1724.85,1321.44 1718.42,1320.21 1712.04,1318.97 1705.71,1317.72 \n",
       "  1699.43,1316.46 1693.19,1315.19 1687,1313.92 1680.85,1312.63 1674.75,1311.34 1668.69,1310.04 1662.68,1308.73 1656.7,1307.41 1650.78,1306.09 1644.89,1304.75 \n",
       "  1639.05,1303.41 1633.25,1302.06 1627.49,1300.7 1621.77,1299.33 1616.09,1297.95 1610.45,1296.56 1604.85,1295.17 1599.29,1293.76 1593.77,1292.35 1588.28,1290.93 \n",
       "  1582.84,1289.5 1577.43,1288.07 1572.05,1286.62 1566.72,1285.17 1561.42,1283.7 1556.16,1282.23 1550.93,1280.75 1545.74,1279.26 1540.58,1277.77 1535.46,1276.26 \n",
       "  1530.37,1274.75 1525.31,1273.23 1520.29,1271.7 1515.3,1270.16 1510.35,1268.61 1505.43,1267.05 1500.53,1265.49 1495.68,1263.92 1490.85,1262.34 1486.05,1260.75 \n",
       "  1481.29,1259.15 1476.55,1257.54 1471.85,1255.93 1467.17,1254.31 1462.53,1252.68 1457.91,1251.04 1453.33,1249.39 1448.77,1247.74 1444.24,1246.08 1439.74,1244.4 \n",
       "  1435.27,1242.72 1430.83,1241.04 1426.41,1239.34 1422.02,1237.64 1417.66,1235.93 1413.33,1234.21 1409.02,1232.48 1404.74,1230.74 1400.48,1229 1396.25,1227.25 \n",
       "  1392.05,1225.49 1387.87,1223.72 1383.71,1221.94 1379.59,1220.16 1375.48,1218.37 1371.4,1216.57 1367.35,1214.76 1363.32,1212.95 1359.31,1211.13 1355.33,1209.3 \n",
       "  1351.36,1207.46 1347.43,1205.61 1343.51,1203.76 1339.62,1201.9 1335.75,1200.03 1331.91,1198.15 1328.08,1196.27 1324.28,1194.38 1320.5,1192.48 1316.74,1190.57 \n",
       "  1313.01,1188.66 1309.29,1186.74 1305.6,1184.81 1301.92,1182.87 1298.27,1180.93 1294.64,1178.98 1291.03,1177.02 1287.43,1175.06 1283.86,1173.08 1280.31,1171.1 \n",
       "  1276.78,1169.12 1273.27,1167.12 1269.77,1165.12 1266.3,1163.11 1262.85,1161.1 1259.41,1159.08 1255.99,1157.05 1252.6,1155.01 1249.22,1152.97 1245.85,1150.92 \n",
       "  1242.51,1148.86 1239.19,1146.8 1235.88,1144.73 1232.59,1142.65 1229.32,1140.57 1226.06,1138.48 1222.82,1136.38 1219.6,1134.28 1216.4,1132.17 1213.22,1130.05 \n",
       "  1210.05,1127.93 1206.89,1125.8 1203.76,1123.66 1200.64,1121.52 1197.53,1119.37 1194.45,1117.21 1191.37,1115.05 1188.32,1112.88 1185.28,1110.71 1182.25,1108.53 \n",
       "  1179.25,1106.34 1176.25,1104.15 1173.27,1101.95 1170.31,1099.74 1167.36,1097.53 1164.43,1095.32 1161.51,1093.09 1158.61,1090.86 1155.72,1088.63 1152.85,1086.39 \n",
       "  1149.99,1084.14 1147.14,1081.89 1144.31,1079.63 1141.49,1077.37 1138.69,1075.1 1135.9,1072.83 1133.12,1070.55 1130.36,1068.26 1127.61,1065.97 1124.87,1063.68 \n",
       "  1122.15,1061.37 1119.44,1059.07 1116.75,1056.76 1114.07,1054.44 1111.4,1052.12 1108.74,1049.79 1106.1,1047.46 1103.46,1045.12 1100.85,1042.77 1098.24,1040.43 \n",
       "  1095.65,1038.07 1093.06,1035.72 1090.49,1033.35 1087.94,1030.99 1085.39,1028.61 1082.86,1026.24 1080.34,1023.86 1077.83,1021.47 1075.33,1019.08 1072.85,1016.68 \n",
       "  1070.37,1014.28 1067.91,1011.88 1065.46,1009.47 1063.02,1007.06 1060.59,1004.64 1058.17,1002.22 1055.76,999.791 1053.37,997.361 1050.98,994.927 1048.61,992.488 \n",
       "  1046.24,990.045 1043.89,987.599 1041.55,985.148 1039.22,982.694 1036.9,980.235 1034.59,977.773 1032.29,975.307 1030,972.837 1027.72,970.364 1025.45,967.887 \n",
       "  1023.19,965.406 1020.94,962.922 1018.7,960.434 1016.47,957.943 1014.25,955.448 1012.04,952.95 1009.84,950.449 1007.65,947.944 1005.47,945.436 1003.3,942.925 \n",
       "  1001.14,940.411 998.988,937.894 996.845,935.373 994.711,932.85 992.586,930.324 990.47,927.795 988.364,925.263 986.266,922.728 984.178,920.19 982.098,917.65 \n",
       "  980.028,915.107 977.966,912.561 975.912,910.013 973.868,907.462 971.832,904.909 969.804,902.353 967.786,899.795 965.775,897.235 963.773,894.672 961.78,892.107 \n",
       "  959.794,889.54 957.817,886.971 955.849,884.399 953.888,881.826 951.935,879.251 949.991,876.673 948.054,874.094 946.126,871.513 944.205,868.93 942.292,866.345 \n",
       "  940.387,863.759 938.49,861.171 936.6,858.581 934.718,855.99 932.844,853.397 930.978,850.803 929.118,848.207 927.267,845.61 925.422,843.012 923.586,840.412 \n",
       "  921.756,837.811 919.934,835.209 918.119,832.606 916.311,830.001 914.511,827.396 912.717,824.79 910.931,822.182 909.152,819.574 907.379,816.965 905.614,814.355 \n",
       "  903.856,811.744 902.104,809.133 900.36,806.521 898.622,803.908 896.891,801.295 895.166,798.682 893.449,796.067 891.738,793.453 890.033,790.838 888.335,788.222 \n",
       "  886.644,785.607 884.959,782.991 883.281,780.375 881.609,777.759 879.943,775.142 878.284,772.526 876.631,769.91 874.984,767.293 873.344,764.677 871.71,762.061 \n",
       "  870.081,759.445 868.46,756.83 866.844,754.214 865.234,751.599 863.63,748.985 862.032,746.371 860.441,743.757 858.855,741.144 857.275,738.531 855.701,735.919 \n",
       "  854.133,733.307 852.57,730.697 851.013,728.087 849.462,725.477 847.917,722.869 846.378,720.262 844.844,717.655 843.315,715.049 841.792,712.445 840.275,709.841 \n",
       "  838.764,707.239 837.257,704.638 835.757,702.038 834.261,699.439 832.771,696.842 831.287,694.245 829.807,691.651 828.334,689.057 826.865,686.465 825.402,683.875 \n",
       "  823.943,681.286 822.49,678.699 821.043,676.113 819.6,673.529 818.163,670.947 816.73,668.367 815.303,665.788 813.88,663.212 812.463,660.637 811.051,658.064 \n",
       "  809.643,655.493 808.241,652.924 806.843,650.358 805.451,647.793 804.063,645.231 802.68,642.671 801.302,640.113 799.928,637.557 798.559,635.004 797.196,632.453 \n",
       "  795.836,629.904 794.482,627.358 793.132,624.815 791.787,622.274 790.446,619.735 789.11,617.2 787.778,614.666 786.451,612.136 785.129,609.609 783.811,607.084 \n",
       "  782.497,604.562 781.188,602.043 779.884,599.526 778.583,597.013 777.288,594.503 775.996,591.996 774.709,589.492 773.426,586.991 772.147,584.493 770.873,581.998 \n",
       "  769.603,579.507 768.337,577.019 767.076,574.534 765.818,572.053 764.565,569.575 763.316,567.1 762.071,564.629 760.83,562.162 759.593,559.698 758.36,557.237 \n",
       "  757.131,554.78 755.907,552.327 754.686,549.878 753.469,547.432 752.257,544.99 751.048,542.552 749.843,540.118 748.642,537.688 747.445,535.261 746.252,532.839 \n",
       "  745.062,530.42 743.877,528.006 742.695,525.596 741.517,523.189 740.343,520.787 739.172,518.39 738.006,515.996 736.843,513.606 735.684,511.221 734.528,508.841 \n",
       "  733.376,506.464 732.228,504.092 731.083,501.725 729.942,499.361 728.805,497.003 727.671,494.649 726.541,492.299 725.414,489.954 724.291,487.614 723.171,485.278 \n",
       "  722.055,482.948 720.943,480.621 719.833,478.3 718.728,475.983 717.625,473.672 716.526,471.365 715.431,469.063 714.339,466.766 713.25,464.474 712.165,462.187 \n",
       "  711.083,459.904 710.004,457.627 708.928,455.356 707.856,453.089 706.788,450.827 705.722,448.571 704.66,446.319 703.601,444.073 702.545,441.833 701.492,439.597 \n",
       "  700.443,437.367 699.396,435.143 698.353,432.923 697.313,430.709 696.276,428.501 695.242,426.298 694.212,424.101 693.184,421.909 692.16,419.723 691.138,417.542 \n",
       "  690.12,415.367 689.105,413.197 688.092,411.034 687.083,408.876 686.077,406.723 685.074,404.577 684.073,402.436 683.076,400.301 682.081,398.172 681.09,396.049 \n",
       "  680.101,393.932 679.115,391.821 678.133,389.715 677.153,387.616 676.176,385.523 675.201,383.435 674.23,381.354 673.262,379.279 672.296,377.21 671.333,375.147 \n",
       "  670.373,373.09 669.415,371.039 668.461,368.995 667.509,366.957 666.56,364.925 665.613,362.899 664.67,360.88 663.729,358.867 662.791,356.86 661.855,354.86 \n",
       "  660.922,352.866 659.992,350.879 659.064,348.898 658.14,346.923 657.217,344.955 656.298,342.993 655.38,341.038 654.466,339.09 653.554,337.148 652.645,335.213 \n",
       "  651.738,333.284 650.834,331.362 649.932,329.447 649.033,327.538 648.136,325.636 647.242,323.741 646.351,321.852 645.461,319.97 644.575,318.095 643.691,316.227 \n",
       "  642.809,314.366 641.929,312.511 641.053,310.663 640.178,308.823 639.306,306.989 638.437,305.162 637.569,303.342 636.705,301.528 635.842,299.722 634.982,297.923 \n",
       "  634.124,296.131 633.269,294.346 632.416,292.568 631.565,290.796 630.717,289.032 629.871,287.276 629.027,285.526 628.185,283.783 627.346,282.048 626.509,280.319 \n",
       "  625.674,278.598 624.842,276.884 624.012,275.177 623.184,273.477 622.358,271.785 621.535,270.1 620.713,268.422 619.894,266.751 619.077,265.088 618.262,263.432 \n",
       "  617.45,261.783 616.64,260.142 615.831,258.508 615.025,256.881 614.221,255.262 613.419,253.65 612.62,252.045 611.822,250.448 611.027,248.858 610.233,247.276 \n",
       "  609.442,245.701 608.653,244.134 607.865,242.574 607.08,241.022 606.297,239.477 605.516,237.939 604.737,236.409 603.96,234.887 603.186,233.372 602.413,231.865 \n",
       "  601.642,230.365 600.873,228.873 600.106,227.389 599.341,225.912 598.578,224.442 597.817,222.981 597.058,221.526 596.301,220.08 595.546,218.641 594.793,217.21 \n",
       "  594.042,215.786 593.292,214.37 592.545,212.962 591.8,211.562 591.056,210.169 590.314,208.784 589.575,207.406 588.837,206.037 588.101,204.675 587.366,203.32 \n",
       "  586.634,201.974 585.904,200.635 585.175,199.304 584.448,197.981 583.723,196.665 583,195.357 582.279,194.057 581.559,192.765 580.842,191.481 580.126,190.204 \n",
       "  579.412,188.936 578.699,187.675 577.989,186.421 577.28,185.176 576.573,183.938 575.868,182.709 575.164,181.487 574.462,180.273 573.762,179.067 573.064,177.868 \n",
       "  572.368,176.678 571.673,175.495 570.98,174.32 570.288,173.153 569.598,171.994 568.91,170.843 568.224,169.7 567.539,168.564 566.856,167.437 566.175,166.317 \n",
       "  565.495,165.205 564.817,164.101 564.141,163.005 563.466,161.917 562.793,160.837 562.122,159.765 561.452,158.7 560.783,157.644 560.117,156.595 559.452,155.554 \n",
       "  558.788,154.521 558.127,153.496 557.467,152.479 556.808,151.47 556.151,150.469 555.495,149.475 554.841,148.49 554.189,147.512 553.538,146.543 552.889,145.581 \n",
       "  552.241,144.627 551.595,143.681 550.951,142.743 550.308,141.813 549.666,140.89 549.026,139.976 548.388,139.07 547.751,138.171 547.115,137.28 546.481,136.398 \n",
       "  545.848,135.523 545.217,134.656 544.588,133.797 543.96,132.945 543.333,132.102 542.708,131.267 542.084,130.439 541.462,129.619 540.841,128.808 540.222,128.004 \n",
       "  539.604,127.208 538.988,126.419 538.373,125.639 537.759,124.867 537.147,124.102 536.536,123.345 535.927,122.596 535.319,121.855 534.712,121.122 534.107,120.396 \n",
       "  533.503,119.679 532.901,118.969 532.3,118.267 531.7,117.573 531.102,116.887 530.505,116.208 529.91,115.538 529.316,114.875 528.723,114.219 528.131,113.572 \n",
       "  527.541,112.933 526.953,112.301 526.365,111.677 525.779,111.061 525.194,110.452 524.611,109.852 524.029,109.259 523.448,108.673 522.868,108.096 522.29,107.526 \n",
       "  521.713,106.964 521.138,106.41 520.563,105.863 519.99,105.324 519.418,104.793 518.848,104.269 518.279,103.754 517.711,103.245 517.144,102.745 516.579,102.252 \n",
       "  516.015,101.767 515.452,101.289 514.89,100.819 514.33,100.357 513.77,99.9024 513.212,99.4553 512.656,99.0158 512.1,98.5839 511.546,98.1596 510.993,97.7429 \n",
       "  510.441,97.3337 509.891,96.9321 509.341,96.5381 508.793,96.1516 508.246,95.7726 507.7,95.4011 507.156,95.0372 506.612,94.6808 506.07,94.3318 505.529,93.9903 \n",
       "  504.989,93.6563 504.45,93.3298 503.913,93.0107 503.376,92.6991 502.841,92.3949 502.307,92.0982 501.774,91.8088 501.242,91.5269 500.712,91.2523 500.182,90.9851 \n",
       "  499.654,90.7253 499.127,90.4729 498.601,90.2278 498.076,89.99 497.552,89.7596 497.029,89.5365 496.508,89.3207 495.987,89.1122 495.468,88.911 494.95,88.717 \n",
       "  494.433,88.5304 493.916,88.3509 493.402,88.1787 492.888,88.0137 492.375,87.856 491.863,87.7054 491.353,87.5621 490.843,87.4259 490.335,87.2969 489.827,87.175 \n",
       "  489.321,87.0603 488.816,86.9527 488.312,86.8522 487.808,86.7588 487.306,86.6726 486.805,86.5934 486.305,86.5212 485.807,86.4561 485.309,86.3981 484.812,86.3471 \n",
       "  484.316,86.3031 483.821,86.2661 483.327,86.2361 482.835,86.2131 482.343,86.197 481.852,86.1879 481.363,86.1857 480.874,86.1904 480.386,86.202 479.9,86.2206 \n",
       "  479.414,86.246 478.93,86.2783 478.446,86.3174 477.963,86.3634 477.482,86.4162 477.001,86.4758 476.521,86.5422 476.043,86.6154 475.565,86.6954 475.088,86.7821 \n",
       "  474.612,86.8755 474.138,86.9757 473.664,87.0826 473.191,87.1962 472.719,87.3165 472.248,87.4434 471.778,87.577 471.309,87.7172 470.841,87.8641 470.374,88.0175 \n",
       "  469.908,88.1776 469.442,88.3442 468.978,88.5174 468.515,88.6971 468.052,88.8834 467.591,89.0761 467.13,89.2754 466.67,89.4812 466.212,89.6934 465.754,89.9121 \n",
       "  465.297,90.1373 464.841,90.3688 464.386,90.6068 463.932,90.8512 463.478,91.1019 463.026,91.359 462.574,91.6225 462.124,91.8923 461.674,92.1683 461.225,92.4507 \n",
       "  460.777,92.7394 460.33,93.0344 459.884,93.3356 459.439,93.643 458.995,93.9566 458.551,94.2765 458.109,94.6025 457.667,94.9347 457.226,95.2731 456.786,95.6175 \n",
       "  456.347,95.9682 455.908,96.3249 455.471,96.6877 455.034,97.0565 454.599,97.4315 454.164,97.8124 453.73,98.1994 453.296,98.5924 452.864,98.9914 452.433,99.3963 \n",
       "  452.002,99.8072 451.572,100.224 451.143,100.647 450.715,101.076 450.288,101.51 449.861,101.95 449.435,102.397 449.01,102.849 448.586,103.307 448.163,103.771 \n",
       "  447.741,104.24 447.319,104.715 446.898,105.196 446.478,105.683 446.059,106.176 445.641,106.674 445.223,107.178 444.806,107.687 444.39,108.202 443.975,108.723 \n",
       "  443.561,109.249 443.147,109.781 442.734,110.319 442.322,110.862 441.911,111.411 441.5,111.965 441.091,112.525 440.682,113.09 440.274,113.661 439.866,114.237 \n",
       "  439.46,114.818 439.054,115.405 438.649,115.998 438.244,116.595 437.841,117.198 437.438,117.807 437.036,118.421 436.634,119.04 436.234,119.664 435.834,120.294 \n",
       "  435.435,120.929 435.037,121.569 434.639,122.214 434.242,122.865 433.846,123.521 433.451,124.182 433.056,124.848 432.662,125.519 432.269,126.195 431.877,126.877 \n",
       "  431.485,127.563 431.094,128.255 430.704,128.952 430.314,129.653 429.925,130.36 429.537,131.072 429.15,131.788 428.763,132.51 428.377,133.236 427.992,133.968 \n",
       "  427.608,134.704 427.224,135.445 426.841,136.191 426.458,136.942 426.076,137.698 425.695,138.458 425.315,139.224 424.935,139.994 424.556,140.768 424.178,141.548 \n",
       "  423.801,142.332 423.424,143.121 423.047,143.915 422.672,144.713 422.297,145.516 421.923,146.324 421.549,147.136 421.177,147.953 420.804,148.774 420.433,149.6 \n",
       "  420.062,150.43 419.692,151.265 419.323,152.105 418.954,152.949 418.586,153.797 418.218,154.65 417.851,155.507 417.485,156.369 417.12,157.235 416.755,158.105 \n",
       "  416.39,158.98 416.027,159.859 415.664,160.742 415.302,161.63 414.94,162.522 414.579,163.418 414.219,164.319 413.859,165.223 413.5,166.132 413.142,167.045 \n",
       "  412.784,167.962 412.427,168.884 412.07,169.809 411.714,170.739 411.359,171.673 411.004,172.61 410.65,173.552 410.297,174.498 409.944,175.448 409.592,176.402 \n",
       "  409.24,177.36 408.89,178.322 408.539,179.287 408.19,180.257 407.84,181.231 407.492,182.208 407.144,183.19 406.797,184.175 406.45,185.164 406.104,186.157 \n",
       "  405.759,187.154 405.414,188.154 405.07,189.159 404.726,190.167 404.383,191.178 404.04,192.194 403.699,193.213 403.357,194.236 403.017,195.262 402.676,196.292 \n",
       "  402.337,197.326 401.998,198.363 401.66,199.404 401.322,200.449 400.985,201.497 400.648,202.548 400.312,203.604 399.977,204.662 399.642,205.724 399.307,206.79 \n",
       "  398.974,207.859 398.641,208.931 398.308,210.007 397.976,211.086 397.644,212.169 397.314,213.254 396.983,214.344 396.653,215.436 396.324,216.532 395.996,217.631 \n",
       "  395.667,218.734 395.34,219.839 395.013,220.948 394.686,222.06 394.361,223.175 394.035,224.294 393.71,225.415 393.386,226.54 393.063,227.668 392.739,228.799 \n",
       "  392.417,229.933 392.095,231.07 391.773,232.21 391.452,233.354 391.132,234.5 390.812,235.649 390.492,236.801 390.174,237.956 389.855,239.114 389.538,240.276 \n",
       "  389.22,241.439 388.904,242.606 388.587,243.776 388.272,244.949 387.957,246.124 387.642,247.302 387.328,248.483 387.014,249.667 386.701,250.854 386.389,252.043 \n",
       "  386.077,253.235 385.765,254.43 385.454,255.628 385.144,256.828 384.834,258.031 384.524,259.236 384.215,260.445 383.907,261.655 383.599,262.869 383.291,264.085 \n",
       "  382.985,265.304 382.678,266.525 382.372,267.748 382.067,268.975 381.762,270.203 381.457,271.434 381.153,272.668 380.85,273.904 380.547,275.143 380.245,276.384 \n",
       "  379.943,277.627 379.641,278.873 379.34,280.121 379.04,281.371 378.74,282.624 378.44,283.879 378.141,285.137 377.843,286.396 377.545,287.658 377.247,288.923 \n",
       "  376.95,290.189 376.653,291.458 376.357,292.729 376.061,294.002 375.766,295.277 375.472,296.554 375.177,297.834 374.883,299.116 374.59,300.399 374.297,301.685 \n",
       "  374.005,302.973 373.713,304.263 373.422,305.555 373.131,306.849 372.84,308.146 372.55,309.444 372.261,310.744 371.971,312.046 371.683,313.35 371.395,314.656 \n",
       "  371.107,315.964 370.82,317.273 370.533,318.585 370.246,319.898 369.96,321.214 369.675,322.531 369.39,323.85 369.105,325.171 368.821,326.493 368.538,327.818 \n",
       "  368.254,329.144 367.972,330.472 367.689,331.801 367.407,333.133 367.126,334.466 366.845,335.801 366.564,337.137 366.284,338.475 366.004,339.815 365.725,341.156 \n",
       "  365.446,342.499 365.168,343.843 364.89,345.19 364.613,346.537 364.335,347.886 364.059,349.237 363.783,350.589 363.507,351.943 363.231,353.299 362.956,354.655 \n",
       "  362.682,356.013 362.408,357.373 362.134,358.734 361.861,360.097 361.588,361.461 361.316,362.826 361.044,364.192 360.772,365.56 360.501,366.93 360.23,368.3 \n",
       "  359.96,369.672 359.69,371.046 359.421,372.42 359.152,373.796 358.883,375.173 358.615,376.552 358.347,377.931 358.08,379.312 357.813,380.694 357.546,382.077 \n",
       "  357.28,383.462 357.014,384.847 356.749,386.234 356.484,387.622 356.219,389.01 355.955,390.4 355.691,391.792 355.428,393.184 355.165,394.577 354.902,395.971 \n",
       "  354.64,397.367 354.378,398.763 354.117,400.16 353.856,401.559 353.595,402.958 353.335,404.358 353.075,405.759 352.816,407.162 352.557,408.565 352.298,409.969 \n",
       "  352.04,411.374 351.782,412.779 351.525,414.186 351.268,415.594 351.011,417.002 350.755,418.411 350.499,419.821 350.243,421.232 349.988,422.644 349.733,424.056 \n",
       "  349.479,425.469 349.225,426.883 348.971,428.298 348.718,429.713 348.465,431.129 348.212,432.546 347.96,433.964 347.709,435.382 347.457,436.801 347.206,438.22 \n",
       "  346.956,439.641 346.705,441.061 346.455,442.483 346.206,443.905 345.957,445.327 345.708,446.751 345.459,448.174 345.211,449.599 344.964,451.023 344.716,452.449 \n",
       "  344.469,453.875 344.223,455.301 343.977,456.728 343.731,458.155 343.485,459.583 343.24,461.011 342.995,462.44 342.751,463.869 342.507,465.299 342.263,466.729 \n",
       "  342.02,468.159 341.777,469.59 341.534,471.021 341.292,472.453 341.05,473.885 340.808,475.317 340.567,476.75 340.326,478.182 340.085,479.616 339.845,481.049 \n",
       "  339.605,482.483 339.366,483.917 339.126,485.351 338.888,486.786 338.649,488.22 338.411,489.655 338.173,491.09 337.936,492.526 337.699,493.961 337.462,495.397 \n",
       "  337.226,496.833 336.989,498.269 336.754,499.706 336.518,501.142 336.283,502.578 336.049,504.015 335.814,505.452 335.58,506.889 335.346,508.326 335.113,509.763 \n",
       "  334.88,511.2 334.647,512.637 334.415,514.074 334.183,515.511 333.951,516.948 333.72,518.385 333.489,519.823 333.258,521.26 333.027,522.697 332.797,524.134 \n",
       "  332.568,525.571 332.338,527.008 332.109,528.445 331.88,529.882 331.652,531.319 331.424,532.756 331.196,534.192 330.968,535.629 330.741,537.065 330.514,538.501 \n",
       "  330.288,539.937 330.062,541.373 329.836,542.809 329.61,544.245 329.385,545.68 329.16,547.115 328.935,548.55 328.711,549.985 328.487,551.42 328.263,552.854 \n",
       "  328.04,554.288 327.817,555.722 327.594,557.156 327.372,558.589 327.149,560.022 326.928,561.455 326.706,562.888 326.485,564.32 326.264,565.752 326.043,567.183 \n",
       "  325.823,568.615 325.603,570.045 325.384,571.476 325.164,572.906 324.945,574.336 324.726,575.765 324.508,577.194 324.29,578.623 324.072,580.051 323.854,581.479 \n",
       "  323.637,582.906 323.42,584.333 323.203,585.76 322.987,587.186 322.771,588.612 322.555,590.037 322.34,591.461 322.125,592.886 321.91,594.309 321.695,595.733 \n",
       "  321.481,597.155 321.267,598.577 321.053,599.999 320.84,601.42 320.627,602.841 320.414,604.261 320.201,605.68 319.989,607.099 319.777,608.518 319.565,609.935 \n",
       "  319.354,611.353 319.143,612.769 318.932,614.185 318.722,615.6 318.511,617.015 318.301,618.429 318.092,619.843 317.882,621.255 317.673,622.668 317.465,624.079 \n",
       "  317.256,625.49 317.048,626.9 316.84,628.31 316.632,629.718 316.425,631.126 316.218,632.534 316.011,633.941 315.804,635.346 315.598,636.752 315.392,638.156 \n",
       "  315.186,639.56 314.981,640.963 314.775,642.365 314.571,643.767 314.366,645.167 314.161,646.567 313.957,647.966 313.754,649.365 313.55,650.762 313.347,652.159 \n",
       "  313.144,653.555 312.941,654.95 312.739,656.344 312.536,657.738 312.334,659.13 312.133,660.522 311.931,661.913 311.73,663.303 311.529,664.692 311.329,666.08 \n",
       "  311.128,667.468 310.928,668.854 310.729,670.24 310.529,671.625 310.33,673.008 310.131,674.391 309.932,675.773 309.734,677.154 309.535,678.534 309.337,679.913 \n",
       "  309.14,681.292 308.942,682.669 308.745,684.045 308.548,685.421 308.352,686.795 308.155,688.168 307.959,689.541 307.763,690.912 307.567,692.283 307.372,693.652 \n",
       "  307.177,695.02 306.982,696.388 306.787,697.754 306.593,699.12 306.399,700.484 306.205,701.847 306.012,703.209 305.818,704.571 305.625,705.931 305.432,707.29 \n",
       "  305.24,708.648 305.047,710.005 304.855,711.361 304.663,712.715 304.472,714.069 304.28,715.422 304.089,716.773 303.899,718.124 303.708,719.473 303.518,720.821 \n",
       "  303.327,722.168 303.138,723.514 302.948,724.859 302.759,726.202 302.569,727.545 302.381,728.886 302.192,730.227 302.003,731.566 301.815,732.904 301.627,734.24 \n",
       "  301.44,735.576 301.252,736.91 301.065,738.243 300.878,739.575 300.691,740.906 300.505,742.236 300.319,743.564 300.133,744.892 299.947,746.218 299.761,747.542 \n",
       "  299.576,748.866 299.391,750.188 299.206,751.509 299.021,752.829 298.837,754.148 298.653,755.465 298.469,756.782 298.285,758.097 298.102,759.41 297.919,760.723 \n",
       "  297.736,762.034 297.553,763.344 297.371,764.652 297.188,765.959 297.006,767.265 296.824,768.57 296.643,769.874 296.462,771.176 296.28,772.477 296.1,773.776 \n",
       "  295.919,775.074 295.738,776.371 295.558,777.667 295.378,778.961 295.198,780.254 295.019,781.546 294.84,782.836 294.661,784.125 294.482,785.413 294.303,786.699 \n",
       "  294.125,787.984 293.946,789.267 293.768,790.55 293.591,791.831 293.413,793.11 293.236,794.388 293.059,795.665 292.882,796.94 292.705,798.214 292.529,799.487 \n",
       "  292.353,800.758 292.177,802.028 292.001,803.297 291.825,804.564 291.65,805.829 291.475,807.094 291.3,808.356 291.125,809.618 290.951,810.878 290.777,812.137 \n",
       "  290.603,813.394 290.429,814.65 290.255,815.904 290.082,817.157 289.909,818.408 289.736,819.658 289.563,820.907 289.39,822.154 289.218,823.4 289.046,824.644 \n",
       "  288.874,825.887 288.702,827.128 288.531,828.368 288.359,829.607 288.188,830.844 288.018,832.079 287.847,833.313 287.676,834.546 287.506,835.777 287.336,837.007 \n",
       "  287.166,838.235 286.997,839.462 286.827,840.687 286.658,841.911 286.489,843.133 286.32,844.354 286.152,845.573 285.983,846.791 285.815,848.007 285.647,849.222 \n",
       "  285.48,850.435 285.312,851.647 285.145,852.857 284.977,854.065 284.811,855.273 284.644,856.478 284.477,857.682 284.311,858.885 284.145,860.086 283.979,861.286 \n",
       "  283.813,862.484 283.647,863.68 283.482,864.875 283.317,866.069 283.152,867.26 282.987,868.451 282.823,869.64 282.658,870.827 282.494,872.013 282.33,873.197 \n",
       "  282.166,874.379 282.003,875.56 281.84,876.74 281.676,877.918 281.513,879.094 281.351,880.269 281.188,881.442 281.026,882.614 280.863,883.784 280.701,884.952 \n",
       "  280.54,886.119 280.378,887.285 280.216,888.449 280.055,889.611 279.894,890.772 279.733,891.931 279.573,893.088 279.412,894.244 279.252,895.398 279.092,896.551 \n",
       "  278.932,897.702 278.772,898.852 278.613,900 278.453,901.146 278.294,902.291 278.135,903.434 277.976,904.576 277.818,905.716 277.659,906.854 277.501,907.991 \n",
       "  277.343,909.126 277.185,910.259 277.028,911.391 276.87,912.522 276.713,913.65 276.556,914.778 276.399,915.903 276.242,917.027 276.085,918.149 275.929,919.27 \n",
       "  275.773,920.389 275.617,921.506 275.461,922.622 275.305,923.736 275.15,924.849 274.995,925.96 274.839,927.069 274.685,928.177 274.53,929.283 274.375,930.387 \n",
       "  274.221,931.49 274.067,932.591 273.913,933.691 273.759,934.789 273.605,935.885 273.452,936.98 273.298,938.073 273.145,939.164 272.992,940.254 272.839,941.342 \n",
       "  272.687,942.428 272.534,943.513 272.382,944.596 272.23,945.678 272.078,946.757 271.926,947.836 271.775,948.912 271.624,949.987 271.472,951.06 271.321,952.132 \n",
       "  271.17,953.202 271.02,954.27 270.869,955.337 270.719,956.402 270.569,957.466 270.419,958.527 270.269,959.587 270.119,960.646 269.97,961.703 269.821,962.758 \n",
       "  269.671,963.811 269.522,964.863 269.374,965.913 269.225,966.962 269.077,968.009 268.928,969.054 268.78,970.098 268.632,971.139 268.484,972.18 268.337,973.218 \n",
       "  268.189,974.255 268.042,975.29 267.895,976.324 267.748,977.356 267.601,978.386 267.455,979.415 267.308,980.442 267.162,981.467 267.016,982.491 266.87,983.513 \n",
       "  266.724,984.533 266.579,985.552 266.433,986.569 266.288,987.584 266.143,988.598 265.998,989.61 265.853,990.62 265.708,991.629 265.564,992.636 265.42,993.642 \n",
       "  265.275,994.645 265.131,995.647 264.988,996.648 264.844,997.646 264.7,998.644 264.557,999.639 264.414,1000.63 264.271,1001.62 264.128,1002.62 263.985,1003.6 \n",
       "  263.843,1004.59 263.7,1005.58 263.558,1006.56 263.416,1007.54 263.274,1008.52 263.132,1009.5 262.991,1010.48 262.849,1011.45 262.708,1012.43 262.567,1013.4 \n",
       "  262.426,1014.37 262.285,1015.34 262.145,1016.31 262.004,1017.27 261.864,1018.24 261.724,1019.2 261.584,1020.16 261.444,1021.12 261.304,1022.08 261.164,1023.03 \n",
       "  261.025,1023.98 260.886,1024.94 260.747,1025.89 260.608,1026.84 260.469,1027.78 260.33,1028.73 260.192,1029.67 260.053,1030.62 259.915,1031.56 259.777,1032.5 \n",
       "  259.639,1033.43 259.502,1034.37 259.364,1035.3 259.227,1036.23 259.089,1037.17 258.952,1038.09 258.815,1039.02 258.678,1039.95 258.542,1040.87 258.405,1041.79 \n",
       "  258.269,1042.72 258.133,1043.63 257.997,1044.55 257.861,1045.47 257.725,1046.38 257.589,1047.3 257.454,1048.21 257.318,1049.12 257.183,1050.02 257.048,1050.93 \n",
       "  256.913,1051.83 256.779,1052.74 256.644,1053.64 256.509,1054.54 256.375,1055.43 256.241,1056.33 256.107,1057.23 255.973,1058.12 255.839,1059.01 255.706,1059.9 \n",
       "  255.572,1060.79 255.439,1061.67 255.306,1062.56 255.173,1063.44 255.04,1064.32 254.907,1065.2 254.775,1066.08 254.642,1066.96 254.51,1067.83 254.378,1068.71 \n",
       "  254.246,1069.58 254.114,1070.45 253.982,1071.32 253.851,1072.18 253.719,1073.05 253.588,1073.91 253.457,1074.78 253.326,1075.64 253.195,1076.49 253.064,1077.35 \n",
       "  252.933,1078.21 252.803,1079.06 252.673,1079.91 252.542,1080.76 252.412,1081.61 252.283,1082.46 252.153,1083.31 252.023,1084.15 251.894,1084.99 251.764,1085.83 \n",
       "  251.635,1086.67 251.506,1087.51 251.377,1088.35 251.248,1089.18 251.12,1090.02 250.991,1090.85 250.863,1091.68 250.734,1092.51 250.606,1093.33 250.478,1094.16 \n",
       "  250.35,1094.98 250.223,1095.8 250.095,1096.62 249.968,1097.44 249.84,1098.26 249.713,1099.07 249.586,1099.89 249.459,1100.7 249.332,1101.51 249.206,1102.32 \n",
       "  249.079,1103.13 248.953,1103.93 248.827,1104.74 248.701,1105.54 248.575,1106.34 248.449,1107.14 248.323,1107.94 248.197,1108.74 248.072,1109.53 247.947,1110.33 \n",
       "  247.821,1111.12 247.696,1111.91 247.572,1112.7 247.447,1113.48 247.322,1114.27 247.198,1115.05 247.073,1115.84 246.949,1116.62 246.825,1117.4 246.701,1118.17 \n",
       "  246.577,1118.95 246.453,1119.73 246.329,1120.5 246.206,1121.27 246.083,1122.04 245.959,1122.81 245.836,1123.58 245.713,1124.34 245.59,1125.1 245.468,1125.87 \n",
       "  245.345,1126.63 245.222,1127.39 245.1,1128.14 244.978,1128.9 244.856,1129.66 244.734,1130.41 244.612,1131.16 244.49,1131.91 244.369,1132.66 244.247,1133.41 \n",
       "  244.126,1134.15 244.005,1134.9 243.884,1135.64 243.763,1136.38 243.642,1137.12 243.521,1137.86 243.4,1138.59 243.28,1139.33 243.16,1140.06 243.039,1140.79 \n",
       "  242.919,1141.52 242.799,1142.25 242.679,1142.98 242.56,1143.7 242.44,1144.43 242.321,1145.15 242.201,1145.87 242.082,1146.59 241.963,1147.31 241.844,1148.03 \n",
       "  241.725,1148.74 241.606,1149.46 241.488,1150.17 241.369,1150.88 241.251,1151.59 241.132,1152.3 241.014,1153 240.896,1153.71 240.778,1154.41 240.66,1155.11 \n",
       "  240.543,1155.81 240.425,1156.51 240.308,1157.21 240.19,1157.91 240.073,1158.6 239.956,1159.29 239.839,1159.99 239.722,1160.68 239.606,1161.36 239.489,1162.05 \n",
       "  239.373,1162.74 239.256,1163.42 239.14,1164.11 239.024,1164.79 238.908,1165.47 238.792,1166.15 238.676,1166.82 238.56,1167.5 238.445,1168.17 238.329,1168.84 \n",
       "  238.214,1169.52 238.099,1170.19 237.984,1170.85 237.869,1171.52 237.754,1172.19 237.639,1172.85 237.525,1173.51 237.41,1174.17 237.296,1174.83 237.181,1175.49 \n",
       "  237.067,1176.15 \n",
       "  \"/>\n",
       "<path clip-path=\"url(#clip030)\" d=\"\n",
       "M1761.89 214.069 L2280.18 214.069 L2280.18 93.1086 L1761.89 93.1086  Z\n",
       "  \" fill=\"#ffffff\" fill-rule=\"evenodd\" fill-opacity=\"1\"/>\n",
       "<polyline clip-path=\"url(#clip030)\" style=\"stroke:#000000; stroke-width:4; stroke-opacity:1; fill:none\" points=\"\n",
       "  1761.89,214.069 2280.18,214.069 2280.18,93.1086 1761.89,93.1086 1761.89,214.069 \n",
       "  \"/>\n",
       "<polyline clip-path=\"url(#clip030)\" style=\"stroke:#009af9; stroke-width:4; stroke-opacity:1; fill:none\" points=\"\n",
       "  1786.08,153.589 1931.24,153.589 \n",
       "  \"/>\n",
       "<path clip-path=\"url(#clip030)\" d=\"M 0 0 M1960.11 140.151 L1960.11 153.137 L1965.99 153.137 Q1969.25 153.137 1971.03 151.447 Q1972.81 149.758 1972.81 146.633 Q1972.81 143.531 1971.03 141.841 Q1969.25 140.151 1965.99 140.151 L1960.11 140.151 M1955.43 136.309 L1965.99 136.309 Q1971.8 136.309 1974.76 138.947 Q1977.74 141.563 1977.74 146.633 Q1977.74 151.748 1974.76 154.364 Q1971.8 156.98 1965.99 156.98 L1960.11 156.98 L1960.11 170.869 L1955.43 170.869 L1955.43 136.309 Z\" fill=\"#000000\" fill-rule=\"evenodd\" fill-opacity=\"1\" /><path clip-path=\"url(#clip030)\" d=\"M 0 0 M1982.21 134.85 L1986.47 134.85 L1986.47 170.869 L1982.21 170.869 L1982.21 134.85 Z\" fill=\"#000000\" fill-rule=\"evenodd\" fill-opacity=\"1\" /><path clip-path=\"url(#clip030)\" d=\"M 0 0 M2002.72 157.836 Q1997.56 157.836 1995.57 159.017 Q1993.58 160.197 1993.58 163.045 Q1993.58 165.313 1995.06 166.656 Q1996.56 167.975 1999.13 167.975 Q2002.68 167.975 2004.8 165.475 Q2006.96 162.952 2006.96 158.785 L2006.96 157.836 L2002.72 157.836 M2011.22 156.077 L2011.22 170.869 L2006.96 170.869 L2006.96 166.933 Q2005.5 169.295 2003.32 170.429 Q2001.15 171.54 1998 171.54 Q1994.02 171.54 1991.66 169.318 Q1989.32 167.072 1989.32 163.322 Q1989.32 158.947 1992.24 156.725 Q1995.18 154.503 2000.99 154.503 L2006.96 154.503 L2006.96 154.086 Q2006.96 151.147 2005.01 149.549 Q2003.09 147.929 1999.6 147.929 Q1997.37 147.929 1995.27 148.461 Q1993.16 148.994 1991.22 150.059 L1991.22 146.123 Q1993.55 145.221 1995.75 144.781 Q1997.95 144.318 2000.04 144.318 Q2005.66 144.318 2008.44 147.234 Q2011.22 150.151 2011.22 156.077 Z\" fill=\"#000000\" fill-rule=\"evenodd\" fill-opacity=\"1\" /><path clip-path=\"url(#clip030)\" d=\"M 0 0 M2037.24 155.221 L2037.24 170.869 L2032.98 170.869 L2032.98 155.359 Q2032.98 151.679 2031.54 149.85 Q2030.11 148.022 2027.24 148.022 Q2023.79 148.022 2021.8 150.221 Q2019.8 152.42 2019.8 156.216 L2019.8 170.869 L2015.52 170.869 L2015.52 144.943 L2019.8 144.943 L2019.8 148.971 Q2021.33 146.633 2023.39 145.475 Q2025.48 144.318 2028.18 144.318 Q2032.65 144.318 2034.94 147.096 Q2037.24 149.85 2037.24 155.221 Z\" fill=\"#000000\" fill-rule=\"evenodd\" fill-opacity=\"1\" /><path clip-path=\"url(#clip030)\" d=\"M 0 0 M2060.36 145.938 L2060.36 149.92 Q2058.55 148.924 2056.73 148.438 Q2054.92 147.929 2053.07 147.929 Q2048.92 147.929 2046.63 150.568 Q2044.34 153.184 2044.34 157.929 Q2044.34 162.674 2046.63 165.313 Q2048.92 167.929 2053.07 167.929 Q2054.92 167.929 2056.73 167.443 Q2058.55 166.933 2060.36 165.938 L2060.36 169.873 Q2058.58 170.707 2056.66 171.123 Q2054.76 171.54 2052.61 171.54 Q2046.75 171.54 2043.3 167.859 Q2039.85 164.179 2039.85 157.929 Q2039.85 151.586 2043.32 147.952 Q2046.82 144.318 2052.88 144.318 Q2054.85 144.318 2056.73 144.735 Q2058.6 145.128 2060.36 145.938 Z\" fill=\"#000000\" fill-rule=\"evenodd\" fill-opacity=\"1\" /><path clip-path=\"url(#clip030)\" d=\"M 0 0 M2064.67 134.85 L2068.95 134.85 L2068.95 156.123 L2081.66 144.943 L2087.1 144.943 L2073.35 157.072 L2087.67 170.869 L2082.12 170.869 L2068.95 158.207 L2068.95 170.869 L2064.67 170.869 L2064.67 134.85 Z\" fill=\"#000000\" fill-rule=\"evenodd\" fill-opacity=\"1\" /><path clip-path=\"url(#clip030)\" d=\"M 0 0 M2133.28 138.971 L2133.28 143.901 Q2130.92 141.702 2128.23 140.614 Q2125.57 139.526 2122.56 139.526 Q2116.63 139.526 2113.48 143.16 Q2110.34 146.772 2110.34 153.623 Q2110.34 160.452 2113.48 164.086 Q2116.63 167.697 2122.56 167.697 Q2125.57 167.697 2128.23 166.609 Q2130.92 165.521 2133.28 163.322 L2133.28 168.207 Q2130.82 169.873 2128.07 170.707 Q2125.34 171.54 2122.28 171.54 Q2114.43 171.54 2109.92 166.748 Q2105.41 161.933 2105.41 153.623 Q2105.41 145.29 2109.92 140.498 Q2114.43 135.684 2122.28 135.684 Q2125.38 135.684 2128.11 136.517 Q2130.87 137.327 2133.28 138.971 Z\" fill=\"#000000\" fill-rule=\"evenodd\" fill-opacity=\"1\" /><path clip-path=\"url(#clip030)\" d=\"M 0 0 M2137.3 160.637 L2137.3 144.943 L2141.56 144.943 L2141.56 160.475 Q2141.56 164.156 2143 166.008 Q2144.43 167.836 2147.3 167.836 Q2150.75 167.836 2152.74 165.637 Q2154.76 163.438 2154.76 159.642 L2154.76 144.943 L2159.02 144.943 L2159.02 170.869 L2154.76 170.869 L2154.76 166.887 Q2153.21 169.248 2151.15 170.406 Q2149.11 171.54 2146.4 171.54 Q2141.93 171.54 2139.62 168.762 Q2137.3 165.984 2137.3 160.637 M2148.02 144.318 L2148.02 144.318 Z\" fill=\"#000000\" fill-rule=\"evenodd\" fill-opacity=\"1\" /><path clip-path=\"url(#clip030)\" d=\"M 0 0 M2178.51 148.924 Q2177.79 148.508 2176.93 148.322 Q2176.1 148.114 2175.08 148.114 Q2171.47 148.114 2169.53 150.475 Q2167.6 152.813 2167.6 157.211 L2167.6 170.869 L2163.32 170.869 L2163.32 144.943 L2167.6 144.943 L2167.6 148.971 Q2168.95 146.609 2171.1 145.475 Q2173.25 144.318 2176.33 144.318 Q2176.77 144.318 2177.3 144.387 Q2177.84 144.434 2178.48 144.549 L2178.51 148.924 Z\" fill=\"#000000\" fill-rule=\"evenodd\" fill-opacity=\"1\" /><path clip-path=\"url(#clip030)\" d=\"M 0 0 M2179.92 144.943 L2184.43 144.943 L2192.54 166.702 L2200.64 144.943 L2205.15 144.943 L2195.43 170.869 L2189.64 170.869 L2179.92 144.943 Z\" fill=\"#000000\" fill-rule=\"evenodd\" fill-opacity=\"1\" /><path clip-path=\"url(#clip030)\" d=\"M 0 0 M2231.79 156.841 L2231.79 158.924 L2212.21 158.924 Q2212.49 163.322 2214.85 165.637 Q2217.23 167.929 2221.47 167.929 Q2223.92 167.929 2226.22 167.327 Q2228.53 166.725 2230.8 165.521 L2230.8 169.549 Q2228.51 170.521 2226.1 171.031 Q2223.69 171.54 2221.22 171.54 Q2215.01 171.54 2211.38 167.929 Q2207.77 164.318 2207.77 158.16 Q2207.77 151.795 2211.19 148.068 Q2214.64 144.318 2220.47 144.318 Q2225.71 144.318 2228.74 147.697 Q2231.79 151.054 2231.79 156.841 M2227.53 155.591 Q2227.49 152.096 2225.57 150.012 Q2223.67 147.929 2220.52 147.929 Q2216.96 147.929 2214.8 149.943 Q2212.67 151.957 2212.35 155.614 L2227.53 155.591 Z\" fill=\"#000000\" fill-rule=\"evenodd\" fill-opacity=\"1\" /></svg>\n"
      ]
     },
     "execution_count": 13,
     "metadata": {},
     "output_type": "execute_result"
    }
   ],
   "source": [
    "# Define a wavelengths grid (equation demands SI unit of meters).\n",
    "wl = (1e7*1e-9)./collect(ν[1:100:end]);\n",
    "plot(wl*1e6, planck.(wl,280), label=\"Planck Curve\",lw=2)\n",
    "ylabel!(\"Radiance (W/sr/m²/μm)\")\n",
    "xlabel!(\"Wavelength (μm)\")"
   ]
  },
  {
   "cell_type": "markdown",
   "metadata": {},
   "source": [
    "---\n",
    "### Define a simplified Forward model:"
   ]
  },
  {
   "cell_type": "code",
   "execution_count": 14,
   "metadata": {},
   "outputs": [
    {
     "data": {
      "text/plain": [
       "forward_model_thermal (generic function with 1 method)"
      ]
     },
     "execution_count": 14,
     "metadata": {},
     "output_type": "execute_result"
    }
   ],
   "source": [
    "function forward_model_thermal(vmrs, σ_matrix, profile, albedo, Tsurf, μ, ν)\n",
    "    nProfile = length(profile.T)\n",
    "    nSpec    = size(σ_matrix,1)\n",
    "    nGas     = length(vmrs)\n",
    "    \n",
    "    # wavelength in meter\n",
    "    wl = (1e7*1e-9)./collect(ν)\n",
    "    \n",
    "    # Total sum of τ\n",
    "    ∑τ       = zeros(nSpec,nProfile)\n",
    "    \n",
    "    # Planck Source function\n",
    "    S        = zeros(nSpec,nProfile)\n",
    "    \n",
    "    # Layer boundary up and down fluxes:\n",
    "    rad_down = zeros(nSpec,nProfile+1)\n",
    "    rad_up   = zeros(nSpec,nProfile+1)\n",
    "    \n",
    "    # Planck Source per layer:\n",
    "    for i=1:nProfile\n",
    "        S[:,i] = planck.(wl,profile.T[i])\n",
    "    end\n",
    "    \n",
    "    # sum up total layer τ:\n",
    "    for i=1:nGas,j=1:nProfile\n",
    "        ∑τ[:,j] .+= σ_matrix[:,j,i] .* (vmrs[i][j] .* profile.vcd_dry[j])'\n",
    "    end\n",
    "    \n",
    "    # Transmission per layer\n",
    "    T = exp.(-∑τ/μ)\n",
    "    \n",
    "    # Atmosphere from top to bottom:\n",
    "    for i=1:nProfile\n",
    "        rad_down[:,i+1] = rad_down[:,i].*T[:,i] .+ (1 .-T[:,i]).*S[:,i]\n",
    "    end\n",
    "    \n",
    "    # Upward flux at surface:\n",
    "    rad_up[:,end] = (1-albedo)*planck.(wl,Tsurf) .+ rad_down[:,end]*albedo\n",
    "    \n",
    "    # Atmosphere from bottom to top\n",
    "    for i=nProfile:-1:1\n",
    "        rad_up[:,i] = rad_up[:,i+1].*T[:,i] .+ (1 .-T[:,i]) .* S[:,i]\n",
    "    end\n",
    "    \n",
    "    return T, rad_down, rad_up\n",
    "end"
   ]
  },
  {
   "cell_type": "code",
   "execution_count": null,
   "metadata": {},
   "outputs": [],
   "source": []
  },
  {
   "cell_type": "code",
   "execution_count": 15,
   "metadata": {},
   "outputs": [
    {
     "ename": "LoadError",
     "evalue": "UndefVarError: vmrs not defined",
     "output_type": "error",
     "traceback": [
      "UndefVarError: vmrs not defined",
      "",
      "Stacktrace:",
      " [1] top-level scope at ./timing.jl:174 [inlined]",
      " [2] top-level scope at ./In[15]:0",
      " [3] include_string(::Function, ::Module, ::String, ::String) at ./loading.jl:1091"
     ]
    }
   ],
   "source": [
    "@time T, rad_down, rad_up = forward_model_thermal(vmrs,σ_matrix_red, profile_red, 0.05, 280.0, 1.0, ν);"
   ]
  },
  {
   "cell_type": "code",
   "execution_count": 16,
   "metadata": {},
   "outputs": [
    {
     "ename": "LoadError",
     "evalue": "UndefVarError: T not defined",
     "output_type": "error",
     "traceback": [
      "UndefVarError: T not defined",
      "",
      "Stacktrace:",
      " [1] top-level scope at In[16]:1",
      " [2] include_string(::Function, ::Module, ::String, ::String) at ./loading.jl:1091"
     ]
    }
   ],
   "source": [
    "plot(1e4./ν, prod(T,dims=2),lw=2)\n",
    "ylabel!(\"Total Atmosphere Transmission\")\n",
    "xlabel!(\"Wavelength (μm)\")"
   ]
  },
  {
   "cell_type": "code",
   "execution_count": 17,
   "metadata": {},
   "outputs": [
    {
     "ename": "LoadError",
     "evalue": "UndefVarError: rad_up not defined",
     "output_type": "error",
     "traceback": [
      "UndefVarError: rad_up not defined",
      "",
      "Stacktrace:",
      " [1] top-level scope at In[17]:1",
      " [2] include_string(::Function, ::Module, ::String, ::String) at ./loading.jl:1091"
     ]
    }
   ],
   "source": [
    "plot(1e4./ν, rad_up[:,1],lw=2 )\n",
    "ylabel!(\"Radiance (W/sr/m²/μm)\")\n",
    "xlabel!(\"Wavelength (μm)\")"
   ]
  },
  {
   "cell_type": "code",
   "execution_count": 18,
   "metadata": {},
   "outputs": [
    {
     "ename": "LoadError",
     "evalue": "UndefVarError: rad_down not defined",
     "output_type": "error",
     "traceback": [
      "UndefVarError: rad_down not defined",
      "",
      "Stacktrace:",
      " [1] top-level scope at In[18]:1",
      " [2] include_string(::Function, ::Module, ::String, ::String) at ./loading.jl:1091"
     ]
    }
   ],
   "source": [
    "plot(1e4./ν, rad_down[:,end],lw=2 )\n",
    "ylabel!(\"Radiance (W/sr/m²/μm)\")\n",
    "xlabel!(\"Wavelength (μm)\")"
   ]
  },
  {
   "cell_type": "code",
   "execution_count": 19,
   "metadata": {},
   "outputs": [
    {
     "ename": "LoadError",
     "evalue": "UndefVarError: rad_down not defined",
     "output_type": "error",
     "traceback": [
      "UndefVarError: rad_down not defined",
      "",
      "Stacktrace:",
      " [1] top-level scope at In[19]:1",
      " [2] include_string(::Function, ::Module, ::String, ::String) at ./loading.jl:1091"
     ]
    }
   ],
   "source": [
    "heatmap(ν, profile_red.p_levels, rad_down', yflip=true)\n",
    "xlabel!(\"Wavenumber (cm⁻¹)\")\n",
    "ylabel!(\"pressure (Pa)\")\n",
    "title!(\"Downwelling radiation\")"
   ]
  },
  {
   "cell_type": "code",
   "execution_count": 20,
   "metadata": {},
   "outputs": [
    {
     "ename": "LoadError",
     "evalue": "UndefVarError: rad_up not defined",
     "output_type": "error",
     "traceback": [
      "UndefVarError: rad_up not defined",
      "",
      "Stacktrace:",
      " [1] top-level scope at In[20]:1",
      " [2] include_string(::Function, ::Module, ::String, ::String) at ./loading.jl:1091"
     ]
    }
   ],
   "source": [
    "heatmap(ν, profile_red.p_levels, rad_up', yflip=true)\n",
    "xlabel!(\"Wavenumber (cm⁻¹)\")\n",
    "ylabel!(\"pressure (Pa)\")\n",
    "title!(\"Downwelling radiation\")"
   ]
  },
  {
   "cell_type": "code",
   "execution_count": 21,
   "metadata": {},
   "outputs": [
    {
     "ename": "LoadError",
     "evalue": "UndefVarError: T not defined",
     "output_type": "error",
     "traceback": [
      "UndefVarError: T not defined",
      "",
      "Stacktrace:",
      " [1] top-level scope at In[21]:1",
      " [2] include_string(::Function, ::Module, ::String, ::String) at ./loading.jl:1091"
     ]
    }
   ],
   "source": [
    "heatmap(ν, profile_red.p, T', yflip=true)\n",
    "xlabel!(\"Wavenumber (cm⁻¹)\")\n",
    "ylabel!(\"Transmission\")"
   ]
  },
  {
   "cell_type": "code",
   "execution_count": null,
   "metadata": {},
   "outputs": [],
   "source": []
  }
 ],
 "metadata": {
  "@webio": {
   "lastCommId": null,
   "lastKernelId": null
  },
  "kernelspec": {
   "display_name": "Julia 1.5.3",
   "language": "julia",
   "name": "julia-1.5"
  },
  "language_info": {
   "file_extension": ".jl",
   "mimetype": "application/julia",
   "name": "julia",
   "version": "1.5.3"
  }
 },
 "nbformat": 4,
 "nbformat_minor": 4
}
