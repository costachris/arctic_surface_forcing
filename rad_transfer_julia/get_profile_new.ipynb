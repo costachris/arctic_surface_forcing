{
 "cells": [
  {
   "cell_type": "code",
   "execution_count": 112,
   "metadata": {},
   "outputs": [],
   "source": [
    "# Use our tools (you might need to add packages, see file)\n",
    "using CUDA\n",
    "device!(2)\n",
    "# 0 indexed\n",
    "\n",
    "include(\"thermal_radiation_helper.jl\")\n",
    "using RadiativeTransfer\n",
    "using RadiativeTransfer.Architectures\n",
    "using RadiativeTransfer.CrossSection\n",
    "using ..Architectures: GPU\n",
    "\n",
    "using JLD2\n",
    "# using PyPlot\n",
    "# use float32\n",
    "\n",
    "\n"
   ]
  },
  {
   "cell_type": "code",
   "execution_count": null,
   "metadata": {},
   "outputs": [],
   "source": []
  },
  {
   "cell_type": "code",
   "execution_count": 101,
   "metadata": {},
   "outputs": [],
   "source": [
    "reanalysis_rel_dir = \"/net/fluo/data2/groupMembers/cchristo/reanalysis_3d/merra2/2011/01/\"\n",
    "fname = \"MERRA2_400.tavg3_3d_asm_Nv.20110101.nc4\"\n",
    "full_path = string(reanalysis_rel_dir, fname)\n",
    "\n",
    "#########\n",
    "\n",
    "timeIndex = 1 # There is 00, 06, 12 and 18 in UTC, i.e. 6 hourly data stacked together\n",
    "\n",
    "# What latitude do we want?\n",
    "myLat = 72.58;\n",
    "myLon = -38.47;"
   ]
  },
  {
   "cell_type": "code",
   "execution_count": 21,
   "metadata": {},
   "outputs": [],
   "source": [
    "# ds = Dataset(full_path)\n",
    "# ds[\"PS\"]"
   ]
  },
  {
   "cell_type": "code",
   "execution_count": 115,
   "metadata": {},
   "outputs": [],
   "source": [
    "include(\"thermal_radiation_helper.jl\")\n",
    "\n",
    "# T, q, plocal, dz, psurf, rho_N, rho_N_h2o, vmr_h2o, VCD_dry\n",
    "res = read_atmos_profile_new(full_path, myLat, myLon, timeIndex) ;"
   ]
  },
  {
   "cell_type": "code",
   "execution_count": 122,
   "metadata": {},
   "outputs": [],
   "source": [
    "# plot(res.vcd_dry)"
   ]
  },
  {
   "cell_type": "code",
   "execution_count": 47,
   "metadata": {},
   "outputs": [
    {
     "data": {
      "text/plain": [
       "9.8196"
      ]
     },
     "execution_count": 47,
     "metadata": {},
     "output_type": "execute_result"
    }
   ],
   "source": [
    "Rd = 287.04 # specific gas constant for dry air\n",
    "R_universal = 8.314472\n",
    "go = 9.8196 #(m/s**2) "
   ]
  },
  {
   "cell_type": "code",
   "execution_count": 84,
   "metadata": {},
   "outputs": [
    {
     "data": {
      "text/plain": [
       "72-element Array{Float64,1}:\n",
       " 4553.324731323101\n",
       " 3480.013060154881\n",
       " 2735.860052386534\n",
       " 2409.2040439611524\n",
       " 2227.244681635914\n",
       " 2145.1800716168445\n",
       " 2108.205471134612\n",
       " 2056.252597961917\n",
       " 1983.337591503991\n",
       " 1903.7787301325732\n",
       " 1849.3994441899563\n",
       " 1801.7321908703036\n",
       " 1758.5857038857446\n",
       "    ⋮\n",
       "  105.54420520988423\n",
       "  104.23072385826013\n",
       "  102.95550031586282\n",
       "  101.88655476318131\n",
       "  100.82649721205578\n",
       "   99.5710704945236\n",
       "   98.29460835056516\n",
       "   97.23691943755523\n",
       "   96.11548175781915\n",
       "   94.56370208644037\n",
       "   92.81464434460325\n",
       "  109.91605110926433"
      ]
     },
     "execution_count": 84,
     "metadata": {},
     "output_type": "execute_result"
    }
   ],
   "source": [
    "dz = (delp./plocal).*(Rd.*T.*(1 .+ 0.608*q))./go\n"
   ]
  },
  {
   "cell_type": "code",
   "execution_count": 83,
   "metadata": {},
   "outputs": [],
   "source": [
    "# (delp./plocal)"
   ]
  }
 ],
 "metadata": {
  "kernelspec": {
   "display_name": "Julia 1.5.3",
   "language": "julia",
   "name": "julia-1.5"
  },
  "language_info": {
   "file_extension": ".jl",
   "mimetype": "application/julia",
   "name": "julia",
   "version": "1.5.3"
  }
 },
 "nbformat": 4,
 "nbformat_minor": 4
}
