{
 "cells": [
  {
   "cell_type": "code",
   "execution_count": 1,
   "metadata": {},
   "outputs": [],
   "source": [
    "import cdsapi\n",
    "import datetime \n",
    "import calendar"
   ]
  },
  {
   "cell_type": "markdown",
   "metadata": {},
   "source": [
    "# DEMO"
   ]
  },
  {
   "cell_type": "code",
   "execution_count": 2,
   "metadata": {},
   "outputs": [],
   "source": [
    "\n",
    "c = cdsapi.Client()\n",
    "\n",
    "# c.retrieve(\"dataset-short-name\", \n",
    "#            {... sub-selection request ...}, \n",
    "#            \"target-file\")"
   ]
  },
  {
   "cell_type": "code",
   "execution_count": 4,
   "metadata": {},
   "outputs": [
    {
     "name": "stdout",
     "output_type": "stream",
     "text": [
      "get_era5.ipynb\n"
     ]
    }
   ],
   "source": [
    "!ls"
   ]
  },
  {
   "cell_type": "code",
   "execution_count": 3,
   "metadata": {},
   "outputs": [
    {
     "name": "stderr",
     "output_type": "stream",
     "text": [
      "2020-02-27 14:00:36,444 INFO Welcome to the CDS\n",
      "2020-02-27 14:00:36,445 INFO Sending request to https://cds.climate.copernicus.eu/api/v2/resources/reanalysis-era5-pressure-levels\n",
      "2020-02-27 14:00:37,091 INFO Request is completed\n",
      "2020-02-27 14:00:37,092 INFO Downloading http://136.156.132.236/cache-compute-0007/cache/data2/adaptor.mars.internal-1582757458.0475786-9009-3-e940ace6-ccf8-4336-b988-cd5120ae3057.nc to download.nc (1.7G)\n",
      "2020-02-27 14:09:18,853 INFO Download rate 3.4M/s    \n"
     ]
    },
    {
     "data": {
      "text/plain": [
       "Result(content_length=1843924360,content_type=application/x-netcdf,location=http://136.156.132.236/cache-compute-0007/cache/data2/adaptor.mars.internal-1582757458.0475786-9009-3-e940ace6-ccf8-4336-b988-cd5120ae3057.nc)"
      ]
     },
     "execution_count": 3,
     "metadata": {},
     "output_type": "execute_result"
    }
   ],
   "source": [
    "c.retrieve(\n",
    "    'reanalysis-era5-pressure-levels',\n",
    "    {\n",
    "        'product_type': 'reanalysis',\n",
    "        'format': 'netcdf',\n",
    "        'variable': 'temperature',\n",
    "        'pressure_level': [\n",
    "            '1', '2', '3',\n",
    "            '5', '7', '10',\n",
    "            '20', '30', '50',\n",
    "            '70', '100', '125',\n",
    "            '150', '175', '200',\n",
    "            '225', '250', '300',\n",
    "            '350', '400', '450',\n",
    "            '500', '550', '600',\n",
    "            '650', '700', '750',\n",
    "            '775', '800', '825',\n",
    "            '850', '875', '900',\n",
    "            '925', '950', '975',\n",
    "            '1000',\n",
    "        ],\n",
    "        'year': '2019',\n",
    "        'month': '03',\n",
    "        'day': '15',\n",
    "        'time': [\n",
    "            '00:00', '01:00', '02:00',\n",
    "            '03:00', '04:00', '05:00',\n",
    "            '06:00', '07:00', '08:00',\n",
    "            '09:00', '10:00', '11:00',\n",
    "            '12:00', '13:00', '14:00',\n",
    "            '15:00', '16:00', '17:00',\n",
    "            '18:00', '19:00', '20:00',\n",
    "            '21:00', '22:00', '23:00',\n",
    "        ],\n",
    "    },\n",
    "    'download.nc')"
   ]
  },
  {
   "cell_type": "code",
   "execution_count": null,
   "metadata": {},
   "outputs": [],
   "source": [
    "# /export/data1/cchristo"
   ]
  },
  {
   "cell_type": "code",
   "execution_count": 13,
   "metadata": {},
   "outputs": [],
   "source": [
    "year_var = 2018\n",
    "month_var = 2\n",
    "day_var = 15\n",
    "\n",
    "cal = calendar.Calendar()\n",
    "\n",
    "# for day in cal.itermonthdays(2016, 1):\n",
    "#     print(day)\n",
    "\n",
    "\n",
    "num_days = calendar.monthrange(year_var, month_var)[1]\n",
    "days = [datetime.date(year_var, month_var, day).day for day in range(1, num_days+1)]\n",
    "\n",
    "\n"
   ]
  },
  {
   "cell_type": "code",
   "execution_count": null,
   "metadata": {},
   "outputs": [],
   "source": []
  },
  {
   "cell_type": "code",
   "execution_count": null,
   "metadata": {},
   "outputs": [],
   "source": [
    "c.retrieve(\n",
    "    'reanalysis-era5-pressure-levels',\n",
    "    {\n",
    "        'product_type': 'reanalysis',\n",
    "        'format': 'netcdf',\n",
    "        'variable': 'temperature',\n",
    "        'pressure_level': [\n",
    "            '1', '2', '3',\n",
    "            '5', '7', '10',\n",
    "            '20', '30', '50',\n",
    "            '70', '100', '125',\n",
    "            '150', '175', '200',\n",
    "            '225', '250', '300',\n",
    "            '350', '400', '450',\n",
    "            '500', '550', '600',\n",
    "            '650', '700', '750',\n",
    "            '775', '800', '825',\n",
    "            '850', '875', '900',\n",
    "            '925', '950', '975',\n",
    "            '1000',\n",
    "        ],\n",
    "        'year': year_var,\n",
    "        'month': monrth_var,\n",
    "        'day': '15',\n",
    "        'time': [\n",
    "            '00:00', '01:00', '02:00',\n",
    "            '03:00', '04:00', '05:00',\n",
    "            '06:00', '07:00', '08:00',\n",
    "            '09:00', '10:00', '11:00',\n",
    "            '12:00', '13:00', '14:00',\n",
    "            '15:00', '16:00', '17:00',\n",
    "            '18:00', '19:00', '20:00',\n",
    "            '21:00', '22:00', '23:00',\n",
    "        ],\n",
    "    },\n",
    "    'tester.nc')"
   ]
  },
  {
   "cell_type": "code",
   "execution_count": null,
   "metadata": {},
   "outputs": [],
   "source": []
  }
 ],
 "metadata": {
  "kernelspec": {
   "display_name": "Python 3",
   "language": "python",
   "name": "python3"
  },
  "language_info": {
   "codemirror_mode": {
    "name": "ipython",
    "version": 3
   },
   "file_extension": ".py",
   "mimetype": "text/x-python",
   "name": "python",
   "nbconvert_exporter": "python",
   "pygments_lexer": "ipython3",
   "version": "3.6.10"
  }
 },
 "nbformat": 4,
 "nbformat_minor": 4
}
