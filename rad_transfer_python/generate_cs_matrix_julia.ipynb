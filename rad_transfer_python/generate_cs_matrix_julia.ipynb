{
 "cells": [
  {
   "cell_type": "code",
   "execution_count": 2,
   "metadata": {},
   "outputs": [
    {
     "name": "stderr",
     "output_type": "stream",
     "text": [
      "\u001b[32m\u001b[1m Activating\u001b[22m\u001b[39m environment at `~/.julia/environments/rad_transfer/Project.toml`\n"
     ]
    }
   ],
   "source": [
    "using Pkg\n",
    "Pkg.activate(\"rad_transfer\"; shared=true)\n",
    "using RadiativeTransfer\n",
    "using RadiativeTransfer.CrossSection\n",
    "using Pkg.Artifacts"
   ]
  },
  {
   "cell_type": "code",
   "execution_count": 5,
   "metadata": {},
   "outputs": [],
   "source": [
    "# fetch('H2O_S',1,1,xmin,xmax)\n",
    "# fetch('CO2_S',2,1,xmin,xmax)\n",
    "# fetch('CH4_S',6,1,xmin,xmax)"
   ]
  },
  {
   "cell_type": "code",
   "execution_count": 30,
   "metadata": {},
   "outputs": [
    {
     "data": {
      "text/plain": [
       "HitranTable{Float64}\n",
       "  mol: Array{Int64}((169586,)) [2, 2, 2, 2, 2, 2, 2, 2, 2, 2  …  2, 2, 2, 2, 2, 2, 2, 2, 2, 2]\n",
       "  iso: Array{Int64}((169586,)) [1, 1, 1, 1, 1, 1, 1, 1, 1, 1  …  1, 1, 1, 1, 1, 1, 1, 1, 1, 1]\n",
       "  νᵢ: Array{Float64}((169586,)) [400.038306, 400.14591, 400.907948, 401.634348, 401.65625, 402.500766, 403.128146, 403.269764, 404.094942, 404.627497  …  9904.514542, 9905.923713, 9907.313231, 9908.682344, 9910.030297, 9911.356333, 9912.659695, 9913.939627, 9997.079711, 9999.712519]\n",
       "  Sᵢ: Array{Float64}((169586,)) [7.088e-29, 6.614e-29, 3.377e-29, 7.586e-29, 8.051e-29, 3.137e-29, 8.528e-29, 8.959e-29, 2.849e-29, 9.389e-29  …  6.482e-30, 5.371e-30, 4.374e-30, 3.502e-30, 2.757e-30, 2.134e-30, 1.624e-30, 1.216e-30, 1.197e-30, 1.747e-30]\n",
       "  Aᵢ: Array{Float64}((169586,)) [0.0001454, 0.0001448, 5.746e-5, 0.0001477, 0.0001486, 5.788e-5, 0.000151, 0.0001522, 5.829e-5, 0.0001547  …  1.539e-8, 1.552e-8, 1.567e-8, 1.583e-8, 1.6e-8, 1.619e-8, 1.638e-8, 1.659e-8, 9.988e-8, 9.94e-8]\n",
       "  γ_air: Array{Float64}((169586,)) [0.0698, 0.0695, 0.0719, 0.0701, 0.0705, 0.0709, 0.0709, 0.0714, 0.0701, 0.0719  …  0.0695, 0.0692, 0.069, 0.0689, 0.0687, 0.0686, 0.0685, 0.0683, 0.0673, 0.0675]\n",
       "  γ_self: Array{Float64}((169586,)) [0.095, 0.094, 0.099, 0.095, 0.096, 0.097, 0.097, 0.098, 0.095, 0.099  …  0.089, 0.087, 0.085, 0.083, 0.082, 0.08, 0.078, 0.077, 0.072, 0.073]\n",
       "  E″: Array{Float64}((169586,)) [3035.5212, 3056.6616, 2961.1736, 3015.1765, 2995.6023, 2994.7578, 2976.8201, 2958.8118, 3031.4646, 2941.5925  …  411.9242, 464.1737, 519.5372, 578.014, 639.6031, 704.3035, 772.114, 843.0081, 1244.1995, 1157.7531]\n",
       "  n_air: Array{Float64}((169586,)) [0.73, 0.74, 0.71, 0.73, 0.73, 0.72, 0.72, 0.71, 0.73, 0.71  …  0.76, 0.76, 0.76, 0.76, 0.76, 0.76, 0.76, 0.75, 0.73, 0.73]\n",
       "  δ_air: Array{Float64}((169586,)) [-0.000715, -0.000712, -0.000649, -0.000717, -0.000709, -0.000662, -0.000702, -0.000692, -0.000671, -0.000676  …  -0.011658, -0.011704, -0.011745, -0.011789, -0.011821, -0.011861, -0.011912, -0.01197, -0.012345, -0.012227]\n",
       "  global_upper_quanta: Array{String}((169586,))\n",
       "  global_lower_quanta: Array{String}((169586,))\n",
       "  local_upper_quanta: Array{String}((169586,))\n",
       "  local_lower_quanta: Array{String}((169586,))\n",
       "  ierr: Array{String}((169586,))\n",
       "  iref: Array{String}((169586,))\n",
       "  line_mixing_flag: Array{String}((169586,))\n",
       "  g′: Array{Float64}((169586,)) [51.0, 53.0, 43.0, 49.0, 47.0, 47.0, 45.0, 43.0, 51.0, 41.0  …  67.0, 71.0, 75.0, 79.0, 83.0, 87.0, 91.0, 95.0, 111.0, 107.0]\n",
       "  g″: Array{Float64}((169586,)) [53.0, 55.0, 41.0, 51.0, 49.0, 45.0, 47.0, 45.0, 49.0, 43.0  …  65.0, 69.0, 73.0, 77.0, 81.0, 85.0, 89.0, 93.0, 113.0, 109.0]\n"
      ]
     },
     "execution_count": 30,
     "metadata": {},
     "output_type": "execute_result"
    }
   ],
   "source": [
    "hitran_data_CO2 = read_hitran(\"hitran_molec_id_2_CO2.tar\", mol=2, iso=1, ν_min=400, ν_max=10000)"
   ]
  },
  {
   "cell_type": "code",
   "execution_count": 3,
   "metadata": {},
   "outputs": [
    {
     "ename": "UndefVarError",
     "evalue": "UndefVarError: hitran_data_CO2 not defined",
     "output_type": "error",
     "traceback": [
      "UndefVarError: hitran_data_CO2 not defined",
      "",
      "Stacktrace:",
      " [1] top-level scope at In[3]:1"
     ]
    }
   ],
   "source": [
    "hitran_data_CO2"
   ]
  },
  {
   "cell_type": "code",
   "execution_count": null,
   "metadata": {},
   "outputs": [],
   "source": []
  },
  {
   "cell_type": "code",
   "execution_count": 3,
   "metadata": {},
   "outputs": [
    {
     "ename": "UndefVarError",
     "evalue": "UndefVarError: hitran_data not defined",
     "output_type": "error",
     "traceback": [
      "UndefVarError: hitran_data not defined",
      "",
      "Stacktrace:",
      " [1] top-level scope at In[3]:1"
     ]
    }
   ],
   "source": [
    "model_voigt_GPU = make_hitran_model(hitran_data, Voigt(), architecture=Architectures.GPU())\n"
   ]
  }
 ],
 "metadata": {
  "kernelspec": {
   "display_name": "Julia 1.4.2",
   "language": "julia",
   "name": "julia-1.4"
  },
  "language_info": {
   "file_extension": ".jl",
   "mimetype": "application/julia",
   "name": "julia",
   "version": "1.4.2"
  }
 },
 "nbformat": 4,
 "nbformat_minor": 4
}
