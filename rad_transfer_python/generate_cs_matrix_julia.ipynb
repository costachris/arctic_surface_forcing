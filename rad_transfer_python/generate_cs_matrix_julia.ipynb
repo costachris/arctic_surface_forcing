{
 "cells": [
  {
   "cell_type": "code",
   "execution_count": 2,
   "metadata": {},
   "outputs": [
    {
     "name": "stderr",
     "output_type": "stream",
     "text": [
      "\u001b[32m\u001b[1m Activating\u001b[22m\u001b[39m environment at `~/.julia/environments/rad_transfer/Project.toml`\n"
     ]
    }
   ],
   "source": [
    "using Pkg\n",
    "Pkg.activate(\"rad_transfer\"; shared=true)\n",
    "using RadiativeTransfer\n",
    "using RadiativeTransfer.CrossSection\n",
    "using Pkg.Artifacts"
   ]
  },
  {
   "cell_type": "code",
   "execution_count": 5,
   "metadata": {},
   "outputs": [],
   "source": [
    "# fetch('H2O_S',1,1,xmin,xmax)\n",
    "# fetch('CO2_S',2,1,xmin,xmax)\n",
    "# fetch('CH4_S',6,1,xmin,xmax)"
   ]
  },
  {
   "cell_type": "code",
   "execution_count": 5,
   "metadata": {},
   "outputs": [
    {
     "data": {
      "text/plain": [
       "HitranTable{Float64}\n",
       "  mol: Array{Int64}((19866,)) [2, 2, 2, 2, 2, 2, 2, 2, 2, 2  …  2, 2, 2, 2, 2, 2, 2, 2, 2, 2]\n",
       "  iso: Array{Int64}((19866,)) [1, 1, 4, 5, 3, 5, 1, 4, 4, 4  …  1, 1, 1, 2, 1, 2, 1, 2, 3, 3]\n",
       "  νᵢ: Array{Float64}((19866,)) [6000.001059, 6000.011794, 6000.011953, 6000.019062, 6000.044616, 6000.057724, 6000.114139, 6000.117638, 6000.123066, 6000.165915  …  6399.806318, 6399.842166, 6399.844279, 6399.860316, 6399.884121, 6399.928773, 6399.94153, 6399.944816, 6399.985054, 6399.985107]\n",
       "  Sᵢ: Array{Float64}((19866,)) [6.751e-30, 1.245e-29, 7.931e-30, 1.011e-30, 5.14e-27, 1.218e-28, 3.257e-29, 2.609e-29, 7.5e-30, 2.112e-29  …  5.762e-27, 1.683e-29, 2.315e-30, 6.76e-28, 6.653e-29, 2.34e-30, 1.979e-30, 1.67e-28, 2.609e-30, 4.972e-28]\n",
       "  Aᵢ: Array{Float64}((19866,)) [6.462e-6, 4.307e-6, 0.0003865, 0.01484, 0.001285, 0.004793, 0.001165, 0.001508, 0.000396, 0.00147  …  2.483e-6, 9.394e-5, 2.481e-5, 0.001838, 1.023e-5, 0.0001116, 0.006716, 8.518e-5, 2.017e-5, 0.0004003]\n",
       "  γ_air: Array{Float64}((19866,)) [0.0687, 0.0696, 0.0689, 0.0796, 0.0829, 0.0692, 0.0729, 0.0687, 0.0688, 0.0685  …  0.077, 0.0741, 0.0693, 0.0883, 0.0677, 0.069, 0.0626, 0.0676, 0.084, 0.0682]\n",
       "  γ_self: Array{Float64}((19866,)) [0.087, 0.093, 0.09, 0.106, 0.11, 0.088, 0.1, 0.088, 0.089, 0.086  …  0.104, 0.101, 0.091, 0.118, 0.077, 0.09, 0.066, 0.076, 0.112, 0.084]\n",
       "  E″: Array{Float64}((19866,)) [1852.3466, 1602.3763, 1017.659, 1399.6864, 26.5087, 388.6677, 2496.2373, 1065.4584, 1040.6033, 1115.5967  …  81.9401, 2066.4099, 2296.6069, 650.8257, 1512.6365, 1685.606, 3682.5068, 843.0701, 683.0148, 517.4328]\n",
       "  n_air: Array{Float64}((19866,)) [0.76, 0.74, 0.75, 0.69, 0.72, 0.75, 0.7, 0.76, 0.76, 0.76  …  0.69, 0.7, 0.75, 0.78, 0.75, 0.75, 0.67, 0.74, 0.73, 0.76]\n",
       "  δ_air: Array{Float64}((19866,)) [-0.006759, -0.007243, -0.007173, -0.00584, -0.00518, -0.00661, -0.006815, -0.007323, -0.007187, -0.007345  …  -0.005709, -0.007266, -0.00787, -0.004688, -0.006921, -0.007869, -0.008896, -0.008143, -0.005433, -0.007371]\n",
       "  global_upper_quanta: Array{String}((19866,))\n",
       "  global_lower_quanta: Array{String}((19866,))\n",
       "  local_upper_quanta: Array{String}((19866,))\n",
       "  local_lower_quanta: Array{String}((19866,))\n",
       "  ierr: Array{String}((19866,))\n",
       "  iref: Array{String}((19866,))\n",
       "  line_mixing_flag: Array{String}((19866,))\n",
       "  g′: Array{Float64}((19866,)) [67.0, 55.0, 378.0, 46.0, 19.0, 126.0, 41.0, 402.0, 390.0, 426.0  …  31.0, 37.0, 59.0, 14.0, 91.0, 122.0, 157.0, 190.0, 17.0, 73.0]\n",
       "  g″: Array{Float64}((19866,)) [69.0, 57.0, 366.0, 50.0, 17.0, 130.0, 39.0, 390.0, 378.0, 414.0  …  29.0, 37.0, 61.0, 10.0, 93.0, 126.0, 155.0, 186.0, 15.0, 75.0]\n"
      ]
     },
     "execution_count": 5,
     "metadata": {},
     "output_type": "execute_result"
    }
   ],
   "source": [
    "hitran_data_CO2 = read_hitran(\"hitran_molec_id_2_CO2.tar\", mol=2, iso=-1, ν_min=6000, ν_max=6400)"
   ]
  },
  {
   "cell_type": "code",
   "execution_count": 3,
   "metadata": {},
   "outputs": [
    {
     "ename": "UndefVarError",
     "evalue": "UndefVarError: hitran_data_CO2 not defined",
     "output_type": "error",
     "traceback": [
      "UndefVarError: hitran_data_CO2 not defined",
      "",
      "Stacktrace:",
      " [1] top-level scope at In[3]:1"
     ]
    }
   ],
   "source": [
    "hitran_data_CO2"
   ]
  },
  {
   "cell_type": "code",
   "execution_count": null,
   "metadata": {},
   "outputs": [],
   "source": []
  },
  {
   "cell_type": "code",
   "execution_count": 3,
   "metadata": {},
   "outputs": [
    {
     "ename": "UndefVarError",
     "evalue": "UndefVarError: hitran_data not defined",
     "output_type": "error",
     "traceback": [
      "UndefVarError: hitran_data not defined",
      "",
      "Stacktrace:",
      " [1] top-level scope at In[3]:1"
     ]
    }
   ],
   "source": [
    "model_voigt_GPU = make_hitran_model(hitran_data, Voigt(), architecture=Architectures.GPU())\n"
   ]
  }
 ],
 "metadata": {
  "kernelspec": {
   "display_name": "Julia 1.4.2",
   "language": "julia",
   "name": "julia-1.4"
  },
  "language_info": {
   "file_extension": ".jl",
   "mimetype": "application/julia",
   "name": "julia",
   "version": "1.4.2"
  }
 },
 "nbformat": 4,
 "nbformat_minor": 4
}
