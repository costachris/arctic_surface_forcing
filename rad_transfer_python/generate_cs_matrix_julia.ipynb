{
 "cells": [
  {
   "cell_type": "code",
   "execution_count": 1,
   "metadata": {},
   "outputs": [
    {
     "name": "stderr",
     "output_type": "stream",
     "text": [
      "\u001b[32m\u001b[1m Activating\u001b[22m\u001b[39m environment at `~/.julia/environments/rad_transfer/Project.toml`\n"
     ]
    }
   ],
   "source": [
    "using Pkg\n",
    "Pkg.activate(\"rad_transfer\"; shared=true)\n",
    "using RadiativeTransfer\n",
    "using RadiativeTransfer.CrossSection\n",
    "using Pkg.Artifacts\n"
   ]
  },
  {
   "cell_type": "code",
   "execution_count": 18,
   "metadata": {},
   "outputs": [],
   "source": [
    "using NetCDF\n",
    "using NCDatasets"
   ]
  },
  {
   "cell_type": "code",
   "execution_count": 12,
   "metadata": {},
   "outputs": [
    {
     "data": {
      "text/plain": [
       "\"/export/data2/groupMembers/cchristo/reanalysis_3d/merra2/2015/01/MERRA2_400.tavg3_3d_asm_Nv.20150101.nc4\""
      ]
     },
     "execution_count": 12,
     "metadata": {},
     "output_type": "execute_result"
    }
   ],
   "source": [
    "reanalysis_file_path = \"/export/data2/groupMembers/cchristo/reanalysis_3d/merra2/2015/01/MERRA2_400.tavg3_3d_asm_Nv.20150101.nc4\""
   ]
  },
  {
   "cell_type": "code",
   "execution_count": 66,
   "metadata": {},
   "outputs": [
    {
     "data": {
      "text/plain": [
       "(576, 361, 72, 8)"
      ]
     },
     "execution_count": 66,
     "metadata": {},
     "output_type": "execute_result"
    }
   ],
   "source": [
    "size(T)"
   ]
  },
  {
   "cell_type": "code",
   "execution_count": 67,
   "metadata": {},
   "outputs": [
    {
     "data": {
      "text/plain": [
       "(576, 361, 72, 8)"
      ]
     },
     "execution_count": 67,
     "metadata": {},
     "output_type": "execute_result"
    }
   ],
   "source": [
    "# ds = ncread(reanalysis_file_path)\n",
    "ds = Dataset(reanalysis_file_path)\n",
    "\n",
    "times = ds[\"time\"][:] \n",
    "lats = ds[\"lat\"][:]\n",
    "lons = ds[\"lon\"][:]\n",
    "T = ds[\"T\"][:]\n",
    "P = ds[\"PL\"][:]\n",
    "# (lon, lat, z, time)\n",
    "var_array_sizes = size(T)\n",
    "\n"
   ]
  },
  {
   "cell_type": "code",
   "execution_count": null,
   "metadata": {},
   "outputs": [],
   "source": []
  },
  {
   "cell_type": "code",
   "execution_count": 81,
   "metadata": {},
   "outputs": [
    {
     "data": {
      "text/plain": [
       "1"
      ]
     },
     "execution_count": 81,
     "metadata": {},
     "output_type": "execute_result"
    }
   ],
   "source": [
    "# ncinfo(reanalysis_file_path)\n",
    "desired_lat = 72.5796\n",
    "desired_lon = -38.4588\n",
    "\n",
    "# find index of nearest gridcell\n",
    "lat_ind = argmin(broadcast(abs, lats .- desired_lat))\n",
    "lon_ind = argmin(broadcast(abs, lons .- desired_lon))\n",
    "\n",
    "# set time ind\n",
    "time_ind = 1"
   ]
  },
  {
   "cell_type": "code",
   "execution_count": 83,
   "metadata": {},
   "outputs": [
    {
     "data": {
      "text/plain": [
       "72-element Array{Union{Missing, Float32},1}:\n",
       " 202.64839f0\n",
       " 199.50938f0\n",
       " 202.49763f0\n",
       " 209.20523f0\n",
       " 216.67682f0\n",
       " 222.78944f0\n",
       " 229.02167f0\n",
       " 232.51422f0\n",
       " 235.90204f0\n",
       " 240.63377f0\n",
       " 245.91953f0\n",
       " 252.45142f0\n",
       " 259.57852f0\n",
       "   ⋮\n",
       " 280.10458f0\n",
       " 279.96127f0\n",
       " 279.77438f0\n",
       " 279.4105f0\n",
       " 278.9375f0\n",
       " 278.70837f0\n",
       " 278.9389f0\n",
       " 279.52094f0\n",
       " 280.2864f0\n",
       " 280.83716f0\n",
       " 281.77667f0\n",
       " 279.28973f0"
      ]
     },
     "execution_count": 83,
     "metadata": {},
     "output_type": "execute_result"
    }
   ],
   "source": [
    "T_prof = T[lat_ind,lon_ind, :,time_ind]\n",
    "P_prof = P[]\n"
   ]
  },
  {
   "cell_type": "code",
   "execution_count": 77,
   "metadata": {},
   "outputs": [
    {
     "data": {
      "text/plain": [
       "(72, 8)"
      ]
     },
     "execution_count": 77,
     "metadata": {},
     "output_type": "execute_result"
    }
   ],
   "source": [
    "size(T_prof)"
   ]
  },
  {
   "cell_type": "code",
   "execution_count": 5,
   "metadata": {},
   "outputs": [],
   "source": [
    "# fetch('H2O_S',1,1,xmin,xmax)\n",
    "# fetch('CO2_S',2,1,xmin,xmax)\n",
    "# fetch('CH4_S',6,1,xmin,xmax)"
   ]
  },
  {
   "cell_type": "markdown",
   "metadata": {},
   "source": [
    "## Open Profile"
   ]
  },
  {
   "cell_type": "code",
   "execution_count": null,
   "metadata": {},
   "outputs": [],
   "source": []
  },
  {
   "cell_type": "code",
   "execution_count": null,
   "metadata": {},
   "outputs": [],
   "source": [
    "hitran_data_CO2 = read_hitran(\"hitran_molec_id_2_CO2.tar\", mol=2, iso=1, ν_min=400, ν_max=2100)\n",
    "hitran_data_H2O = read_hitran(\"hitran_molec_id_1_H2O.tar\", mol=1, iso=1, ν_min=400, ν_max=2100)\n",
    "hitran_data_CH4 = read_hitran(\"hitran_molec_id_6_CH4.tar\", mol=6, iso=1, ν_min=400, ν_max=2100)"
   ]
  },
  {
   "cell_type": "code",
   "execution_count": 3,
   "metadata": {},
   "outputs": [
    {
     "ename": "UndefVarError",
     "evalue": "UndefVarError: hitran_data_CO2 not defined",
     "output_type": "error",
     "traceback": [
      "UndefVarError: hitran_data_CO2 not defined",
      "",
      "Stacktrace:",
      " [1] top-level scope at In[3]:1"
     ]
    }
   ],
   "source": [
    "hitran_data_CO2"
   ]
  },
  {
   "cell_type": "code",
   "execution_count": null,
   "metadata": {},
   "outputs": [],
   "source": []
  },
  {
   "cell_type": "code",
   "execution_count": 3,
   "metadata": {},
   "outputs": [
    {
     "ename": "UndefVarError",
     "evalue": "UndefVarError: hitran_data not defined",
     "output_type": "error",
     "traceback": [
      "UndefVarError: hitran_data not defined",
      "",
      "Stacktrace:",
      " [1] top-level scope at In[3]:1"
     ]
    }
   ],
   "source": [
    "model_voigt_GPU = make_hitran_model(hitran_data, Voigt(), architecture=Architectures.GPU())\n"
   ]
  }
 ],
 "metadata": {
  "kernelspec": {
   "display_name": "Julia 1.4.2",
   "language": "julia",
   "name": "julia-1.4"
  },
  "language_info": {
   "file_extension": ".jl",
   "mimetype": "application/julia",
   "name": "julia",
   "version": "1.4.2"
  }
 },
 "nbformat": 4,
 "nbformat_minor": 4
}
