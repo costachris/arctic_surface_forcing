{
 "cells": [
  {
   "cell_type": "code",
   "execution_count": 2,
   "metadata": {},
   "outputs": [
    {
     "name": "stderr",
     "output_type": "stream",
     "text": [
      "\u001b[32m\u001b[1m Activating\u001b[22m\u001b[39m environment at `~/.julia/environments/rad_transfer/Project.toml`\n",
      "\u001b[32m\u001b[1m Activating\u001b[22m\u001b[39m environment at `~/.julia/environments/rad_transfer/Project.toml`\n"
     ]
    },
    {
     "data": {
      "text/plain": [
       "get_cross_section_matrix (generic function with 1 method)"
      ]
     },
     "execution_count": 2,
     "metadata": {},
     "output_type": "execute_result"
    }
   ],
   "source": [
    "using Pkg\n",
    "Pkg.activate(\"rad_transfer\"; shared=true)\n",
    "using RadiativeTransfer\n",
    "using RadiativeTransfer.CrossSection\n",
    "using KernelAbstractions\n",
    "using ..Architectures\n",
    "using Pkg.Artifacts\n",
    "using ProgressMeter\n",
    "using DataStructures\n",
    "using PyPlot\n",
    "\n",
    "include(\"julia_cs_matrix_helper.jl\")\n",
    "# include(\"/home/cchristo/proj_christian/RadiativeTransfer.jl/src/CrossSection/types.jl\")\n"
   ]
  },
  {
   "cell_type": "code",
   "execution_count": 3,
   "metadata": {},
   "outputs": [
    {
     "name": "stderr",
     "output_type": "stream",
     "text": [
      "\u001b[32m\u001b[1m Activating\u001b[22m\u001b[39m environment at `~/.julia/environments/rad_transfer/Project.toml`\n"
     ]
    },
    {
     "data": {
      "text/plain": [
       "get_cross_section_matrix (generic function with 1 method)"
      ]
     },
     "execution_count": 3,
     "metadata": {},
     "output_type": "execute_result"
    }
   ],
   "source": [
    "include(\"julia_cs_matrix_helper.jl\")"
   ]
  },
  {
   "cell_type": "code",
   "execution_count": 4,
   "metadata": {},
   "outputs": [],
   "source": [
    "using NetCDF\n",
    "using NCDatasets"
   ]
  },
  {
   "cell_type": "code",
   "execution_count": 5,
   "metadata": {},
   "outputs": [
    {
     "data": {
      "text/plain": [
       "\"/export/data2/groupMembers/cchristo/cs_matrices/summit_seasonal/profile_djf_week.nc\""
      ]
     },
     "execution_count": 5,
     "metadata": {},
     "output_type": "execute_result"
    }
   ],
   "source": [
    "# reanalysis_file_path = \"/export/data2/groupMembers/cchristo/reanalysis_3d/merra2/2015/01/MERRA2_400.tavg3_3d_asm_Nv.20150101.nc4\"\n",
    "ave_reanalysis_file_path = \"/export/data2/groupMembers/cchristo/cs_matrices/summit_seasonal/profile_djf_week.nc\""
   ]
  },
  {
   "cell_type": "code",
   "execution_count": 11,
   "metadata": {},
   "outputs": [],
   "source": [
    "# ds = Dataset(ave_reanalysis_file_path)"
   ]
  },
  {
   "cell_type": "markdown",
   "metadata": {},
   "source": [
    "## Open Profile and Extract Profile for a Time"
   ]
  },
  {
   "cell_type": "code",
   "execution_count": 6,
   "metadata": {},
   "outputs": [
    {
     "data": {
      "text/plain": [
       "72-element Array{Float32,1}:\n",
       "   0.0150000015\n",
       "   0.02635001\n",
       "   0.040142514\n",
       "   0.05679252\n",
       "   0.077672526\n",
       "   0.10452403\n",
       "   0.13959901\n",
       "   0.18542203\n",
       "   0.24493755\n",
       "   0.32178348\n",
       "   0.4204236\n",
       "   0.54629266\n",
       "   0.70595664\n",
       "   ⋮\n",
       " 563.6065\n",
       " 571.22\n",
       " 578.80804\n",
       " 586.39575\n",
       " 593.98065\n",
       " 601.5559\n",
       " 609.1061\n",
       " 616.6516\n",
       " 624.19116\n",
       " 631.7227\n",
       " 639.24445\n",
       " 647.8926"
      ]
     },
     "execution_count": 6,
     "metadata": {},
     "output_type": "execute_result"
    }
   ],
   "source": [
    "# ds = ncread(reanalysis_file_path)\n",
    "ds = Dataset(ave_reanalysis_file_path)\n",
    "\n",
    "# times = ds[\"time\"][:] \n",
    "lats = ds[\"lat\"][:]\n",
    "lons = ds[\"lon\"][:]\n",
    "T = ds[\"T\"][:]\n",
    "P = ds[\"PL\"][:]\n",
    "# (lon, lat, z, time)\n",
    "var_array_sizes = size(T)\n",
    "\n",
    "T_prof = T[:]\n",
    "P_prof = P[:] / 100"
   ]
  },
  {
   "cell_type": "code",
   "execution_count": 178,
   "metadata": {},
   "outputs": [],
   "source": [
    "# P_prof\n"
   ]
  },
  {
   "cell_type": "code",
   "execution_count": 5,
   "metadata": {},
   "outputs": [
    {
     "data": {
      "text/plain": [
       "72-element Array{Union{Missing, Float32},1}:\n",
       "     1.5000001f0\n",
       "     2.6350012f0\n",
       "     4.014251f0\n",
       "     5.679252f0\n",
       "     7.7672524f0\n",
       "    10.452404f0\n",
       "    13.959901f0\n",
       "    18.542204f0\n",
       "    24.493753f0\n",
       "    32.17835f0\n",
       "    42.04236f0\n",
       "    54.62927f0\n",
       "    70.59567f0\n",
       "     ⋮\n",
       " 79832.53f0\n",
       " 81252.28f0\n",
       " 82670.94f0\n",
       " 84089.055f0\n",
       " 85507.18f0\n",
       " 86924.695f0\n",
       " 88340.86f0\n",
       " 89760.266f0\n",
       " 91180.53f0\n",
       " 92595.586f0\n",
       " 94014.875f0\n",
       " 95438.945f0"
      ]
     },
     "execution_count": 5,
     "metadata": {},
     "output_type": "execute_result"
    }
   ],
   "source": [
    "# ncinfo(reanalysis_file_path)\n",
    "desired_lat = 72.5796\n",
    "desired_lon = -38.4588\n",
    "\n",
    "# find index of nearest gridcell\n",
    "lat_ind = argmin(broadcast(abs, lats .- desired_lat))\n",
    "lon_ind = argmin(broadcast(abs, lons .- desired_lon))\n",
    "\n",
    "# set time ind\n",
    "time_ind = 1\n",
    "\n",
    "T_prof = T[lat_ind,lon_ind, :,time_ind]\n",
    "P_prof = P[lat_ind,lon_ind, :,time_ind]"
   ]
  },
  {
   "cell_type": "code",
   "execution_count": 5,
   "metadata": {},
   "outputs": [],
   "source": [
    "# fetch('H2O_S',1,1,xmin,xmax)\n",
    "# fetch('CO2_S',2,1,xmin,xmax)\n",
    "# fetch('CH4_S',6,1,xmin,xmax)"
   ]
  },
  {
   "cell_type": "code",
   "execution_count": 7,
   "metadata": {},
   "outputs": [
    {
     "data": {
      "text/plain": [
       "HitranTable{Float64}\n",
       "  mol: Array{Int64}((58893,)) [6, 6, 6, 6, 6, 6, 6, 6, 6, 6  …  6, 6, 6, 6, 6, 6, 6, 6, 6, 6]\n",
       "  iso: Array{Int64}((58893,)) [1, 1, 1, 1, 1, 1, 1, 1, 1, 1  …  1, 1, 1, 1, 1, 1, 1, 1, 1, 1]\n",
       "  νᵢ: Array{Float64}((58893,)) [400.416314, 400.500621, 400.515163, 400.545478, 400.783489, 400.847081, 400.941244, 401.101872, 401.494615, 401.738456  …  2098.001522, 2098.224403, 2098.558601, 2099.174328, 2099.274806, 2099.389535, 2099.440549, 2099.731408, 2099.87477, 2099.931237]\n",
       "  Sᵢ: Array{Float64}((58893,)) [2.055e-30, 2.836e-30, 2.834e-30, 3.576e-30, 6.418e-30, 1.242e-30, 2.422e-30, 1.379e-30, 1.891e-30, 1.795e-30  …  8.137e-28, 1.592e-27, 7.599e-29, 9.206e-29, 3.743e-29, 6.561e-29, 5.98e-29, 7.884e-28, 5.626e-28, 2.94e-29]\n",
       "  Aᵢ: Array{Float64}((58893,)) [1.727e-7, 1.481e-5, 1.568e-6, 1.997e-7, 6.715e-7, 1.102e-8, 2.125e-8, 1.21e-8, 1.572e-6, 0.001561  …  0.04187, 0.04916, 0.003913, 0.004716, 0.001916, 0.003381, 0.003082, 0.04041, 0.04324, 0.001502]\n",
       "  γ_air: Array{Float64}((58893,)) [0.049, 0.046, 0.048, 0.049, 0.049, 0.053, 0.053, 0.053, 0.048, 0.042  …  0.045, 0.045, 0.045, 0.045, 0.045, 0.045, 0.045, 0.045, 0.045, 0.045]\n",
       "  γ_self: Array{Float64}((58893,)) [0.065, 0.058, 0.061, 0.065, 0.065, 0.07, 0.07, 0.07, 0.061, 0.056  …  0.05, 0.05, 0.05, 0.05, 0.05, 0.05, 0.05, 0.05, 0.05, 0.05]\n",
       "  E″: Array{Float64}((58893,)) [2256.0856, 3375.1279, 2765.8529, 2255.3192, 2397.9806, 1828.8268, 1826.4943, 1826.3381, 2765.2675, 4356.3687  …  3109.281, 3109.2683, 3109.281, 3108.1082, 3107.9065, 3109.2932, 3109.281, 3108.1082, 3108.0386, 3107.3513]\n",
       "  n_air: Array{Float64}((58893,)) [0.63, 0.59, 0.61, 0.63, 0.62, 0.64, 0.64, 0.64, 0.61, 0.57  …  0.57, 0.57, 0.57, 0.57, 0.57, 0.57, 0.57, 0.57, 0.57, 0.57]\n",
       "  δ_air: Array{Float64}((58893,)) [-0.000801, -0.000801, -0.000801, -0.000801, -0.000802, 0.0, 0.0, 0.0, -0.000803, -0.000803  …  -0.0041, -0.0041, -0.0041, -0.0041, -0.0041, -0.0041, -0.0041, -0.0041, -0.0041, -0.0041]\n",
       "  global_upper_quanta: Array{String}((58893,))\n",
       "  global_lower_quanta: Array{String}((58893,))\n",
       "  local_upper_quanta: Array{String}((58893,))\n",
       "  local_lower_quanta: Array{String}((58893,))\n",
       "  ierr: Array{String}((58893,))\n",
       "  iref: Array{String}((58893,))\n",
       "  line_mixing_flag: Array{String}((58893,))\n",
       "  g′: Array{Float64}((58893,)) [58.0, 215.0, 105.0, 87.0, 93.0, 69.0, 69.0, 69.0, 70.0, 153.0  …  141.0, 235.0, 141.0, 141.0, 141.0, 141.0, 141.0, 141.0, 94.0, 141.0]\n",
       "  g″: Array{Float64}((58893,)) [54.0, 205.0, 99.0, 81.0, 87.0, 63.0, 63.0, 63.0, 66.0, 147.0  …  147.0, 245.0, 147.0, 147.0, 147.0, 147.0, 147.0, 147.0, 98.0, 147.0]\n"
      ]
     },
     "execution_count": 7,
     "metadata": {},
     "output_type": "execute_result"
    }
   ],
   "source": [
    "hitran_data_CO2 = read_hitran(\"hitran_molec_id_2_CO2.tar\", mol=2, iso=1, ν_min=400, ν_max=2100)\n",
    "hitran_data_H2O = read_hitran(\"hitran_molec_id_1_H2O.tar\", mol=1, iso=1, ν_min=400, ν_max=2100)\n",
    "hitran_data_CH4 = read_hitran(\"hitran_molec_id_6_CH4.tar\", mol=6, iso=1, ν_min=400, ν_max=2100)"
   ]
  },
  {
   "cell_type": "code",
   "execution_count": 10,
   "metadata": {},
   "outputs": [
    {
     "ename": "MethodError",
     "evalue": "MethodError: no method matching array_type(::RadiativeTransfer.Architectures.GPU)\nClosest candidates are:\n  array_type(!Matched::RadiativeTransfer.Architectures.CPU) at /home/cchristo/.julia/packages/RadiativeTransfer/oaa4w/src/Architectures.jl:46",
     "output_type": "error",
     "traceback": [
      "MethodError: no method matching array_type(::RadiativeTransfer.Architectures.GPU)\nClosest candidates are:\n  array_type(!Matched::RadiativeTransfer.Architectures.CPU) at /home/cchristo/.julia/packages/RadiativeTransfer/oaa4w/src/Architectures.jl:46",
      "",
      "Stacktrace:",
      " [1] compute_absorption_cross_section(::HitranTable{Float64}, ::Voigt, ::Array{Float64,1}, ::Float32, ::Float32; wavelength_flag::Bool, wing_cutoff::Int64, vmr::Int64, CEF::ErfcErrorFunction, architecture::RadiativeTransfer.Architectures.GPU) at /home/cchristo/.julia/packages/RadiativeTransfer/oaa4w/src/CrossSection/absorption_cross_section.jl:27",
      " [2] top-level scope at In[10]:1"
     ]
    }
   ],
   "source": [
    "compute_absorption_cross_section(hitran_data_CO2, Voigt(), collect(ν_grid), p_grid[10], t_grid[10], architecture=Architectures.GPU())"
   ]
  },
  {
   "cell_type": "code",
   "execution_count": 15,
   "metadata": {},
   "outputs": [
    {
     "data": {
      "text/plain": [
       "170000"
      ]
     },
     "execution_count": 15,
     "metadata": {},
     "output_type": "execute_result"
    }
   ],
   "source": [
    "# Architectures.GPU()\n",
    "length(collect(ν_grid))"
   ]
  },
  {
   "cell_type": "code",
   "execution_count": 17,
   "metadata": {},
   "outputs": [
    {
     "name": "stdout",
     "output_type": "stream",
     "text": [
      "  0.827135 seconds (371.60 k allocations: 20.741 MiB)\n"
     ]
    },
    {
     "data": {
      "text/plain": [
       "170000-element Array{Float64,1}:\n",
       " 8.105992926430678e-25\n",
       " 8.848973497721656e-25\n",
       " 9.702326170683607e-25\n",
       " 1.068939663360468e-24\n",
       " 1.184009316235715e-24\n",
       " 1.3193240576085501e-24\n",
       " 1.4799986191169247e-24\n",
       " 1.6728841026729157e-24\n",
       " 1.9073372896863975e-24\n",
       " 2.1964775731124944e-24\n",
       " 2.560880442422643e-24\n",
       " 3.025535929744301e-24\n",
       " 3.624131385750509e-24\n",
       " ⋮\n",
       " 4.771445786877706e-28\n",
       " 5.706441176637313e-28\n",
       " 7.167258587007436e-28\n",
       " 9.48541734518984e-28\n",
       " 1.3400876263739417e-27\n",
       " 2.0739346008278435e-27\n",
       " 3.703067861034713e-27\n",
       " 8.652034457280058e-27\n",
       " 6.708046843865339e-26\n",
       " 4.931815385326592e-23\n",
       " 3.6217607924350535e-26\n",
       " 7.648519460231518e-27"
      ]
     },
     "execution_count": 17,
     "metadata": {},
     "output_type": "execute_result"
    }
   ],
   "source": [
    "@time compute_absorption_cross_section(hitran_data_H2O, Voigt(), collect(ν_grid), p_grid[10], t_grid[10], \n",
    "    wing_cutoff = 10, architecture=Architectures.CPU())"
   ]
  },
  {
   "cell_type": "code",
   "execution_count": null,
   "metadata": {},
   "outputs": [
    {
     "name": "stderr",
     "output_type": "stream",
     "text": [
      "\u001b[32mComputing Cross Sections for Interpolation... 20%|█▎    |  ETA: 0:03:14\u001b[39m"
     ]
    }
   ],
   "source": [
    "@time begin\n",
    "model_interp = make_interpolation_model(hitran_data_CO2, Voigt(), ν_grid, pressures, temperatures)\n",
    "    \n",
    "end"
   ]
  },
  {
   "cell_type": "code",
   "execution_count": 9,
   "metadata": {},
   "outputs": [
    {
     "data": {
      "text/plain": [
       "72-element Array{Union{Missing, Float32},1}:\n",
       " 202.94925f0\n",
       " 207.71889f0\n",
       " 217.35593f0\n",
       " 226.02596f0\n",
       " 231.42293f0\n",
       " 236.14986f0\n",
       " 241.20515f0\n",
       " 245.34897f0\n",
       " 247.8092f0\n",
       " 250.66423f0\n",
       " 255.77087f0\n",
       " 259.24652f0\n",
       " 263.36966f0\n",
       "   ⋮\n",
       " 240.66661f0\n",
       " 241.12915f0\n",
       " 241.60477f0\n",
       " 242.0822f0\n",
       " 242.54677f0\n",
       " 242.99382f0\n",
       " 243.38539f0\n",
       " 243.70296f0\n",
       " 244.0438f0\n",
       " 243.74142f0\n",
       " 244.11185f0\n",
       " 237.36955f0"
      ]
     },
     "execution_count": 9,
     "metadata": {},
     "output_type": "execute_result"
    }
   ],
   "source": [
    "ν_grid = 400:0.01:2099.99\n",
    "p_grid = P_prof[:]\n",
    "t_grid = T_prof[:]"
   ]
  },
  {
   "cell_type": "code",
   "execution_count": 85,
   "metadata": {},
   "outputs": [],
   "source": [
    "# @time begin\n",
    "# CO2_cs_matrix = get_cross_section_matrix(hitran_data_CO2, ν_grid, p_grid, t_grid)\n",
    "# end"
   ]
  },
  {
   "cell_type": "code",
   "execution_count": null,
   "metadata": {},
   "outputs": [
    {
     "name": "stderr",
     "output_type": "stream",
     "text": [
      "\u001b[32mComputing Cross Sections for Interpolation...100%|██████| Time: 0:07:27\u001b[39m\n",
      "\u001b[32mComputing Cross Sections for Interpolation...100%|██████| Time: 0:02:04\u001b[39m\n",
      "\u001b[32mComputing Cross Sections for Interpolation... 54%|███▎  |  ETA: 0:05:26\u001b[39m"
     ]
    }
   ],
   "source": [
    "CO2_cs_matrix = get_cross_section_matrix(hitran_data_CO2, ν_grid, p_grid, t_grid)\n",
    "H2O_cs_matrix = get_cross_section_matrix(hitran_data_H2O, ν_grid, p_grid, t_grid)\n",
    "CH4_cs_matrix = get_cross_section_matrix(hitran_data_CH4, ν_grid, p_grid, t_grid)"
   ]
  },
  {
   "cell_type": "code",
   "execution_count": 141,
   "metadata": {},
   "outputs": [
    {
     "data": {
      "text/plain": [
       "\"/export/data2/groupMembers/cchristo/cs_matrices/summit_seasonal/cs_matrix_djf_week_julia.nc\""
      ]
     },
     "execution_count": 141,
     "metadata": {},
     "output_type": "execute_result"
    }
   ],
   "source": [
    "out_file_path = \"/export/data2/groupMembers/cchristo/cs_matrices/summit_seasonal/cs_matrix_djf_week_julia.nc\""
   ]
  },
  {
   "cell_type": "code",
   "execution_count": 142,
   "metadata": {},
   "outputs": [
    {
     "data": {
      "text/plain": [
       "\u001b[31mNCDataset: /export/data2/groupMembers/cchristo/cs_matrices/summit_seasonal/cs_matrix_djf_week_julia.nc\u001b[39m\n",
       "Group: /\n",
       "\n"
      ]
     },
     "execution_count": 142,
     "metadata": {},
     "output_type": "execute_result"
    }
   ],
   "source": [
    "ds = Dataset(out_file_path,\"c\")"
   ]
  },
  {
   "cell_type": "code",
   "execution_count": 143,
   "metadata": {},
   "outputs": [
    {
     "data": {
      "text/plain": [
       "closed NetCDF NCDataset"
      ]
     },
     "execution_count": 143,
     "metadata": {},
     "output_type": "execute_result"
    }
   ],
   "source": [
    "nu_dim = defDim(ds,\"nu\", size(ν_grid)[1])\n",
    "pres_dim = defDim(ds,\"pressure\", size(p_grid)[1])\n",
    "\n",
    "\n",
    "\n",
    "# Define the variables temperature with the attribute units\n",
    "CO2_cs_matrix_var = defVar(ds,\"cs_matrix_co2\", Float64, (\"pressure\", \"nu\"))\n",
    "H2O_cs_matrix_var = defVar(ds, \"cs_matrix_h2o\", Float64, (\"pressure\", \"nu\"))\n",
    "CH4_cs_matrix_var = defVar(ds,\"cs_matrix_ch4\", Float64, (\"pressure\", \"nu\"))\n",
    "# nu_coord = defVar(ds,\"nu\", Float64, (\"nu\"))\n",
    "# pres_coord = defVar(ds,\"pressure\", Float64, (\"pressure\"))\n",
    "# nu_coord = coord(ds,\"nu\", Float64, (\"nu\"))\n",
    "\n",
    "CO2_cs_matrix_var = CO2_cs_matrix\n",
    "H2O_cs_matrix_var = H2O_cs_matrix\n",
    "CH4_cs_matrix_var = CH4_cs_matrix\n",
    "\n",
    "# nu_coord = collect(ν_grid)\n",
    "# pres_coord = p_grid\n",
    "\n",
    "\n",
    "close(ds)"
   ]
  },
  {
   "cell_type": "code",
   "execution_count": 184,
   "metadata": {},
   "outputs": [
    {
     "data": {
      "text/plain": [
       "10.0"
      ]
     },
     "metadata": {},
     "output_type": "display_data"
    }
   ],
   "source": []
  },
  {
   "cell_type": "code",
   "execution_count": 151,
   "metadata": {},
   "outputs": [
    {
     "data": {
      "text/plain": [
       "(1.2424183217493597e-16, CartesianIndex(1, 26801))"
      ]
     },
     "execution_count": 151,
     "metadata": {},
     "output_type": "execute_result"
    }
   ],
   "source": [
    "# broadcast(max,CO2_cs_matrix)\n",
    "findmax(CO2_cs_matrix)"
   ]
  },
  {
   "cell_type": "code",
   "execution_count": 152,
   "metadata": {},
   "outputs": [
    {
     "data": {
      "text/plain": [
       "(0.0, CartesianIndex(2, 1))"
      ]
     },
     "execution_count": 152,
     "metadata": {},
     "output_type": "execute_result"
    }
   ],
   "source": [
    "findmin(CO2_cs_matrix)"
   ]
  },
  {
   "cell_type": "code",
   "execution_count": null,
   "metadata": {},
   "outputs": [],
   "source": []
  },
  {
   "cell_type": "code",
   "execution_count": 180,
   "metadata": {},
   "outputs": [
    {
     "data": {
      "image/png": "[encoded data removed]",
      "text/plain": [
       "Figure(PyObject <Figure size 640x480 with 2 Axes>)"
      ]
     },
     "metadata": {},
     "output_type": "display_data"
    },
    {
     "data": {
      "text/plain": [
       "PyObject <matplotlib.colorbar.Colorbar object at 0x7fca1a22c0b8>"
      ]
     },
     "execution_count": 180,
     "metadata": {},
     "output_type": "execute_result"
    }
   ],
   "source": [
    "pcolormesh(H2O_cs_matrix, vmax = 10^-100)\n",
    "colorbar()"
   ]
  }
 ],
 "metadata": {
  "kernelspec": {
   "display_name": "Julia 1.4.2",
   "language": "julia",
   "name": "julia-1.4"
  },
  "language_info": {
   "file_extension": ".jl",
   "mimetype": "application/julia",
   "name": "julia",
   "version": "1.4.2"
  }
 },
 "nbformat": 4,
 "nbformat_minor": 4
}
