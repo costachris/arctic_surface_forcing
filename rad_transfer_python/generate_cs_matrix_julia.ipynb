{
 "cells": [
  {
   "cell_type": "code",
   "execution_count": 6,
   "metadata": {},
   "outputs": [
    {
     "name": "stderr",
     "output_type": "stream",
     "text": [
      "\u001b[32m\u001b[1m Activating\u001b[22m\u001b[39m environment at `~/.julia/environments/rad_transfer/Project.toml`\n",
      "\u001b[32m\u001b[1m Activating\u001b[22m\u001b[39m environment at `~/.julia/environments/rad_transfer/Project.toml`\n"
     ]
    },
    {
     "data": {
      "text/plain": [
       "get_cross_section_matrix (generic function with 1 method)"
      ]
     },
     "execution_count": 6,
     "metadata": {},
     "output_type": "execute_result"
    }
   ],
   "source": [
    "using Pkg\n",
    "Pkg.activate(\"rad_transfer\"; shared=true)\n",
    "using RadiativeTransfer\n",
    "using RadiativeTransfer.CrossSection\n",
    "using KernelAbstractions\n",
    "using ..Architectures\n",
    "using Pkg.Artifacts\n",
    "using ProgressMeter\n",
    "using DataStructures\n",
    "using PyPlot\n",
    "using CUDA\n",
    "using Flux\n",
    "using NetCDF\n",
    "using NCDatasets\n",
    "using Dates\n",
    "\n",
    "include(\"julia_cs_matrix_helper.jl\")\n",
    "# include(\"/home/cchristo/proj_christian/RadiativeTransfer.jl/src/CrossSection/types.jl\")\n"
   ]
  },
  {
   "cell_type": "code",
   "execution_count": 7,
   "metadata": {},
   "outputs": [
    {
     "data": {
      "text/plain": [
       "\"/net/fluo/data2/groupMembers/cchristo/profiles/summit_merra/summit_all.nc\""
      ]
     },
     "execution_count": 7,
     "metadata": {},
     "output_type": "execute_result"
    }
   ],
   "source": [
    "# reanalysis_file_path = \"/export/data2/groupMembers/cchristo/reanalysis_3d/merra2/2015/01/MERRA2_400.tavg3_3d_asm_Nv.20150101.nc4\"\n",
    "# fluo\n",
    "# ave_reanalysis_file_path = \"/export/data2/groupMembers/cchristo/cs_matrices/summit_seasonal/profile_djf_week.nc\"\n",
    "\n",
    "# tofu\n",
    "ave_reanalysis_file_path = \"/net/fluo/data2/groupMembers/cchristo/cs_matrices/summit_seasonal/profile_djf_week.nc\"\n",
    "\n",
    "# all profiles - tofu\n",
    "profile_ts_file_path = \"/net/fluo/data2/groupMembers/cchristo/profiles/summit_merra/summit_all.nc\"\n"
   ]
  },
  {
   "cell_type": "code",
   "execution_count": 8,
   "metadata": {},
   "outputs": [],
   "source": [
    "# open hitran tables\n",
    "hitran_data_CO2 = read_hitran(\"hitran_molec_id_2_CO2.tar\", mol=2, iso=1, ν_min=400, ν_max=2100)\n",
    "hitran_data_H2O = read_hitran(\"hitran_molec_id_1_H2O.tar\", mol=1, iso=1, ν_min=400, ν_max=2100)\n",
    "hitran_data_CH4 = read_hitran(\"hitran_molec_id_6_CH4.tar\", mol=6, iso=1, ν_min=400, ν_max=2100)\n",
    "\n",
    "# open profile timeseries\n",
    "ds = Dataset(profile_ts_file_path) ;"
   ]
  },
  {
   "cell_type": "code",
   "execution_count": 30,
   "metadata": {},
   "outputs": [
    {
     "data": {
      "text/plain": [
       "2011-06-07T10:30:00"
      ]
     },
     "execution_count": 30,
     "metadata": {},
     "output_type": "execute_result"
    }
   ],
   "source": [
    "# ds[\"T\"][:,2]\n",
    "# time_ii\n",
    "ds[\"time\"][1260]\n"
   ]
  },
  {
   "cell_type": "code",
   "execution_count": 72,
   "metadata": {},
   "outputs": [
    {
     "data": {
      "text/plain": [
       "1"
      ]
     },
     "metadata": {},
     "output_type": "display_data"
    }
   ],
   "source": [
    "for time_i in 1:1 #length(ds[\"time\"])\n",
    "    display(time_i)\n",
    "    T = ds[\"T\"][:,time_i]\n",
    "    P = ds[\"PL\"][:,time_i]\n",
    "    time_ii = ds[\"time\"][time_i]\n",
    "    # (lon, lat, z, time)\n",
    "    var_array_sizes = size(T)\n",
    "    \n",
    "    # define grids \n",
    "    ν_grid = 400:0.01:2099.99\n",
    "    p_grid = P[:] / 100\n",
    "    t_grid = T[:]\n",
    "    \n",
    "    # compute cs matrix\n",
    "    CO2_cs_matrix_cuda = get_cross_section_matrix(hitran_data_CO2, ν_grid, p_grid, t_grid)\n",
    "    H2O_cs_matrix_cuda = get_cross_section_matrix(hitran_data_H2O, ν_grid, p_grid, t_grid)\n",
    "    CH4_cs_matrix_cuda = get_cross_section_matrix(hitran_data_CH4, ν_grid, p_grid, t_grid)\n",
    "    \n",
    "    # convert to regular array\n",
    "    CO2_cs_matrix = convert(Array, CO2_cs_matrix_cuda)\n",
    "    H2O_cs_matrix = convert(Array, H2O_cs_matrix_cuda)\n",
    "    CH4_cs_matrix = convert(Array, CH4_cs_matrix_cuda)\n",
    "    \n",
    "    \n",
    "#     display(P_prof)\n",
    "#     plot(p_grid)\n",
    "    \n",
    "end"
   ]
  },
  {
   "cell_type": "markdown",
   "metadata": {},
   "source": [
    "## Open Profile and Extract Profile for a Time"
   ]
  },
  {
   "cell_type": "code",
   "execution_count": 49,
   "metadata": {},
   "outputs": [],
   "source": [
    "# # ds = ncread(reanalysis_file_path)\n",
    "# ds = Dataset(ave_reanalysis_file_path)\n",
    "\n",
    "# # times = ds[\"time\"][:] \n",
    "# lats = ds[\"lat\"][:]\n",
    "# lons = ds[\"lon\"][:]\n",
    "# T = ds[\"T\"][:]\n",
    "# P = ds[\"PL\"][:]\n",
    "# # (lon, lat, z, time)\n",
    "# var_array_sizes = size(T)\n",
    "\n",
    "# T_prof = T[:]\n",
    "# P_prof = P[:] / 100"
   ]
  },
  {
   "cell_type": "markdown",
   "metadata": {},
   "source": [
    "# OLD"
   ]
  },
  {
   "cell_type": "code",
   "execution_count": 20,
   "metadata": {},
   "outputs": [
    {
     "data": {
      "text/plain": [
       "1-element Array{Union{Missing, Float32},1}:\n",
       " 1.5000001f0"
      ]
     },
     "execution_count": 20,
     "metadata": {},
     "output_type": "execute_result"
    }
   ],
   "source": [
    "# ncinfo(reanalysis_file_path)\n",
    "desired_lat = 72.5796\n",
    "desired_lon = -38.4588\n",
    "\n",
    "# find index of nearest gridcell\n",
    "lat_ind = argmin(broadcast(abs, lats .- desired_lat))\n",
    "lon_ind = argmin(broadcast(abs, lons .- desired_lon))\n",
    "\n",
    "# set time ind\n",
    "time_ind = 1\n",
    "\n",
    "T_prof = T[lat_ind,lon_ind, :,time_ind]\n",
    "P_prof = P[lat_ind,lon_ind, :,time_ind]"
   ]
  },
  {
   "cell_type": "code",
   "execution_count": 75,
   "metadata": {},
   "outputs": [
    {
     "data": {
      "text/plain": [
       "72-element Array{Float32,1}:\n",
       "   0.0150000015\n",
       "   0.02635001\n",
       "   0.040142514\n",
       "   0.05679252\n",
       "   0.077672526\n",
       "   0.10452403\n",
       "   0.13959901\n",
       "   0.18542203\n",
       "   0.24493755\n",
       "   0.32178348\n",
       "   0.4204236\n",
       "   0.54629266\n",
       "   0.70595664\n",
       "   ⋮\n",
       " 563.6065\n",
       " 571.22\n",
       " 578.80804\n",
       " 586.39575\n",
       " 593.98065\n",
       " 601.5559\n",
       " 609.1061\n",
       " 616.6516\n",
       " 624.19116\n",
       " 631.7227\n",
       " 639.24445\n",
       " 647.8926"
      ]
     },
     "execution_count": 75,
     "metadata": {},
     "output_type": "execute_result"
    }
   ],
   "source": [
    "ds = Dataset(ave_reanalysis_file_path)\n",
    "\n",
    "# times = ds[\"time\"][:] \n",
    "lats = ds[\"lat\"][:]\n",
    "lons = ds[\"lon\"][:]\n",
    "T = ds[\"T\"][:]\n",
    "P = ds[\"PL\"][:]\n",
    "# (lon, lat, z, time)\n",
    "var_array_sizes = size(T)\n",
    "\n",
    "T_prof = T[:]\n",
    "P_prof = P[:] / 100"
   ]
  },
  {
   "cell_type": "code",
   "execution_count": null,
   "metadata": {},
   "outputs": [],
   "source": []
  },
  {
   "cell_type": "code",
   "execution_count": 5,
   "metadata": {},
   "outputs": [],
   "source": [
    "# fetch('H2O_S',1,1,xmin,xmax)\n",
    "# fetch('CO2_S',2,1,xmin,xmax)\n",
    "# fetch('CH4_S',6,1,xmin,xmax)"
   ]
  },
  {
   "cell_type": "code",
   "execution_count": 76,
   "metadata": {},
   "outputs": [
    {
     "data": {
      "text/plain": [
       "HitranTable{Float64}\n",
       "  mol: Array{Int64}((58893,)) [6, 6, 6, 6, 6, 6, 6, 6, 6, 6  …  6, 6, 6, 6, 6, 6, 6, 6, 6, 6]\n",
       "  iso: Array{Int64}((58893,)) [1, 1, 1, 1, 1, 1, 1, 1, 1, 1  …  1, 1, 1, 1, 1, 1, 1, 1, 1, 1]\n",
       "  νᵢ: Array{Float64}((58893,)) [400.416314, 400.500621, 400.515163, 400.545478, 400.783489, 400.847081, 400.941244, 401.101872, 401.494615, 401.738456  …  2098.001522, 2098.224403, 2098.558601, 2099.174328, 2099.274806, 2099.389535, 2099.440549, 2099.731408, 2099.87477, 2099.931237]\n",
       "  Sᵢ: Array{Float64}((58893,)) [2.055e-30, 2.836e-30, 2.834e-30, 3.576e-30, 6.418e-30, 1.242e-30, 2.422e-30, 1.379e-30, 1.891e-30, 1.795e-30  …  8.137e-28, 1.592e-27, 7.599e-29, 9.206e-29, 3.743e-29, 6.561e-29, 5.98e-29, 7.884e-28, 5.626e-28, 2.94e-29]\n",
       "  Aᵢ: Array{Float64}((58893,)) [1.727e-7, 1.481e-5, 1.568e-6, 1.997e-7, 6.715e-7, 1.102e-8, 2.125e-8, 1.21e-8, 1.572e-6, 0.001561  …  0.04187, 0.04916, 0.003913, 0.004716, 0.001916, 0.003381, 0.003082, 0.04041, 0.04324, 0.001502]\n",
       "  γ_air: Array{Float64}((58893,)) [0.049, 0.046, 0.048, 0.049, 0.049, 0.053, 0.053, 0.053, 0.048, 0.042  …  0.045, 0.045, 0.045, 0.045, 0.045, 0.045, 0.045, 0.045, 0.045, 0.045]\n",
       "  γ_self: Array{Float64}((58893,)) [0.065, 0.058, 0.061, 0.065, 0.065, 0.07, 0.07, 0.07, 0.061, 0.056  …  0.05, 0.05, 0.05, 0.05, 0.05, 0.05, 0.05, 0.05, 0.05, 0.05]\n",
       "  E″: Array{Float64}((58893,)) [2256.0856, 3375.1279, 2765.8529, 2255.3192, 2397.9806, 1828.8268, 1826.4943, 1826.3381, 2765.2675, 4356.3687  …  3109.281, 3109.2683, 3109.281, 3108.1082, 3107.9065, 3109.2932, 3109.281, 3108.1082, 3108.0386, 3107.3513]\n",
       "  n_air: Array{Float64}((58893,)) [0.63, 0.59, 0.61, 0.63, 0.62, 0.64, 0.64, 0.64, 0.61, 0.57  …  0.57, 0.57, 0.57, 0.57, 0.57, 0.57, 0.57, 0.57, 0.57, 0.57]\n",
       "  δ_air: Array{Float64}((58893,)) [-0.000801, -0.000801, -0.000801, -0.000801, -0.000802, 0.0, 0.0, 0.0, -0.000803, -0.000803  …  -0.0041, -0.0041, -0.0041, -0.0041, -0.0041, -0.0041, -0.0041, -0.0041, -0.0041, -0.0041]\n",
       "  global_upper_quanta: Array{String}((58893,))\n",
       "  global_lower_quanta: Array{String}((58893,))\n",
       "  local_upper_quanta: Array{String}((58893,))\n",
       "  local_lower_quanta: Array{String}((58893,))\n",
       "  ierr: Array{String}((58893,))\n",
       "  iref: Array{String}((58893,))\n",
       "  line_mixing_flag: Array{String}((58893,))\n",
       "  g′: Array{Float64}((58893,)) [58.0, 215.0, 105.0, 87.0, 93.0, 69.0, 69.0, 69.0, 70.0, 153.0  …  141.0, 235.0, 141.0, 141.0, 141.0, 141.0, 141.0, 141.0, 94.0, 141.0]\n",
       "  g″: Array{Float64}((58893,)) [54.0, 205.0, 99.0, 81.0, 87.0, 63.0, 63.0, 63.0, 66.0, 147.0  …  147.0, 245.0, 147.0, 147.0, 147.0, 147.0, 147.0, 147.0, 98.0, 147.0]\n"
      ]
     },
     "execution_count": 76,
     "metadata": {},
     "output_type": "execute_result"
    }
   ],
   "source": [
    "hitran_data_CO2 = read_hitran(\"hitran_molec_id_2_CO2.tar\", mol=2, iso=1, ν_min=400, ν_max=2100)\n",
    "hitran_data_H2O = read_hitran(\"hitran_molec_id_1_H2O.tar\", mol=1, iso=1, ν_min=400, ν_max=2100)\n",
    "hitran_data_CH4 = read_hitran(\"hitran_molec_id_6_CH4.tar\", mol=6, iso=1, ν_min=400, ν_max=2100)"
   ]
  },
  {
   "cell_type": "code",
   "execution_count": 77,
   "metadata": {},
   "outputs": [],
   "source": [
    "# compute_absorption_cross_section(hitran_data_CO2, Voigt(), \n",
    "#                                 collect(ν_grid), p_grid[10], t_grid[10], \n",
    "#                                 CEF=HumlicekWeidemann32SDErrorFunction(),\n",
    "#                                 architecture=Architectures.GPU())"
   ]
  },
  {
   "cell_type": "code",
   "execution_count": 15,
   "metadata": {},
   "outputs": [],
   "source": [
    "# Architectures.GPU()\n",
    "# cs_matrix = zeros(Float64,length(p_grid), length(ν_grid)) |> gpu ;\n",
    "# cs_matrix"
   ]
  },
  {
   "cell_type": "code",
   "execution_count": 78,
   "metadata": {},
   "outputs": [],
   "source": [
    "# @time compute_absorption_cross_section(hitran_data_H2O, Voigt(), collect(ν_grid), p_grid[10], t_grid[10], \n",
    "#     wing_cutoff = 10, architecture=Architectures.CPU())"
   ]
  },
  {
   "cell_type": "code",
   "execution_count": null,
   "metadata": {},
   "outputs": [
    {
     "name": "stderr",
     "output_type": "stream",
     "text": [
      "\u001b[32mComputing Cross Sections for Interpolation... 20%|█▎    |  ETA: 0:03:14\u001b[39m"
     ]
    }
   ],
   "source": [
    "@time begin\n",
    "model_interp = make_interpolation_model(hitran_data_CO2, Voigt(), ν_grid, pressures, temperatures)\n",
    "    \n",
    "end"
   ]
  },
  {
   "cell_type": "code",
   "execution_count": 79,
   "metadata": {},
   "outputs": [
    {
     "data": {
      "text/plain": [
       "72-element Array{Union{Missing, Float32},1}:\n",
       " 202.94925f0\n",
       " 207.71889f0\n",
       " 217.35593f0\n",
       " 226.02596f0\n",
       " 231.42293f0\n",
       " 236.14986f0\n",
       " 241.20515f0\n",
       " 245.34897f0\n",
       " 247.8092f0\n",
       " 250.66423f0\n",
       " 255.77087f0\n",
       " 259.24652f0\n",
       " 263.36966f0\n",
       "   ⋮\n",
       " 240.66661f0\n",
       " 241.12915f0\n",
       " 241.60477f0\n",
       " 242.0822f0\n",
       " 242.54677f0\n",
       " 242.99382f0\n",
       " 243.38539f0\n",
       " 243.70296f0\n",
       " 244.0438f0\n",
       " 243.74142f0\n",
       " 244.11185f0\n",
       " 237.36955f0"
      ]
     },
     "execution_count": 79,
     "metadata": {},
     "output_type": "execute_result"
    }
   ],
   "source": [
    "ν_grid = 400:0.01:2099.99\n",
    "p_grid = P_prof[:]\n",
    "t_grid = T_prof[:]"
   ]
  },
  {
   "cell_type": "code",
   "execution_count": 7,
   "metadata": {},
   "outputs": [],
   "source": [
    "# @time begin\n",
    "# CO2_cs_matrix = get_cross_section_matrix(hitran_data_CO2, ν_grid, p_grid, t_grid)\n",
    "# end\n",
    "# cs_matrix = zeros(length(p_grid), length(ν_grid)) |> gpu\n",
    "# zeros"
   ]
  },
  {
   "cell_type": "code",
   "execution_count": 80,
   "metadata": {},
   "outputs": [
    {
     "name": "stderr",
     "output_type": "stream",
     "text": [
      "\u001b[32mComputing Cross Sections for Interpolation...100%|██████| Time: 0:00:56\u001b[39m\n",
      "\u001b[32mComputing Cross Sections for Interpolation...100%|██████| Time: 0:00:13\u001b[39m\n",
      "\u001b[32mComputing Cross Sections for Interpolation...100%|██████| Time: 0:01:11\u001b[39m\n"
     ]
    },
    {
     "data": {
      "text/plain": [
       "72×170000 CuArray{Float32,2}:\n",
       " 5.84833f-36  5.86663f-36  5.88538f-36  …  3.55886f-35  2.94926f-35\n",
       " 1.3214f-35   1.32563f-35  1.32996f-35     9.88318f-35  8.19021f-35\n",
       " 3.22937f-35  3.24017f-35  3.25126f-35     3.56091f-34  2.95087f-34\n",
       " 6.73922f-35  6.76274f-35  6.78696f-35     1.02292f-33  8.47664f-34\n",
       " 1.15598f-34  1.16013f-34  1.16441f-34     2.11339f-33  1.75128f-33\n",
       " 1.8802f-34   1.88713f-34  1.89426f-34  …  4.01524f-33  3.32723f-33\n",
       " 3.04937f-34  3.06091f-34  3.07282f-34     7.63244f-33  6.32455f-33\n",
       " 4.72033f-34  4.73862f-34  4.75751f-34     1.33836f-32  1.10901f-32\n",
       " 6.81201f-34  6.83878f-34  6.86643f-34     2.07517f-32  1.71954f-32\n",
       " 9.89483f-34  9.93436f-34  9.97521f-34     3.26952f-32  2.70921f-32\n",
       " 1.5387f-33   1.54503f-33  1.55158f-33  …  5.84898f-32  4.84655f-32\n",
       " 2.24229f-33  2.25171f-33  2.26146f-33     9.34138f-32  7.74035f-32\n",
       " 3.30732f-33  3.32157f-33  3.33631f-33     1.53023f-31  1.26795f-31\n",
       " ⋮                                      ⋱               \n",
       " 1.20628f-30  1.21082f-30  1.21551f-30  …  2.60988f-29  2.22351f-29\n",
       " 1.24407f-30  1.24876f-30  1.25361f-30     2.7237f-29   2.32158f-29\n",
       " 1.2833f-30   1.28815f-30  1.29317f-30     2.84404f-29  2.42528f-29\n",
       " 1.32353f-30  1.32855f-30  1.33373f-30     2.96914f-29  2.53314f-29\n",
       " 1.36404f-30  1.36923f-30  1.37458f-30     3.09606f-29  2.64266f-29\n",
       " 1.40453f-30  1.40989f-30  1.41541f-30  …  3.22358f-29  2.7528f-29\n",
       " 1.44289f-30  1.4484f-30   1.45409f-30     3.34279f-29  2.85594f-29\n",
       " 1.47795f-30  1.48361f-30  1.48945f-30     3.44835f-29  2.94752f-29\n",
       " 1.51488f-30  1.52069f-30  1.52668f-30     3.56199f-29  3.04609f-29\n",
       " 1.51621f-30  1.52201f-30  1.528f-30       3.52343f-29  3.0147f-29\n",
       " 1.55528f-30  1.56124f-30  1.5674f-30   …  3.64554f-29  3.12064f-29\n",
       " 1.22212f-30  1.22664f-30  1.23129f-30     2.31353f-29  1.9828f-29"
      ]
     },
     "execution_count": 80,
     "metadata": {},
     "output_type": "execute_result"
    }
   ],
   "source": [
    "# include(\"julia_cs_matrix_helper.jl\")\n",
    "CO2_cs_matrix_cuda = get_cross_section_matrix(hitran_data_CO2, ν_grid, p_grid, t_grid)\n",
    "H2O_cs_matrix_cuda = get_cross_section_matrix(hitran_data_H2O, ν_grid, p_grid, t_grid)\n",
    "CH4_cs_matrix_cuda = get_cross_section_matrix(hitran_data_CH4, ν_grid, p_grid, t_grid)"
   ]
  },
  {
   "cell_type": "code",
   "execution_count": 81,
   "metadata": {},
   "outputs": [
    {
     "data": {
      "text/plain": [
       "72×170000 Array{Float32,2}:\n",
       " 5.84833f-36  5.86663f-36  5.88538f-36  …  3.55886f-35  2.94926f-35\n",
       " 1.3214f-35   1.32563f-35  1.32996f-35     9.88318f-35  8.19021f-35\n",
       " 3.22937f-35  3.24017f-35  3.25126f-35     3.56091f-34  2.95087f-34\n",
       " 6.73922f-35  6.76274f-35  6.78696f-35     1.02292f-33  8.47664f-34\n",
       " 1.15598f-34  1.16013f-34  1.16441f-34     2.11339f-33  1.75128f-33\n",
       " 1.8802f-34   1.88713f-34  1.89426f-34  …  4.01524f-33  3.32723f-33\n",
       " 3.04937f-34  3.06091f-34  3.07282f-34     7.63244f-33  6.32455f-33\n",
       " 4.72033f-34  4.73862f-34  4.75751f-34     1.33836f-32  1.10901f-32\n",
       " 6.81201f-34  6.83878f-34  6.86643f-34     2.07517f-32  1.71954f-32\n",
       " 9.89483f-34  9.93436f-34  9.97521f-34     3.26952f-32  2.70921f-32\n",
       " 1.5387f-33   1.54503f-33  1.55158f-33  …  5.84898f-32  4.84655f-32\n",
       " 2.24229f-33  2.25171f-33  2.26146f-33     9.34138f-32  7.74035f-32\n",
       " 3.30732f-33  3.32157f-33  3.33631f-33     1.53023f-31  1.26795f-31\n",
       " ⋮                                      ⋱               \n",
       " 1.20628f-30  1.21082f-30  1.21551f-30  …  2.60988f-29  2.22351f-29\n",
       " 1.24407f-30  1.24876f-30  1.25361f-30     2.7237f-29   2.32158f-29\n",
       " 1.2833f-30   1.28815f-30  1.29317f-30     2.84404f-29  2.42528f-29\n",
       " 1.32353f-30  1.32855f-30  1.33373f-30     2.96914f-29  2.53314f-29\n",
       " 1.36404f-30  1.36923f-30  1.37458f-30     3.09606f-29  2.64266f-29\n",
       " 1.40453f-30  1.40989f-30  1.41541f-30  …  3.22358f-29  2.7528f-29\n",
       " 1.44289f-30  1.4484f-30   1.45409f-30     3.34279f-29  2.85594f-29\n",
       " 1.47795f-30  1.48361f-30  1.48945f-30     3.44835f-29  2.94752f-29\n",
       " 1.51488f-30  1.52069f-30  1.52668f-30     3.56199f-29  3.04609f-29\n",
       " 1.51621f-30  1.52201f-30  1.528f-30       3.52343f-29  3.0147f-29\n",
       " 1.55528f-30  1.56124f-30  1.5674f-30   …  3.64554f-29  3.12064f-29\n",
       " 1.22212f-30  1.22664f-30  1.23129f-30     2.31353f-29  1.9828f-29"
      ]
     },
     "execution_count": 81,
     "metadata": {},
     "output_type": "execute_result"
    }
   ],
   "source": [
    "CO2_cs_matrix = convert(Array, CO2_cs_matrix_cuda)\n",
    "H2O_cs_matrix = convert(Array, H2O_cs_matrix_cuda)\n",
    "CH4_cs_matrix = convert(Array, CH4_cs_matrix_cuda)"
   ]
  },
  {
   "cell_type": "code",
   "execution_count": 89,
   "metadata": {},
   "outputs": [
    {
     "data": {
      "text/plain": [
       "2011-01-01T01:30:00"
      ]
     },
     "execution_count": 89,
     "metadata": {},
     "output_type": "execute_result"
    }
   ],
   "source": [
    "time_ii = ds2[\"time\"][1]"
   ]
  },
  {
   "cell_type": "code",
   "execution_count": 157,
   "metadata": {},
   "outputs": [
    {
     "data": {
      "text/plain": [
       "2011-01-01T01:30:00"
      ]
     },
     "execution_count": 157,
     "metadata": {},
     "output_type": "execute_result"
    }
   ],
   "source": [
    "time_ii"
   ]
  },
  {
   "cell_type": "code",
   "execution_count": 180,
   "metadata": {},
   "outputs": [
    {
     "data": {
      "text/plain": [
       "\"2011/cs_matrix_20110101_0130.nc\""
      ]
     },
     "execution_count": 180,
     "metadata": {},
     "output_type": "execute_result"
    }
   ],
   "source": [
    "# Dates.DateTime\n"
   ]
  },
  {
   "cell_type": "code",
   "execution_count": 183,
   "metadata": {},
   "outputs": [
    {
     "data": {
      "text/plain": [
       "\"/net/fluo/data2/groupMembers/cchristo/cs_matrices/summit/julia_generated/2011/cs_matrix_20110101_0130.nc\""
      ]
     },
     "execution_count": 183,
     "metadata": {},
     "output_type": "execute_result"
    }
   ],
   "source": [
    "fname = string(year(time_ii),\"/cs_matrix_\",year(time_ii), lpad(month(time_ii),2, \"0\"), lpad(day(time_ii),2,\"0\"), \n",
    "    \"_\", lpad(hour(time_ii),2,\"0\"), lpad(minute(time_ii),2,\"0\"), \".nc\")\n",
    "\n",
    "rel_path_name = \"/net/fluo/data2/groupMembers/cchristo/cs_matrices/summit/julia_generated/\"\n",
    "out_file_path = string(rel_path_name, fname)\n"
   ]
  },
  {
   "cell_type": "code",
   "execution_count": 131,
   "metadata": {},
   "outputs": [
    {
     "ename": "NCDatasets.NetCDFError",
     "evalue": "NetCDF error: Permission denied (NetCDF error code: 13)",
     "output_type": "error",
     "traceback": [
      "NetCDF error: Permission denied (NetCDF error code: 13)",
      "",
      "Stacktrace:",
      " [1] check at /home/cchristo/.julia/packages/NCDatasets/HhdCu/src/errorhandling.jl:33 [inlined]",
      " [2] nc_create(::String, ::UInt16) at /home/cchristo/.julia/packages/NCDatasets/HhdCu/src/netcdf_c.jl:263",
      " [3] NCDataset(::String, ::String; format::Symbol, diskless::Bool, persist::Bool, attrib::Array{Any,1}) at /home/cchristo/.julia/packages/NCDatasets/HhdCu/src/dataset.jl:266",
      " [4] NCDataset(::String, ::String) at /home/cchristo/.julia/packages/NCDatasets/HhdCu/src/dataset.jl:226",
      " [5] top-level scope at In[131]:1"
     ]
    }
   ],
   "source": [
    "# out_file_path = \"/net/fluo/data2/groupMembers/cchristo/cs_matrices/summit_seasonal/cs_matrix_djf_week_julia_test4.nc\"\n",
    "ds_out = Dataset(out_file_path,\"c\")\n",
    "\n",
    "nu_dim = defDim(ds_out,\"nu\", size(ν_grid)[1])\n",
    "pres_dim = defDim(ds_out,\"pressure\", size(p_grid)[1])\n",
    "# time_dim = defDim(ds_out,\"time\", 1)\n",
    "\n",
    "\n",
    "\n",
    "# Define the variables temperature with the attribute units\n",
    "CO2_cs_matrix_var = defVar(ds_out,\"cs_matrix_co2\", Float32, (\"pressure\", \"nu\"))\n",
    "H2O_cs_matrix_var = defVar(ds_out, \"cs_matrix_h2o\", Float32, (\"pressure\", \"nu\"))\n",
    "CH4_cs_matrix_var = defVar(ds_out,\"cs_matrix_ch4\", Float32, (\"pressure\", \"nu\"))\n",
    "# time_var = defVar(ds_out,\"time_ii\", Dates.DateTime, (\"time\",))\n",
    "# nu_coord = defVar(ds_out,\"nu\", Float32, (\"nu\",))\n",
    "# pres_coord = defVar(ds_out,\"pressure\", Float32, (\"pressure\",))\n",
    "# nu_coord = coord(ds_out,\"nu\", Float64, (\"nu\"))\n",
    "\n",
    "CO2_cs_matrix_var[:,:] = CO2_cs_matrix\n",
    "H2O_cs_matrix_var[:,:] = H2O_cs_matrix\n",
    "CH4_cs_matrix_var[:,:] = CH4_cs_matrix\n",
    "# time_var[:] = time_ii\n",
    "\n",
    "# nu_coord[:] = collect(ν_grid)\n",
    "# pres_coord[:] = p_grid\n",
    "\n",
    "\n",
    "close(ds_out)"
   ]
  },
  {
   "cell_type": "code",
   "execution_count": 6,
   "metadata": {},
   "outputs": [],
   "source": [
    "# CO2_cs_matrix_var"
   ]
  },
  {
   "cell_type": "code",
   "execution_count": 151,
   "metadata": {},
   "outputs": [
    {
     "data": {
      "text/plain": [
       "(1.2424183217493597e-16, CartesianIndex(1, 26801))"
      ]
     },
     "execution_count": 151,
     "metadata": {},
     "output_type": "execute_result"
    }
   ],
   "source": [
    "# broadcast(max,CO2_cs_matrix)\n",
    "findmax(CO2_cs_matrix)"
   ]
  },
  {
   "cell_type": "code",
   "execution_count": 152,
   "metadata": {},
   "outputs": [
    {
     "data": {
      "text/plain": [
       "(0.0, CartesianIndex(2, 1))"
      ]
     },
     "execution_count": 152,
     "metadata": {},
     "output_type": "execute_result"
    }
   ],
   "source": [
    "findmin(CO2_cs_matrix)"
   ]
  },
  {
   "cell_type": "code",
   "execution_count": 26,
   "metadata": {},
   "outputs": [
    {
     "data": {
      "text/plain": [
       "(7.920756f-33, CartesianIndex(1, 59206))"
      ]
     },
     "execution_count": 26,
     "metadata": {},
     "output_type": "execute_result"
    }
   ],
   "source": [
    "findmin(H2O_cs_matrix)"
   ]
  },
  {
   "cell_type": "code",
   "execution_count": 16,
   "metadata": {},
   "outputs": [
    {
     "data": {
      "image/png": "[encoded data removed]",
      "text/plain": [
       "Figure(PyObject <Figure size 640x480 with 2 Axes>)"
      ]
     },
     "metadata": {},
     "output_type": "display_data"
    },
    {
     "data": {
      "text/plain": [
       "PyObject <matplotlib.colorbar.Colorbar object at 0x7f65d733dba8>"
      ]
     },
     "execution_count": 16,
     "metadata": {},
     "output_type": "execute_result"
    }
   ],
   "source": [
    "pcolormesh(CO2_cs_matrix, vmax = 10^-20)\n",
    "colorbar()"
   ]
  }
 ],
 "metadata": {
  "kernelspec": {
   "display_name": "Julia 1.4.2",
   "language": "julia",
   "name": "julia-1.4"
  },
  "language_info": {
   "file_extension": ".jl",
   "mimetype": "application/julia",
   "name": "julia",
   "version": "1.4.2"
  }
 },
 "nbformat": 4,
 "nbformat_minor": 4
}
