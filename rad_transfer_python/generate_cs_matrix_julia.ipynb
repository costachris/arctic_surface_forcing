{
 "cells": [
  {
   "cell_type": "code",
   "execution_count": 28,
   "metadata": {},
   "outputs": [
    {
     "name": "stderr",
     "output_type": "stream",
     "text": [
      "\u001b[32m\u001b[1m Activating\u001b[22m\u001b[39m environment at `~/.julia/environments/rad_transfer/Project.toml`\n",
      "\u001b[32m\u001b[1m Activating\u001b[22m\u001b[39m environment at `~/.julia/environments/rad_transfer/Project.toml`\n"
     ]
    },
    {
     "data": {
      "text/plain": [
       "get_cross_section_matrix (generic function with 1 method)"
      ]
     },
     "execution_count": 28,
     "metadata": {},
     "output_type": "execute_result"
    }
   ],
   "source": [
    "using Pkg\n",
    "Pkg.activate(\"rad_transfer\"; shared=true)\n",
    "using RadiativeTransfer\n",
    "using RadiativeTransfer.CrossSection\n",
    "using KernelAbstractions\n",
    "using ..Architectures\n",
    "using Pkg.Artifacts\n",
    "using ProgressMeter\n",
    "using DataStructures\n",
    "\n",
    "include(\"julia_cs_matrix_helper.jl\")\n",
    "# include(\"/home/cchristo/proj_christian/RadiativeTransfer.jl/src/CrossSection/types.jl\")\n"
   ]
  },
  {
   "cell_type": "code",
   "execution_count": 2,
   "metadata": {},
   "outputs": [],
   "source": [
    "using NetCDF\n",
    "using NCDatasets"
   ]
  },
  {
   "cell_type": "code",
   "execution_count": 3,
   "metadata": {},
   "outputs": [
    {
     "data": {
      "text/plain": [
       "\"/export/data2/groupMembers/cchristo/cs_matrices/summit_seasonal/profile_djf_week.nc\""
      ]
     },
     "execution_count": 3,
     "metadata": {},
     "output_type": "execute_result"
    }
   ],
   "source": [
    "# reanalysis_file_path = \"/export/data2/groupMembers/cchristo/reanalysis_3d/merra2/2015/01/MERRA2_400.tavg3_3d_asm_Nv.20150101.nc4\"\n",
    "ave_reanalysis_file_path = \"/export/data2/groupMembers/cchristo/cs_matrices/summit_seasonal/profile_djf_week.nc\""
   ]
  },
  {
   "cell_type": "code",
   "execution_count": 11,
   "metadata": {},
   "outputs": [],
   "source": [
    "# ds = Dataset(ave_reanalysis_file_path)"
   ]
  },
  {
   "cell_type": "markdown",
   "metadata": {},
   "source": [
    "## Open Profile and Extract Profile for a Time"
   ]
  },
  {
   "cell_type": "code",
   "execution_count": 4,
   "metadata": {},
   "outputs": [
    {
     "data": {
      "text/plain": [
       "72-element Array{Union{Missing, Float32},1}:\n",
       "     1.5000001f0\n",
       "     2.635001f0\n",
       "     4.014251f0\n",
       "     5.679252f0\n",
       "     7.767253f0\n",
       "    10.452403f0\n",
       "    13.959901f0\n",
       "    18.542204f0\n",
       "    24.493755f0\n",
       "    32.17835f0\n",
       "    42.04236f0\n",
       "    54.62927f0\n",
       "    70.595665f0\n",
       "     ⋮\n",
       " 56360.652f0\n",
       " 57121.996f0\n",
       " 57880.805f0\n",
       " 58639.574f0\n",
       " 59398.066f0\n",
       " 60155.59f0\n",
       " 60910.605f0\n",
       " 61665.16f0\n",
       " 62419.117f0\n",
       " 63172.27f0\n",
       " 63924.445f0\n",
       " 64789.258f0"
      ]
     },
     "execution_count": 4,
     "metadata": {},
     "output_type": "execute_result"
    }
   ],
   "source": [
    "# ds = ncread(reanalysis_file_path)\n",
    "ds = Dataset(ave_reanalysis_file_path)\n",
    "\n",
    "# times = ds[\"time\"][:] \n",
    "lats = ds[\"lat\"][:]\n",
    "lons = ds[\"lon\"][:]\n",
    "T = ds[\"T\"][:]\n",
    "P = ds[\"PL\"][:]\n",
    "# (lon, lat, z, time)\n",
    "var_array_sizes = size(T)\n",
    "\n",
    "T_prof = T[:]\n",
    "P_prof = P[:]"
   ]
  },
  {
   "cell_type": "code",
   "execution_count": 5,
   "metadata": {},
   "outputs": [
    {
     "data": {
      "text/plain": [
       "72-element Array{Union{Missing, Float32},1}:\n",
       "     1.5000001f0\n",
       "     2.6350012f0\n",
       "     4.014251f0\n",
       "     5.679252f0\n",
       "     7.7672524f0\n",
       "    10.452404f0\n",
       "    13.959901f0\n",
       "    18.542204f0\n",
       "    24.493753f0\n",
       "    32.17835f0\n",
       "    42.04236f0\n",
       "    54.62927f0\n",
       "    70.59567f0\n",
       "     ⋮\n",
       " 79832.53f0\n",
       " 81252.28f0\n",
       " 82670.94f0\n",
       " 84089.055f0\n",
       " 85507.18f0\n",
       " 86924.695f0\n",
       " 88340.86f0\n",
       " 89760.266f0\n",
       " 91180.53f0\n",
       " 92595.586f0\n",
       " 94014.875f0\n",
       " 95438.945f0"
      ]
     },
     "execution_count": 5,
     "metadata": {},
     "output_type": "execute_result"
    }
   ],
   "source": [
    "# ncinfo(reanalysis_file_path)\n",
    "desired_lat = 72.5796\n",
    "desired_lon = -38.4588\n",
    "\n",
    "# find index of nearest gridcell\n",
    "lat_ind = argmin(broadcast(abs, lats .- desired_lat))\n",
    "lon_ind = argmin(broadcast(abs, lons .- desired_lon))\n",
    "\n",
    "# set time ind\n",
    "time_ind = 1\n",
    "\n",
    "T_prof = T[lat_ind,lon_ind, :,time_ind]\n",
    "P_prof = P[lat_ind,lon_ind, :,time_ind]"
   ]
  },
  {
   "cell_type": "code",
   "execution_count": 5,
   "metadata": {},
   "outputs": [],
   "source": [
    "# fetch('H2O_S',1,1,xmin,xmax)\n",
    "# fetch('CO2_S',2,1,xmin,xmax)\n",
    "# fetch('CH4_S',6,1,xmin,xmax)"
   ]
  },
  {
   "cell_type": "code",
   "execution_count": 5,
   "metadata": {},
   "outputs": [
    {
     "data": {
      "text/plain": [
       "HitranTable{Float64}\n",
       "  mol: Array{Int64}((58893,)) [6, 6, 6, 6, 6, 6, 6, 6, 6, 6  …  6, 6, 6, 6, 6, 6, 6, 6, 6, 6]\n",
       "  iso: Array{Int64}((58893,)) [1, 1, 1, 1, 1, 1, 1, 1, 1, 1  …  1, 1, 1, 1, 1, 1, 1, 1, 1, 1]\n",
       "  νᵢ: Array{Float64}((58893,)) [400.416314, 400.500621, 400.515163, 400.545478, 400.783489, 400.847081, 400.941244, 401.101872, 401.494615, 401.738456  …  2098.001522, 2098.224403, 2098.558601, 2099.174328, 2099.274806, 2099.389535, 2099.440549, 2099.731408, 2099.87477, 2099.931237]\n",
       "  Sᵢ: Array{Float64}((58893,)) [2.055e-30, 2.836e-30, 2.834e-30, 3.576e-30, 6.418e-30, 1.242e-30, 2.422e-30, 1.379e-30, 1.891e-30, 1.795e-30  …  8.137e-28, 1.592e-27, 7.599e-29, 9.206e-29, 3.743e-29, 6.561e-29, 5.98e-29, 7.884e-28, 5.626e-28, 2.94e-29]\n",
       "  Aᵢ: Array{Float64}((58893,)) [1.727e-7, 1.481e-5, 1.568e-6, 1.997e-7, 6.715e-7, 1.102e-8, 2.125e-8, 1.21e-8, 1.572e-6, 0.001561  …  0.04187, 0.04916, 0.003913, 0.004716, 0.001916, 0.003381, 0.003082, 0.04041, 0.04324, 0.001502]\n",
       "  γ_air: Array{Float64}((58893,)) [0.049, 0.046, 0.048, 0.049, 0.049, 0.053, 0.053, 0.053, 0.048, 0.042  …  0.045, 0.045, 0.045, 0.045, 0.045, 0.045, 0.045, 0.045, 0.045, 0.045]\n",
       "  γ_self: Array{Float64}((58893,)) [0.065, 0.058, 0.061, 0.065, 0.065, 0.07, 0.07, 0.07, 0.061, 0.056  …  0.05, 0.05, 0.05, 0.05, 0.05, 0.05, 0.05, 0.05, 0.05, 0.05]\n",
       "  E″: Array{Float64}((58893,)) [2256.0856, 3375.1279, 2765.8529, 2255.3192, 2397.9806, 1828.8268, 1826.4943, 1826.3381, 2765.2675, 4356.3687  …  3109.281, 3109.2683, 3109.281, 3108.1082, 3107.9065, 3109.2932, 3109.281, 3108.1082, 3108.0386, 3107.3513]\n",
       "  n_air: Array{Float64}((58893,)) [0.63, 0.59, 0.61, 0.63, 0.62, 0.64, 0.64, 0.64, 0.61, 0.57  …  0.57, 0.57, 0.57, 0.57, 0.57, 0.57, 0.57, 0.57, 0.57, 0.57]\n",
       "  δ_air: Array{Float64}((58893,)) [-0.000801, -0.000801, -0.000801, -0.000801, -0.000802, 0.0, 0.0, 0.0, -0.000803, -0.000803  …  -0.0041, -0.0041, -0.0041, -0.0041, -0.0041, -0.0041, -0.0041, -0.0041, -0.0041, -0.0041]\n",
       "  global_upper_quanta: Array{String}((58893,))\n",
       "  global_lower_quanta: Array{String}((58893,))\n",
       "  local_upper_quanta: Array{String}((58893,))\n",
       "  local_lower_quanta: Array{String}((58893,))\n",
       "  ierr: Array{String}((58893,))\n",
       "  iref: Array{String}((58893,))\n",
       "  line_mixing_flag: Array{String}((58893,))\n",
       "  g′: Array{Float64}((58893,)) [58.0, 215.0, 105.0, 87.0, 93.0, 69.0, 69.0, 69.0, 70.0, 153.0  …  141.0, 235.0, 141.0, 141.0, 141.0, 141.0, 141.0, 141.0, 94.0, 141.0]\n",
       "  g″: Array{Float64}((58893,)) [54.0, 205.0, 99.0, 81.0, 87.0, 63.0, 63.0, 63.0, 66.0, 147.0  …  147.0, 245.0, 147.0, 147.0, 147.0, 147.0, 147.0, 147.0, 98.0, 147.0]\n"
      ]
     },
     "execution_count": 5,
     "metadata": {},
     "output_type": "execute_result"
    }
   ],
   "source": [
    "hitran_data_CO2 = read_hitran(\"hitran_molec_id_2_CO2.tar\", mol=2, iso=1, ν_min=400, ν_max=2100)\n",
    "hitran_data_H2O = read_hitran(\"hitran_molec_id_1_H2O.tar\", mol=1, iso=1, ν_min=400, ν_max=2100)\n",
    "hitran_data_CH4 = read_hitran(\"hitran_molec_id_6_CH4.tar\", mol=6, iso=1, ν_min=400, ν_max=2100)"
   ]
  },
  {
   "cell_type": "code",
   "execution_count": 10,
   "metadata": {},
   "outputs": [],
   "source": [
    "# model_voigt_CO2 = make_hitran_model(hitran_data_CO2, Voigt(), architecture=Architectures.GPU())\n"
   ]
  },
  {
   "cell_type": "code",
   "execution_count": 7,
   "metadata": {},
   "outputs": [
    {
     "data": {
      "text/plain": [
       "100:75:400"
      ]
     },
     "execution_count": 7,
     "metadata": {},
     "output_type": "execute_result"
    }
   ],
   "source": [
    "ν_grid = 400:0.01:2100\n",
    "pressures = 250:250:1250\n",
    "temperatures = 100:75:400"
   ]
  },
  {
   "cell_type": "code",
   "execution_count": 21,
   "metadata": {},
   "outputs": [
    {
     "data": {
      "text/plain": [
       "(170001,)"
      ]
     },
     "execution_count": 21,
     "metadata": {},
     "output_type": "execute_result"
    }
   ],
   "source": [
    "size(ν_grid)\n",
    "# size(temperatures)"
   ]
  },
  {
   "cell_type": "code",
   "execution_count": null,
   "metadata": {},
   "outputs": [
    {
     "name": "stderr",
     "output_type": "stream",
     "text": [
      "\u001b[32mComputing Cross Sections for Interpolation... 20%|█▎    |  ETA: 0:03:14\u001b[39m"
     ]
    }
   ],
   "source": [
    "@time begin\n",
    "model_interp = make_interpolation_model(hitran_data_CO2, Voigt(), ν_grid, pressures, temperatures)\n",
    "    \n",
    "end"
   ]
  },
  {
   "cell_type": "code",
   "execution_count": 16,
   "metadata": {},
   "outputs": [
    {
     "data": {
      "text/plain": [
       "72-element Array{Union{Missing, Float32},1}:\n",
       " 202.94925f0\n",
       " 207.71889f0\n",
       " 217.35593f0\n",
       " 226.02596f0\n",
       " 231.42293f0\n",
       " 236.14986f0\n",
       " 241.20515f0\n",
       " 245.34897f0\n",
       " 247.8092f0\n",
       " 250.66423f0\n",
       " 255.77087f0\n",
       " 259.24652f0\n",
       " 263.36966f0\n",
       "   ⋮\n",
       " 240.66661f0\n",
       " 241.12915f0\n",
       " 241.60477f0\n",
       " 242.0822f0\n",
       " 242.54677f0\n",
       " 242.99382f0\n",
       " 243.38539f0\n",
       " 243.70296f0\n",
       " 244.0438f0\n",
       " 243.74142f0\n",
       " 244.11185f0\n",
       " 237.36955f0"
      ]
     },
     "execution_count": 16,
     "metadata": {},
     "output_type": "execute_result"
    }
   ],
   "source": [
    "ν_grid = 400:0.01:2100\n",
    "p_grid = P_prof[:]\n",
    "t_grid = T_prof[:]"
   ]
  },
  {
   "cell_type": "code",
   "execution_count": 19,
   "metadata": {},
   "outputs": [
    {
     "name": "stderr",
     "output_type": "stream",
     "text": [
      "\u001b[32mComputing Cross Sections for Interpolation...100%|██████| Time: 0:00:06\u001b[39m\n"
     ]
    },
    {
     "name": "stdout",
     "output_type": "stream",
     "text": [
      "  6.228824 seconds (1.57 M allocations: 160.072 MiB, 0.65% gc time)\n"
     ]
    },
    {
     "data": {
      "text/plain": [
       "72×170001 Array{Float64,2}:\n",
       " 4.39053e-33  7.85511e-33  1.84053e-32  …  9.02164e-28  8.76074e-28\n",
       " 0.0          0.0          0.0             0.0          0.0\n",
       " 0.0          0.0          0.0             0.0          0.0\n",
       " 0.0          0.0          0.0             0.0          0.0\n",
       " 0.0          0.0          0.0             0.0          0.0\n",
       " 0.0          0.0          0.0          …  0.0          0.0\n",
       " 0.0          0.0          0.0             0.0          0.0\n",
       " 0.0          0.0          0.0             0.0          0.0\n",
       " 0.0          0.0          0.0             0.0          0.0\n",
       " 0.0          0.0          0.0             0.0          0.0\n",
       " 0.0          0.0          0.0          …  0.0          0.0\n",
       " 0.0          0.0          0.0             0.0          0.0\n",
       " 0.0          0.0          0.0             0.0          0.0\n",
       " ⋮                                      ⋱               ⋮\n",
       " 0.0          0.0          0.0          …  0.0          0.0\n",
       " 0.0          0.0          0.0             0.0          0.0\n",
       " 0.0          0.0          0.0             0.0          0.0\n",
       " 0.0          0.0          0.0             0.0          0.0\n",
       " 0.0          0.0          0.0             0.0          0.0\n",
       " 0.0          0.0          0.0          …  0.0          0.0\n",
       " 0.0          0.0          0.0             0.0          0.0\n",
       " 0.0          0.0          0.0             0.0          0.0\n",
       " 0.0          0.0          0.0             0.0          0.0\n",
       " 0.0          0.0          0.0             0.0          0.0\n",
       " 0.0          0.0          0.0          …  0.0          0.0\n",
       " 0.0          0.0          0.0             0.0          0.0"
      ]
     },
     "execution_count": 19,
     "metadata": {},
     "output_type": "execute_result"
    }
   ],
   "source": [
    "@time begin\n",
    "CO2_cs_matrix = get_cross_section_matrix(hitran_data_CO2, ν_grid, p_grid, t_grid)\n",
    "end"
   ]
  },
  {
   "cell_type": "code",
   "execution_count": 21,
   "metadata": {},
   "outputs": [
    {
     "name": "stderr",
     "output_type": "stream",
     "text": [
      "\u001b[32mComputing Cross Sections for Interpolation...100%|██████| Time: 0:00:06\u001b[39m\n",
      "\u001b[32mComputing Cross Sections for Interpolation...100%|██████| Time: 0:00:01\u001b[39m\n",
      "\u001b[32mComputing Cross Sections for Interpolation...100%|██████| Time: 0:00:09\u001b[39m\n"
     ]
    },
    {
     "data": {
      "text/plain": [
       "72×170001 Array{Float64,2}:\n",
       " 5.62822e-34  5.64644e-34  5.66513e-34  …  2.94895e-33  2.50534e-33\n",
       " 0.0          0.0          0.0             0.0          0.0\n",
       " 0.0          0.0          0.0             0.0          0.0\n",
       " 0.0          0.0          0.0             0.0          0.0\n",
       " 0.0          0.0          0.0             0.0          0.0\n",
       " 0.0          0.0          0.0          …  0.0          0.0\n",
       " 0.0          0.0          0.0             0.0          0.0\n",
       " 0.0          0.0          0.0             0.0          0.0\n",
       " 0.0          0.0          0.0             0.0          0.0\n",
       " 0.0          0.0          0.0             0.0          0.0\n",
       " 0.0          0.0          0.0          …  0.0          0.0\n",
       " 0.0          0.0          0.0             0.0          0.0\n",
       " 0.0          0.0          0.0             0.0          0.0\n",
       " ⋮                                      ⋱               ⋮\n",
       " 0.0          0.0          0.0          …  0.0          0.0\n",
       " 0.0          0.0          0.0             0.0          0.0\n",
       " 0.0          0.0          0.0             0.0          0.0\n",
       " 0.0          0.0          0.0             0.0          0.0\n",
       " 0.0          0.0          0.0             0.0          0.0\n",
       " 0.0          0.0          0.0          …  0.0          0.0\n",
       " 0.0          0.0          0.0             0.0          0.0\n",
       " 0.0          0.0          0.0             0.0          0.0\n",
       " 0.0          0.0          0.0             0.0          0.0\n",
       " 0.0          0.0          0.0             0.0          0.0\n",
       " 0.0          0.0          0.0          …  0.0          0.0\n",
       " 0.0          0.0          0.0             0.0          0.0"
      ]
     },
     "execution_count": 21,
     "metadata": {},
     "output_type": "execute_result"
    }
   ],
   "source": [
    "CO2_cs_matrix = get_cross_section_matrix(hitran_data_CO2, ν_grid, p_grid, t_grid)\n",
    "H2O_cs_matrix = get_cross_section_matrix(hitran_data_H2O, ν_grid, p_grid, t_grid)\n",
    "CH4_cs_matrix = get_cross_section_matrix(hitran_data_CH4, ν_grid, p_grid, t_grid)"
   ]
  },
  {
   "cell_type": "code",
   "execution_count": 62,
   "metadata": {},
   "outputs": [
    {
     "data": {
      "text/plain": [
       "\"/export/data2/groupMembers/cchristo/cs_matrices/summit_seasonal/cs_matrix_djf_week_julia.nc\""
      ]
     },
     "execution_count": 62,
     "metadata": {},
     "output_type": "execute_result"
    }
   ],
   "source": [
    "out_file_path = \"/export/data2/groupMembers/cchristo/cs_matrices/summit_seasonal/cs_matrix_djf_week_julia.nc\""
   ]
  },
  {
   "cell_type": "code",
   "execution_count": 76,
   "metadata": {},
   "outputs": [
    {
     "data": {
      "text/plain": [
       "\u001b[31mNCDataset: /export/data2/groupMembers/cchristo/cs_matrices/summit_seasonal/cs_matrix_djf_week_julia.nc\u001b[39m\n",
       "Group: /\n",
       "\n"
      ]
     },
     "execution_count": 76,
     "metadata": {},
     "output_type": "execute_result"
    }
   ],
   "source": [
    "ds = Dataset(out_file_path,\"c\")"
   ]
  },
  {
   "cell_type": "code",
   "execution_count": 77,
   "metadata": {},
   "outputs": [
    {
     "data": {
      "text/plain": [
       "closed NetCDF NCDataset"
      ]
     },
     "execution_count": 77,
     "metadata": {},
     "output_type": "execute_result"
    }
   ],
   "source": [
    "nu_dim = defDim(ds,\"nu\", size(ν_grid)[1])\n",
    "pres_dim = defDim(ds,\"pressure\", size(p_grid)[1])\n",
    "\n",
    "\n",
    "\n",
    "# Define the variables temperature with the attribute units\n",
    "CO2_cs_matrix_var = defVar(ds,\"cs_matrix_co2\", Float64, (\"nu\",\"pressure\"))\n",
    "H2O_cs_matrix_var = defVar(ds, \"cs_matrix_h2o\", Float64, (\"nu\",\"pressure\"))\n",
    "CH4_cs_matrix_var = defVar(ds,\"cs_matrix_ch4\", Float64, (\"nu\",\"pressure\"))\n",
    "nu_coord = defVar(ds,\"nu\", Float32, (\"pressure\",))\n",
    "# pres_coord = defVar(ds,\"pressure\", Float32, (\"nu\",))\n",
    "\n",
    "CO2_cs_matrix_var = CO2_cs_matrix\n",
    "H2O_cs_matrix_var = H2O_cs_matrix\n",
    "CH4_cs_matrix_var = CH4_cs_matrix\n",
    "\n",
    "nu_coord = ν_grid\n",
    "# pres_coord = p_grid\n",
    "\n",
    "\n",
    "close(ds)"
   ]
  }
 ],
 "metadata": {
  "kernelspec": {
   "display_name": "Julia 1.4.2",
   "language": "julia",
   "name": "julia-1.4"
  },
  "language_info": {
   "file_extension": ".jl",
   "mimetype": "application/julia",
   "name": "julia",
   "version": "1.4.2"
  }
 },
 "nbformat": 4,
 "nbformat_minor": 4
}
