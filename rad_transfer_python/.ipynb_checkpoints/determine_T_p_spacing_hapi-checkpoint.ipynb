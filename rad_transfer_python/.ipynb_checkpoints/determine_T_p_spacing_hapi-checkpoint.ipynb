{
 "cells": [
  {
   "cell_type": "code",
   "execution_count": null,
   "metadata": {},
   "outputs": [],
   "source": [
    "## Utilities for determining what spacing is necessary for a T,p \n",
    "## lookup table. This is exploratory. "
   ]
  },
  {
   "cell_type": "code",
   "execution_count": 1,
   "metadata": {},
   "outputs": [
    {
     "name": "stdout",
     "output_type": "stream",
     "text": [
      "HAPI version: 1.1.0.9.7\n",
      "To get the most up-to-date version please check http://hitran.org/hapi\n",
      "ATTENTION: Python versions of partition sums from TIPS-2017 are now available in HAPI code\n",
      "\n",
      "           It is free to use HAPI. If you use HAPI in your research or software development,\n",
      "           please cite it using the following reference:\n",
      "           R.V. Kochanov, I.E. Gordon, L.S. Rothman, P. Wcislo, C. Hill, J.S. Wilzewski,\n",
      "           HITRAN Application Programming Interface (HAPI): A comprehensive approach\n",
      "           to working with spectroscopic data, J. Quant. Spectrosc. Radiat. Transfer 177, 15-30 (2016)\n",
      "           DOI: 10.1016/j.jqsrt.2016.03.005\n"
     ]
    }
   ],
   "source": [
    "import xarray as xr\n",
    "import numpy as np\n",
    "import matplotlib.pyplot as plt\n",
    "import matplotlib\n",
    "import os\n",
    "\n",
    "from hapi import *"
   ]
  },
  {
   "cell_type": "code",
   "execution_count": null,
   "metadata": {},
   "outputs": [],
   "source": []
  },
  {
   "cell_type": "code",
   "execution_count": null,
   "metadata": {},
   "outputs": [],
   "source": [
    "# Loop over each layer \n",
    "for i in range(NLEV):\n",
    "    print(str(i)+'/'+str(NLEV), end='\\r')\n",
    "    p_ = p_prof[i]/101325\n",
    "#     print(p_)\n",
    "    T_ = T_prof[i]\n",
    "    nu_, cs_co2 = absorptionCoefficient_Voigt(SourceTables='CO2_S', WavenumberRange=[xmin,xmax],Environment={'p':p_,'T':T_},IntensityThreshold=1e-27)\n",
    "    nu_, cs_ch4 = absorptionCoefficient_Voigt(SourceTables='CH4_S', WavenumberRange=[xmin,xmax],Environment={'p':p_,'T':T_},IntensityThreshold=1e-27)\n",
    "    nu_, cs_h2o = absorptionCoefficient_Voigt(SourceTables='H2O_S', WavenumberRange=[xmin,xmax],Environment={'p':p_,'T':T_},IntensityThreshold=1e-27)\n",
    "    cs_matrix_co2[:,i] = cs_co2\n",
    "    cs_matrix_ch4[:,i] = cs_ch4\n",
    "    cs_matrix_h2o[:,i] = cs_h2o"
   ]
  }
 ],
 "metadata": {
  "kernelspec": {
   "display_name": "Python 3",
   "language": "python",
   "name": "python3"
  },
  "language_info": {
   "codemirror_mode": {
    "name": "ipython",
    "version": 3
   },
   "file_extension": ".py",
   "mimetype": "text/x-python",
   "name": "python",
   "nbconvert_exporter": "python",
   "pygments_lexer": "ipython3",
   "version": "3.6.10"
  }
 },
 "nbformat": 4,
 "nbformat_minor": 4
}
