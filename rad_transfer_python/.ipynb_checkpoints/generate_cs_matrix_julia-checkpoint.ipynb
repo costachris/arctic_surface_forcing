{
 "cells": [
  {
   "cell_type": "code",
   "execution_count": null,
   "metadata": {},
   "outputs": [],
   "source": [
    "using Pkg\n",
    "Pkg.activate(\"rad_transfer\"; shared=true)\n",
    "using RadiativeTransfer\n",
    "using RadiativeTransfer.CrossSection\n",
    "using Pkg.Artifacts"
   ]
  },
  {
   "cell_type": "code",
   "execution_count": 5,
   "metadata": {},
   "outputs": [],
   "source": [
    "# fetch('H2O_S',1,1,xmin,xmax)\n",
    "# fetch('CO2_S',2,1,xmin,xmax)\n",
    "# fetch('CH4_S',6,1,xmin,xmax)"
   ]
  },
  {
   "cell_type": "code",
   "execution_count": 8,
   "metadata": {},
   "outputs": [
    {
     "ename": "MethodError",
     "evalue": "MethodError: Cannot `convert` an object of type Nothing to an object of type Int64\nClosest candidates are:\n  convert(::Type{Int64}, !Matched::Type{CUDA.AS.Generic}) at /home/cchristo/.julia/packages/CUDA/mdN7G/src/device/pointer.jl:23\n  convert(::Type{Int64}, !Matched::Type{CUDA.AS.Global}) at /home/cchristo/.julia/packages/CUDA/mdN7G/src/device/pointer.jl:24\n  convert(::Type{Int64}, !Matched::Type{CUDA.AS.Shared}) at /home/cchristo/.julia/packages/CUDA/mdN7G/src/device/pointer.jl:25\n  ...",
     "output_type": "error",
     "traceback": [
      "MethodError: Cannot `convert` an object of type Nothing to an object of type Int64\nClosest candidates are:\n  convert(::Type{Int64}, !Matched::Type{CUDA.AS.Generic}) at /home/cchristo/.julia/packages/CUDA/mdN7G/src/device/pointer.jl:23\n  convert(::Type{Int64}, !Matched::Type{CUDA.AS.Global}) at /home/cchristo/.julia/packages/CUDA/mdN7G/src/device/pointer.jl:24\n  convert(::Type{Int64}, !Matched::Type{CUDA.AS.Shared}) at /home/cchristo/.julia/packages/CUDA/mdN7G/src/device/pointer.jl:25\n  ...",
      "",
      "Stacktrace:",
      " [1] setindex!(::Array{Int64,1}, ::Nothing, ::Int64) at ./array.jl:826",
      " [2] copyto!(::Array{Int64,1}, ::Array{Union{Nothing, Int64},1}) at ./multidimensional.jl:962",
      " [3] Array at ./array.jl:541 [inlined]",
      " [4] convert at ./array.jl:533 [inlined]",
      " [5] HitranTable at /home/cchristo/.julia/packages/Parameters/CVyBv/src/Parameters.jl:478 [inlined]",
      " [6] HitranTable at /home/cchristo/.julia/packages/Parameters/CVyBv/src/Parameters.jl:501 [inlined]",
      " [7] #HitranTable#2 at /home/cchristo/.julia/packages/Parameters/CVyBv/src/Parameters.jl:520 [inlined]",
      " [8] (::RadiativeTransfer.CrossSection.var\"#13#18\"{Int64,Int64,Int64,Int64,Array{String,1},Array{Int64,1},Array{DataType,1},Array{Int64,1}})(::IOStream) at /home/cchristo/.julia/packages/RadiativeTransfer/oaa4w/src/CrossSection/hitran.jl:59",
      " [9] open(::RadiativeTransfer.CrossSection.var\"#13#18\"{Int64,Int64,Int64,Int64,Array{String,1},Array{Int64,1},Array{DataType,1},Array{Int64,1}}, ::String, ::Vararg{String,N} where N; kwargs::Base.Iterators.Pairs{Union{},Union{},Tuple{},NamedTuple{(),Tuple{}}}) at ./io.jl:298",
      " [10] open at ./io.jl:296 [inlined]",
      " [11] read_hitran(::String; mol::Int64, iso::Int64, ν_min::Int64, ν_max::Int64) at /home/cchristo/.julia/packages/RadiativeTransfer/oaa4w/src/CrossSection/hitran.jl:33",
      " [12] top-level scope at In[8]:1"
     ]
    }
   ],
   "source": [
    "# If you have a fixed-width file stored locally\n",
    "hitran_data_CO2 = read_hitran(\"hitran_molec_id_2_CO2.tar\", mol=2, iso=-1, ν_min=000, ν_max=6400)\n",
    "# hitran_data_CO2 = read_hitran(\"hitran_molec_id_2_CO2.tar\", mol=2, iso=-1, ν_min=400, ν_max=2100)\n",
    "# hitran_data_H2O = read_hitran(\"hitran_molec_id_2_H2O.tar\", mol=1, iso=-1, ν_min=400, ν_max=2100)\n",
    "# hitran_data_CH4 = read_hitran(\"hitran_molec_id_2_CH4.tar\", mol=6, iso=-1,  ν_min=400, ν_max=2100)\n",
    "\n",
    "# If you would like to download the file from the hitran database\n",
    "# hitran_data = read_hitran(artifact\"hitran_molec_id_2_CO2\", mol=2, iso=-1, ν_min=400, ν_max=2100)\n",
    "# hitran_data = read_hitran(artifact\"hitran_molec_id_1_H2O\", mol=2, iso=1, ν_min=400, ν_max=2100)\n"
   ]
  },
  {
   "cell_type": "code",
   "execution_count": 3,
   "metadata": {},
   "outputs": [
    {
     "ename": "UndefVarError",
     "evalue": "UndefVarError: hitran_data_CO2 not defined",
     "output_type": "error",
     "traceback": [
      "UndefVarError: hitran_data_CO2 not defined",
      "",
      "Stacktrace:",
      " [1] top-level scope at In[3]:1"
     ]
    }
   ],
   "source": [
    "hitran_data_CO2"
   ]
  },
  {
   "cell_type": "code",
   "execution_count": null,
   "metadata": {},
   "outputs": [],
   "source": []
  },
  {
   "cell_type": "code",
   "execution_count": 3,
   "metadata": {},
   "outputs": [
    {
     "ename": "UndefVarError",
     "evalue": "UndefVarError: hitran_data not defined",
     "output_type": "error",
     "traceback": [
      "UndefVarError: hitran_data not defined",
      "",
      "Stacktrace:",
      " [1] top-level scope at In[3]:1"
     ]
    }
   ],
   "source": [
    "model_voigt_GPU = make_hitran_model(hitran_data, Voigt(), architecture=Architectures.GPU())\n"
   ]
  }
 ],
 "metadata": {
  "kernelspec": {
   "display_name": "Julia 1.4.2",
   "language": "julia",
   "name": "julia-1.4"
  },
  "language_info": {
   "file_extension": ".jl",
   "mimetype": "application/julia",
   "name": "julia",
   "version": "1.4.2"
  }
 },
 "nbformat": 4,
 "nbformat_minor": 4
}
