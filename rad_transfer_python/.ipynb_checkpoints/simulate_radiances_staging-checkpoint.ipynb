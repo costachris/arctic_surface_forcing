{
 "cells": [
  {
   "cell_type": "markdown",
   "metadata": {},
   "source": [
    "# Staging version of Python rad transfer code"
   ]
  },
  {
   "cell_type": "code",
   "execution_count": 28,
   "metadata": {},
   "outputs": [],
   "source": [
    "import xarray as xr\n",
    "import numpy as np\n",
    "import matplotlib.pyplot as plt\n",
    "import matplotlib\n",
    "import os\n",
    "from scipy.interpolate import interp1d\n",
    "from scipy.ndimage.filters import gaussian_filter1d\n",
    "from hapi import *\n",
    "import timeit"
   ]
  },
  {
   "cell_type": "code",
   "execution_count": 2,
   "metadata": {},
   "outputs": [],
   "source": [
    "reanlysis_dir = '/export/data1/cchristo/merra2/merra2_pres_levels/test3d.nc4'"
   ]
  },
  {
   "cell_type": "code",
   "execution_count": 3,
   "metadata": {},
   "outputs": [
    {
     "ename": "FileNotFoundError",
     "evalue": "[Errno 2] No such file or directory: b'/export/data1/cchristo/merra2/merra2_pres_levels/test3d.nc4'",
     "output_type": "error",
     "traceback": [
      "\u001b[0;31m---------------------------------------------------------------\u001b[0m",
      "\u001b[0;31mKeyError\u001b[0m                      Traceback (most recent call last)",
      "\u001b[0;32m~/anaconda3/envs/rad_transfer/lib/python3.6/site-packages/xarray/backends/file_manager.py\u001b[0m in \u001b[0;36m_acquire_with_cache_info\u001b[0;34m(self, needs_lock)\u001b[0m\n\u001b[1;32m    197\u001b[0m             \u001b[0;32mtry\u001b[0m\u001b[0;34m:\u001b[0m\u001b[0;34m\u001b[0m\u001b[0;34m\u001b[0m\u001b[0m\n\u001b[0;32m--> 198\u001b[0;31m                 \u001b[0mfile\u001b[0m \u001b[0;34m=\u001b[0m \u001b[0mself\u001b[0m\u001b[0;34m.\u001b[0m\u001b[0m_cache\u001b[0m\u001b[0;34m[\u001b[0m\u001b[0mself\u001b[0m\u001b[0;34m.\u001b[0m\u001b[0m_key\u001b[0m\u001b[0;34m]\u001b[0m\u001b[0;34m\u001b[0m\u001b[0;34m\u001b[0m\u001b[0m\n\u001b[0m\u001b[1;32m    199\u001b[0m             \u001b[0;32mexcept\u001b[0m \u001b[0mKeyError\u001b[0m\u001b[0;34m:\u001b[0m\u001b[0;34m\u001b[0m\u001b[0;34m\u001b[0m\u001b[0m\n",
      "\u001b[0;32m~/anaconda3/envs/rad_transfer/lib/python3.6/site-packages/xarray/backends/lru_cache.py\u001b[0m in \u001b[0;36m__getitem__\u001b[0;34m(self, key)\u001b[0m\n\u001b[1;32m     52\u001b[0m         \u001b[0;32mwith\u001b[0m \u001b[0mself\u001b[0m\u001b[0;34m.\u001b[0m\u001b[0m_lock\u001b[0m\u001b[0;34m:\u001b[0m\u001b[0;34m\u001b[0m\u001b[0;34m\u001b[0m\u001b[0m\n\u001b[0;32m---> 53\u001b[0;31m             \u001b[0mvalue\u001b[0m \u001b[0;34m=\u001b[0m \u001b[0mself\u001b[0m\u001b[0;34m.\u001b[0m\u001b[0m_cache\u001b[0m\u001b[0;34m[\u001b[0m\u001b[0mkey\u001b[0m\u001b[0;34m]\u001b[0m\u001b[0;34m\u001b[0m\u001b[0;34m\u001b[0m\u001b[0m\n\u001b[0m\u001b[1;32m     54\u001b[0m             \u001b[0mself\u001b[0m\u001b[0;34m.\u001b[0m\u001b[0m_cache\u001b[0m\u001b[0;34m.\u001b[0m\u001b[0mmove_to_end\u001b[0m\u001b[0;34m(\u001b[0m\u001b[0mkey\u001b[0m\u001b[0;34m)\u001b[0m\u001b[0;34m\u001b[0m\u001b[0;34m\u001b[0m\u001b[0m\n",
      "\u001b[0;31mKeyError\u001b[0m: [<class 'netCDF4._netCDF4.Dataset'>, ('/export/data1/cchristo/merra2/merra2_pres_levels/test3d.nc4',), 'r', (('clobber', True), ('diskless', False), ('format', 'NETCDF4'), ('persist', False))]",
      "\nDuring handling of the above exception, another exception occurred:\n",
      "\u001b[0;31mFileNotFoundError\u001b[0m             Traceback (most recent call last)",
      "\u001b[0;32m<ipython-input-3-0db3dcc636aa>\u001b[0m in \u001b[0;36m<module>\u001b[0;34m\u001b[0m\n\u001b[0;32m----> 1\u001b[0;31m \u001b[0mds_3d\u001b[0m \u001b[0;34m=\u001b[0m \u001b[0mxr\u001b[0m\u001b[0;34m.\u001b[0m\u001b[0mopen_dataset\u001b[0m\u001b[0;34m(\u001b[0m\u001b[0mreanlysis_dir\u001b[0m\u001b[0;34m)\u001b[0m\u001b[0;34m\u001b[0m\u001b[0;34m\u001b[0m\u001b[0m\n\u001b[0m",
      "\u001b[0;32m~/anaconda3/envs/rad_transfer/lib/python3.6/site-packages/xarray/backends/api.py\u001b[0m in \u001b[0;36mopen_dataset\u001b[0;34m(filename_or_obj, group, decode_cf, mask_and_scale, decode_times, autoclose, concat_characters, decode_coords, engine, chunks, lock, cache, drop_variables, backend_kwargs, use_cftime)\u001b[0m\n\u001b[1;32m    500\u001b[0m         \u001b[0;32mif\u001b[0m \u001b[0mengine\u001b[0m \u001b[0;34m==\u001b[0m \u001b[0;34m\"netcdf4\"\u001b[0m\u001b[0;34m:\u001b[0m\u001b[0;34m\u001b[0m\u001b[0;34m\u001b[0m\u001b[0m\n\u001b[1;32m    501\u001b[0m             store = backends.NetCDF4DataStore.open(\n\u001b[0;32m--> 502\u001b[0;31m                 \u001b[0mfilename_or_obj\u001b[0m\u001b[0;34m,\u001b[0m \u001b[0mgroup\u001b[0m\u001b[0;34m=\u001b[0m\u001b[0mgroup\u001b[0m\u001b[0;34m,\u001b[0m \u001b[0mlock\u001b[0m\u001b[0;34m=\u001b[0m\u001b[0mlock\u001b[0m\u001b[0;34m,\u001b[0m \u001b[0;34m**\u001b[0m\u001b[0mbackend_kwargs\u001b[0m\u001b[0;34m\u001b[0m\u001b[0;34m\u001b[0m\u001b[0m\n\u001b[0m\u001b[1;32m    503\u001b[0m             )\n\u001b[1;32m    504\u001b[0m         \u001b[0;32melif\u001b[0m \u001b[0mengine\u001b[0m \u001b[0;34m==\u001b[0m \u001b[0;34m\"scipy\"\u001b[0m\u001b[0;34m:\u001b[0m\u001b[0;34m\u001b[0m\u001b[0;34m\u001b[0m\u001b[0m\n",
      "\u001b[0;32m~/anaconda3/envs/rad_transfer/lib/python3.6/site-packages/xarray/backends/netCDF4_.py\u001b[0m in \u001b[0;36mopen\u001b[0;34m(cls, filename, mode, format, group, clobber, diskless, persist, lock, lock_maker, autoclose)\u001b[0m\n\u001b[1;32m    356\u001b[0m             \u001b[0mnetCDF4\u001b[0m\u001b[0;34m.\u001b[0m\u001b[0mDataset\u001b[0m\u001b[0;34m,\u001b[0m \u001b[0mfilename\u001b[0m\u001b[0;34m,\u001b[0m \u001b[0mmode\u001b[0m\u001b[0;34m=\u001b[0m\u001b[0mmode\u001b[0m\u001b[0;34m,\u001b[0m \u001b[0mkwargs\u001b[0m\u001b[0;34m=\u001b[0m\u001b[0mkwargs\u001b[0m\u001b[0;34m\u001b[0m\u001b[0;34m\u001b[0m\u001b[0m\n\u001b[1;32m    357\u001b[0m         )\n\u001b[0;32m--> 358\u001b[0;31m         \u001b[0;32mreturn\u001b[0m \u001b[0mcls\u001b[0m\u001b[0;34m(\u001b[0m\u001b[0mmanager\u001b[0m\u001b[0;34m,\u001b[0m \u001b[0mgroup\u001b[0m\u001b[0;34m=\u001b[0m\u001b[0mgroup\u001b[0m\u001b[0;34m,\u001b[0m \u001b[0mmode\u001b[0m\u001b[0;34m=\u001b[0m\u001b[0mmode\u001b[0m\u001b[0;34m,\u001b[0m \u001b[0mlock\u001b[0m\u001b[0;34m=\u001b[0m\u001b[0mlock\u001b[0m\u001b[0;34m,\u001b[0m \u001b[0mautoclose\u001b[0m\u001b[0;34m=\u001b[0m\u001b[0mautoclose\u001b[0m\u001b[0;34m)\u001b[0m\u001b[0;34m\u001b[0m\u001b[0;34m\u001b[0m\u001b[0m\n\u001b[0m\u001b[1;32m    359\u001b[0m \u001b[0;34m\u001b[0m\u001b[0m\n\u001b[1;32m    360\u001b[0m     \u001b[0;32mdef\u001b[0m \u001b[0m_acquire\u001b[0m\u001b[0;34m(\u001b[0m\u001b[0mself\u001b[0m\u001b[0;34m,\u001b[0m \u001b[0mneeds_lock\u001b[0m\u001b[0;34m=\u001b[0m\u001b[0;32mTrue\u001b[0m\u001b[0;34m)\u001b[0m\u001b[0;34m:\u001b[0m\u001b[0;34m\u001b[0m\u001b[0;34m\u001b[0m\u001b[0m\n",
      "\u001b[0;32m~/anaconda3/envs/rad_transfer/lib/python3.6/site-packages/xarray/backends/netCDF4_.py\u001b[0m in \u001b[0;36m__init__\u001b[0;34m(self, manager, group, mode, lock, autoclose)\u001b[0m\n\u001b[1;32m    312\u001b[0m         \u001b[0mself\u001b[0m\u001b[0;34m.\u001b[0m\u001b[0m_group\u001b[0m \u001b[0;34m=\u001b[0m \u001b[0mgroup\u001b[0m\u001b[0;34m\u001b[0m\u001b[0;34m\u001b[0m\u001b[0m\n\u001b[1;32m    313\u001b[0m         \u001b[0mself\u001b[0m\u001b[0;34m.\u001b[0m\u001b[0m_mode\u001b[0m \u001b[0;34m=\u001b[0m \u001b[0mmode\u001b[0m\u001b[0;34m\u001b[0m\u001b[0;34m\u001b[0m\u001b[0m\n\u001b[0;32m--> 314\u001b[0;31m         \u001b[0mself\u001b[0m\u001b[0;34m.\u001b[0m\u001b[0mformat\u001b[0m \u001b[0;34m=\u001b[0m \u001b[0mself\u001b[0m\u001b[0;34m.\u001b[0m\u001b[0mds\u001b[0m\u001b[0;34m.\u001b[0m\u001b[0mdata_model\u001b[0m\u001b[0;34m\u001b[0m\u001b[0;34m\u001b[0m\u001b[0m\n\u001b[0m\u001b[1;32m    315\u001b[0m         \u001b[0mself\u001b[0m\u001b[0;34m.\u001b[0m\u001b[0m_filename\u001b[0m \u001b[0;34m=\u001b[0m \u001b[0mself\u001b[0m\u001b[0;34m.\u001b[0m\u001b[0mds\u001b[0m\u001b[0;34m.\u001b[0m\u001b[0mfilepath\u001b[0m\u001b[0;34m(\u001b[0m\u001b[0;34m)\u001b[0m\u001b[0;34m\u001b[0m\u001b[0;34m\u001b[0m\u001b[0m\n\u001b[1;32m    316\u001b[0m         \u001b[0mself\u001b[0m\u001b[0;34m.\u001b[0m\u001b[0mis_remote\u001b[0m \u001b[0;34m=\u001b[0m \u001b[0mis_remote_uri\u001b[0m\u001b[0;34m(\u001b[0m\u001b[0mself\u001b[0m\u001b[0;34m.\u001b[0m\u001b[0m_filename\u001b[0m\u001b[0;34m)\u001b[0m\u001b[0;34m\u001b[0m\u001b[0;34m\u001b[0m\u001b[0m\n",
      "\u001b[0;32m~/anaconda3/envs/rad_transfer/lib/python3.6/site-packages/xarray/backends/netCDF4_.py\u001b[0m in \u001b[0;36mds\u001b[0;34m(self)\u001b[0m\n\u001b[1;32m    365\u001b[0m     \u001b[0;34m@\u001b[0m\u001b[0mproperty\u001b[0m\u001b[0;34m\u001b[0m\u001b[0;34m\u001b[0m\u001b[0m\n\u001b[1;32m    366\u001b[0m     \u001b[0;32mdef\u001b[0m \u001b[0mds\u001b[0m\u001b[0;34m(\u001b[0m\u001b[0mself\u001b[0m\u001b[0;34m)\u001b[0m\u001b[0;34m:\u001b[0m\u001b[0;34m\u001b[0m\u001b[0;34m\u001b[0m\u001b[0m\n\u001b[0;32m--> 367\u001b[0;31m         \u001b[0;32mreturn\u001b[0m \u001b[0mself\u001b[0m\u001b[0;34m.\u001b[0m\u001b[0m_acquire\u001b[0m\u001b[0;34m(\u001b[0m\u001b[0;34m)\u001b[0m\u001b[0;34m\u001b[0m\u001b[0;34m\u001b[0m\u001b[0m\n\u001b[0m\u001b[1;32m    368\u001b[0m \u001b[0;34m\u001b[0m\u001b[0m\n\u001b[1;32m    369\u001b[0m     \u001b[0;32mdef\u001b[0m \u001b[0mopen_store_variable\u001b[0m\u001b[0;34m(\u001b[0m\u001b[0mself\u001b[0m\u001b[0;34m,\u001b[0m \u001b[0mname\u001b[0m\u001b[0;34m,\u001b[0m \u001b[0mvar\u001b[0m\u001b[0;34m)\u001b[0m\u001b[0;34m:\u001b[0m\u001b[0;34m\u001b[0m\u001b[0;34m\u001b[0m\u001b[0m\n",
      "\u001b[0;32m~/anaconda3/envs/rad_transfer/lib/python3.6/site-packages/xarray/backends/netCDF4_.py\u001b[0m in \u001b[0;36m_acquire\u001b[0;34m(self, needs_lock)\u001b[0m\n\u001b[1;32m    359\u001b[0m \u001b[0;34m\u001b[0m\u001b[0m\n\u001b[1;32m    360\u001b[0m     \u001b[0;32mdef\u001b[0m \u001b[0m_acquire\u001b[0m\u001b[0;34m(\u001b[0m\u001b[0mself\u001b[0m\u001b[0;34m,\u001b[0m \u001b[0mneeds_lock\u001b[0m\u001b[0;34m=\u001b[0m\u001b[0;32mTrue\u001b[0m\u001b[0;34m)\u001b[0m\u001b[0;34m:\u001b[0m\u001b[0;34m\u001b[0m\u001b[0;34m\u001b[0m\u001b[0m\n\u001b[0;32m--> 361\u001b[0;31m         \u001b[0;32mwith\u001b[0m \u001b[0mself\u001b[0m\u001b[0;34m.\u001b[0m\u001b[0m_manager\u001b[0m\u001b[0;34m.\u001b[0m\u001b[0macquire_context\u001b[0m\u001b[0;34m(\u001b[0m\u001b[0mneeds_lock\u001b[0m\u001b[0;34m)\u001b[0m \u001b[0;32mas\u001b[0m \u001b[0mroot\u001b[0m\u001b[0;34m:\u001b[0m\u001b[0;34m\u001b[0m\u001b[0;34m\u001b[0m\u001b[0m\n\u001b[0m\u001b[1;32m    362\u001b[0m             \u001b[0mds\u001b[0m \u001b[0;34m=\u001b[0m \u001b[0m_nc4_require_group\u001b[0m\u001b[0;34m(\u001b[0m\u001b[0mroot\u001b[0m\u001b[0;34m,\u001b[0m \u001b[0mself\u001b[0m\u001b[0;34m.\u001b[0m\u001b[0m_group\u001b[0m\u001b[0;34m,\u001b[0m \u001b[0mself\u001b[0m\u001b[0;34m.\u001b[0m\u001b[0m_mode\u001b[0m\u001b[0;34m)\u001b[0m\u001b[0;34m\u001b[0m\u001b[0;34m\u001b[0m\u001b[0m\n\u001b[1;32m    363\u001b[0m         \u001b[0;32mreturn\u001b[0m \u001b[0mds\u001b[0m\u001b[0;34m\u001b[0m\u001b[0;34m\u001b[0m\u001b[0m\n",
      "\u001b[0;32m~/anaconda3/envs/rad_transfer/lib/python3.6/contextlib.py\u001b[0m in \u001b[0;36m__enter__\u001b[0;34m(self)\u001b[0m\n\u001b[1;32m     79\u001b[0m     \u001b[0;32mdef\u001b[0m \u001b[0m__enter__\u001b[0m\u001b[0;34m(\u001b[0m\u001b[0mself\u001b[0m\u001b[0;34m)\u001b[0m\u001b[0;34m:\u001b[0m\u001b[0;34m\u001b[0m\u001b[0;34m\u001b[0m\u001b[0m\n\u001b[1;32m     80\u001b[0m         \u001b[0;32mtry\u001b[0m\u001b[0;34m:\u001b[0m\u001b[0;34m\u001b[0m\u001b[0;34m\u001b[0m\u001b[0m\n\u001b[0;32m---> 81\u001b[0;31m             \u001b[0;32mreturn\u001b[0m \u001b[0mnext\u001b[0m\u001b[0;34m(\u001b[0m\u001b[0mself\u001b[0m\u001b[0;34m.\u001b[0m\u001b[0mgen\u001b[0m\u001b[0;34m)\u001b[0m\u001b[0;34m\u001b[0m\u001b[0;34m\u001b[0m\u001b[0m\n\u001b[0m\u001b[1;32m     82\u001b[0m         \u001b[0;32mexcept\u001b[0m \u001b[0mStopIteration\u001b[0m\u001b[0;34m:\u001b[0m\u001b[0;34m\u001b[0m\u001b[0;34m\u001b[0m\u001b[0m\n\u001b[1;32m     83\u001b[0m             \u001b[0;32mraise\u001b[0m \u001b[0mRuntimeError\u001b[0m\u001b[0;34m(\u001b[0m\u001b[0;34m\"generator didn't yield\"\u001b[0m\u001b[0;34m)\u001b[0m \u001b[0;32mfrom\u001b[0m \u001b[0;32mNone\u001b[0m\u001b[0;34m\u001b[0m\u001b[0;34m\u001b[0m\u001b[0m\n",
      "\u001b[0;32m~/anaconda3/envs/rad_transfer/lib/python3.6/site-packages/xarray/backends/file_manager.py\u001b[0m in \u001b[0;36macquire_context\u001b[0;34m(self, needs_lock)\u001b[0m\n\u001b[1;32m    184\u001b[0m     \u001b[0;32mdef\u001b[0m \u001b[0macquire_context\u001b[0m\u001b[0;34m(\u001b[0m\u001b[0mself\u001b[0m\u001b[0;34m,\u001b[0m \u001b[0mneeds_lock\u001b[0m\u001b[0;34m=\u001b[0m\u001b[0;32mTrue\u001b[0m\u001b[0;34m)\u001b[0m\u001b[0;34m:\u001b[0m\u001b[0;34m\u001b[0m\u001b[0;34m\u001b[0m\u001b[0m\n\u001b[1;32m    185\u001b[0m         \u001b[0;34m\"\"\"Context manager for acquiring a file.\"\"\"\u001b[0m\u001b[0;34m\u001b[0m\u001b[0;34m\u001b[0m\u001b[0m\n\u001b[0;32m--> 186\u001b[0;31m         \u001b[0mfile\u001b[0m\u001b[0;34m,\u001b[0m \u001b[0mcached\u001b[0m \u001b[0;34m=\u001b[0m \u001b[0mself\u001b[0m\u001b[0;34m.\u001b[0m\u001b[0m_acquire_with_cache_info\u001b[0m\u001b[0;34m(\u001b[0m\u001b[0mneeds_lock\u001b[0m\u001b[0;34m)\u001b[0m\u001b[0;34m\u001b[0m\u001b[0;34m\u001b[0m\u001b[0m\n\u001b[0m\u001b[1;32m    187\u001b[0m         \u001b[0;32mtry\u001b[0m\u001b[0;34m:\u001b[0m\u001b[0;34m\u001b[0m\u001b[0;34m\u001b[0m\u001b[0m\n\u001b[1;32m    188\u001b[0m             \u001b[0;32myield\u001b[0m \u001b[0mfile\u001b[0m\u001b[0;34m\u001b[0m\u001b[0;34m\u001b[0m\u001b[0m\n",
      "\u001b[0;32m~/anaconda3/envs/rad_transfer/lib/python3.6/site-packages/xarray/backends/file_manager.py\u001b[0m in \u001b[0;36m_acquire_with_cache_info\u001b[0;34m(self, needs_lock)\u001b[0m\n\u001b[1;32m    202\u001b[0m                     \u001b[0mkwargs\u001b[0m \u001b[0;34m=\u001b[0m \u001b[0mkwargs\u001b[0m\u001b[0;34m.\u001b[0m\u001b[0mcopy\u001b[0m\u001b[0;34m(\u001b[0m\u001b[0;34m)\u001b[0m\u001b[0;34m\u001b[0m\u001b[0;34m\u001b[0m\u001b[0m\n\u001b[1;32m    203\u001b[0m                     \u001b[0mkwargs\u001b[0m\u001b[0;34m[\u001b[0m\u001b[0;34m\"mode\"\u001b[0m\u001b[0;34m]\u001b[0m \u001b[0;34m=\u001b[0m \u001b[0mself\u001b[0m\u001b[0;34m.\u001b[0m\u001b[0m_mode\u001b[0m\u001b[0;34m\u001b[0m\u001b[0;34m\u001b[0m\u001b[0m\n\u001b[0;32m--> 204\u001b[0;31m                 \u001b[0mfile\u001b[0m \u001b[0;34m=\u001b[0m \u001b[0mself\u001b[0m\u001b[0;34m.\u001b[0m\u001b[0m_opener\u001b[0m\u001b[0;34m(\u001b[0m\u001b[0;34m*\u001b[0m\u001b[0mself\u001b[0m\u001b[0;34m.\u001b[0m\u001b[0m_args\u001b[0m\u001b[0;34m,\u001b[0m \u001b[0;34m**\u001b[0m\u001b[0mkwargs\u001b[0m\u001b[0;34m)\u001b[0m\u001b[0;34m\u001b[0m\u001b[0;34m\u001b[0m\u001b[0m\n\u001b[0m\u001b[1;32m    205\u001b[0m                 \u001b[0;32mif\u001b[0m \u001b[0mself\u001b[0m\u001b[0;34m.\u001b[0m\u001b[0m_mode\u001b[0m \u001b[0;34m==\u001b[0m \u001b[0;34m\"w\"\u001b[0m\u001b[0;34m:\u001b[0m\u001b[0;34m\u001b[0m\u001b[0;34m\u001b[0m\u001b[0m\n\u001b[1;32m    206\u001b[0m                     \u001b[0;31m# ensure file doesn't get overriden when opened again\u001b[0m\u001b[0;34m\u001b[0m\u001b[0;34m\u001b[0m\u001b[0;34m\u001b[0m\u001b[0m\n",
      "\u001b[0;32mnetCDF4/_netCDF4.pyx\u001b[0m in \u001b[0;36mnetCDF4._netCDF4.Dataset.__init__\u001b[0;34m()\u001b[0m\n",
      "\u001b[0;32mnetCDF4/_netCDF4.pyx\u001b[0m in \u001b[0;36mnetCDF4._netCDF4._ensure_nc_success\u001b[0;34m()\u001b[0m\n",
      "\u001b[0;31mFileNotFoundError\u001b[0m: [Errno 2] No such file or directory: b'/export/data1/cchristo/merra2/merra2_pres_levels/test3d.nc4'"
     ]
    }
   ],
   "source": [
    "ds_3d = xr.open_dataset(reanlysis_dir)"
   ]
  },
  {
   "cell_type": "code",
   "execution_count": 39,
   "metadata": {},
   "outputs": [],
   "source": [
    "# plt.plot(ds['lon'])"
   ]
  },
  {
   "cell_type": "code",
   "execution_count": 4,
   "metadata": {},
   "outputs": [
    {
     "data": {
      "text/html": [
       "<div><svg style=\"position: absolute; width: 0; height: 0; overflow: hidden\">\n",
       "<defs>\n",
       "<symbol id=\"icon-database\" viewBox=\"0 0 32 32\">\n",
       "<title>Show/Hide data repr</title>\n",
       "<path d=\"M16 0c-8.837 0-16 2.239-16 5v4c0 2.761 7.163 5 16 5s16-2.239 16-5v-4c0-2.761-7.163-5-16-5z\"></path>\n",
       "<path d=\"M16 17c-8.837 0-16-2.239-16-5v6c0 2.761 7.163 5 16 5s16-2.239 16-5v-6c0 2.761-7.163 5-16 5z\"></path>\n",
       "<path d=\"M16 26c-8.837 0-16-2.239-16-5v6c0 2.761 7.163 5 16 5s16-2.239 16-5v-6c0 2.761-7.163 5-16 5z\"></path>\n",
       "</symbol>\n",
       "<symbol id=\"icon-file-text2\" viewBox=\"0 0 32 32\">\n",
       "<title>Show/Hide attributes</title>\n",
       "<path d=\"M28.681 7.159c-0.694-0.947-1.662-2.053-2.724-3.116s-2.169-2.030-3.116-2.724c-1.612-1.182-2.393-1.319-2.841-1.319h-15.5c-1.378 0-2.5 1.121-2.5 2.5v27c0 1.378 1.122 2.5 2.5 2.5h23c1.378 0 2.5-1.122 2.5-2.5v-19.5c0-0.448-0.137-1.23-1.319-2.841zM24.543 5.457c0.959 0.959 1.712 1.825 2.268 2.543h-4.811v-4.811c0.718 0.556 1.584 1.309 2.543 2.268zM28 29.5c0 0.271-0.229 0.5-0.5 0.5h-23c-0.271 0-0.5-0.229-0.5-0.5v-27c0-0.271 0.229-0.5 0.5-0.5 0 0 15.499-0 15.5 0v7c0 0.552 0.448 1 1 1h7v19.5z\"></path>\n",
       "<path d=\"M23 26h-14c-0.552 0-1-0.448-1-1s0.448-1 1-1h14c0.552 0 1 0.448 1 1s-0.448 1-1 1z\"></path>\n",
       "<path d=\"M23 22h-14c-0.552 0-1-0.448-1-1s0.448-1 1-1h14c0.552 0 1 0.448 1 1s-0.448 1-1 1z\"></path>\n",
       "<path d=\"M23 18h-14c-0.552 0-1-0.448-1-1s0.448-1 1-1h14c0.552 0 1 0.448 1 1s-0.448 1-1 1z\"></path>\n",
       "</symbol>\n",
       "</defs>\n",
       "</svg>\n",
       "<style>/* CSS stylesheet for displaying xarray objects in jupyterlab.\n",
       " *\n",
       " */\n",
       "\n",
       ":root {\n",
       "  --xr-font-color0: var(--jp-content-font-color0, rgba(0, 0, 0, 1));\n",
       "  --xr-font-color2: var(--jp-content-font-color2, rgba(0, 0, 0, 0.54));\n",
       "  --xr-font-color3: var(--jp-content-font-color3, rgba(0, 0, 0, 0.38));\n",
       "  --xr-border-color: var(--jp-border-color2, #e0e0e0);\n",
       "  --xr-disabled-color: var(--jp-layout-color3, #bdbdbd);\n",
       "  --xr-background-color: var(--jp-layout-color0, white);\n",
       "  --xr-background-color-row-even: var(--jp-layout-color1, white);\n",
       "  --xr-background-color-row-odd: var(--jp-layout-color2, #eeeeee);\n",
       "}\n",
       "\n",
       ".xr-wrap {\n",
       "  min-width: 300px;\n",
       "  max-width: 700px;\n",
       "}\n",
       "\n",
       ".xr-header {\n",
       "  padding-top: 6px;\n",
       "  padding-bottom: 6px;\n",
       "  margin-bottom: 4px;\n",
       "  border-bottom: solid 1px var(--xr-border-color);\n",
       "}\n",
       "\n",
       ".xr-header > div,\n",
       ".xr-header > ul {\n",
       "  display: inline;\n",
       "  margin-top: 0;\n",
       "  margin-bottom: 0;\n",
       "}\n",
       "\n",
       ".xr-obj-type,\n",
       ".xr-array-name {\n",
       "  margin-left: 2px;\n",
       "  margin-right: 10px;\n",
       "}\n",
       "\n",
       ".xr-obj-type {\n",
       "  color: var(--xr-font-color2);\n",
       "}\n",
       "\n",
       ".xr-sections {\n",
       "  padding-left: 0 !important;\n",
       "  display: grid;\n",
       "  grid-template-columns: 150px auto auto 1fr 20px 20px;\n",
       "}\n",
       "\n",
       ".xr-section-item {\n",
       "  display: contents;\n",
       "}\n",
       "\n",
       ".xr-section-item input {\n",
       "  display: none;\n",
       "}\n",
       "\n",
       ".xr-section-item input + label {\n",
       "  color: var(--xr-disabled-color);\n",
       "}\n",
       "\n",
       ".xr-section-item input:enabled + label {\n",
       "  cursor: pointer;\n",
       "  color: var(--xr-font-color2);\n",
       "}\n",
       "\n",
       ".xr-section-item input:enabled + label:hover {\n",
       "  color: var(--xr-font-color0);\n",
       "}\n",
       "\n",
       ".xr-section-summary {\n",
       "  grid-column: 1;\n",
       "  color: var(--xr-font-color2);\n",
       "  font-weight: 500;\n",
       "}\n",
       "\n",
       ".xr-section-summary > span {\n",
       "  display: inline-block;\n",
       "  padding-left: 0.5em;\n",
       "}\n",
       "\n",
       ".xr-section-summary-in:disabled + label {\n",
       "  color: var(--xr-font-color2);\n",
       "}\n",
       "\n",
       ".xr-section-summary-in + label:before {\n",
       "  display: inline-block;\n",
       "  content: '►';\n",
       "  font-size: 11px;\n",
       "  width: 15px;\n",
       "  text-align: center;\n",
       "}\n",
       "\n",
       ".xr-section-summary-in:disabled + label:before {\n",
       "  color: var(--xr-disabled-color);\n",
       "}\n",
       "\n",
       ".xr-section-summary-in:checked + label:before {\n",
       "  content: '▼';\n",
       "}\n",
       "\n",
       ".xr-section-summary-in:checked + label > span {\n",
       "  display: none;\n",
       "}\n",
       "\n",
       ".xr-section-summary,\n",
       ".xr-section-inline-details {\n",
       "  padding-top: 4px;\n",
       "  padding-bottom: 4px;\n",
       "}\n",
       "\n",
       ".xr-section-inline-details {\n",
       "  grid-column: 2 / -1;\n",
       "}\n",
       "\n",
       ".xr-section-details {\n",
       "  display: none;\n",
       "  grid-column: 1 / -1;\n",
       "  margin-bottom: 5px;\n",
       "}\n",
       "\n",
       ".xr-section-summary-in:checked ~ .xr-section-details {\n",
       "  display: contents;\n",
       "}\n",
       "\n",
       ".xr-array-wrap {\n",
       "  grid-column: 1 / -1;\n",
       "  display: grid;\n",
       "  grid-template-columns: 20px auto;\n",
       "}\n",
       "\n",
       ".xr-array-wrap > label {\n",
       "  grid-column: 1;\n",
       "  vertical-align: top;\n",
       "}\n",
       "\n",
       ".xr-preview {\n",
       "  color: var(--xr-font-color3);\n",
       "}\n",
       "\n",
       ".xr-array-preview,\n",
       ".xr-array-data {\n",
       "  padding: 0 5px !important;\n",
       "  grid-column: 2;\n",
       "}\n",
       "\n",
       ".xr-array-data,\n",
       ".xr-array-in:checked ~ .xr-array-preview {\n",
       "  display: none;\n",
       "}\n",
       "\n",
       ".xr-array-in:checked ~ .xr-array-data,\n",
       ".xr-array-preview {\n",
       "  display: inline-block;\n",
       "}\n",
       "\n",
       ".xr-dim-list {\n",
       "  display: inline-block !important;\n",
       "  list-style: none;\n",
       "  padding: 0 !important;\n",
       "  margin: 0;\n",
       "}\n",
       "\n",
       ".xr-dim-list li {\n",
       "  display: inline-block;\n",
       "  padding: 0;\n",
       "  margin: 0;\n",
       "}\n",
       "\n",
       ".xr-dim-list:before {\n",
       "  content: '(';\n",
       "}\n",
       "\n",
       ".xr-dim-list:after {\n",
       "  content: ')';\n",
       "}\n",
       "\n",
       ".xr-dim-list li:not(:last-child):after {\n",
       "  content: ',';\n",
       "  padding-right: 5px;\n",
       "}\n",
       "\n",
       ".xr-has-index {\n",
       "  font-weight: bold;\n",
       "}\n",
       "\n",
       ".xr-var-list,\n",
       ".xr-var-item {\n",
       "  display: contents;\n",
       "}\n",
       "\n",
       ".xr-var-item > div,\n",
       ".xr-var-item label,\n",
       ".xr-var-item > .xr-var-name span {\n",
       "  background-color: var(--xr-background-color-row-even);\n",
       "  margin-bottom: 0;\n",
       "}\n",
       "\n",
       ".xr-var-item > .xr-var-name:hover span {\n",
       "  padding-right: 5px;\n",
       "}\n",
       "\n",
       ".xr-var-list > li:nth-child(odd) > div,\n",
       ".xr-var-list > li:nth-child(odd) > label,\n",
       ".xr-var-list > li:nth-child(odd) > .xr-var-name span {\n",
       "  background-color: var(--xr-background-color-row-odd);\n",
       "}\n",
       "\n",
       ".xr-var-name {\n",
       "  grid-column: 1;\n",
       "}\n",
       "\n",
       ".xr-var-dims {\n",
       "  grid-column: 2;\n",
       "}\n",
       "\n",
       ".xr-var-dtype {\n",
       "  grid-column: 3;\n",
       "  text-align: right;\n",
       "  color: var(--xr-font-color2);\n",
       "}\n",
       "\n",
       ".xr-var-preview {\n",
       "  grid-column: 4;\n",
       "}\n",
       "\n",
       ".xr-var-name,\n",
       ".xr-var-dims,\n",
       ".xr-var-dtype,\n",
       ".xr-preview,\n",
       ".xr-attrs dt {\n",
       "  white-space: nowrap;\n",
       "  overflow: hidden;\n",
       "  text-overflow: ellipsis;\n",
       "  padding-right: 10px;\n",
       "}\n",
       "\n",
       ".xr-var-name:hover,\n",
       ".xr-var-dims:hover,\n",
       ".xr-var-dtype:hover,\n",
       ".xr-attrs dt:hover {\n",
       "  overflow: visible;\n",
       "  width: auto;\n",
       "  z-index: 1;\n",
       "}\n",
       "\n",
       ".xr-var-attrs,\n",
       ".xr-var-data {\n",
       "  display: none;\n",
       "  background-color: var(--xr-background-color) !important;\n",
       "  padding-bottom: 5px !important;\n",
       "}\n",
       "\n",
       ".xr-var-attrs-in:checked ~ .xr-var-attrs,\n",
       ".xr-var-data-in:checked ~ .xr-var-data {\n",
       "  display: block;\n",
       "}\n",
       "\n",
       ".xr-var-data > table {\n",
       "  float: right;\n",
       "}\n",
       "\n",
       ".xr-var-name span,\n",
       ".xr-var-data,\n",
       ".xr-attrs {\n",
       "  padding-left: 25px !important;\n",
       "}\n",
       "\n",
       ".xr-attrs,\n",
       ".xr-var-attrs,\n",
       ".xr-var-data {\n",
       "  grid-column: 1 / -1;\n",
       "}\n",
       "\n",
       "dl.xr-attrs {\n",
       "  padding: 0;\n",
       "  margin: 0;\n",
       "  display: grid;\n",
       "  grid-template-columns: 125px auto;\n",
       "}\n",
       "\n",
       ".xr-attrs dt, dd {\n",
       "  padding: 0;\n",
       "  margin: 0;\n",
       "  float: left;\n",
       "  padding-right: 10px;\n",
       "  width: auto;\n",
       "}\n",
       "\n",
       ".xr-attrs dt {\n",
       "  font-weight: normal;\n",
       "  grid-column: 1;\n",
       "}\n",
       "\n",
       ".xr-attrs dt:hover span {\n",
       "  display: inline-block;\n",
       "  background: var(--xr-background-color);\n",
       "  padding-right: 10px;\n",
       "}\n",
       "\n",
       ".xr-attrs dd {\n",
       "  grid-column: 2;\n",
       "  white-space: pre-wrap;\n",
       "  word-break: break-all;\n",
       "}\n",
       "\n",
       ".xr-icon-database,\n",
       ".xr-icon-file-text2 {\n",
       "  display: inline-block;\n",
       "  vertical-align: middle;\n",
       "  width: 1em;\n",
       "  height: 1.5em !important;\n",
       "  stroke-width: 0;\n",
       "  stroke: currentColor;\n",
       "  fill: currentColor;\n",
       "}\n",
       "</style><div class='xr-wrap'><div class='xr-header'><div class='xr-obj-type'>xarray.Dataset</div></div><ul class='xr-sections'><li class='xr-section-item'><input id='section-6ef5ef25-3be7-4116-b5ce-05482fbdaed3' class='xr-section-summary-in' type='checkbox' disabled ><label for='section-6ef5ef25-3be7-4116-b5ce-05482fbdaed3' class='xr-section-summary'  title='Expand/collapse section'>Dimensions:</label><div class='xr-section-inline-details'><ul class='xr-dim-list'><li><span class='xr-has-index'>lev</span>: 72</li></ul></div><div class='xr-section-details'></div></li><li class='xr-section-item'><input id='section-47cb6e15-1ad5-40a6-b27b-0481fe3f3c85' class='xr-section-summary-in' type='checkbox'  checked><label for='section-47cb6e15-1ad5-40a6-b27b-0481fe3f3c85' class='xr-section-summary' >Coordinates: <span>(4)</span></label><div class='xr-section-inline-details'></div><div class='xr-section-details'><ul class='xr-var-list'><li class='xr-var-item'><div class='xr-var-name'><span>lon</span></div><div class='xr-var-dims'>()</div><div class='xr-var-dtype'>float64</div><div class='xr-var-preview xr-preview'>-38.75</div><input id='attrs-21deea49-56ec-4e74-a342-b9e532bb4a77' class='xr-var-attrs-in' type='checkbox' ><label for='attrs-21deea49-56ec-4e74-a342-b9e532bb4a77' title='Show/Hide attributes'><svg class='icon xr-icon-file-text2'><use xlink:href='#icon-file-text2'></use></svg></label><input id='data-d4c9e95e-ff0a-434f-8c6d-f6fdcd25cb54' class='xr-var-data-in' type='checkbox'><label for='data-d4c9e95e-ff0a-434f-8c6d-f6fdcd25cb54' title='Show/Hide data repr'><svg class='icon xr-icon-database'><use xlink:href='#icon-database'></use></svg></label><div class='xr-var-attrs'><dl class='xr-attrs'><dt><span>long_name :</span></dt><dd>longitude</dd><dt><span>units :</span></dt><dd>degrees_east</dd><dt><span>vmax :</span></dt><dd>1000000000000000.0</dd><dt><span>vmin :</span></dt><dd>-1000000000000000.0</dd><dt><span>valid_range :</span></dt><dd>[-1.e+15  1.e+15]</dd></dl></div><pre class='xr-var-data'>array(-38.75)</pre></li><li class='xr-var-item'><div class='xr-var-name'><span>lat</span></div><div class='xr-var-dims'>()</div><div class='xr-var-dtype'>float64</div><div class='xr-var-preview xr-preview'>72.5</div><input id='attrs-1cf1e788-55e8-4b45-985c-ee437b59de6c' class='xr-var-attrs-in' type='checkbox' ><label for='attrs-1cf1e788-55e8-4b45-985c-ee437b59de6c' title='Show/Hide attributes'><svg class='icon xr-icon-file-text2'><use xlink:href='#icon-file-text2'></use></svg></label><input id='data-a33c68a0-4a46-4deb-acfe-0d011cb9d19c' class='xr-var-data-in' type='checkbox'><label for='data-a33c68a0-4a46-4deb-acfe-0d011cb9d19c' title='Show/Hide data repr'><svg class='icon xr-icon-database'><use xlink:href='#icon-database'></use></svg></label><div class='xr-var-attrs'><dl class='xr-attrs'><dt><span>long_name :</span></dt><dd>latitude</dd><dt><span>units :</span></dt><dd>degrees_north</dd><dt><span>vmax :</span></dt><dd>1000000000000000.0</dd><dt><span>vmin :</span></dt><dd>-1000000000000000.0</dd><dt><span>valid_range :</span></dt><dd>[-1.e+15  1.e+15]</dd></dl></div><pre class='xr-var-data'>array(72.5)</pre></li><li class='xr-var-item'><div class='xr-var-name'><span class='xr-has-index'>lev</span></div><div class='xr-var-dims'>(lev)</div><div class='xr-var-dtype'>float64</div><div class='xr-var-preview xr-preview'>1.0 2.0 3.0 4.0 ... 70.0 71.0 72.0</div><input id='attrs-5e6d42dd-bd54-445d-8394-d2d5e0c1b6dd' class='xr-var-attrs-in' type='checkbox' ><label for='attrs-5e6d42dd-bd54-445d-8394-d2d5e0c1b6dd' title='Show/Hide attributes'><svg class='icon xr-icon-file-text2'><use xlink:href='#icon-file-text2'></use></svg></label><input id='data-09a222c9-c184-4943-acdf-87640c2a4782' class='xr-var-data-in' type='checkbox'><label for='data-09a222c9-c184-4943-acdf-87640c2a4782' title='Show/Hide data repr'><svg class='icon xr-icon-database'><use xlink:href='#icon-database'></use></svg></label><div class='xr-var-attrs'><dl class='xr-attrs'><dt><span>long_name :</span></dt><dd>vertical level</dd><dt><span>units :</span></dt><dd>layer</dd><dt><span>positive :</span></dt><dd>down</dd><dt><span>coordinate :</span></dt><dd>eta</dd><dt><span>standard_name :</span></dt><dd>model_layers</dd><dt><span>vmax :</span></dt><dd>1000000000000000.0</dd><dt><span>vmin :</span></dt><dd>-1000000000000000.0</dd><dt><span>valid_range :</span></dt><dd>[-1.e+15  1.e+15]</dd></dl></div><pre class='xr-var-data'>array([ 1.,  2.,  3.,  4.,  5.,  6.,  7.,  8.,  9., 10., 11., 12., 13., 14.,\n",
       "       15., 16., 17., 18., 19., 20., 21., 22., 23., 24., 25., 26., 27., 28.,\n",
       "       29., 30., 31., 32., 33., 34., 35., 36., 37., 38., 39., 40., 41., 42.,\n",
       "       43., 44., 45., 46., 47., 48., 49., 50., 51., 52., 53., 54., 55., 56.,\n",
       "       57., 58., 59., 60., 61., 62., 63., 64., 65., 66., 67., 68., 69., 70.,\n",
       "       71., 72.])</pre></li><li class='xr-var-item'><div class='xr-var-name'><span>time</span></div><div class='xr-var-dims'>()</div><div class='xr-var-dtype'>datetime64[ns]</div><div class='xr-var-preview xr-preview'>2015-01-01T01:30:00</div><input id='attrs-90f25816-6a4e-4a77-96bf-6716c1b74696' class='xr-var-attrs-in' type='checkbox' ><label for='attrs-90f25816-6a4e-4a77-96bf-6716c1b74696' title='Show/Hide attributes'><svg class='icon xr-icon-file-text2'><use xlink:href='#icon-file-text2'></use></svg></label><input id='data-e6b461d4-8f8b-4eac-b15c-ef0df4bbbfbc' class='xr-var-data-in' type='checkbox'><label for='data-e6b461d4-8f8b-4eac-b15c-ef0df4bbbfbc' title='Show/Hide data repr'><svg class='icon xr-icon-database'><use xlink:href='#icon-database'></use></svg></label><div class='xr-var-attrs'><dl class='xr-attrs'><dt><span>long_name :</span></dt><dd>time</dd><dt><span>time_increment :</span></dt><dd>30000</dd><dt><span>begin_date :</span></dt><dd>20150101</dd><dt><span>begin_time :</span></dt><dd>13000</dd><dt><span>vmax :</span></dt><dd>1000000000000000.0</dd><dt><span>vmin :</span></dt><dd>-1000000000000000.0</dd><dt><span>valid_range :</span></dt><dd>[-1.e+15  1.e+15]</dd></dl></div><pre class='xr-var-data'>array(&#x27;2015-01-01T01:30:00.000000000&#x27;, dtype=&#x27;datetime64[ns]&#x27;)</pre></li></ul></div></li><li class='xr-section-item'><input id='section-94eb1495-e247-461d-bf78-170959a4c61a' class='xr-section-summary-in' type='checkbox'  ><label for='section-94eb1495-e247-461d-bf78-170959a4c61a' class='xr-section-summary' >Data variables: <span>(17)</span></label><div class='xr-section-inline-details'></div><div class='xr-section-details'><ul class='xr-var-list'><li class='xr-var-item'><div class='xr-var-name'><span>CLOUD</span></div><div class='xr-var-dims'>(lev)</div><div class='xr-var-dtype'>float32</div><div class='xr-var-preview xr-preview'>0.0 0.0 ... 0.04914856 0.5378418</div><input id='attrs-2ad91de0-563d-45f8-9c7c-d96ac3499aa3' class='xr-var-attrs-in' type='checkbox' ><label for='attrs-2ad91de0-563d-45f8-9c7c-d96ac3499aa3' title='Show/Hide attributes'><svg class='icon xr-icon-file-text2'><use xlink:href='#icon-file-text2'></use></svg></label><input id='data-1f76eb88-fdf2-49c2-b73e-f8fa2e73361f' class='xr-var-data-in' type='checkbox'><label for='data-1f76eb88-fdf2-49c2-b73e-f8fa2e73361f' title='Show/Hide data repr'><svg class='icon xr-icon-database'><use xlink:href='#icon-database'></use></svg></label><div class='xr-var-attrs'><dl class='xr-attrs'><dt><span>long_name :</span></dt><dd>cloud_fraction_for_radiation</dd><dt><span>units :</span></dt><dd>1</dd><dt><span>fmissing_value :</span></dt><dd>1000000000000000.0</dd><dt><span>standard_name :</span></dt><dd>cloud_fraction_for_radiation</dd><dt><span>vmax :</span></dt><dd>1000000000000000.0</dd><dt><span>vmin :</span></dt><dd>-1000000000000000.0</dd><dt><span>valid_range :</span></dt><dd>[-1.e+15  1.e+15]</dd></dl></div><pre class='xr-var-data'>array([0.        , 0.        , 0.        , 0.        , 0.        ,\n",
       "       0.        , 0.        , 0.        , 0.        , 0.        ,\n",
       "       0.        , 0.        , 0.        , 0.        , 0.        ,\n",
       "       0.        , 0.        , 0.        , 0.        , 0.        ,\n",
       "       0.        , 0.        , 0.        , 0.        , 0.        ,\n",
       "       0.        , 0.        , 0.        , 0.        , 0.        ,\n",
       "       0.        , 0.        , 0.        , 0.        , 0.        ,\n",
       "       0.        , 0.        , 0.        , 0.        , 0.        ,\n",
       "       0.        , 0.        , 0.        , 0.        , 0.9248047 ,\n",
       "       0.8820801 , 0.8791504 , 0.8823242 , 0.79907227, 0.6738281 ,\n",
       "       0.49072266, 0.366333  , 0.4321289 , 0.77905273, 0.5324707 ,\n",
       "       0.12957764, 0.        , 0.00133944, 0.01501083, 0.05387878,\n",
       "       0.15161133, 0.26611328, 0.23175049, 0.18273926, 0.14233398,\n",
       "       0.13275146, 0.13122559, 0.10198975, 0.03483582, 0.02394104,\n",
       "       0.04914856, 0.5378418 ], dtype=float32)</pre></li><li class='xr-var-item'><div class='xr-var-name'><span>DELP</span></div><div class='xr-var-dims'>(lev)</div><div class='xr-var-dtype'>float32</div><div class='xr-var-preview xr-preview'>1.0000001 1.2700003 ... 975.23047</div><input id='attrs-27c7b161-2f4c-4e51-aba7-ad0641199762' class='xr-var-attrs-in' type='checkbox' ><label for='attrs-27c7b161-2f4c-4e51-aba7-ad0641199762' title='Show/Hide attributes'><svg class='icon xr-icon-file-text2'><use xlink:href='#icon-file-text2'></use></svg></label><input id='data-023a5c52-18f5-4a3c-86c2-62b04e3b1dc8' class='xr-var-data-in' type='checkbox'><label for='data-023a5c52-18f5-4a3c-86c2-62b04e3b1dc8' title='Show/Hide data repr'><svg class='icon xr-icon-database'><use xlink:href='#icon-database'></use></svg></label><div class='xr-var-attrs'><dl class='xr-attrs'><dt><span>long_name :</span></dt><dd>pressure_thickness</dd><dt><span>units :</span></dt><dd>Pa</dd><dt><span>fmissing_value :</span></dt><dd>1000000000000000.0</dd><dt><span>standard_name :</span></dt><dd>pressure_thickness</dd><dt><span>vmax :</span></dt><dd>1000000000000000.0</dd><dt><span>vmin :</span></dt><dd>-1000000000000000.0</dd><dt><span>valid_range :</span></dt><dd>[-1.e+15  1.e+15]</dd></dl></div><pre class='xr-var-data'>array([1.00000012e+00, 1.27000034e+00, 1.48850060e+00, 1.84149969e+00,\n",
       "       2.33449960e+00, 3.03580022e+00, 3.97920203e+00, 5.18540144e+00,\n",
       "       6.71770287e+00, 8.65150356e+00, 1.10765038e+01, 1.40973015e+01,\n",
       "       1.78355083e+01, 2.24306049e+01, 2.81069965e+01, 3.50280113e+01,\n",
       "       4.34180260e+01, 5.35240326e+01, 6.56220322e+01, 8.00140381e+01,\n",
       "       9.70229797e+01, 1.17000000e+02, 1.40304123e+02, 1.67310043e+02,\n",
       "       1.98395996e+02, 2.36649948e+02, 2.81370117e+02, 3.33450165e+02,\n",
       "       3.93880005e+02, 4.63740143e+02, 5.44220398e+02, 6.36540100e+02,\n",
       "       7.46849854e+02, 8.74400146e+02, 1.02155060e+03, 1.19089050e+03,\n",
       "       1.38534033e+03, 1.62972998e+03, 1.91740198e+03, 2.25560034e+03,\n",
       "       2.65370215e+03, 2.87949707e+03, 2.93829956e+03, 3.07552490e+03,\n",
       "       3.20221216e+03, 2.26368433e+03, 2.21126807e+03, 2.13235596e+03,\n",
       "       2.08792310e+03, 2.04210608e+03, 2.02344788e+03, 1.97675366e+03,\n",
       "       1.97666772e+03, 1.94655322e+03, 1.28867773e+03, 1.28714844e+03,\n",
       "       1.28588135e+03, 1.27026013e+03, 1.27026685e+03, 1.01619696e+03,\n",
       "       7.58656799e+02, 7.56901611e+02, 7.55203186e+02, 7.55203979e+02,\n",
       "       7.55221191e+02, 7.53322388e+02, 7.51030396e+02, 7.51016296e+02,\n",
       "       7.51033569e+02, 7.48865906e+02, 7.48679565e+02, 9.75230469e+02],\n",
       "      dtype=float32)</pre></li><li class='xr-var-item'><div class='xr-var-name'><span>EPV</span></div><div class='xr-var-dims'>(lev)</div><div class='xr-var-dtype'>float32</div><div class='xr-var-preview xr-preview'>0.7208953 ... 2.7501901e-05</div><input id='attrs-125684fe-4c87-43d4-88b7-be68fd8e8f18' class='xr-var-attrs-in' type='checkbox' ><label for='attrs-125684fe-4c87-43d4-88b7-be68fd8e8f18' title='Show/Hide attributes'><svg class='icon xr-icon-file-text2'><use xlink:href='#icon-file-text2'></use></svg></label><input id='data-7407c725-46de-4bf2-9d46-92db1efdf20f' class='xr-var-data-in' type='checkbox'><label for='data-7407c725-46de-4bf2-9d46-92db1efdf20f' title='Show/Hide data repr'><svg class='icon xr-icon-database'><use xlink:href='#icon-database'></use></svg></label><div class='xr-var-attrs'><dl class='xr-attrs'><dt><span>long_name :</span></dt><dd>ertels_potential_vorticity</dd><dt><span>units :</span></dt><dd>K m+2 kg-1 s-1</dd><dt><span>fmissing_value :</span></dt><dd>1000000000000000.0</dd><dt><span>standard_name :</span></dt><dd>ertels_potential_vorticity</dd><dt><span>vmax :</span></dt><dd>1000000000000000.0</dd><dt><span>vmin :</span></dt><dd>-1000000000000000.0</dd><dt><span>valid_range :</span></dt><dd>[-1.e+15  1.e+15]</dd></dl></div><pre class='xr-var-data'>array([7.20895290e-01, 3.51133585e-01, 8.67951661e-02, 8.57011080e-02,\n",
       "       2.05423310e-01, 1.88147277e-01, 1.41977742e-01, 1.29347071e-01,\n",
       "       1.03622913e-01, 6.62807450e-02, 4.70453463e-02, 3.54976952e-02,\n",
       "       2.49651633e-02, 2.05540750e-02, 1.43760350e-02, 1.03942528e-02,\n",
       "       8.18956736e-03, 6.11876650e-03, 3.66386259e-03, 1.85145484e-03,\n",
       "       1.43324863e-03, 1.11263734e-03, 8.38160282e-04, 5.36083709e-04,\n",
       "       2.91565550e-04, 2.24001662e-04, 1.60839802e-04, 9.98843607e-05,\n",
       "       6.64093532e-05, 5.77579740e-05, 4.98213012e-05, 3.89598099e-05,\n",
       "       3.10278047e-05, 2.59691060e-05, 1.87716523e-05, 1.48748131e-05,\n",
       "       1.39384865e-05, 1.25365459e-05, 1.10633646e-05, 8.82948370e-06,\n",
       "       6.56723296e-06, 5.36658945e-06, 5.03556248e-06, 4.03155809e-06,\n",
       "       1.64900928e-06, 2.46387344e-07, 5.61754945e-08, 2.52470130e-07,\n",
       "       3.75392432e-07, 4.04858270e-07, 7.14367786e-07, 1.24406984e-06,\n",
       "       1.45975037e-06, 3.66468498e-07, 2.73292002e-08, 5.47733094e-08,\n",
       "       5.24583328e-08, 1.16393224e-07, 5.03602507e-07, 1.09101575e-06,\n",
       "       1.64265839e-06, 1.31538195e-06, 8.07386300e-07, 9.86158966e-07,\n",
       "       1.20729248e-06, 1.32781884e-06, 1.10702706e-06, 3.51222525e-07,\n",
       "       1.91453751e-07, 5.90258992e-07, 3.39467124e-06, 2.75019011e-05],\n",
       "      dtype=float32)</pre></li><li class='xr-var-item'><div class='xr-var-name'><span>H</span></div><div class='xr-var-dims'>(lev)</div><div class='xr-var-dtype'>float32</div><div class='xr-var-preview xr-preview'>75358.0 71471.516 ... 3235.0837</div><input id='attrs-854012be-d4c5-4db4-90da-e099b0c04301' class='xr-var-attrs-in' type='checkbox' ><label for='attrs-854012be-d4c5-4db4-90da-e099b0c04301' title='Show/Hide attributes'><svg class='icon xr-icon-file-text2'><use xlink:href='#icon-file-text2'></use></svg></label><input id='data-44bcc562-2f87-466b-a610-1f7f79f19820' class='xr-var-data-in' type='checkbox'><label for='data-44bcc562-2f87-466b-a610-1f7f79f19820' title='Show/Hide data repr'><svg class='icon xr-icon-database'><use xlink:href='#icon-database'></use></svg></label><div class='xr-var-attrs'><dl class='xr-attrs'><dt><span>long_name :</span></dt><dd>mid_layer_heights</dd><dt><span>units :</span></dt><dd>m</dd><dt><span>fmissing_value :</span></dt><dd>1000000000000000.0</dd><dt><span>standard_name :</span></dt><dd>mid_layer_heights</dd><dt><span>vmax :</span></dt><dd>1000000000000000.0</dd><dt><span>vmin :</span></dt><dd>-1000000000000000.0</dd><dt><span>valid_range :</span></dt><dd>[-1.e+15  1.e+15]</dd></dl></div><pre class='xr-var-data'>array([75358.    , 71471.516 , 68511.34  , 65960.95  , 63544.195 ,\n",
       "       61211.438 , 58914.984 , 56640.453 , 54421.24  , 52269.03  ,\n",
       "       50180.414 , 48167.473 , 46233.047 , 44378.64  , 42606.035 ,\n",
       "       40905.65  , 39280.023 , 37741.715 , 36298.547 , 34927.11  ,\n",
       "       33609.016 , 32346.887 , 31143.21  , 29998.127 , 28896.645 ,\n",
       "       27819.377 , 26758.91  , 25711.67  , 24669.504 , 23628.805 ,\n",
       "       22591.791 , 21562.416 , 20538.287 , 19516.389 , 18496.32  ,\n",
       "       17475.973 , 16455.678 , 15432.016 , 14401.723 , 13368.045 ,\n",
       "       12330.0625, 11326.104 , 10416.515 ,  9607.299 ,  8872.731 ,\n",
       "        8291.254 ,  7847.4214,  7437.044 ,  7056.0693,  6698.826 ,\n",
       "        6360.866 ,  6040.8784,  5736.485 ,  5445.1846,  5212.2344,\n",
       "        5030.0654,  4851.8467,  4678.1416,  4508.954 ,  4358.822 ,\n",
       "        4243.5693,  4146.8853,  4051.4773,  3957.6357,  3864.8618,\n",
       "        3773.0852,  3682.677 ,  3593.738 ,  3504.8706,  3417.4739,\n",
       "        3331.4673,  3235.0837], dtype=float32)</pre></li><li class='xr-var-item'><div class='xr-var-name'><span>O3</span></div><div class='xr-var-dims'>(lev)</div><div class='xr-var-dtype'>float32</div><div class='xr-var-preview xr-preview'>3.3104745e-05 ... 6.4641185e-08</div><input id='attrs-ed380aae-9996-4aab-98f7-5f76eb2610ac' class='xr-var-attrs-in' type='checkbox' ><label for='attrs-ed380aae-9996-4aab-98f7-5f76eb2610ac' title='Show/Hide attributes'><svg class='icon xr-icon-file-text2'><use xlink:href='#icon-file-text2'></use></svg></label><input id='data-d749fc0b-f84b-40ae-b072-2d28eb6b8c47' class='xr-var-data-in' type='checkbox'><label for='data-d749fc0b-f84b-40ae-b072-2d28eb6b8c47' title='Show/Hide data repr'><svg class='icon xr-icon-database'><use xlink:href='#icon-database'></use></svg></label><div class='xr-var-attrs'><dl class='xr-attrs'><dt><span>long_name :</span></dt><dd>ozone_mass_mixing_ratio</dd><dt><span>units :</span></dt><dd>kg kg-1</dd><dt><span>fmissing_value :</span></dt><dd>1000000000000000.0</dd><dt><span>standard_name :</span></dt><dd>ozone_mass_mixing_ratio</dd><dt><span>vmax :</span></dt><dd>1000000000000000.0</dd><dt><span>vmin :</span></dt><dd>-1000000000000000.0</dd><dt><span>valid_range :</span></dt><dd>[-1.e+15  1.e+15]</dd></dl></div><pre class='xr-var-data'>array([3.3104745e-05, 1.6000449e-05, 1.3302675e-05, 1.1392211e-05,\n",
       "       7.4902337e-06, 4.8552392e-06, 3.6765564e-06, 3.0868378e-06,\n",
       "       2.6908965e-06, 2.5331697e-06, 2.6936932e-06, 3.1052346e-06,\n",
       "       3.8946182e-06, 4.9813898e-06, 5.9614167e-06, 6.5397430e-06,\n",
       "       6.9554012e-06, 7.1371305e-06, 7.3766978e-06, 7.6936703e-06,\n",
       "       7.7969744e-06, 7.9228421e-06, 7.7616269e-06, 7.5975986e-06,\n",
       "       7.5197577e-06, 7.7209716e-06, 7.9138172e-06, 8.2622773e-06,\n",
       "       7.9983438e-06, 7.8293415e-06, 7.0843835e-06, 6.4201668e-06,\n",
       "       4.9671844e-06, 4.2975935e-06, 3.9652782e-06, 3.3368422e-06,\n",
       "       2.8882166e-06, 2.2830181e-06, 1.4176806e-06, 9.2162333e-07,\n",
       "       5.6998175e-07, 4.7657565e-07, 3.4784242e-07, 1.5531951e-07,\n",
       "       8.6979824e-08, 5.9420184e-08, 5.6799003e-08, 5.5097331e-08,\n",
       "       5.5122449e-08, 5.5471439e-08, 5.6606613e-08, 5.6956829e-08,\n",
       "       5.7495519e-08, 5.8669634e-08, 5.8887125e-08, 5.8980120e-08,\n",
       "       5.9061261e-08, 5.9263662e-08, 6.0071059e-08, 6.1278620e-08,\n",
       "       6.1762599e-08, 6.2153006e-08, 6.2210788e-08, 6.2185372e-08,\n",
       "       6.2030665e-08, 6.1874417e-08, 6.1775289e-08, 6.1818341e-08,\n",
       "       6.1917440e-08, 6.2338842e-08, 6.2662778e-08, 6.4641185e-08],\n",
       "      dtype=float32)</pre></li><li class='xr-var-item'><div class='xr-var-name'><span>OMEGA</span></div><div class='xr-var-dims'>(lev)</div><div class='xr-var-dtype'>float32</div><div class='xr-var-preview xr-preview'>-3.0135552e-06 ... 0.037999466</div><input id='attrs-eb30f7ae-e7b2-494d-9445-76b3bc951920' class='xr-var-attrs-in' type='checkbox' ><label for='attrs-eb30f7ae-e7b2-494d-9445-76b3bc951920' title='Show/Hide attributes'><svg class='icon xr-icon-file-text2'><use xlink:href='#icon-file-text2'></use></svg></label><input id='data-d10bcfab-6314-4483-9eb3-7bba99adf1fa' class='xr-var-data-in' type='checkbox'><label for='data-d10bcfab-6314-4483-9eb3-7bba99adf1fa' title='Show/Hide data repr'><svg class='icon xr-icon-database'><use xlink:href='#icon-database'></use></svg></label><div class='xr-var-attrs'><dl class='xr-attrs'><dt><span>long_name :</span></dt><dd>vertical_pressure_velocity</dd><dt><span>units :</span></dt><dd>Pa s-1</dd><dt><span>fmissing_value :</span></dt><dd>1000000000000000.0</dd><dt><span>standard_name :</span></dt><dd>vertical_pressure_velocity</dd><dt><span>vmax :</span></dt><dd>1000000000000000.0</dd><dt><span>vmin :</span></dt><dd>-1000000000000000.0</dd><dt><span>valid_range :</span></dt><dd>[-1.e+15  1.e+15]</dd></dl></div><pre class='xr-var-data'>array([-3.01355522e-06, -1.05647305e-05, -1.43918669e-05, -1.03377724e-05,\n",
       "       -7.88112084e-06, -1.31157503e-06,  1.42515601e-05,  3.40095721e-05,\n",
       "        5.78388936e-05,  7.54312496e-05,  8.58343192e-05,  1.15058370e-04,\n",
       "        1.42942779e-04,  1.31932422e-04,  1.31753230e-04,  1.53631001e-04,\n",
       "        2.00751514e-04,  3.46345449e-04,  5.68476506e-04,  6.44818181e-04,\n",
       "        6.48854009e-04,  6.04139408e-04, -2.80280365e-05, -1.27770938e-03,\n",
       "       -2.64846091e-03, -4.04794700e-03, -5.36606833e-03, -6.47133868e-03,\n",
       "       -7.00153504e-03, -7.04563782e-03, -7.28568807e-03, -6.89887581e-03,\n",
       "       -6.32905494e-03, -5.60316257e-03, -3.10417172e-03, -1.32675166e-03,\n",
       "       -3.02291731e-03, -7.25780427e-03, -1.74145922e-02, -3.22453827e-02,\n",
       "       -3.45441252e-02, -1.13710463e-02,  1.87794566e-02, -3.48508358e-04,\n",
       "       -7.31397867e-02, -1.41443342e-01, -1.99094683e-01, -2.50668496e-01,\n",
       "       -2.82615542e-01, -2.92903543e-01, -2.82771349e-01, -2.58139968e-01,\n",
       "       -2.23672628e-01, -1.88016832e-01, -1.64750099e-01, -1.50508702e-01,\n",
       "       -1.35253102e-01, -1.17738076e-01, -9.62416604e-02, -7.30793402e-02,\n",
       "       -5.29800653e-02, -3.49586606e-02, -1.70013309e-02,  5.14239073e-04,\n",
       "        1.69585049e-02,  3.16439569e-02,  4.34828103e-02,  5.20791709e-02,\n",
       "        5.72620928e-02,  5.97049296e-02,  5.82460463e-02,  3.79994661e-02],\n",
       "      dtype=float32)</pre></li><li class='xr-var-item'><div class='xr-var-name'><span>PHIS</span></div><div class='xr-var-dims'>()</div><div class='xr-var-dtype'>float32</div><div class='xr-var-preview xr-preview'>31201.709</div><input id='attrs-fd56c841-2738-4644-8165-2e29061a50a2' class='xr-var-attrs-in' type='checkbox' ><label for='attrs-fd56c841-2738-4644-8165-2e29061a50a2' title='Show/Hide attributes'><svg class='icon xr-icon-file-text2'><use xlink:href='#icon-file-text2'></use></svg></label><input id='data-8ab4a60f-880d-4f83-a9a2-628ee63518cd' class='xr-var-data-in' type='checkbox'><label for='data-8ab4a60f-880d-4f83-a9a2-628ee63518cd' title='Show/Hide data repr'><svg class='icon xr-icon-database'><use xlink:href='#icon-database'></use></svg></label><div class='xr-var-attrs'><dl class='xr-attrs'><dt><span>long_name :</span></dt><dd>surface geopotential height</dd><dt><span>units :</span></dt><dd>m+2 s-2</dd><dt><span>fmissing_value :</span></dt><dd>1000000000000000.0</dd><dt><span>standard_name :</span></dt><dd>surface geopotential height</dd><dt><span>vmax :</span></dt><dd>1000000000000000.0</dd><dt><span>vmin :</span></dt><dd>-1000000000000000.0</dd><dt><span>valid_range :</span></dt><dd>[-1.e+15  1.e+15]</dd></dl></div><pre class='xr-var-data'>array(31201.709, dtype=float32)</pre></li><li class='xr-var-item'><div class='xr-var-name'><span>PL</span></div><div class='xr-var-dims'>(lev)</div><div class='xr-var-dtype'>float32</div><div class='xr-var-preview xr-preview'>1.5000001 2.6350012 ... 64638.945</div><input id='attrs-99a96466-8f72-4d64-b200-212012549378' class='xr-var-attrs-in' type='checkbox' ><label for='attrs-99a96466-8f72-4d64-b200-212012549378' title='Show/Hide attributes'><svg class='icon xr-icon-file-text2'><use xlink:href='#icon-file-text2'></use></svg></label><input id='data-5aa10d95-ffe7-4984-abe7-e5837fa7a516' class='xr-var-data-in' type='checkbox'><label for='data-5aa10d95-ffe7-4984-abe7-e5837fa7a516' title='Show/Hide data repr'><svg class='icon xr-icon-database'><use xlink:href='#icon-database'></use></svg></label><div class='xr-var-attrs'><dl class='xr-attrs'><dt><span>long_name :</span></dt><dd>mid_level_pressure</dd><dt><span>units :</span></dt><dd>Pa</dd><dt><span>fmissing_value :</span></dt><dd>1000000000000000.0</dd><dt><span>standard_name :</span></dt><dd>mid_level_pressure</dd><dt><span>vmax :</span></dt><dd>1000000000000000.0</dd><dt><span>vmin :</span></dt><dd>-1000000000000000.0</dd><dt><span>valid_range :</span></dt><dd>[-1.e+15  1.e+15]</dd></dl></div><pre class='xr-var-data'>array([1.50000012e+00, 2.63500118e+00, 4.01425123e+00, 5.67925215e+00,\n",
       "       7.76725245e+00, 1.04524040e+01, 1.39599009e+01, 1.85422039e+01,\n",
       "       2.44937534e+01, 3.21783485e+01, 4.20423584e+01, 5.46292686e+01,\n",
       "       7.05956726e+01, 9.07287292e+01, 1.15997551e+02, 1.47565002e+02,\n",
       "       1.86788071e+02, 2.35259109e+02, 2.94832062e+02, 3.67650024e+02,\n",
       "       4.56168671e+02, 5.63179993e+02, 6.91832092e+02, 8.45639343e+02,\n",
       "       1.02849219e+03, 1.24601550e+03, 1.50502502e+03, 1.81243506e+03,\n",
       "       2.17610132e+03, 2.60491040e+03, 3.10889062e+03, 3.69927124e+03,\n",
       "       4.39096680e+03, 5.20159229e+03, 6.14956445e+03, 7.25578564e+03,\n",
       "       8.54390527e+03, 1.00514375e+04, 1.18250010e+04, 1.39115010e+04,\n",
       "       1.63661553e+04, 1.91327539e+04, 2.20416211e+04, 2.50484062e+04,\n",
       "       2.81873301e+04, 3.09202734e+04, 3.31577656e+04, 3.53290859e+04,\n",
       "       3.74398438e+04, 3.95046641e+04, 4.15378125e+04, 4.35370273e+04,\n",
       "       4.55132500e+04, 4.74757969e+04, 4.90936016e+04, 5.03818984e+04,\n",
       "       5.16673164e+04, 5.29452500e+04, 5.42161641e+04, 5.53600039e+04,\n",
       "       5.62485312e+04, 5.70042812e+04, 5.77589375e+04, 5.85170547e+04,\n",
       "       5.92711797e+04, 6.00246953e+04, 6.07768594e+04, 6.15282656e+04,\n",
       "       6.22805312e+04, 6.30275859e+04, 6.37788750e+04, 6.46389453e+04],\n",
       "      dtype=float32)</pre></li><li class='xr-var-item'><div class='xr-var-name'><span>PS</span></div><div class='xr-var-dims'>()</div><div class='xr-var-dtype'>float32</div><div class='xr-var-preview xr-preview'>65127.258</div><input id='attrs-50c8cc2f-18f5-4794-9858-f2e0b15ccb38' class='xr-var-attrs-in' type='checkbox' ><label for='attrs-50c8cc2f-18f5-4794-9858-f2e0b15ccb38' title='Show/Hide attributes'><svg class='icon xr-icon-file-text2'><use xlink:href='#icon-file-text2'></use></svg></label><input id='data-b679b6ce-71ee-4968-a091-6d3422679d7a' class='xr-var-data-in' type='checkbox'><label for='data-b679b6ce-71ee-4968-a091-6d3422679d7a' title='Show/Hide data repr'><svg class='icon xr-icon-database'><use xlink:href='#icon-database'></use></svg></label><div class='xr-var-attrs'><dl class='xr-attrs'><dt><span>long_name :</span></dt><dd>surface_pressure</dd><dt><span>units :</span></dt><dd>Pa</dd><dt><span>fmissing_value :</span></dt><dd>1000000000000000.0</dd><dt><span>standard_name :</span></dt><dd>surface_pressure</dd><dt><span>vmax :</span></dt><dd>1000000000000000.0</dd><dt><span>vmin :</span></dt><dd>-1000000000000000.0</dd><dt><span>valid_range :</span></dt><dd>[-1.e+15  1.e+15]</dd></dl></div><pre class='xr-var-data'>array(65127.258, dtype=float32)</pre></li><li class='xr-var-item'><div class='xr-var-name'><span>QI</span></div><div class='xr-var-dims'>(lev)</div><div class='xr-var-dtype'>float32</div><div class='xr-var-preview xr-preview'>0.0 0.0 ... 6.0331076e-06</div><input id='attrs-6a1982c2-24d2-4f2b-b497-2691362de83d' class='xr-var-attrs-in' type='checkbox' ><label for='attrs-6a1982c2-24d2-4f2b-b497-2691362de83d' title='Show/Hide attributes'><svg class='icon xr-icon-file-text2'><use xlink:href='#icon-file-text2'></use></svg></label><input id='data-c2717881-ccfd-4f6d-b82f-a9e044874e4a' class='xr-var-data-in' type='checkbox'><label for='data-c2717881-ccfd-4f6d-b82f-a9e044874e4a' title='Show/Hide data repr'><svg class='icon xr-icon-database'><use xlink:href='#icon-database'></use></svg></label><div class='xr-var-attrs'><dl class='xr-attrs'><dt><span>long_name :</span></dt><dd>mass_fraction_of_cloud_ice_water</dd><dt><span>units :</span></dt><dd>kg kg-1</dd><dt><span>fmissing_value :</span></dt><dd>1000000000000000.0</dd><dt><span>standard_name :</span></dt><dd>mass_fraction_of_cloud_ice_water</dd><dt><span>vmax :</span></dt><dd>1000000000000000.0</dd><dt><span>vmin :</span></dt><dd>-1000000000000000.0</dd><dt><span>valid_range :</span></dt><dd>[-1.e+15  1.e+15]</dd></dl></div><pre class='xr-var-data'>array([0.0000000e+00, 0.0000000e+00, 0.0000000e+00, 0.0000000e+00,\n",
       "       0.0000000e+00, 0.0000000e+00, 0.0000000e+00, 0.0000000e+00,\n",
       "       0.0000000e+00, 0.0000000e+00, 0.0000000e+00, 0.0000000e+00,\n",
       "       0.0000000e+00, 0.0000000e+00, 0.0000000e+00, 0.0000000e+00,\n",
       "       0.0000000e+00, 0.0000000e+00, 0.0000000e+00, 0.0000000e+00,\n",
       "       0.0000000e+00, 0.0000000e+00, 0.0000000e+00, 0.0000000e+00,\n",
       "       0.0000000e+00, 0.0000000e+00, 0.0000000e+00, 0.0000000e+00,\n",
       "       0.0000000e+00, 0.0000000e+00, 0.0000000e+00, 0.0000000e+00,\n",
       "       0.0000000e+00, 0.0000000e+00, 0.0000000e+00, 0.0000000e+00,\n",
       "       0.0000000e+00, 0.0000000e+00, 0.0000000e+00, 0.0000000e+00,\n",
       "       0.0000000e+00, 6.1753018e-30, 5.8150797e-21, 3.1652458e-13,\n",
       "       2.9401854e-06, 5.0086528e-06, 8.9108944e-06, 8.7395310e-06,\n",
       "       9.6820295e-06, 9.4063580e-06, 7.1208924e-06, 5.1315874e-06,\n",
       "       5.6158751e-06, 1.5191734e-05, 7.0445240e-06, 1.2381934e-06,\n",
       "       3.5879202e-07, 1.5314436e-07, 8.0908649e-08, 2.7555507e-07,\n",
       "       4.9569644e-07, 1.3662502e-06, 1.0551885e-06, 6.8568625e-07,\n",
       "       4.8335642e-07, 4.4808257e-07, 4.5134220e-07, 2.9394869e-07,\n",
       "       6.9820089e-08, 4.3000909e-08, 1.2398232e-07, 6.0331076e-06],\n",
       "      dtype=float32)</pre></li><li class='xr-var-item'><div class='xr-var-name'><span>QL</span></div><div class='xr-var-dims'>(lev)</div><div class='xr-var-dtype'>float32</div><div class='xr-var-preview xr-preview'>0.0 0.0 ... 1.3813376e-05</div><input id='attrs-d5fdf1d8-27b1-463b-9910-c38efbf144e3' class='xr-var-attrs-in' type='checkbox' ><label for='attrs-d5fdf1d8-27b1-463b-9910-c38efbf144e3' title='Show/Hide attributes'><svg class='icon xr-icon-file-text2'><use xlink:href='#icon-file-text2'></use></svg></label><input id='data-832828f1-3dc3-4ccb-ae8e-d4edefbdad95' class='xr-var-data-in' type='checkbox'><label for='data-832828f1-3dc3-4ccb-ae8e-d4edefbdad95' title='Show/Hide data repr'><svg class='icon xr-icon-database'><use xlink:href='#icon-database'></use></svg></label><div class='xr-var-attrs'><dl class='xr-attrs'><dt><span>long_name :</span></dt><dd>mass_fraction_of_cloud_liquid_water</dd><dt><span>units :</span></dt><dd>kg kg-1</dd><dt><span>fmissing_value :</span></dt><dd>1000000000000000.0</dd><dt><span>standard_name :</span></dt><dd>mass_fraction_of_cloud_liquid_water</dd><dt><span>vmax :</span></dt><dd>1000000000000000.0</dd><dt><span>vmin :</span></dt><dd>-1000000000000000.0</dd><dt><span>valid_range :</span></dt><dd>[-1.e+15  1.e+15]</dd></dl></div><pre class='xr-var-data'>array([0.0000000e+00, 0.0000000e+00, 0.0000000e+00, 0.0000000e+00,\n",
       "       0.0000000e+00, 0.0000000e+00, 0.0000000e+00, 0.0000000e+00,\n",
       "       0.0000000e+00, 0.0000000e+00, 0.0000000e+00, 0.0000000e+00,\n",
       "       0.0000000e+00, 0.0000000e+00, 0.0000000e+00, 0.0000000e+00,\n",
       "       0.0000000e+00, 0.0000000e+00, 0.0000000e+00, 0.0000000e+00,\n",
       "       0.0000000e+00, 0.0000000e+00, 0.0000000e+00, 0.0000000e+00,\n",
       "       0.0000000e+00, 0.0000000e+00, 0.0000000e+00, 0.0000000e+00,\n",
       "       0.0000000e+00, 0.0000000e+00, 0.0000000e+00, 0.0000000e+00,\n",
       "       0.0000000e+00, 0.0000000e+00, 0.0000000e+00, 0.0000000e+00,\n",
       "       0.0000000e+00, 0.0000000e+00, 0.0000000e+00, 0.0000000e+00,\n",
       "       0.0000000e+00, 0.0000000e+00, 0.0000000e+00, 0.0000000e+00,\n",
       "       2.8204977e-38, 4.2697867e-31, 3.1130345e-25, 1.0006947e-23,\n",
       "       9.7662899e-19, 5.3596017e-14, 3.3605829e-09, 7.4709533e-08,\n",
       "       7.3295087e-07, 5.0086528e-06, 4.8838556e-06, 8.7497756e-07,\n",
       "       2.5727786e-07, 1.1551310e-07, 2.3486791e-07, 1.2055971e-06,\n",
       "       3.0975789e-06, 9.3691051e-06, 7.8082085e-06, 5.4370612e-06,\n",
       "       4.0903687e-06, 3.9581209e-06, 4.1536987e-06, 2.8526410e-06,\n",
       "       7.1595423e-07, 4.6729110e-07, 1.2749806e-06, 1.3813376e-05],\n",
       "      dtype=float32)</pre></li><li class='xr-var-item'><div class='xr-var-name'><span>QV</span></div><div class='xr-var-dims'>(lev)</div><div class='xr-var-dtype'>float32</div><div class='xr-var-preview xr-preview'>1.4038577e-06 ... 0.00028422708</div><input id='attrs-1d96ea25-3491-4dbd-8f72-b6d680dd0803' class='xr-var-attrs-in' type='checkbox' ><label for='attrs-1d96ea25-3491-4dbd-8f72-b6d680dd0803' title='Show/Hide attributes'><svg class='icon xr-icon-file-text2'><use xlink:href='#icon-file-text2'></use></svg></label><input id='data-27224989-7aa9-4b64-8029-2e318dad6885' class='xr-var-data-in' type='checkbox'><label for='data-27224989-7aa9-4b64-8029-2e318dad6885' title='Show/Hide data repr'><svg class='icon xr-icon-database'><use xlink:href='#icon-database'></use></svg></label><div class='xr-var-attrs'><dl class='xr-attrs'><dt><span>long_name :</span></dt><dd>specific_humidity</dd><dt><span>units :</span></dt><dd>kg kg-1</dd><dt><span>fmissing_value :</span></dt><dd>1000000000000000.0</dd><dt><span>standard_name :</span></dt><dd>specific_humidity</dd><dt><span>vmax :</span></dt><dd>1000000000000000.0</dd><dt><span>vmin :</span></dt><dd>-1000000000000000.0</dd><dt><span>valid_range :</span></dt><dd>[-1.e+15  1.e+15]</dd></dl></div><pre class='xr-var-data'>array([1.4038577e-06, 1.8912140e-06, 2.2032659e-06, 2.4775416e-06,\n",
       "       2.1058522e-06, 1.9093359e-06, 2.1282769e-06, 2.3044709e-06,\n",
       "       2.5273857e-06, 2.8184477e-06, 3.0672290e-06, 3.2305375e-06,\n",
       "       3.4221080e-06, 3.6166834e-06, 3.7434866e-06, 3.8059752e-06,\n",
       "       3.8542739e-06, 3.8974949e-06, 3.9283218e-06, 3.9336901e-06,\n",
       "       3.8951557e-06, 3.8277344e-06, 3.7311229e-06, 3.6215820e-06,\n",
       "       3.5338326e-06, 3.4511322e-06, 3.3628796e-06, 3.2612525e-06,\n",
       "       3.1864865e-06, 3.0778590e-06, 2.9989387e-06, 2.9148759e-06,\n",
       "       2.8725790e-06, 2.8208799e-06, 2.7710644e-06, 2.7659969e-06,\n",
       "       2.8098113e-06, 2.9465134e-06, 3.3852689e-06, 4.2508527e-06,\n",
       "       4.8092329e-06, 6.7892579e-06, 9.6002832e-06, 1.1982345e-05,\n",
       "       1.8256513e-05, 2.6844409e-05, 4.3615604e-05, 6.4710381e-05,\n",
       "       8.9228895e-05, 1.1813993e-04, 1.4837807e-04, 1.7209984e-04,\n",
       "       2.0016500e-04, 2.4509575e-04, 2.9552376e-04, 3.2455777e-04,\n",
       "       3.3442187e-04, 3.4825312e-04, 4.2428670e-04, 5.1950908e-04,\n",
       "       5.5872643e-04, 5.6795281e-04, 5.8497069e-04, 5.9755042e-04,\n",
       "       6.0343195e-04, 6.0238555e-04, 6.0356420e-04, 6.1395107e-04,\n",
       "       6.3355797e-04, 6.5262645e-04, 6.5978785e-04, 2.8422708e-04],\n",
       "      dtype=float32)</pre></li><li class='xr-var-item'><div class='xr-var-name'><span>RH</span></div><div class='xr-var-dims'>(lev)</div><div class='xr-var-dtype'>float32</div><div class='xr-var-preview xr-preview'>1.4048693e-06 ... 0.99978954</div><input id='attrs-6ac89023-fee8-40e3-a0e2-3861ea7ef937' class='xr-var-attrs-in' type='checkbox' ><label for='attrs-6ac89023-fee8-40e3-a0e2-3861ea7ef937' title='Show/Hide attributes'><svg class='icon xr-icon-file-text2'><use xlink:href='#icon-file-text2'></use></svg></label><input id='data-aaa9a8bb-09b0-4801-b0ed-37e43762ef93' class='xr-var-data-in' type='checkbox'><label for='data-aaa9a8bb-09b0-4801-b0ed-37e43762ef93' title='Show/Hide data repr'><svg class='icon xr-icon-database'><use xlink:href='#icon-database'></use></svg></label><div class='xr-var-attrs'><dl class='xr-attrs'><dt><span>long_name :</span></dt><dd>relative_humidity_after_moist</dd><dt><span>units :</span></dt><dd>1</dd><dt><span>fmissing_value :</span></dt><dd>1000000000000000.0</dd><dt><span>standard_name :</span></dt><dd>relative_humidity_after_moist</dd><dt><span>vmax :</span></dt><dd>1000000000000000.0</dd><dt><span>vmin :</span></dt><dd>-1000000000000000.0</dd><dt><span>valid_range :</span></dt><dd>[-1.e+15  1.e+15]</dd></dl></div><pre class='xr-var-data'>array([1.4048693e-06, 1.8931979e-06, 2.2052054e-06, 2.4789961e-06,\n",
       "       2.1063765e-06, 1.9091863e-06, 2.1278233e-06, 2.3037255e-06,\n",
       "       2.5265158e-06, 2.8180946e-06, 3.0669287e-06, 3.2299283e-06,\n",
       "       3.4219768e-06, 5.1400239e-06, 1.4841200e-05, 3.4079581e-05,\n",
       "       9.5651645e-05, 3.6816383e-04, 1.5692771e-03, 3.0298855e-03,\n",
       "       6.2809484e-03, 1.5136829e-02, 3.9117951e-02, 1.0039212e-01,\n",
       "       1.3217220e-01, 1.5513512e-01, 1.8376891e-01, 1.6986965e-01,\n",
       "       1.2373731e-01, 8.8888466e-02, 7.4245654e-02, 6.6014260e-02,\n",
       "       5.7025503e-02, 5.0948132e-02, 4.2561788e-02, 3.3933975e-02,\n",
       "       2.9574782e-02, 2.9246032e-02, 3.4328889e-02, 4.8079059e-02,\n",
       "       5.3902674e-02, 8.6784594e-02, 1.6268450e-01, 4.5802519e-01,\n",
       "       9.9988401e-01, 1.0000378e+00, 1.0000402e+00, 1.0000025e+00,\n",
       "       9.9659348e-01, 9.8220968e-01, 9.5632827e-01, 9.2481488e-01,\n",
       "       9.5166737e-01, 9.9975616e-01, 9.8461944e-01, 9.3066889e-01,\n",
       "       8.2202429e-01, 7.4145699e-01, 7.9322284e-01, 9.0676796e-01,\n",
       "       9.5109385e-01, 9.7267544e-01, 9.6738201e-01, 9.5783007e-01,\n",
       "       9.4715881e-01, 9.4065243e-01, 9.3774545e-01, 9.2718965e-01,\n",
       "       8.9462900e-01, 8.7601954e-01, 8.9639509e-01, 9.9978954e-01],\n",
       "      dtype=float32)</pre></li><li class='xr-var-item'><div class='xr-var-name'><span>SLP</span></div><div class='xr-var-dims'>()</div><div class='xr-var-dtype'>float32</div><div class='xr-var-preview xr-preview'>98678.55</div><input id='attrs-99f3c26a-39e9-45d2-8c33-fe33984b9ff5' class='xr-var-attrs-in' type='checkbox' ><label for='attrs-99f3c26a-39e9-45d2-8c33-fe33984b9ff5' title='Show/Hide attributes'><svg class='icon xr-icon-file-text2'><use xlink:href='#icon-file-text2'></use></svg></label><input id='data-acb970ab-b72f-4103-93d9-11f916c80eb9' class='xr-var-data-in' type='checkbox'><label for='data-acb970ab-b72f-4103-93d9-11f916c80eb9' title='Show/Hide data repr'><svg class='icon xr-icon-database'><use xlink:href='#icon-database'></use></svg></label><div class='xr-var-attrs'><dl class='xr-attrs'><dt><span>long_name :</span></dt><dd>sea_level_pressure</dd><dt><span>units :</span></dt><dd>Pa</dd><dt><span>fmissing_value :</span></dt><dd>1000000000000000.0</dd><dt><span>standard_name :</span></dt><dd>sea_level_pressure</dd><dt><span>vmax :</span></dt><dd>1000000000000000.0</dd><dt><span>vmin :</span></dt><dd>-1000000000000000.0</dd><dt><span>valid_range :</span></dt><dd>[-1.e+15  1.e+15]</dd></dl></div><pre class='xr-var-data'>array(98678.55, dtype=float32)</pre></li><li class='xr-var-item'><div class='xr-var-name'><span>T</span></div><div class='xr-var-dims'>(lev)</div><div class='xr-var-dtype'>float32</div><div class='xr-var-preview xr-preview'>221.07222 228.48985 ... 240.61005</div><input id='attrs-4546b684-4c1e-4d7d-883c-c7795c2fa192' class='xr-var-attrs-in' type='checkbox' ><label for='attrs-4546b684-4c1e-4d7d-883c-c7795c2fa192' title='Show/Hide attributes'><svg class='icon xr-icon-file-text2'><use xlink:href='#icon-file-text2'></use></svg></label><input id='data-0c5a33c0-f15d-497c-a071-0fde370f8a74' class='xr-var-data-in' type='checkbox'><label for='data-0c5a33c0-f15d-497c-a071-0fde370f8a74' title='Show/Hide data repr'><svg class='icon xr-icon-database'><use xlink:href='#icon-database'></use></svg></label><div class='xr-var-attrs'><dl class='xr-attrs'><dt><span>long_name :</span></dt><dd>air_temperature</dd><dt><span>units :</span></dt><dd>K</dd><dt><span>fmissing_value :</span></dt><dd>1000000000000000.0</dd><dt><span>standard_name :</span></dt><dd>air_temperature</dd><dt><span>vmax :</span></dt><dd>1000000000000000.0</dd><dt><span>vmin :</span></dt><dd>-1000000000000000.0</dd><dt><span>valid_range :</span></dt><dd>[-1.e+15  1.e+15]</dd></dl></div><pre class='xr-var-data'>array([221.07222, 228.48985, 239.63826, 257.94742, 266.68463, 268.7738 ,\n",
       "       272.78143, 273.79156, 270.3083 , 267.7705 , 265.19492, 259.32642,\n",
       "       255.24649, 248.9253 , 243.35822, 238.68536, 232.00607, 222.85999,\n",
       "       213.50742, 210.33199, 206.65701, 202.00674, 197.02666, 192.26141,\n",
       "       191.6496 , 191.7048 , 191.6682 , 193.08942, 196.03119, 199.06946,\n",
       "       201.23727, 202.99411, 205.05206, 206.88683, 209.22038, 212.04053,\n",
       "       214.38113, 216.04797, 217.1306 , 217.54   , 218.87251, 219.08765,\n",
       "       218.04489, 212.96625, 211.09686, 214.67311, 218.87723, 222.58606,\n",
       "       225.69728, 228.63467, 231.2642 , 233.28546, 234.7702 , 236.39337,\n",
       "       238.65356, 240.3732 , 242.06638, 243.70901, 245.1625 , 246.01465,\n",
       "       246.40927, 246.44565, 246.92673, 247.36362, 247.69531, 247.88025,\n",
       "       248.05804, 248.47015, 249.26688, 249.88794, 249.9173 , 240.61005],\n",
       "      dtype=float32)</pre></li><li class='xr-var-item'><div class='xr-var-name'><span>U</span></div><div class='xr-var-dims'>(lev)</div><div class='xr-var-dtype'>float32</div><div class='xr-var-preview xr-preview'>17.690289 21.883034 ... -2.072624</div><input id='attrs-d5319dad-abd6-45e6-a609-2c042795ba58' class='xr-var-attrs-in' type='checkbox' ><label for='attrs-d5319dad-abd6-45e6-a609-2c042795ba58' title='Show/Hide attributes'><svg class='icon xr-icon-file-text2'><use xlink:href='#icon-file-text2'></use></svg></label><input id='data-3ca69385-d723-401a-84bf-a94ba2cbf86c' class='xr-var-data-in' type='checkbox'><label for='data-3ca69385-d723-401a-84bf-a94ba2cbf86c' title='Show/Hide data repr'><svg class='icon xr-icon-database'><use xlink:href='#icon-database'></use></svg></label><div class='xr-var-attrs'><dl class='xr-attrs'><dt><span>long_name :</span></dt><dd>eastward_wind</dd><dt><span>units :</span></dt><dd>m s-1</dd><dt><span>fmissing_value :</span></dt><dd>1000000000000000.0</dd><dt><span>standard_name :</span></dt><dd>eastward_wind</dd><dt><span>vmax :</span></dt><dd>1000000000000000.0</dd><dt><span>vmin :</span></dt><dd>-1000000000000000.0</dd><dt><span>valid_range :</span></dt><dd>[-1.e+15  1.e+15]</dd></dl></div><pre class='xr-var-data'>array([ 17.690289  ,  21.883034  ,  27.492508  ,  34.600563  ,\n",
       "        25.96095   ,  20.328104  ,  19.836224  ,  17.349014  ,\n",
       "        17.072573  ,  20.504293  ,  24.029037  ,  23.446114  ,\n",
       "        21.434662  ,  18.75154   ,  16.501019  ,  17.097874  ,\n",
       "        20.99665   ,  26.680264  ,  31.810326  ,  33.863758  ,\n",
       "        32.954582  ,  33.37215   ,  36.09862   ,  38.868275  ,\n",
       "        40.056942  ,  39.4269    ,  37.649467  ,  36.44501   ,\n",
       "        33.444805  ,  29.313522  ,  26.280172  ,  22.806671  ,\n",
       "        20.2238    ,  17.837908  ,  13.97471   ,  10.359213  ,\n",
       "         8.924614  ,   7.6449533 ,   4.6124916 ,   1.6153727 ,\n",
       "         0.3572111 ,  -0.44343662,  -3.9243064 , -10.625549  ,\n",
       "        -8.682931  ,  -7.907815  ,  -7.9175725 ,  -7.310009  ,\n",
       "        -6.9859962 ,  -6.8819447 ,  -7.1410093 ,  -7.431941  ,\n",
       "        -7.3081408 ,  -6.5959225 ,  -6.287546  ,  -6.1340356 ,\n",
       "        -6.0132365 ,  -5.821416  ,  -5.253002  ,  -4.564312  ,\n",
       "        -4.0004425 ,  -3.494123  ,  -3.05788   ,  -2.626003  ,\n",
       "        -2.192417  ,  -1.7694399 ,  -1.3750042 ,  -1.0351604 ,\n",
       "        -0.77949   ,  -0.60492736,  -0.9617137 ,  -2.072624  ],\n",
       "      dtype=float32)</pre></li><li class='xr-var-item'><div class='xr-var-name'><span>V</span></div><div class='xr-var-dims'>(lev)</div><div class='xr-var-dtype'>float32</div><div class='xr-var-preview xr-preview'>15.700793 20.973808 ... 8.899612</div><input id='attrs-87f8a0ef-b303-4014-9950-fcd6252a7dc1' class='xr-var-attrs-in' type='checkbox' ><label for='attrs-87f8a0ef-b303-4014-9950-fcd6252a7dc1' title='Show/Hide attributes'><svg class='icon xr-icon-file-text2'><use xlink:href='#icon-file-text2'></use></svg></label><input id='data-e8c823c8-797f-4d59-afb7-4cd2a53c67b7' class='xr-var-data-in' type='checkbox'><label for='data-e8c823c8-797f-4d59-afb7-4cd2a53c67b7' title='Show/Hide data repr'><svg class='icon xr-icon-database'><use xlink:href='#icon-database'></use></svg></label><div class='xr-var-attrs'><dl class='xr-attrs'><dt><span>long_name :</span></dt><dd>northward_wind</dd><dt><span>units :</span></dt><dd>m s-1</dd><dt><span>fmissing_value :</span></dt><dd>1000000000000000.0</dd><dt><span>standard_name :</span></dt><dd>northward_wind</dd><dt><span>vmax :</span></dt><dd>1000000000000000.0</dd><dt><span>vmin :</span></dt><dd>-1000000000000000.0</dd><dt><span>valid_range :</span></dt><dd>[-1.e+15  1.e+15]</dd></dl></div><pre class='xr-var-data'>array([15.700793 , 20.973808 , 31.597954 , 38.87103  , 35.70203  ,\n",
       "       36.11396  , 32.72097  , 31.671112 , 27.59198  , 20.766563 ,\n",
       "       18.963188 , 17.53345  , 15.811979 , 15.284006 , 14.611063 ,\n",
       "       14.31658  , 13.911766 , 14.636948 , 16.426342 , 16.704792 ,\n",
       "       17.084276 , 20.128656 , 23.211357 , 26.966856 , 28.997112 ,\n",
       "       30.048428 , 31.086693 , 31.23906  , 30.114048 , 29.13587  ,\n",
       "       28.298336 , 26.166584 , 24.545662 , 24.242025 , 23.585705 ,\n",
       "       20.758018 , 18.633997 , 18.731098 , 18.364021 , 16.65398  ,\n",
       "       15.656368 , 14.382885 , 17.03443  , 12.528647 ,  6.411848 ,\n",
       "        6.6448827,  7.1936636,  8.209362 ,  8.101489 ,  7.5626   ,\n",
       "        6.8013716,  5.626898 ,  4.117106 ,  3.1512167,  3.2415392,\n",
       "        3.3909733,  3.5092561,  3.6693778,  4.038742 ,  4.4282813,\n",
       "        4.8204703,  5.224033 ,  5.636463 ,  6.103837 ,  6.636169 ,\n",
       "        7.215291 ,  7.8097134,  8.395863 ,  8.925349 ,  9.500194 ,\n",
       "        9.739429 ,  8.899612 ], dtype=float32)</pre></li></ul></div></li><li class='xr-section-item'><input id='section-85d7b8ff-2e62-48d5-a755-23db5a48b5de' class='xr-section-summary-in' type='checkbox'  ><label for='section-85d7b8ff-2e62-48d5-a755-23db5a48b5de' class='xr-section-summary' >Attributes: <span>(30)</span></label><div class='xr-section-inline-details'></div><div class='xr-section-details'><dl class='xr-attrs'><dt><span>History :</span></dt><dd>Original file generated: Thu Mar 12 05:12:54 2015 GMT</dd><dt><span>Comment :</span></dt><dd>GMAO filename: d5124_m2_jan10.tavg3_3d_asm_Nv.20150101.nc4</dd><dt><span>Filename :</span></dt><dd>MERRA2_400.tavg3_3d_asm_Nv.20150101.nc4</dd><dt><span>Conventions :</span></dt><dd>CF-1</dd><dt><span>Institution :</span></dt><dd>NASA Global Modeling and Assimilation Office</dd><dt><span>References :</span></dt><dd>http://gmao.gsfc.nasa.gov</dd><dt><span>Format :</span></dt><dd>NetCDF-4/HDF-5</dd><dt><span>SpatialCoverage :</span></dt><dd>global</dd><dt><span>VersionID :</span></dt><dd>5.12.4</dd><dt><span>TemporalRange :</span></dt><dd>1980-01-01 -&gt; 2016-12-31</dd><dt><span>identifier_product_doi_authority :</span></dt><dd>http://dx.doi.org/</dd><dt><span>ShortName :</span></dt><dd>M2T3NVASM</dd><dt><span>GranuleID :</span></dt><dd>MERRA2_400.tavg3_3d_asm_Nv.20150101.nc4</dd><dt><span>ProductionDateTime :</span></dt><dd>Original file generated: Thu Mar 12 05:12:54 2015 GMT</dd><dt><span>LongName :</span></dt><dd>MERRA2 tavg3_3d_asm_Nv: 3d,3-Hourly,Time-Averaged,Model-Level,Assimilation,Assimilated Meteorological Fields</dd><dt><span>Title :</span></dt><dd>MERRA2 tavg3_3d_asm_Nv: 3d,3-Hourly,Time-Averaged,Model-Level,Assimilation,Assimilated Meteorological Fields</dd><dt><span>SouthernmostLatitude :</span></dt><dd>-90.0</dd><dt><span>NorthernmostLatitude :</span></dt><dd>90.0</dd><dt><span>WesternmostLongitude :</span></dt><dd>-180.0</dd><dt><span>EasternmostLongitude :</span></dt><dd>179.375</dd><dt><span>LatitudeResolution :</span></dt><dd>0.5</dd><dt><span>LongitudeResolution :</span></dt><dd>0.625</dd><dt><span>DataResolution :</span></dt><dd>0.5 x 0.625 (72 native layers)</dd><dt><span>Source :</span></dt><dd>CVS tag: GEOSadas-5_12_4</dd><dt><span>Contact :</span></dt><dd>http://gmao.gsfc.nasa.gov</dd><dt><span>identifier_product_doi :</span></dt><dd>10.5067/SUOQESM06LPK</dd><dt><span>RangeBeginningDate :</span></dt><dd>2015-01-01</dd><dt><span>RangeBeginningTime :</span></dt><dd>00:00:00.000000</dd><dt><span>RangeEndingDate :</span></dt><dd>2015-01-01</dd><dt><span>RangeEndingTime :</span></dt><dd>23:59:59.000000</dd></dl></div></li></ul></div></div>"
      ],
      "text/plain": [
       "<xarray.Dataset>\n",
       "Dimensions:  (lev: 72)\n",
       "Coordinates:\n",
       "    lon      float64 -38.75\n",
       "    lat      float64 72.5\n",
       "  * lev      (lev) float64 1.0 2.0 3.0 4.0 5.0 6.0 ... 68.0 69.0 70.0 71.0 72.0\n",
       "    time     datetime64[ns] 2015-01-01T01:30:00\n",
       "Data variables:\n",
       "    CLOUD    (lev) float32 0.0 0.0 0.0 0.0 ... 0.02394104 0.04914856 0.5378418\n",
       "    DELP     (lev) float32 1.0000001 1.2700003 1.4885006 ... 748.67957 975.23047\n",
       "    EPV      (lev) float32 0.7208953 0.35113358 ... 3.3946712e-06 2.7501901e-05\n",
       "    H        (lev) float32 75358.0 71471.516 68511.34 ... 3331.4673 3235.0837\n",
       "    O3       (lev) float32 3.3104745e-05 1.600045e-05 ... 6.4641185e-08\n",
       "    OMEGA    (lev) float32 -3.0135552e-06 -1.05647305e-05 ... 0.037999466\n",
       "    PHIS     float32 31201.709\n",
       "    PL       (lev) float32 1.5000001 2.6350012 4.014251 ... 63778.875 64638.945\n",
       "    PS       float32 65127.258\n",
       "    QI       (lev) float32 0.0 0.0 0.0 ... 1.2398232e-07 6.0331076e-06\n",
       "    QL       (lev) float32 0.0 0.0 0.0 ... 1.2749806e-06 1.3813376e-05\n",
       "    QV       (lev) float32 1.4038577e-06 1.891214e-06 ... 0.00028422708\n",
       "    RH       (lev) float32 1.4048693e-06 1.8931979e-06 ... 0.8963951 0.99978954\n",
       "    SLP      float32 98678.55\n",
       "    T        (lev) float32 221.07222 228.48985 239.63826 ... 249.9173 240.61005\n",
       "    U        (lev) float32 17.690289 21.883034 ... -0.9617137 -2.072624\n",
       "    V        (lev) float32 15.700793 20.973808 31.597954 ... 9.739429 8.899612\n",
       "Attributes:\n",
       "    History:                           Original file generated: Thu Mar 12 05...\n",
       "    Comment:                           GMAO filename: d5124_m2_jan10.tavg3_3d...\n",
       "    Filename:                          MERRA2_400.tavg3_3d_asm_Nv.20150101.nc4\n",
       "    Conventions:                       CF-1\n",
       "    Institution:                       NASA Global Modeling and Assimilation ...\n",
       "    References:                        http://gmao.gsfc.nasa.gov\n",
       "    Format:                            NetCDF-4/HDF-5\n",
       "    SpatialCoverage:                   global\n",
       "    VersionID:                         5.12.4\n",
       "    TemporalRange:                     1980-01-01 -> 2016-12-31\n",
       "    identifier_product_doi_authority:  http://dx.doi.org/\n",
       "    ShortName:                         M2T3NVASM\n",
       "    GranuleID:                         MERRA2_400.tavg3_3d_asm_Nv.20150101.nc4\n",
       "    ProductionDateTime:                Original file generated: Thu Mar 12 05...\n",
       "    LongName:                          MERRA2 tavg3_3d_asm_Nv: 3d,3-Hourly,Ti...\n",
       "    Title:                             MERRA2 tavg3_3d_asm_Nv: 3d,3-Hourly,Ti...\n",
       "    SouthernmostLatitude:              -90.0\n",
       "    NorthernmostLatitude:              90.0\n",
       "    WesternmostLongitude:              -180.0\n",
       "    EasternmostLongitude:              179.375\n",
       "    LatitudeResolution:                0.5\n",
       "    LongitudeResolution:               0.625\n",
       "    DataResolution:                    0.5 x 0.625 (72 native layers)\n",
       "    Source:                            CVS tag: GEOSadas-5_12_4\n",
       "    Contact:                           http://gmao.gsfc.nasa.gov\n",
       "    identifier_product_doi:            10.5067/SUOQESM06LPK\n",
       "    RangeBeginningDate:                2015-01-01\n",
       "    RangeBeginningTime:                00:00:00.000000\n",
       "    RangeEndingDate:                   2015-01-01\n",
       "    RangeEndingTime:                   23:59:59.000000"
      ]
     },
     "execution_count": 4,
     "metadata": {},
     "output_type": "execute_result"
    }
   ],
   "source": [
    "ds = ds_3d.sel(lat = 72.5796, lon = -38.4588, time = 0, method = 'nearest')\n",
    "ds.load()"
   ]
  },
  {
   "cell_type": "code",
   "execution_count": 5,
   "metadata": {},
   "outputs": [
    {
     "data": {
      "text/plain": [
       "[<matplotlib.lines.Line2D at 0x7fc373224080>]"
      ]
     },
     "execution_count": 5,
     "metadata": {},
     "output_type": "execute_result"
    },
    {
     "data": {
      "image/png": "[encoded data removed]",
      "text/plain": [
       "<Figure size 432x288 with 1 Axes>"
      ]
     },
     "metadata": {
      "needs_background": "light"
     },
     "output_type": "display_data"
    }
   ],
   "source": [
    "# ds['T'].isel(time = 1, lev = 10).plot.imshow()\n",
    "ds['T'].plot()"
   ]
  },
  {
   "cell_type": "code",
   "execution_count": 50,
   "metadata": {},
   "outputs": [],
   "source": [
    "# ds['DELP'].isel(time = 1, lev = 1).plot.imshow()"
   ]
  },
  {
   "cell_type": "code",
   "execution_count": 18,
   "metadata": {},
   "outputs": [
    {
     "name": "stdout",
     "output_type": "stream",
     "text": [
      "lon longitude\n",
      "lat latitude\n",
      "lev vertical level\n",
      "time time\n",
      "CLOUD cloud_fraction_for_radiation\n",
      "DELP pressure_thickness\n",
      "EPV ertels_potential_vorticity\n",
      "H mid_layer_heights\n",
      "O3 ozone_mass_mixing_ratio\n",
      "OMEGA vertical_pressure_velocity\n",
      "PHIS surface geopotential height\n",
      "PL mid_level_pressure\n",
      "PS surface_pressure\n",
      "QI mass_fraction_of_cloud_ice_water\n",
      "QL mass_fraction_of_cloud_liquid_water\n",
      "QV specific_humidity\n",
      "RH relative_humidity_after_moist\n",
      "SLP sea_level_pressure\n",
      "T air_temperature\n",
      "U eastward_wind\n",
      "V northward_wind\n"
     ]
    }
   ],
   "source": [
    "# ds['Height']\n",
    "# ds['lev'].plot.hist()\n",
    "for var_i in ds.variables:\n",
    "    print(var_i , ds[var_i].long_name)"
   ]
  },
  {
   "cell_type": "code",
   "execution_count": 69,
   "metadata": {},
   "outputs": [],
   "source": [
    "# ds['PS'].values\n"
   ]
  },
  {
   "cell_type": "code",
   "execution_count": 35,
   "metadata": {},
   "outputs": [
    {
     "name": "stdout",
     "output_type": "stream",
     "text": [
      "Total column density of dry air: 1.3786587e+25 molec/cm^2\n",
      "Total column density of water vapor: 3.5677877e+21 molec/cm^2\n"
     ]
    }
   ],
   "source": [
    "# Time in UTC\n",
    "go = 9.8196 #(m/s**2) \n",
    "Rd = 287.04 # specific gas constant for dry air\n",
    "R_universal = 8.314472;\n",
    "Na = 6.0221415e23;\n",
    "# Surface pressure at Caltech and time slice 1 (scalar):\n",
    "ps_local = ds['PS'].values\n",
    "p_full = ds['PL'].values\n",
    "# q and T profiles at Caltech and time slice 1 (vector):\n",
    "q_local = ds['QV'].values\n",
    "T_local = ds['T'].values\n",
    "\n",
    "NLEV = len(T_local)\n",
    "\n",
    "dz = np.divide(ds['DELP'].values,ds['PL'].values)*(Rd*T_local*(1+0.608*q_local))/go\n",
    "rho_N =  ds['PL'].values*(1-q_local*1.6068)/(R_universal*T_local)*Na/10000.0\n",
    "rho_N_h2o =  ds['PL'].values*(q_local*1.6068)/(R_universal*T_local)*Na/10000.0\n",
    "vmr_h2o = q_local*1.6068\n",
    "\n",
    "print('Total column density of dry air: ' +str(np.sum(dz*rho_N))+' molec/cm^2')\n",
    "print('Total column density of water vapor: ' + str(np.sum(dz*rho_N_h2o))+' molec/cm^2')\n",
    "VCD_dry = dz*rho_N\n"
   ]
  },
  {
   "cell_type": "code",
   "execution_count": 92,
   "metadata": {},
   "outputs": [],
   "source": [
    "# plt.plot(dz)"
   ]
  },
  {
   "cell_type": "code",
   "execution_count": 93,
   "metadata": {},
   "outputs": [],
   "source": [
    "# plt.plot(VCD_dry)"
   ]
  },
  {
   "cell_type": "code",
   "execution_count": null,
   "metadata": {},
   "outputs": [],
   "source": []
  },
  {
   "cell_type": "code",
   "execution_count": 67,
   "metadata": {},
   "outputs": [
    {
     "name": "stdout",
     "output_type": "stream",
     "text": [
      "\n",
      "Data is fetched from http://hitran.org\n",
      "\n",
      "BEGIN DOWNLOAD: H2O_S\n",
      "  65536 bytes written to ./H2O_S.data\n",
      "  65536 bytes written to ./H2O_S.data\n",
      "  65536 bytes written to ./H2O_S.data\n",
      "  65536 bytes written to ./H2O_S.data\n",
      "  65536 bytes written to ./H2O_S.data\n",
      "  65536 bytes written to ./H2O_S.data\n",
      "  65536 bytes written to ./H2O_S.data\n",
      "  65536 bytes written to ./H2O_S.data\n",
      "  65536 bytes written to ./H2O_S.data\n",
      "  65536 bytes written to ./H2O_S.data\n",
      "  65536 bytes written to ./H2O_S.data\n",
      "  65536 bytes written to ./H2O_S.data\n",
      "  65536 bytes written to ./H2O_S.data\n",
      "  65536 bytes written to ./H2O_S.data\n",
      "  65536 bytes written to ./H2O_S.data\n",
      "  65536 bytes written to ./H2O_S.data\n",
      "  65536 bytes written to ./H2O_S.data\n",
      "  65536 bytes written to ./H2O_S.data\n",
      "  65536 bytes written to ./H2O_S.data\n",
      "  65536 bytes written to ./H2O_S.data\n",
      "  65536 bytes written to ./H2O_S.data\n",
      "  65536 bytes written to ./H2O_S.data\n",
      "  65536 bytes written to ./H2O_S.data\n",
      "  65536 bytes written to ./H2O_S.data\n",
      "  65536 bytes written to ./H2O_S.data\n",
      "  65536 bytes written to ./H2O_S.data\n",
      "  65536 bytes written to ./H2O_S.data\n",
      "  65536 bytes written to ./H2O_S.data\n",
      "  65536 bytes written to ./H2O_S.data\n",
      "  65536 bytes written to ./H2O_S.data\n",
      "  65536 bytes written to ./H2O_S.data\n",
      "  65536 bytes written to ./H2O_S.data\n",
      "  65536 bytes written to ./H2O_S.data\n",
      "  65536 bytes written to ./H2O_S.data\n",
      "  65536 bytes written to ./H2O_S.data\n",
      "  65536 bytes written to ./H2O_S.data\n",
      "  65536 bytes written to ./H2O_S.data\n",
      "  65536 bytes written to ./H2O_S.data\n",
      "  65536 bytes written to ./H2O_S.data\n",
      "Header written to ./H2O_S.header\n",
      "END DOWNLOAD\n",
      "                     Lines parsed: 15653\n",
      "PROCESSED\n",
      "\n",
      "Data is fetched from http://hitran.org\n",
      "\n",
      "BEGIN DOWNLOAD: CO2_S\n",
      "  65536 bytes written to ./CO2_S.data\n",
      "  65536 bytes written to ./CO2_S.data\n",
      "  65536 bytes written to ./CO2_S.data\n",
      "  65536 bytes written to ./CO2_S.data\n",
      "  65536 bytes written to ./CO2_S.data\n",
      "  65536 bytes written to ./CO2_S.data\n",
      "  65536 bytes written to ./CO2_S.data\n",
      "  65536 bytes written to ./CO2_S.data\n",
      "  65536 bytes written to ./CO2_S.data\n",
      "  65536 bytes written to ./CO2_S.data\n",
      "  65536 bytes written to ./CO2_S.data\n",
      "  65536 bytes written to ./CO2_S.data\n",
      "  65536 bytes written to ./CO2_S.data\n",
      "  65536 bytes written to ./CO2_S.data\n",
      "  65536 bytes written to ./CO2_S.data\n",
      "  65536 bytes written to ./CO2_S.data\n",
      "  65536 bytes written to ./CO2_S.data\n",
      "  65536 bytes written to ./CO2_S.data\n",
      "  65536 bytes written to ./CO2_S.data\n",
      "  65536 bytes written to ./CO2_S.data\n",
      "  65536 bytes written to ./CO2_S.data\n",
      "  65536 bytes written to ./CO2_S.data\n",
      "  65536 bytes written to ./CO2_S.data\n",
      "  65536 bytes written to ./CO2_S.data\n",
      "  65536 bytes written to ./CO2_S.data\n",
      "  65536 bytes written to ./CO2_S.data\n",
      "  65536 bytes written to ./CO2_S.data\n",
      "  65536 bytes written to ./CO2_S.data\n",
      "  65536 bytes written to ./CO2_S.data\n",
      "  65536 bytes written to ./CO2_S.data\n",
      "  65536 bytes written to ./CO2_S.data\n",
      "  65536 bytes written to ./CO2_S.data\n",
      "  65536 bytes written to ./CO2_S.data\n",
      "  65536 bytes written to ./CO2_S.data\n",
      "  65536 bytes written to ./CO2_S.data\n",
      "  65536 bytes written to ./CO2_S.data\n",
      "  65536 bytes written to ./CO2_S.data\n",
      "  65536 bytes written to ./CO2_S.data\n",
      "  65536 bytes written to ./CO2_S.data\n",
      "  65536 bytes written to ./CO2_S.data\n",
      "  65536 bytes written to ./CO2_S.data\n",
      "  65536 bytes written to ./CO2_S.data\n",
      "  65536 bytes written to ./CO2_S.data\n",
      "  65536 bytes written to ./CO2_S.data\n",
      "  65536 bytes written to ./CO2_S.data\n",
      "  65536 bytes written to ./CO2_S.data\n",
      "  65536 bytes written to ./CO2_S.data\n",
      "  65536 bytes written to ./CO2_S.data\n",
      "  65536 bytes written to ./CO2_S.data\n",
      "  65536 bytes written to ./CO2_S.data\n",
      "  65536 bytes written to ./CO2_S.data\n",
      "  65536 bytes written to ./CO2_S.data\n",
      "  65536 bytes written to ./CO2_S.data\n",
      "  65536 bytes written to ./CO2_S.data\n",
      "  65536 bytes written to ./CO2_S.data\n",
      "  65536 bytes written to ./CO2_S.data\n",
      "  65536 bytes written to ./CO2_S.data\n",
      "  65536 bytes written to ./CO2_S.data\n",
      "  65536 bytes written to ./CO2_S.data\n",
      "  65536 bytes written to ./CO2_S.data\n",
      "  65536 bytes written to ./CO2_S.data\n",
      "  65536 bytes written to ./CO2_S.data\n",
      "  65536 bytes written to ./CO2_S.data\n",
      "  65536 bytes written to ./CO2_S.data\n",
      "  65536 bytes written to ./CO2_S.data\n",
      "  65536 bytes written to ./CO2_S.data\n",
      "  65536 bytes written to ./CO2_S.data\n",
      "  65536 bytes written to ./CO2_S.data\n",
      "  65536 bytes written to ./CO2_S.data\n",
      "  65536 bytes written to ./CO2_S.data\n",
      "  65536 bytes written to ./CO2_S.data\n",
      "  65536 bytes written to ./CO2_S.data\n",
      "  65536 bytes written to ./CO2_S.data\n",
      "  65536 bytes written to ./CO2_S.data\n",
      "  65536 bytes written to ./CO2_S.data\n",
      "  65536 bytes written to ./CO2_S.data\n",
      "  65536 bytes written to ./CO2_S.data\n",
      "  65536 bytes written to ./CO2_S.data\n",
      "  65536 bytes written to ./CO2_S.data\n",
      "  65536 bytes written to ./CO2_S.data\n",
      "  65536 bytes written to ./CO2_S.data\n",
      "  65536 bytes written to ./CO2_S.data\n",
      "  65536 bytes written to ./CO2_S.data\n",
      "  65536 bytes written to ./CO2_S.data\n",
      "  65536 bytes written to ./CO2_S.data\n",
      "  65536 bytes written to ./CO2_S.data\n",
      "  65536 bytes written to ./CO2_S.data\n",
      "  65536 bytes written to ./CO2_S.data\n",
      "  65536 bytes written to ./CO2_S.data\n",
      "  65536 bytes written to ./CO2_S.data\n",
      "  65536 bytes written to ./CO2_S.data\n",
      "  65536 bytes written to ./CO2_S.data\n",
      "  65536 bytes written to ./CO2_S.data\n",
      "  65536 bytes written to ./CO2_S.data\n",
      "  65536 bytes written to ./CO2_S.data\n",
      "  65536 bytes written to ./CO2_S.data\n",
      "  65536 bytes written to ./CO2_S.data\n",
      "  65536 bytes written to ./CO2_S.data\n",
      "  65536 bytes written to ./CO2_S.data\n",
      "  65536 bytes written to ./CO2_S.data\n",
      "  65536 bytes written to ./CO2_S.data\n",
      "  65536 bytes written to ./CO2_S.data\n",
      "  65536 bytes written to ./CO2_S.data\n",
      "  65536 bytes written to ./CO2_S.data\n",
      "  65536 bytes written to ./CO2_S.data\n",
      "  65536 bytes written to ./CO2_S.data\n",
      "  65536 bytes written to ./CO2_S.data\n",
      "  65536 bytes written to ./CO2_S.data\n",
      "  65536 bytes written to ./CO2_S.data\n",
      "  65536 bytes written to ./CO2_S.data\n",
      "  65536 bytes written to ./CO2_S.data\n",
      "  65536 bytes written to ./CO2_S.data\n",
      "  65536 bytes written to ./CO2_S.data\n",
      "  65536 bytes written to ./CO2_S.data\n",
      "  65536 bytes written to ./CO2_S.data\n",
      "  65536 bytes written to ./CO2_S.data\n",
      "  65536 bytes written to ./CO2_S.data\n",
      "  65536 bytes written to ./CO2_S.data\n",
      "  65536 bytes written to ./CO2_S.data\n",
      "  65536 bytes written to ./CO2_S.data\n",
      "  65536 bytes written to ./CO2_S.data\n",
      "  65536 bytes written to ./CO2_S.data\n",
      "  65536 bytes written to ./CO2_S.data\n",
      "  65536 bytes written to ./CO2_S.data\n",
      "  65536 bytes written to ./CO2_S.data\n",
      "  65536 bytes written to ./CO2_S.data\n",
      "  65536 bytes written to ./CO2_S.data\n",
      "  65536 bytes written to ./CO2_S.data\n",
      "  65536 bytes written to ./CO2_S.data\n",
      "  65536 bytes written to ./CO2_S.data\n",
      "  65536 bytes written to ./CO2_S.data\n",
      "  65536 bytes written to ./CO2_S.data\n",
      "  65536 bytes written to ./CO2_S.data\n",
      "  65536 bytes written to ./CO2_S.data\n",
      "  65536 bytes written to ./CO2_S.data\n",
      "  65536 bytes written to ./CO2_S.data\n",
      "  65536 bytes written to ./CO2_S.data\n",
      "  65536 bytes written to ./CO2_S.data\n",
      "  65536 bytes written to ./CO2_S.data\n",
      "  65536 bytes written to ./CO2_S.data\n",
      "  65536 bytes written to ./CO2_S.data\n",
      "  65536 bytes written to ./CO2_S.data\n",
      "  65536 bytes written to ./CO2_S.data\n",
      "  65536 bytes written to ./CO2_S.data\n",
      "  65536 bytes written to ./CO2_S.data\n",
      "  65536 bytes written to ./CO2_S.data\n",
      "  65536 bytes written to ./CO2_S.data\n",
      "  65536 bytes written to ./CO2_S.data\n",
      "  65536 bytes written to ./CO2_S.data\n",
      "  65536 bytes written to ./CO2_S.data\n",
      "  65536 bytes written to ./CO2_S.data\n",
      "  65536 bytes written to ./CO2_S.data\n",
      "  65536 bytes written to ./CO2_S.data\n",
      "  65536 bytes written to ./CO2_S.data\n",
      "  65536 bytes written to ./CO2_S.data\n",
      "  65536 bytes written to ./CO2_S.data\n",
      "  65536 bytes written to ./CO2_S.data\n",
      "  65536 bytes written to ./CO2_S.data\n",
      "  65536 bytes written to ./CO2_S.data\n",
      "  65536 bytes written to ./CO2_S.data\n",
      "  65536 bytes written to ./CO2_S.data\n",
      "  65536 bytes written to ./CO2_S.data\n",
      "  65536 bytes written to ./CO2_S.data\n",
      "  65536 bytes written to ./CO2_S.data\n",
      "  65536 bytes written to ./CO2_S.data\n",
      "  65536 bytes written to ./CO2_S.data\n",
      "  65536 bytes written to ./CO2_S.data\n",
      "  65536 bytes written to ./CO2_S.data\n",
      "  65536 bytes written to ./CO2_S.data\n",
      "  65536 bytes written to ./CO2_S.data\n",
      "  65536 bytes written to ./CO2_S.data\n",
      "  65536 bytes written to ./CO2_S.data\n",
      "  65536 bytes written to ./CO2_S.data\n",
      "  65536 bytes written to ./CO2_S.data\n",
      "Header written to ./CO2_S.header\n",
      "END DOWNLOAD\n",
      "                     Lines parsed: 70746\n",
      "PROCESSED\n",
      "\n",
      "Data is fetched from http://hitran.org\n",
      "\n",
      "BEGIN DOWNLOAD: CH4_S\n",
      "  65536 bytes written to ./CH4_S.data\n",
      "  65536 bytes written to ./CH4_S.data\n",
      "  65536 bytes written to ./CH4_S.data\n",
      "  65536 bytes written to ./CH4_S.data\n",
      "  65536 bytes written to ./CH4_S.data\n",
      "  65536 bytes written to ./CH4_S.data\n",
      "  65536 bytes written to ./CH4_S.data\n",
      "  65536 bytes written to ./CH4_S.data\n",
      "  65536 bytes written to ./CH4_S.data\n",
      "  65536 bytes written to ./CH4_S.data\n",
      "  65536 bytes written to ./CH4_S.data\n",
      "  65536 bytes written to ./CH4_S.data\n",
      "  65536 bytes written to ./CH4_S.data\n",
      "  65536 bytes written to ./CH4_S.data\n",
      "  65536 bytes written to ./CH4_S.data\n",
      "  65536 bytes written to ./CH4_S.data\n",
      "  65536 bytes written to ./CH4_S.data\n",
      "  65536 bytes written to ./CH4_S.data\n",
      "  65536 bytes written to ./CH4_S.data\n",
      "  65536 bytes written to ./CH4_S.data\n",
      "  65536 bytes written to ./CH4_S.data\n",
      "  65536 bytes written to ./CH4_S.data\n",
      "  65536 bytes written to ./CH4_S.data\n",
      "  65536 bytes written to ./CH4_S.data\n",
      "  65536 bytes written to ./CH4_S.data\n",
      "  65536 bytes written to ./CH4_S.data\n",
      "  65536 bytes written to ./CH4_S.data\n",
      "  65536 bytes written to ./CH4_S.data\n",
      "  65536 bytes written to ./CH4_S.data\n",
      "  65536 bytes written to ./CH4_S.data\n",
      "  65536 bytes written to ./CH4_S.data\n",
      "  65536 bytes written to ./CH4_S.data\n",
      "  65536 bytes written to ./CH4_S.data\n",
      "  65536 bytes written to ./CH4_S.data\n",
      "  65536 bytes written to ./CH4_S.data\n",
      "  65536 bytes written to ./CH4_S.data\n",
      "  65536 bytes written to ./CH4_S.data\n",
      "  65536 bytes written to ./CH4_S.data\n",
      "  65536 bytes written to ./CH4_S.data\n",
      "  65536 bytes written to ./CH4_S.data\n",
      "  65536 bytes written to ./CH4_S.data\n",
      "  65536 bytes written to ./CH4_S.data\n",
      "  65536 bytes written to ./CH4_S.data\n",
      "  65536 bytes written to ./CH4_S.data\n",
      "  65536 bytes written to ./CH4_S.data\n",
      "  65536 bytes written to ./CH4_S.data\n",
      "  65536 bytes written to ./CH4_S.data\n",
      "  65536 bytes written to ./CH4_S.data\n",
      "  65536 bytes written to ./CH4_S.data\n",
      "  65536 bytes written to ./CH4_S.data\n",
      "  65536 bytes written to ./CH4_S.data\n",
      "  65536 bytes written to ./CH4_S.data\n",
      "  65536 bytes written to ./CH4_S.data\n",
      "  65536 bytes written to ./CH4_S.data\n",
      "  65536 bytes written to ./CH4_S.data\n",
      "  65536 bytes written to ./CH4_S.data\n",
      "  65536 bytes written to ./CH4_S.data\n",
      "  65536 bytes written to ./CH4_S.data\n",
      "  65536 bytes written to ./CH4_S.data\n",
      "  65536 bytes written to ./CH4_S.data\n",
      "  65536 bytes written to ./CH4_S.data\n",
      "  65536 bytes written to ./CH4_S.data\n",
      "  65536 bytes written to ./CH4_S.data\n",
      "  65536 bytes written to ./CH4_S.data\n",
      "  65536 bytes written to ./CH4_S.data\n",
      "  65536 bytes written to ./CH4_S.data\n",
      "  65536 bytes written to ./CH4_S.data\n",
      "  65536 bytes written to ./CH4_S.data\n",
      "  65536 bytes written to ./CH4_S.data\n",
      "  65536 bytes written to ./CH4_S.data\n",
      "  65536 bytes written to ./CH4_S.data\n",
      "  65536 bytes written to ./CH4_S.data\n",
      "  65536 bytes written to ./CH4_S.data\n",
      "  65536 bytes written to ./CH4_S.data\n",
      "  65536 bytes written to ./CH4_S.data\n",
      "  65536 bytes written to ./CH4_S.data\n",
      "  65536 bytes written to ./CH4_S.data\n",
      "  65536 bytes written to ./CH4_S.data\n",
      "  65536 bytes written to ./CH4_S.data\n",
      "  65536 bytes written to ./CH4_S.data\n",
      "  65536 bytes written to ./CH4_S.data\n",
      "  65536 bytes written to ./CH4_S.data\n",
      "  65536 bytes written to ./CH4_S.data\n",
      "  65536 bytes written to ./CH4_S.data\n",
      "  65536 bytes written to ./CH4_S.data\n",
      "  65536 bytes written to ./CH4_S.data\n",
      "  65536 bytes written to ./CH4_S.data\n",
      "  65536 bytes written to ./CH4_S.data\n",
      "  65536 bytes written to ./CH4_S.data\n",
      "  65536 bytes written to ./CH4_S.data\n",
      "  65536 bytes written to ./CH4_S.data\n",
      "  65536 bytes written to ./CH4_S.data\n",
      "  65536 bytes written to ./CH4_S.data\n",
      "  65536 bytes written to ./CH4_S.data\n",
      "  65536 bytes written to ./CH4_S.data\n",
      "  65536 bytes written to ./CH4_S.data\n",
      "  65536 bytes written to ./CH4_S.data\n",
      "  65536 bytes written to ./CH4_S.data\n",
      "  65536 bytes written to ./CH4_S.data\n",
      "  65536 bytes written to ./CH4_S.data\n",
      "  65536 bytes written to ./CH4_S.data\n",
      "  65536 bytes written to ./CH4_S.data\n",
      "  65536 bytes written to ./CH4_S.data\n",
      "  65536 bytes written to ./CH4_S.data\n",
      "  65536 bytes written to ./CH4_S.data\n",
      "  65536 bytes written to ./CH4_S.data\n",
      "  65536 bytes written to ./CH4_S.data\n",
      "  65536 bytes written to ./CH4_S.data\n",
      "  65536 bytes written to ./CH4_S.data\n",
      "  65536 bytes written to ./CH4_S.data\n",
      "  65536 bytes written to ./CH4_S.data\n",
      "  65536 bytes written to ./CH4_S.data\n",
      "  65536 bytes written to ./CH4_S.data\n",
      "  65536 bytes written to ./CH4_S.data\n",
      "  65536 bytes written to ./CH4_S.data\n",
      "  65536 bytes written to ./CH4_S.data\n",
      "  65536 bytes written to ./CH4_S.data\n",
      "  65536 bytes written to ./CH4_S.data\n",
      "  65536 bytes written to ./CH4_S.data\n",
      "  65536 bytes written to ./CH4_S.data\n",
      "  65536 bytes written to ./CH4_S.data\n",
      "  65536 bytes written to ./CH4_S.data\n",
      "  65536 bytes written to ./CH4_S.data\n",
      "  65536 bytes written to ./CH4_S.data\n",
      "  65536 bytes written to ./CH4_S.data\n",
      "  65536 bytes written to ./CH4_S.data\n",
      "  65536 bytes written to ./CH4_S.data\n",
      "  65536 bytes written to ./CH4_S.data\n",
      "  65536 bytes written to ./CH4_S.data\n",
      "  65536 bytes written to ./CH4_S.data\n",
      "  65536 bytes written to ./CH4_S.data\n",
      "  65536 bytes written to ./CH4_S.data\n",
      "  65536 bytes written to ./CH4_S.data\n",
      "  65536 bytes written to ./CH4_S.data\n",
      "  65536 bytes written to ./CH4_S.data\n",
      "  65536 bytes written to ./CH4_S.data\n",
      "  65536 bytes written to ./CH4_S.data\n",
      "  65536 bytes written to ./CH4_S.data\n",
      "  65536 bytes written to ./CH4_S.data\n",
      "  65536 bytes written to ./CH4_S.data\n",
      "  65536 bytes written to ./CH4_S.data\n",
      "  65536 bytes written to ./CH4_S.data\n",
      "  65536 bytes written to ./CH4_S.data\n",
      "  65536 bytes written to ./CH4_S.data\n",
      "  65536 bytes written to ./CH4_S.data\n",
      "  65536 bytes written to ./CH4_S.data\n",
      "  65536 bytes written to ./CH4_S.data\n",
      "  65536 bytes written to ./CH4_S.data\n",
      "  65536 bytes written to ./CH4_S.data\n",
      "  65536 bytes written to ./CH4_S.data\n",
      "  65536 bytes written to ./CH4_S.data\n",
      "  65536 bytes written to ./CH4_S.data\n",
      "  65536 bytes written to ./CH4_S.data\n",
      "  65536 bytes written to ./CH4_S.data\n",
      "  65536 bytes written to ./CH4_S.data\n",
      "  65536 bytes written to ./CH4_S.data\n",
      "  65536 bytes written to ./CH4_S.data\n",
      "  65536 bytes written to ./CH4_S.data\n",
      "  65536 bytes written to ./CH4_S.data\n",
      "  65536 bytes written to ./CH4_S.data\n",
      "  65536 bytes written to ./CH4_S.data\n",
      "  65536 bytes written to ./CH4_S.data\n",
      "  65536 bytes written to ./CH4_S.data\n",
      "  65536 bytes written to ./CH4_S.data\n",
      "  65536 bytes written to ./CH4_S.data\n",
      "  65536 bytes written to ./CH4_S.data\n",
      "  65536 bytes written to ./CH4_S.data\n",
      "  65536 bytes written to ./CH4_S.data\n",
      "  65536 bytes written to ./CH4_S.data\n",
      "  65536 bytes written to ./CH4_S.data\n",
      "  65536 bytes written to ./CH4_S.data\n",
      "  65536 bytes written to ./CH4_S.data\n",
      "  65536 bytes written to ./CH4_S.data\n",
      "  65536 bytes written to ./CH4_S.data\n",
      "  65536 bytes written to ./CH4_S.data\n",
      "  65536 bytes written to ./CH4_S.data\n",
      "  65536 bytes written to ./CH4_S.data\n",
      "  65536 bytes written to ./CH4_S.data\n",
      "  65536 bytes written to ./CH4_S.data\n",
      "  65536 bytes written to ./CH4_S.data\n",
      "  65536 bytes written to ./CH4_S.data\n",
      "  65536 bytes written to ./CH4_S.data\n",
      "  65536 bytes written to ./CH4_S.data\n",
      "  65536 bytes written to ./CH4_S.data\n",
      "  65536 bytes written to ./CH4_S.data\n",
      "  65536 bytes written to ./CH4_S.data\n",
      "  65536 bytes written to ./CH4_S.data\n",
      "  65536 bytes written to ./CH4_S.data\n",
      "  65536 bytes written to ./CH4_S.data\n",
      "  65536 bytes written to ./CH4_S.data\n",
      "  65536 bytes written to ./CH4_S.data\n",
      "  65536 bytes written to ./CH4_S.data\n",
      "  65536 bytes written to ./CH4_S.data\n",
      "  65536 bytes written to ./CH4_S.data\n",
      "  65536 bytes written to ./CH4_S.data\n",
      "  65536 bytes written to ./CH4_S.data\n",
      "  65536 bytes written to ./CH4_S.data\n",
      "  65536 bytes written to ./CH4_S.data\n",
      "  65536 bytes written to ./CH4_S.data\n",
      "  65536 bytes written to ./CH4_S.data\n",
      "  65536 bytes written to ./CH4_S.data\n",
      "  65536 bytes written to ./CH4_S.data\n",
      "  65536 bytes written to ./CH4_S.data\n",
      "  65536 bytes written to ./CH4_S.data\n",
      "  65536 bytes written to ./CH4_S.data\n",
      "  65536 bytes written to ./CH4_S.data\n",
      "  65536 bytes written to ./CH4_S.data\n",
      "  65536 bytes written to ./CH4_S.data\n",
      "  65536 bytes written to ./CH4_S.data\n",
      "  65536 bytes written to ./CH4_S.data\n",
      "  65536 bytes written to ./CH4_S.data\n",
      "  65536 bytes written to ./CH4_S.data\n",
      "  65536 bytes written to ./CH4_S.data\n",
      "  65536 bytes written to ./CH4_S.data\n",
      "  65536 bytes written to ./CH4_S.data\n",
      "  65536 bytes written to ./CH4_S.data\n",
      "  65536 bytes written to ./CH4_S.data\n",
      "  65536 bytes written to ./CH4_S.data\n",
      "  65536 bytes written to ./CH4_S.data\n",
      "  65536 bytes written to ./CH4_S.data\n",
      "  65536 bytes written to ./CH4_S.data\n",
      "  65536 bytes written to ./CH4_S.data\n",
      "  65536 bytes written to ./CH4_S.data\n",
      "  65536 bytes written to ./CH4_S.data\n",
      "  65536 bytes written to ./CH4_S.data\n",
      "  65536 bytes written to ./CH4_S.data\n",
      "  65536 bytes written to ./CH4_S.data\n",
      "  65536 bytes written to ./CH4_S.data\n",
      "  65536 bytes written to ./CH4_S.data\n",
      "  65536 bytes written to ./CH4_S.data\n",
      "  65536 bytes written to ./CH4_S.data\n",
      "  65536 bytes written to ./CH4_S.data\n",
      "  65536 bytes written to ./CH4_S.data\n",
      "  65536 bytes written to ./CH4_S.data\n",
      "  65536 bytes written to ./CH4_S.data\n",
      "  65536 bytes written to ./CH4_S.data\n",
      "  65536 bytes written to ./CH4_S.data\n",
      "  65536 bytes written to ./CH4_S.data\n",
      "  65536 bytes written to ./CH4_S.data\n",
      "  65536 bytes written to ./CH4_S.data\n",
      "  65536 bytes written to ./CH4_S.data\n",
      "  65536 bytes written to ./CH4_S.data\n",
      "  65536 bytes written to ./CH4_S.data\n",
      "Header written to ./CH4_S.header\n",
      "END DOWNLOAD\n",
      "                     Lines parsed: 98630\n",
      "PROCESSED\n"
     ]
    }
   ],
   "source": [
    "\n",
    "# Min wavenumber\n",
    "xmin = 500\n",
    "# Maximum wavenumber\n",
    "xmax = 3300\n",
    "# Actually downloading the data \n",
    "# (we have to know the HITRAN molecule numbers, given in http://hitran.org/docs/molec-meta/)\n",
    "fetch('H2O_S',1,1,xmin,xmax)\n",
    "fetch('CO2_S',2,1,xmin,xmax)\n",
    "fetch('CH4_S',6,1,xmin,xmax)\n",
    "# fetch('O2',7,1,xmin,xmax)\n",
    "# nu_,sw_ = getColumns('O2',['nu','sw'])"
   ]
  },
  {
   "cell_type": "code",
   "execution_count": 6,
   "metadata": {},
   "outputs": [],
   "source": [
    "# Let us hust get line position nu and line strength sw for the different molecules:\n",
    "nu_H2O,sw_H2O = getColumns('H2O_S',['nu','sw'])\n",
    "nu_CH4,sw_CH4 = getColumns('CH4_S',['nu','sw'])\n",
    "nu_CO2,sw_CO2 = getColumns('CO2_S',['nu','sw'])"
   ]
  },
  {
   "cell_type": "code",
   "execution_count": null,
   "metadata": {},
   "outputs": [],
   "source": []
  },
  {
   "cell_type": "code",
   "execution_count": 7,
   "metadata": {},
   "outputs": [
    {
     "name": "stderr",
     "output_type": "stream",
     "text": [
      "/home/cchristo/proj_christian/hapi.py:18953: UserWarning: Big wavenumber step: possible accuracy decline\n",
      "  if OmegaStep>0.1: warn('Big wavenumber step: possible accuracy decline')\n"
     ]
    }
   ],
   "source": [
    "nu_, cs_o2 = absorptionCoefficient_Voigt(SourceTables='O2', Environment={'p':1,'T':270}, WavenumberStep=1)"
   ]
  },
  {
   "cell_type": "code",
   "execution_count": 79,
   "metadata": {},
   "outputs": [
    {
     "data": {
      "text/plain": [
       "array([0.10000357, 0.10000357, 0.10000357, ..., 0.10000357, 0.10000357,\n",
       "       0.10000357])"
      ]
     },
     "execution_count": 79,
     "metadata": {},
     "output_type": "execute_result"
    }
   ],
   "source": [
    "np.diff(np.linspace(500, 3300, 28000))"
   ]
  },
  {
   "cell_type": "code",
   "execution_count": 82,
   "metadata": {},
   "outputs": [
    {
     "name": "stderr",
     "output_type": "stream",
     "text": [
      "/home/cchristo/proj_christian/rad_transfer_python/hapi.py:18953: UserWarning: Big wavenumber step: possible accuracy decline\n",
      "  if OmegaStep>0.1: warn('Big wavenumber step: possible accuracy decline')\n"
     ]
    },
    {
     "name": "stdout",
     "output_type": "stream",
     "text": [
      "CPU times: user 29 s, sys: 165 ms, total: 29.1 s\n",
      "Wall time: 29.1 s\n"
     ]
    }
   ],
   "source": [
    "%%time\n",
    "wn_steps = np.linspace(0.0001, 0.005, 28000)\n",
    "nu_, cs_o2 = absorptionCoefficient_Voigt(SourceTables='CO2_S', \n",
    "                                                 Environment={'p':0.9,'T':270},\n",
    "                                                 WavenumberStep=0.10000357)"
   ]
  },
  {
   "cell_type": "code",
   "execution_count": 81,
   "metadata": {},
   "outputs": [
    {
     "data": {
      "text/plain": [
       "27997"
      ]
     },
     "execution_count": 81,
     "metadata": {},
     "output_type": "execute_result"
    }
   ],
   "source": [
    "len(nu_)"
   ]
  },
  {
   "cell_type": "code",
   "execution_count": 66,
   "metadata": {},
   "outputs": [
    {
     "ename": "KeyboardInterrupt",
     "evalue": "",
     "output_type": "error",
     "traceback": [
      "\u001b[0;31m---------------------------------------------------------------\u001b[0m",
      "\u001b[0;31mKeyboardInterrupt\u001b[0m             Traceback (most recent call last)",
      "\u001b[0;32m<timed exec>\u001b[0m in \u001b[0;36m<module>\u001b[0;34m\u001b[0m\n",
      "\u001b[0;32m~/proj_christian/rad_transfer_python/hapi.py\u001b[0m in \u001b[0;36mabsorptionCoefficient_Voigt\u001b[0;34m(Components, SourceTables, partitionFunction, Environment, OmegaRange, OmegaStep, OmegaWing, IntensityThreshold, OmegaWingHW, GammaL, HITRAN_units, LineShift, File, Format, OmegaGrid, WavenumberRange, WavenumberStep, WavenumberWing, WavenumberWingHW, WavenumberGrid, Diluent, EnvDependences)\u001b[0m\n\u001b[1;32m  19113\u001b[0m             \u001b[0mBoundIndexLower\u001b[0m \u001b[0;34m=\u001b[0m \u001b[0mbisect\u001b[0m\u001b[0;34m(\u001b[0m\u001b[0mOmegas\u001b[0m\u001b[0;34m,\u001b[0m\u001b[0mLineCenterDB\u001b[0m\u001b[0;34m-\u001b[0m\u001b[0mOmegaWingF\u001b[0m\u001b[0;34m)\u001b[0m\u001b[0;34m\u001b[0m\u001b[0;34m\u001b[0m\u001b[0m\n\u001b[1;32m  19114\u001b[0m             \u001b[0mBoundIndexUpper\u001b[0m \u001b[0;34m=\u001b[0m \u001b[0mbisect\u001b[0m\u001b[0;34m(\u001b[0m\u001b[0mOmegas\u001b[0m\u001b[0;34m,\u001b[0m\u001b[0mLineCenterDB\u001b[0m\u001b[0;34m+\u001b[0m\u001b[0mOmegaWingF\u001b[0m\u001b[0;34m)\u001b[0m\u001b[0;34m\u001b[0m\u001b[0;34m\u001b[0m\u001b[0m\n\u001b[0;32m> 19115\u001b[0;31m             \u001b[0mlineshape_vals\u001b[0m \u001b[0;34m=\u001b[0m \u001b[0mPROFILE_VOIGT\u001b[0m\u001b[0;34m(\u001b[0m\u001b[0mLineCenterDB\u001b[0m\u001b[0;34m+\u001b[0m\u001b[0mShift0\u001b[0m\u001b[0;34m,\u001b[0m\u001b[0mGammaD\u001b[0m\u001b[0;34m,\u001b[0m\u001b[0mGamma0\u001b[0m\u001b[0;34m,\u001b[0m\u001b[0mOmegas\u001b[0m\u001b[0;34m[\u001b[0m\u001b[0mBoundIndexLower\u001b[0m\u001b[0;34m:\u001b[0m\u001b[0mBoundIndexUpper\u001b[0m\u001b[0;34m]\u001b[0m\u001b[0;34m)\u001b[0m\u001b[0;34m[\u001b[0m\u001b[0;36m0\u001b[0m\u001b[0;34m]\u001b[0m\u001b[0;34m\u001b[0m\u001b[0;34m\u001b[0m\u001b[0m\n\u001b[0m\u001b[1;32m  19116\u001b[0m             \u001b[0mXsect\u001b[0m\u001b[0;34m[\u001b[0m\u001b[0mBoundIndexLower\u001b[0m\u001b[0;34m:\u001b[0m\u001b[0mBoundIndexUpper\u001b[0m\u001b[0;34m]\u001b[0m \u001b[0;34m+=\u001b[0m \u001b[0mfactor\u001b[0m \u001b[0;34m/\u001b[0m \u001b[0mNATURAL_ABUNDANCES\u001b[0m\u001b[0;34m[\u001b[0m\u001b[0;34m(\u001b[0m\u001b[0mMoleculeNumberDB\u001b[0m\u001b[0;34m,\u001b[0m\u001b[0mIsoNumberDB\u001b[0m\u001b[0;34m)\u001b[0m\u001b[0;34m]\u001b[0m \u001b[0;34m*\u001b[0m\u001b[0;31m \u001b[0m\u001b[0;31m\\\u001b[0m\u001b[0;34m\u001b[0m\u001b[0;34m\u001b[0m\u001b[0m\n\u001b[1;32m  19117\u001b[0m                                                       \u001b[0mABUNDANCES\u001b[0m\u001b[0;34m[\u001b[0m\u001b[0;34m(\u001b[0m\u001b[0mMoleculeNumberDB\u001b[0m\u001b[0;34m,\u001b[0m\u001b[0mIsoNumberDB\u001b[0m\u001b[0;34m)\u001b[0m\u001b[0;34m]\u001b[0m \u001b[0;34m*\u001b[0m\u001b[0;31m \u001b[0m\u001b[0;31m\\\u001b[0m\u001b[0;34m\u001b[0m\u001b[0;34m\u001b[0m\u001b[0m\n",
      "\u001b[0;32m~/proj_christian/rad_transfer_python/hapi.py\u001b[0m in \u001b[0;36mPROFILE_VOIGT\u001b[0;34m(sg0, GamD, Gam0, sg)\u001b[0m\n\u001b[1;32m  18120\u001b[0m     \u001b[0;31m#   sg: Current WaveNumber of the Computation in cm-1 (Input).\u001b[0m\u001b[0;34m\u001b[0m\u001b[0;34m\u001b[0m\u001b[0;34m\u001b[0m\u001b[0m\n\u001b[1;32m  18121\u001b[0m     \"\"\"\n\u001b[0;32m> 18122\u001b[0;31m     \u001b[0;32mreturn\u001b[0m \u001b[0mPROFILE_HTP\u001b[0m\u001b[0;34m(\u001b[0m\u001b[0msg0\u001b[0m\u001b[0;34m,\u001b[0m\u001b[0mGamD\u001b[0m\u001b[0;34m,\u001b[0m\u001b[0mGam0\u001b[0m\u001b[0;34m,\u001b[0m\u001b[0mcZero\u001b[0m\u001b[0;34m,\u001b[0m\u001b[0mcZero\u001b[0m\u001b[0;34m,\u001b[0m\u001b[0mcZero\u001b[0m\u001b[0;34m,\u001b[0m\u001b[0mcZero\u001b[0m\u001b[0;34m,\u001b[0m\u001b[0mcZero\u001b[0m\u001b[0;34m,\u001b[0m\u001b[0msg\u001b[0m\u001b[0;34m)\u001b[0m\u001b[0;34m\u001b[0m\u001b[0;34m\u001b[0m\u001b[0m\n\u001b[0m\u001b[1;32m  18123\u001b[0m \u001b[0;34m\u001b[0m\u001b[0m\n\u001b[1;32m  18124\u001b[0m \u001b[0;32mdef\u001b[0m \u001b[0mPROFILE_LORENTZ\u001b[0m\u001b[0;34m(\u001b[0m\u001b[0msg0\u001b[0m\u001b[0;34m,\u001b[0m\u001b[0mGam0\u001b[0m\u001b[0;34m,\u001b[0m\u001b[0msg\u001b[0m\u001b[0;34m)\u001b[0m\u001b[0;34m:\u001b[0m\u001b[0;34m\u001b[0m\u001b[0;34m\u001b[0m\u001b[0m\n",
      "\u001b[0;32m~/proj_christian/rad_transfer_python/hapi.py\u001b[0m in \u001b[0;36mPROFILE_HT\u001b[0;34m(sg0, GamD, Gam0, Gam2, Shift0, Shift2, anuVC, eta, sg)\u001b[0m\n\u001b[1;32m  18065\u001b[0m     \u001b[0;31m#-------------------------------------------------\u001b[0m\u001b[0;34m\u001b[0m\u001b[0;34m\u001b[0m\u001b[0;34m\u001b[0m\u001b[0m\n\u001b[1;32m  18066\u001b[0m     \"\"\"\n\u001b[0;32m> 18067\u001b[0;31m     \u001b[0;32mreturn\u001b[0m \u001b[0mpcqsdhc\u001b[0m\u001b[0;34m(\u001b[0m\u001b[0msg0\u001b[0m\u001b[0;34m,\u001b[0m\u001b[0mGamD\u001b[0m\u001b[0;34m,\u001b[0m\u001b[0mGam0\u001b[0m\u001b[0;34m,\u001b[0m\u001b[0mGam2\u001b[0m\u001b[0;34m,\u001b[0m\u001b[0mShift0\u001b[0m\u001b[0;34m,\u001b[0m\u001b[0mShift2\u001b[0m\u001b[0;34m,\u001b[0m\u001b[0manuVC\u001b[0m\u001b[0;34m,\u001b[0m\u001b[0meta\u001b[0m\u001b[0;34m,\u001b[0m\u001b[0msg\u001b[0m\u001b[0;34m)\u001b[0m\u001b[0;34m\u001b[0m\u001b[0;34m\u001b[0m\u001b[0m\n\u001b[0m\u001b[1;32m  18068\u001b[0m \u001b[0;34m\u001b[0m\u001b[0m\n\u001b[1;32m  18069\u001b[0m \u001b[0mPROFILE_HTP\u001b[0m \u001b[0;34m=\u001b[0m \u001b[0mPROFILE_HT\u001b[0m \u001b[0;31m# stub for backwards compatibility\u001b[0m\u001b[0;34m\u001b[0m\u001b[0;34m\u001b[0m\u001b[0m\n",
      "\u001b[0;32m~/proj_christian/rad_transfer_python/hapi.py\u001b[0m in \u001b[0;36mpcqsdhc\u001b[0;34m(sg0, GamD, Gam0, Gam2, Shift0, Shift2, anuVC, eta, sg)\u001b[0m\n\u001b[1;32m  17904\u001b[0m             \u001b[0mBterm_GLOBAL\u001b[0m \u001b[0;34m=\u001b[0m \u001b[0mrpi\u001b[0m\u001b[0;34m*\u001b[0m\u001b[0mcte\u001b[0m\u001b[0;34m*\u001b[0m\u001b[0;34m(\u001b[0m\u001b[0;34m(\u001b[0m\u001b[0;36m1.0e0\u001b[0m \u001b[0;34m-\u001b[0m \u001b[0mZ1\u001b[0m\u001b[0;34m**\u001b[0m\u001b[0;36m2\u001b[0m\u001b[0;34m)\u001b[0m\u001b[0;34m*\u001b[0m\u001b[0m__ComplexType__\u001b[0m\u001b[0;34m(\u001b[0m\u001b[0mWR1\u001b[0m \u001b[0;34m+\u001b[0m \u001b[0;36m1.0e0j\u001b[0m\u001b[0;34m*\u001b[0m\u001b[0mWI1\u001b[0m\u001b[0;34m)\u001b[0m \u001b[0;34m+\u001b[0m \u001b[0mZ1\u001b[0m\u001b[0;34m/\u001b[0m\u001b[0mrpi\u001b[0m\u001b[0;34m)\u001b[0m\u001b[0;34m\u001b[0m\u001b[0;34m\u001b[0m\u001b[0m\n\u001b[1;32m  17905\u001b[0m         \u001b[0;32mif\u001b[0m \u001b[0many\u001b[0m\u001b[0;34m(\u001b[0m\u001b[0mindex_NOT_Z1\u001b[0m\u001b[0;34m)\u001b[0m\u001b[0;34m:\u001b[0m\u001b[0;34m\u001b[0m\u001b[0;34m\u001b[0m\u001b[0m\n\u001b[0;32m> 17906\u001b[0;31m             \u001b[0mBterm_GLOBAL\u001b[0m \u001b[0;34m=\u001b[0m \u001b[0mcte\u001b[0m\u001b[0;34m*\u001b[0m\u001b[0;34m(\u001b[0m\u001b[0mrpi\u001b[0m\u001b[0;34m*\u001b[0m\u001b[0m__ComplexType__\u001b[0m\u001b[0;34m(\u001b[0m\u001b[0mWR1\u001b[0m \u001b[0;34m+\u001b[0m \u001b[0;36m1.0e0j\u001b[0m\u001b[0;34m*\u001b[0m\u001b[0mWI1\u001b[0m\u001b[0;34m)\u001b[0m \u001b[0;34m+\u001b[0m \u001b[0;36m0.5e0\u001b[0m\u001b[0;34m/\u001b[0m\u001b[0mZ1\u001b[0m \u001b[0;34m-\u001b[0m \u001b[0;36m0.75e0\u001b[0m\u001b[0;34m/\u001b[0m\u001b[0;34m(\u001b[0m\u001b[0mZ1\u001b[0m\u001b[0;34m**\u001b[0m\u001b[0;36m3\u001b[0m\u001b[0;34m)\u001b[0m\u001b[0;34m)\u001b[0m\u001b[0;34m\u001b[0m\u001b[0;34m\u001b[0m\u001b[0m\n\u001b[0m\u001b[1;32m  17907\u001b[0m     \u001b[0;32melse\u001b[0m\u001b[0;34m:\u001b[0m\u001b[0;34m\u001b[0m\u001b[0;34m\u001b[0m\u001b[0m\n\u001b[1;32m  17908\u001b[0m         \u001b[0;31m# PART2, PART3 AND PART4   (PART4 IS A MAIN PART)\u001b[0m\u001b[0;34m\u001b[0m\u001b[0;34m\u001b[0m\u001b[0;34m\u001b[0m\u001b[0m\n",
      "\u001b[0;31mKeyboardInterrupt\u001b[0m: "
     ]
    }
   ],
   "source": [
    "%%time \n",
    "import time\n",
    "\n",
    "\n",
    "wn_steps = np.arange(0.001, 0.05, 0.001)\n",
    "num_points = np.zeros(len(wn_steps))\n",
    "time_i = np.zeros(len(wn_steps))\n",
    "\n",
    "\n",
    "for wavenum_step_i in range(len(wn_steps)):\n",
    "    start = time.time()\n",
    "    nu_, cs_o2 = absorptionCoefficient_Voigt(SourceTables='CO2_S', \n",
    "    #                                              WavenumberRange=[1.6,2], \n",
    "                                                 Environment={'p':0.9,'T':270},\n",
    "#                                                  IntensityThreshold=1e-27,\n",
    "                                                 WavenumberStep=wn_steps[wavenum_step_i])\n",
    "    stop = time.time()\n",
    "    \n",
    "    num_points[wavenum_step_i] = len(nu_)\n",
    "    time_i[wavenum_step_i] = stop - start\n"
   ]
  },
  {
   "cell_type": "code",
   "execution_count": 57,
   "metadata": {},
   "outputs": [
    {
     "name": "stdout",
     "output_type": "stream",
     "text": [
      "1.0012223720550537\n"
     ]
    }
   ],
   "source": [
    "# wn_steps\n",
    "start = time.time()\n",
    "time.sleep(1)\n",
    "end = time.time()\n",
    "\n",
    "print( end - start)"
   ]
  },
  {
   "cell_type": "code",
   "execution_count": 64,
   "metadata": {},
   "outputs": [
    {
     "data": {
      "text/plain": [
       "array([1299976.,  649988.,  433326.,  324994.,  259996.,  216663.,\n",
       "        185711.,  162497.,  144442.,  129998.,  118180.,  108332.,\n",
       "         99999.,   92856.,   86666.,   81249.,   76470.,   72221.,\n",
       "         68420.,   64999.,   61904.,   59090.,   56521.,   54166.,\n",
       "         52000.,   50000.,   48148.,   46428.,   44827.,   43333.,\n",
       "         41935.,   40625.,   39394.,   38235.,   37143.,   36111.,\n",
       "         35135.,   34210.,   33333.,   32500.,   31707.,   30952.,\n",
       "         30232.,   29545.,   28889.,   28261.,   27660.,   27083.,\n",
       "         26531.])"
      ]
     },
     "execution_count": 64,
     "metadata": {},
     "output_type": "execute_result"
    }
   ],
   "source": [
    "num_points"
   ]
  },
  {
   "cell_type": "code",
   "execution_count": 63,
   "metadata": {},
   "outputs": [
    {
     "data": {
      "image/png": "[encoded data removed]",
      "text/plain": [
       "<Figure size 504x432 with 1 Axes>"
      ]
     },
     "metadata": {
      "needs_background": "light"
     },
     "output_type": "display_data"
    }
   ],
   "source": [
    "plt.figure(figsize = (7,6))\n",
    "plt.title('HAPI absorptionCoefficient_Voigt Runtime')\n",
    "plt.plot(num_points, time_i, '.-')\n",
    "plt.xlabel('# of Wavenumbers')\n",
    "plt.ylabel('Time (seconds)')\n",
    "plt.grid()"
   ]
  },
  {
   "cell_type": "code",
   "execution_count": 20,
   "metadata": {},
   "outputs": [
    {
     "data": {
      "text/plain": [
       "6499876"
      ]
     },
     "execution_count": 20,
     "metadata": {},
     "output_type": "execute_result"
    }
   ],
   "source": [
    "len(nu_)"
   ]
  },
  {
   "cell_type": "code",
   "execution_count": 9,
   "metadata": {},
   "outputs": [],
   "source": [
    "# Let us generate a matrix again to save the cross sections per frequency and atmospheric layer:\n",
    "cs_matrix_o2 = np.zeros((len(nu_),NLEV))\n",
    "for i in range(NLEV):\n",
    "    p_ = int(p_full[i]/101325) # Remember, HITRAN uses Atm as unit, not hPa\n",
    "    T_ = int(T_local[i])    # Kelvin is used here.\n",
    "    nu_, cs_o2 = absorptionCoefficient_Voigt(SourceTables='O2', \n",
    "                                             WavenumberRange=[1.6,2], \n",
    "                                             Environment={'p':p_,'T':T_}, \n",
    "                                             WavenumberStep=0.0002)\n",
    "#     print(cs_o2.shape)\n",
    "    cs_matrix_o2[:,i] = cs_o2 # Fill in matrix at layer i"
   ]
  },
  {
   "cell_type": "code",
   "execution_count": 32,
   "metadata": {},
   "outputs": [
    {
     "data": {
      "text/plain": [
       "[<matplotlib.lines.Line2D at 0x7fa88c368a90>]"
      ]
     },
     "execution_count": 32,
     "metadata": {},
     "output_type": "execute_result"
    },
    {
     "data": {
      "image/png": "[encoded data removed]",
      "text/plain": [
       "<Figure size 432x288 with 1 Axes>"
      ]
     },
     "metadata": {
      "needs_background": "light"
     },
     "output_type": "display_data"
    }
   ],
   "source": [
    "# type(T_)\n",
    "# plt.plot(p_full/101325)\n",
    "\n",
    "# plt.plot(T_local)"
   ]
  },
  {
   "cell_type": "code",
   "execution_count": 34,
   "metadata": {},
   "outputs": [
    {
     "name": "stdout",
     "output_type": "stream",
     "text": [
      "71/72\r"
     ]
    }
   ],
   "source": [
    "cs_matrix_co2 = np.zeros((len(nu_),NLEV))\n",
    "cs_matrix_ch4 = np.zeros((len(nu_),NLEV))\n",
    "cs_matrix_h2o = np.zeros((len(nu_),NLEV))\n",
    "# Loop over each layer \n",
    "for i in range(NLEV):\n",
    "    print(str(i)+'/'+str(NLEV), end='\\r')\n",
    "    p_ = p_full[i]/101325\n",
    "#     print(p_)\n",
    "    T_ = T_local[i]\n",
    "    nu_, cs_co2 = absorptionCoefficient_Voigt(SourceTables='CO2_S', WavenumberRange=[xmin,xmax],Environment={'p':p_,'T':T_},IntensityThreshold=1e-27)\n",
    "    nu_, cs_ch4 = absorptionCoefficient_Voigt(SourceTables='CH4_S', WavenumberRange=[xmin,xmax],Environment={'p':p_,'T':T_},IntensityThreshold=1e-27)\n",
    "    nu_, cs_h2o = absorptionCoefficient_Voigt(SourceTables='H2O_S', WavenumberRange=[xmin,xmax],Environment={'p':p_,'T':T_},IntensityThreshold=1e-27)\n",
    "    cs_matrix_co2[:,i] = cs_co2\n",
    "    cs_matrix_ch4[:,i] = cs_ch4\n",
    "    cs_matrix_h2o[:,i] = cs_h2o"
   ]
  },
  {
   "cell_type": "code",
   "execution_count": null,
   "metadata": {},
   "outputs": [],
   "source": []
  },
  {
   "cell_type": "code",
   "execution_count": null,
   "metadata": {},
   "outputs": [],
   "source": []
  },
  {
   "cell_type": "code",
   "execution_count": 36,
   "metadata": {},
   "outputs": [],
   "source": [
    "# Some constants and the planck function (as radiance!)\n",
    "pi = np.pi\n",
    "h = 6.626e-34\n",
    "c = 299792458\n",
    "k = 1.38e-23\n",
    "\n",
    "def planck(wav, T):\n",
    "    c1 = 2.0*h*c**2\n",
    "    c2 = h*c/(wav*k*T)\n",
    "    intensity = c1/ ( (wav**5)*(np.exp(c2) - 1.0) )\n",
    "    # Convert to W/sr/m^2/µm here directly (it was W/sr/m^2/m)\n",
    "    return intensity*1.e-6"
   ]
  },
  {
   "cell_type": "code",
   "execution_count": null,
   "metadata": {},
   "outputs": [],
   "source": []
  },
  {
   "cell_type": "code",
   "execution_count": 60,
   "metadata": {},
   "outputs": [],
   "source": [
    "AMF = 1\n",
    "# Compute transmission for each layer:\n",
    "T = np.zeros((len(nu_),NLEV))\n",
    "# Generate matrices of optical thickness per layer now for each gas: \n",
    "tau_co2 = cs_matrix_co2*VCD_dry*400.e-6*AMF \n",
    "#VCD_h2o = dz*rho_N_h2o\n",
    "tau_h2o = cs_matrix_h2o*VCD_dry*vmr_h2o*AMF \n",
    "tau_ch4 = cs_matrix_ch4*VCD_dry*1.8e-6*AMF "
   ]
  },
  {
   "cell_type": "markdown",
   "metadata": {},
   "source": [
    "## Compute Transmissions For Each Layer"
   ]
  },
  {
   "cell_type": "code",
   "execution_count": 61,
   "metadata": {},
   "outputs": [],
   "source": [
    "T = np.exp(-tau_co2)*np.exp(-tau_h2o)*np.exp(-tau_ch4)\n",
    "TdCO2 = np.exp(-2*tau_co2)*np.exp(-tau_h2o)*np.exp(-tau_ch4)\n",
    "TdH2O = np.exp(-tau_co2)*np.exp(-2*tau_h2o)*np.exp(-tau_ch4)\n",
    "TdCH4 = np.exp(-tau_co2)*np.exp(-tau_h2o)*np.exp(-2*tau_ch4)"
   ]
  },
  {
   "cell_type": "markdown",
   "metadata": {},
   "source": [
    "## Generate Planck curve per layer"
   ]
  },
  {
   "cell_type": "code",
   "execution_count": 62,
   "metadata": {},
   "outputs": [],
   "source": [
    "# Generate Planck curve per layer + surface:\n",
    "wl_nu = 1.e7/nu_*1.e-9\n",
    "# Use skin temperature of 300K\n",
    "# B_surf = planck(wl_nu,300)\n",
    "B = np.zeros((len(nu_),NLEV))\n",
    "for i in range(NLEV):\n",
    "    B[:,i] = planck(wl_nu,T_local[i])"
   ]
  },
  {
   "cell_type": "markdown",
   "metadata": {},
   "source": [
    "# Calculate Downwelling Radiation"
   ]
  },
  {
   "cell_type": "code",
   "execution_count": 63,
   "metadata": {},
   "outputs": [],
   "source": [
    "Rdown = np.zeros((len(nu_),NLEV))\n",
    "# Rdown_dCO2 = np.zeros((len(nu_),NLEV))\n",
    "# Rdown_dCH4 = np.zeros((len(nu_),NLEV))\n",
    "# Rdown_dH2O = np.zeros((len(nu_),NLEV))\n",
    "\n",
    "for i in range(NLEV):\n",
    "    Rdown[:,i] = B[:,i]*(1-T[:,i])*np.prod(T[:,i+1:],axis=1)\n",
    "#     Rdown_dCO2[:,i] = B[:,i]*(1-TdCO2[:,i])*np.prod(TdCO2[:,i+1:],axis=1)\n",
    "#     Rdown_dCH4[:,i] = B[:,i]*(1-TdCH4[:,i])*np.prod(TdCH4[:,i+1:],axis=1)\n",
    "#     Rdown_dH2O[:,i] = B[:,i]*(1-TdH2O[:,i])*np.prod(TdH2O[:,i+1:],axis=1)"
   ]
  },
  {
   "cell_type": "code",
   "execution_count": 64,
   "metadata": {},
   "outputs": [],
   "source": [
    "Surface_Down = np.sum(Rdown,axis=1)\n",
    "Surface_Down_dH2O = np.sum(Rdown_dH2O,axis=1)"
   ]
  },
  {
   "cell_type": "code",
   "execution_count": 235,
   "metadata": {},
   "outputs": [
    {
     "name": "stdout",
     "output_type": "stream",
     "text": [
      "test\n"
     ]
    }
   ],
   "source": [
    "print('test')"
   ]
  },
  {
   "cell_type": "code",
   "execution_count": 65,
   "metadata": {},
   "outputs": [
    {
     "data": {
      "image/png": "[encoded data removed]",
      "text/plain": [
       "<Figure size 576x576 with 1 Axes>"
      ]
     },
     "metadata": {
      "needs_background": "light"
     },
     "output_type": "display_data"
    }
   ],
   "source": [
    "plt.figure(figsize = (8,8))\n",
    "plt.plot(wl_nu*1e6,Surface_Down,label='downwelling radiance at surface', alpha=0.7)\n",
    "# plt.plot(wl_nu*1e6,Surface_Down_dH2O,label='downwelling radiance at surface (double H$_2$O', alpha=0.7)#, wl_nu*1e6, np.sum(R,axis=1), wl_nu*1e6,R_surf)\n",
    "\n",
    "plt.plot(wl_nu*1e6, planck(wl_nu,250),label='BB @ 250K',alpha=0.63)\n",
    "plt.plot(wl_nu*1e6, planck(wl_nu,240),label='BB @ 240K',alpha=0.63)\n",
    "plt.plot(wl_nu*1e6, planck(wl_nu,220),label='BB @ 220K',alpha=0.63)\n",
    "plt.legend(loc=0)\n",
    "plt.xlabel('Wavelength ($\\mu$m)')\n",
    "plt.ylabel('downwelling Radiance (W m$^{-2}$ sr$^{-1}$ $\\mu$m$^{-1}$)')\n",
    "plt.xlim((4,27))\n",
    "plt.title('Downwelling Thermal Radiance in Nadir at surface')\n",
    "plt.grid()"
   ]
  },
  {
   "cell_type": "code",
   "execution_count": 57,
   "metadata": {},
   "outputs": [
    {
     "data": {
      "text/plain": [
       "Text(0.5, 1.0, 'Downwelling Thermal Radiance in Nadir at surface')"
      ]
     },
     "execution_count": 57,
     "metadata": {},
     "output_type": "execute_result"
    },
    {
     "data": {
      "image/png": "[encoded data removed]",
      "text/plain": [
       "<Figure size 432x288 with 1 Axes>"
      ]
     },
     "metadata": {
      "needs_background": "light"
     },
     "output_type": "display_data"
    }
   ],
   "source": [
    "plt.plot(wl_nu*1e6,Surface_Down,label='downwelling radiance at surface', alpha=0.7)\n",
    "plt.plot(wl_nu*1e6,gaussian_filter1d(Surface_Down,200),label='downwelling radiance at surface', alpha=0.9)\n",
    "plt.plot(wl_nu*1e6,gaussian_filter1d(Surface_Down_dH2O,200),label='downwelling radiance at surface', alpha=0.9)\n",
    "plt.grid()\n",
    "plt.xlabel('Wavelength ($\\mu$m)')\n",
    "plt.ylabel('downwelling Radiance (W m$^{-2}$ sr$^{-1}$ $\\mu$m$^{-1}$)')\n",
    "plt.xlim((4,27))\n",
    "plt.title('Downwelling Thermal Radiance in Nadir at surface')"
   ]
  },
  {
   "cell_type": "code",
   "execution_count": 236,
   "metadata": {},
   "outputs": [
    {
     "data": {
      "text/plain": [
       "0.00010401374393147244"
      ]
     },
     "execution_count": 236,
     "metadata": {},
     "output_type": "execute_result"
    }
   ],
   "source": [
    "# Rdown.shape\n",
    "# np.mean(Rdown[10,:],axis=0)\n",
    "np.mean(Rdown[10,:],axis=0)"
   ]
  },
  {
   "cell_type": "code",
   "execution_count": 313,
   "metadata": {},
   "outputs": [
    {
     "data": {
      "text/plain": [
       "(64638.945, 10000)"
      ]
     },
     "execution_count": 313,
     "metadata": {},
     "output_type": "execute_result"
    },
    {
     "data": {
      "image/png": "[encoded data removed]",
      "text/plain": [
       "<Figure size 432x288 with 1 Axes>"
      ]
     },
     "metadata": {
      "needs_background": "light"
     },
     "output_type": "display_data"
    }
   ],
   "source": [
    "# plt.plot(T_local)\n",
    "plot_profile(p_full, q_local, newfig_bool = False, xlabel= 'Specific Humidity')\n",
    "plt.ylim([p_full.max(), 10000])"
   ]
  },
  {
   "cell_type": "code",
   "execution_count": 380,
   "metadata": {},
   "outputs": [
    {
     "data": {
      "text/plain": [
       "(64638.945, 10000)"
      ]
     },
     "execution_count": 380,
     "metadata": {},
     "output_type": "execute_result"
    },
    {
     "data": {
      "image/png": "[encoded data removed]",
      "text/plain": [
       "<Figure size 1080x360 with 2 Axes>"
      ]
     },
     "metadata": {
      "needs_background": "light"
     },
     "output_type": "display_data"
    }
   ],
   "source": [
    "# fig, ax = plt.subplots(1,2)\n",
    "i1, i2, i3 = 5000, 20000, 100000\n",
    "plt.figure(figsize = (15,5))\n",
    "plt.subplot(121)\n",
    "plot_profile(p_full, np.mean(Rdown[i1,:],axis=0)/dz, newfig_bool = False, label = str(wl_nu[i1]*1e6)[:5])\n",
    "plot_profile(p_full, np.mean(Rdown[i2,:],axis=0)/dz, newfig_bool = False, label = str(wl_nu[i2]*1e6)[:5])\n",
    "rr = plot_profile(p_full, np.mean(Rdown[i3,:],axis=0)/dz, newfig_bool = False, label = str(wl_nu[i3]*1e6)[:5])\n",
    "\n",
    "plt.xlabel('Radiance contribution to Surface Radiation / (W m$^{-2}$ sr$^{-1}$ $\\mu$m$^{-1}$)/m')\n",
    "plt.ylabel('Pressure (hPa)')\n",
    "plt.ylim([p_full.max(), 10000])\n",
    "plt.legend()\n",
    "\n",
    "\n",
    "plt.subplot(122)\n",
    "plot_profile(p_full, T_local, newfig_bool = False)\n",
    "# plot_profile(p_full, q_local, newfig_bool = False)\n",
    "plt.ylim([p_full.max(), 10000])"
   ]
  },
  {
   "cell_type": "code",
   "execution_count": null,
   "metadata": {},
   "outputs": [],
   "source": []
  },
  {
   "cell_type": "code",
   "execution_count": 220,
   "metadata": {},
   "outputs": [],
   "source": [
    "vert_tau_co2 = np.mean(tau_co2, axis = 0)\n"
   ]
  },
  {
   "cell_type": "code",
   "execution_count": null,
   "metadata": {},
   "outputs": [],
   "source": []
  },
  {
   "cell_type": "code",
   "execution_count": 273,
   "metadata": {},
   "outputs": [
    {
     "data": {
      "text/plain": [
       "<matplotlib.axes._subplots.AxesSubplot at 0x7fa855744400>"
      ]
     },
     "execution_count": 273,
     "metadata": {},
     "output_type": "execute_result"
    },
    {
     "data": {
      "image/png": "[encoded data removed]",
      "text/plain": [
       "<Figure size 432x432 with 1 Axes>"
      ]
     },
     "metadata": {
      "needs_background": "light"
     },
     "output_type": "display_data"
    }
   ],
   "source": [
    "plot_profile(p_full, np.cumsum(dz[::-1])[::-1])"
   ]
  },
  {
   "cell_type": "code",
   "execution_count": 288,
   "metadata": {},
   "outputs": [],
   "source": [
    "# plt.plot(np.cumsum(vert_tau_co2[::-1]))\n",
    "ii = 10\n",
    "# np.trapz(y = tau_co2[ii,:][::-1], x = np.cumsum(dz[::-1]))"
   ]
  },
  {
   "cell_type": "code",
   "execution_count": 279,
   "metadata": {},
   "outputs": [
    {
     "data": {
      "text/plain": [
       "[<matplotlib.lines.Line2D at 0x7fa853b1afd0>]"
      ]
     },
     "execution_count": 279,
     "metadata": {},
     "output_type": "execute_result"
    },
    {
     "data": {
      "image/png": "[encoded data removed]",
      "text/plain": [
       "<Figure size 432x288 with 1 Axes>"
      ]
     },
     "metadata": {
      "needs_background": "light"
     },
     "output_type": "display_data"
    }
   ],
   "source": [
    "plt.plot(np.cumsum(dz[::-1]), tau_co2[ii,:][::-1])"
   ]
  },
  {
   "cell_type": "code",
   "execution_count": 295,
   "metadata": {},
   "outputs": [
    {
     "data": {
      "text/plain": [
       "array([0.00000000e+00, 0.00000000e+00, 0.00000000e+00, 0.00000000e+00,\n",
       "       0.00000000e+00, 0.00000000e+00, 0.00000000e+00, 0.00000000e+00,\n",
       "       0.00000000e+00, 0.00000000e+00, 0.00000000e+00, 0.00000000e+00,\n",
       "       0.00000000e+00, 0.00000000e+00, 0.00000000e+00, 0.00000000e+00,\n",
       "       0.00000000e+00, 0.00000000e+00, 0.00000000e+00, 0.00000000e+00,\n",
       "       0.00000000e+00, 0.00000000e+00, 0.00000000e+00, 0.00000000e+00,\n",
       "       0.00000000e+00, 0.00000000e+00, 0.00000000e+00, 0.00000000e+00,\n",
       "       7.25940801e-13, 1.30715244e-12, 2.17873988e-12, 3.46932560e-12,\n",
       "       5.69502419e-12, 9.08884565e-12, 1.49747940e-11, 2.57810312e-11,\n",
       "       4.32172724e-11, 7.09145317e-11, 1.32392351e-10, 2.33869622e-10,\n",
       "       4.00006682e-10, 1.15652360e-09, 2.01524546e-09, 2.27724862e-09,\n",
       "       3.85898843e-09, 8.69107349e-09, 2.14178630e-08, 4.53804828e-08,\n",
       "       8.46503922e-08, 1.48029682e-07, 2.45321845e-07, 3.48318797e-07,\n",
       "       4.78122052e-07, 6.92193656e-07, 1.00265090e-06, 1.26502041e-06,\n",
       "       1.49139772e-06, 1.76749438e-06, 2.42068837e-06, 3.21338382e-06,\n",
       "       3.62853166e-06, 3.78610563e-06, 4.09048282e-06, 4.37193649e-06,\n",
       "       4.59296548e-06, 4.73356225e-06, 4.89274445e-06, 5.19161912e-06,\n",
       "       5.69225516e-06, 6.17286815e-06, 6.38225795e-06, 1.76326377e-06])"
      ]
     },
     "execution_count": 295,
     "metadata": {},
     "output_type": "execute_result"
    }
   ],
   "source": [
    "Rdown[10,:]/dz"
   ]
  },
  {
   "cell_type": "code",
   "execution_count": 369,
   "metadata": {},
   "outputs": [
    {
     "name": "stderr",
     "output_type": "stream",
     "text": [
      "No handles with labels found to put in legend.\n"
     ]
    },
    {
     "name": "stdout",
     "output_type": "stream",
     "text": [
      "15.384615384618616\n"
     ]
    },
    {
     "data": {
      "text/plain": [
       "Text(0, 0.5, '$\\\\tau$')"
      ]
     },
     "execution_count": 369,
     "metadata": {},
     "output_type": "execute_result"
    },
    {
     "data": {
      "image/png": "[encoded data removed]",
      "text/plain": [
       "<Figure size 432x288 with 1 Axes>"
      ]
     },
     "metadata": {
      "needs_background": "light"
     },
     "output_type": "display_data"
    }
   ],
   "source": [
    "ii = 15000\n",
    "print(wl_nu[ii]*1e6)\n",
    "plt.plot(Rdown[ii,:][::-1]/dz[::-1], np.cumsum(tau_co2[ii,:][::-1]))\n",
    "\n",
    "plt.legend(loc=0)\n",
    "# plt.ylim((10,0))\n",
    "plt.xlabel('Radiance contribution to TOA / (W m$^{-2}$ sr$^{-1}$ $\\mu$m$^{-1}$)/m')\n",
    "plt.ylabel(r'$\\tau$')"
   ]
  },
  {
   "cell_type": "code",
   "execution_count": 383,
   "metadata": {},
   "outputs": [
    {
     "data": {
      "text/plain": [
       "(130000, 72)"
      ]
     },
     "execution_count": 383,
     "metadata": {},
     "output_type": "execute_result"
    }
   ],
   "source": [
    "tau_co2.shape"
   ]
  },
  {
   "cell_type": "code",
   "execution_count": 408,
   "metadata": {},
   "outputs": [
    {
     "name": "stdout",
     "output_type": "stream",
     "text": [
      "(130000, 72)\n",
      "(130000, 1)\n"
     ]
    }
   ],
   "source": [
    "print(tau_matrix.shape)\n",
    "print(tau_wl.shape)\n"
   ]
  },
  {
   "cell_type": "code",
   "execution_count": 443,
   "metadata": {},
   "outputs": [],
   "source": [
    "tau_matrix = tau_co2[:,::-1].copy()\n",
    "\n",
    "tau_tolerance = 0.05\n",
    "N_ks = tau_matrix .shape[0]\n",
    "tau_matrix_cumsum = np.cumsum(tau_matrix, axis = 1)\n",
    "tau_wl = np.zeros((N_ks,1))\n",
    "for k_i in range(N_ks):\n",
    "    tau_cumsum_z = tau_matrix_cumsum[k_i,:]\n",
    "    tau_1_index = np.where((tau_cumsum_z - 1) > tau_tolerance)[0]\n",
    "    if tau_1_index.size == 0:\n",
    "        tau_wl[k_i] = np.nan\n",
    "    else:\n",
    "        if len(tau_1_index) > 1:\n",
    "            tau_1_index = tau_1_index[0]\n",
    "        tau_wl[k_i] = p_full[::-1][tau_1_index]"
   ]
  },
  {
   "cell_type": "code",
   "execution_count": 439,
   "metadata": {},
   "outputs": [
    {
     "data": {
      "text/plain": [
       "39"
      ]
     },
     "execution_count": 439,
     "metadata": {},
     "output_type": "execute_result"
    }
   ],
   "source": [
    "tau_1_index[0]"
   ]
  },
  {
   "cell_type": "code",
   "execution_count": 432,
   "metadata": {},
   "outputs": [
    {
     "data": {
      "text/plain": [
       "0"
      ]
     },
     "execution_count": 432,
     "metadata": {},
     "output_type": "execute_result"
    }
   ],
   "source": [
    "tau_1_index = np.where((tau_cumsum_z - 1) > tau_tolerance)\n",
    "tau_1_index[0].size"
   ]
  },
  {
   "cell_type": "code",
   "execution_count": 451,
   "metadata": {},
   "outputs": [
    {
     "data": {
      "text/plain": [
       "20.0"
      ]
     },
     "execution_count": 451,
     "metadata": {},
     "output_type": "execute_result"
    }
   ],
   "source": [
    "(wl_nu*1e6).max()"
   ]
  },
  {
   "cell_type": "code",
   "execution_count": 471,
   "metadata": {},
   "outputs": [
    {
     "data": {
      "image/png": "[encoded data removed]",
      "text/plain": [
       "<Figure size 720x360 with 2 Axes>"
      ]
     },
     "metadata": {
      "needs_background": "light"
     },
     "output_type": "display_data"
    }
   ],
   "source": [
    "wl_nm = wl_nu*1e6\n",
    "\n",
    "plt.figure(figsize = (10,5))\n",
    "ax0 = plt.subplot(121)\n",
    "plt.plot(wl_nm, tau_wl)\n",
    "plt.xlim([wl_nm.min(), wl_nm.max()])\n",
    "plt.grid()\n",
    "plt.gca().set_yscale('log')\n",
    "plt.gca().invert_yaxis()\n",
    "\n",
    "plt.subplot(122) #, sharey = ax0)\n",
    "\n",
    "plt.plot(T_local, p_full)\n",
    "plt.gca().set_yscale('log')\n",
    "plt.gca().invert_yaxis()"
   ]
  },
  {
   "cell_type": "code",
   "execution_count": null,
   "metadata": {},
   "outputs": [],
   "source": []
  },
  {
   "cell_type": "code",
   "execution_count": 413,
   "metadata": {},
   "outputs": [
    {
     "data": {
      "text/plain": [
       "130000"
      ]
     },
     "execution_count": 413,
     "metadata": {},
     "output_type": "execute_result"
    }
   ],
   "source": [
    "tau_matrix_cumsum.shape[0]"
   ]
  },
  {
   "cell_type": "code",
   "execution_count": 312,
   "metadata": {},
   "outputs": [
    {
     "data": {
      "text/plain": [
       "[<matplotlib.lines.Line2D at 0x7fa836c69400>]"
      ]
     },
     "execution_count": 312,
     "metadata": {},
     "output_type": "execute_result"
    },
    {
     "data": {
      "image/png": "[encoded data removed]",
      "text/plain": [
       "<Figure size 432x288 with 1 Axes>"
      ]
     },
     "metadata": {
      "needs_background": "light"
     },
     "output_type": "display_data"
    }
   ],
   "source": [
    "plt.plot(np.cumsum(tau_h2o[10,:][::-1])[::-1])"
   ]
  },
  {
   "cell_type": "code",
   "execution_count": 456,
   "metadata": {},
   "outputs": [],
   "source": [
    "def plot_profile(pres, temp,\n",
    "                 min_pres = 10, xlabel = \"Temperature [C]\", ylabel = \"Pressure [Pa]\",\n",
    "                 newfig_bool = True,\n",
    "                label = None):\n",
    "    '''Given xr.dataset of single profile, plot vertical profile w/ log(p)'''\n",
    "\n",
    "    \n",
    "    if newfig_bool:\n",
    "        plt.figure(figsize = (6,6))\n",
    "    plt.plot(temp, pres, linewidth = 2, label = label)\n",
    "    \n",
    "    plt.gca().invert_yaxis()\n",
    "    plt.ylim([pres.max(), min_pres])\n",
    "    plt.gca().set_yscale('log')\n",
    "    plt.grid()\n",
    "    plt.xlabel(xlabel)\n",
    "    plt.ylabel(ylabel)\n",
    "#     plt.locator_params(nbins=8)\n",
    "#     plt.yticks(np.arange(min_pres, pres.max(), 100.0))\n",
    "\n",
    "    return plt.gca()"
   ]
  }
 ],
 "metadata": {
  "kernelspec": {
   "display_name": "Python 3",
   "language": "python",
   "name": "python3"
  },
  "language_info": {
   "codemirror_mode": {
    "name": "ipython",
    "version": 3
   },
   "file_extension": ".py",
   "mimetype": "text/x-python",
   "name": "python",
   "nbconvert_exporter": "python",
   "pygments_lexer": "ipython3",
   "version": "3.6.10"
  }
 },
 "nbformat": 4,
 "nbformat_minor": 4
}
