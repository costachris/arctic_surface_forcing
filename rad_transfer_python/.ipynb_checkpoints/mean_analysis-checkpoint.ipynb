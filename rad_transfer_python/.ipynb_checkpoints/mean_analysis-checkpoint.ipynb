{
 "cells": [
  {
   "cell_type": "code",
   "execution_count": 3,
   "metadata": {},
   "outputs": [
    {
     "name": "stdout",
     "output_type": "stream",
     "text": [
      "HAPI version: 1.1.0.9.7\n",
      "To get the most up-to-date version please check http://hitran.org/hapi\n",
      "ATTENTION: Python versions of partition sums from TIPS-2017 are now available in HAPI code\n",
      "\n",
      "           It is free to use HAPI. If you use HAPI in your research or software development,\n",
      "           please cite it using the following reference:\n",
      "           R.V. Kochanov, I.E. Gordon, L.S. Rothman, P. Wcislo, C. Hill, J.S. Wilzewski,\n",
      "           HITRAN Application Programming Interface (HAPI): A comprehensive approach\n",
      "           to working with spectroscopic data, J. Quant. Spectrosc. Radiat. Transfer 177, 15-30 (2016)\n",
      "           DOI: 10.1016/j.jqsrt.2016.03.005\n"
     ]
    }
   ],
   "source": [
    "import xarray as xr\n",
    "import numpy as np\n",
    "import matplotlib.pyplot as plt\n",
    "import matplotlib\n",
    "import os\n",
    "from glob import glob\n",
    "from scipy.interpolate import interp1d, interp2d\n",
    "from scipy.ndimage.filters import gaussian_filter1d\n",
    "import pandas as pd\n",
    "\n",
    "from matplotlib.font_manager import FontProperties\n",
    "from scipy.interpolate import CubicSpline, BSpline\n",
    "\n",
    "%run simulate_radiances_utils.py\n",
    "%run locations.py\n",
    "\n",
    "\n",
    "font = {'weight' : 'bold',\n",
    "        'size'   : 12}\n",
    "label_fontdict = {'weight' : 'bold',\n",
    "        'size'   : 12}\n",
    "title_fontdict = {'weight' : 'bold',\n",
    "        'size'   : 12}\n",
    "\n",
    "matplotlib.rc('font', **font)"
   ]
  },
  {
   "cell_type": "code",
   "execution_count": null,
   "metadata": {},
   "outputs": [],
   "source": []
  },
  {
   "cell_type": "code",
   "execution_count": 85,
   "metadata": {},
   "outputs": [],
   "source": [
    "saved_results_path = '/net/fluo/data2/groupMembers/cchristo/results/rt_results/2011/'\n",
    "saved_results_path_pre_co2 = '/net/fluo/data2/groupMembers/cchristo/results/rt_results_preindus_CO2/2011/'"
   ]
  },
  {
   "cell_type": "code",
   "execution_count": 147,
   "metadata": {},
   "outputs": [],
   "source": [
    "# saved_results_path\n",
    "result = [y for x in os.walk(saved_results_path) for y in glob(os.path.join(x[0], '*.nc'))]\n",
    "result = sorted(result)\n",
    "\n",
    "result_pre_co2 = [y for x in os.walk(saved_results_path_pre_co2) for y in glob(os.path.join(x[0], '*.nc'))]\n",
    "result_pre_co2 = sorted(result_pre_co2)"
   ]
  },
  {
   "cell_type": "code",
   "execution_count": 148,
   "metadata": {},
   "outputs": [
    {
     "data": {
      "text/plain": [
       "'/net/fluo/data2/groupMembers/cchristo/results/rt_results_preindus_CO2/2011/12/surface_fields_20111231_2230.nc'"
      ]
     },
     "execution_count": 148,
     "metadata": {},
     "output_type": "execute_result"
    }
   ],
   "source": [
    "result_pre_co2[-1]"
   ]
  },
  {
   "cell_type": "code",
   "execution_count": 6,
   "metadata": {},
   "outputs": [
    {
     "name": "stdout",
     "output_type": "stream",
     "text": [
      "CPU times: user 3min 38s, sys: 1min 59s, total: 5min 38s\n",
      "Wall time: 11min 18s\n"
     ]
    },
    {
     "data": {
      "text/html": [
       "<div><svg style=\"position: absolute; width: 0; height: 0; overflow: hidden\">\n",
       "<defs>\n",
       "<symbol id=\"icon-database\" viewBox=\"0 0 32 32\">\n",
       "<title>Show/Hide data repr</title>\n",
       "<path d=\"M16 0c-8.837 0-16 2.239-16 5v4c0 2.761 7.163 5 16 5s16-2.239 16-5v-4c0-2.761-7.163-5-16-5z\"></path>\n",
       "<path d=\"M16 17c-8.837 0-16-2.239-16-5v6c0 2.761 7.163 5 16 5s16-2.239 16-5v-6c0 2.761-7.163 5-16 5z\"></path>\n",
       "<path d=\"M16 26c-8.837 0-16-2.239-16-5v6c0 2.761 7.163 5 16 5s16-2.239 16-5v-6c0 2.761-7.163 5-16 5z\"></path>\n",
       "</symbol>\n",
       "<symbol id=\"icon-file-text2\" viewBox=\"0 0 32 32\">\n",
       "<title>Show/Hide attributes</title>\n",
       "<path d=\"M28.681 7.159c-0.694-0.947-1.662-2.053-2.724-3.116s-2.169-2.030-3.116-2.724c-1.612-1.182-2.393-1.319-2.841-1.319h-15.5c-1.378 0-2.5 1.121-2.5 2.5v27c0 1.378 1.122 2.5 2.5 2.5h23c1.378 0 2.5-1.122 2.5-2.5v-19.5c0-0.448-0.137-1.23-1.319-2.841zM24.543 5.457c0.959 0.959 1.712 1.825 2.268 2.543h-4.811v-4.811c0.718 0.556 1.584 1.309 2.543 2.268zM28 29.5c0 0.271-0.229 0.5-0.5 0.5h-23c-0.271 0-0.5-0.229-0.5-0.5v-27c0-0.271 0.229-0.5 0.5-0.5 0 0 15.499-0 15.5 0v7c0 0.552 0.448 1 1 1h7v19.5z\"></path>\n",
       "<path d=\"M23 26h-14c-0.552 0-1-0.448-1-1s0.448-1 1-1h14c0.552 0 1 0.448 1 1s-0.448 1-1 1z\"></path>\n",
       "<path d=\"M23 22h-14c-0.552 0-1-0.448-1-1s0.448-1 1-1h14c0.552 0 1 0.448 1 1s-0.448 1-1 1z\"></path>\n",
       "<path d=\"M23 18h-14c-0.552 0-1-0.448-1-1s0.448-1 1-1h14c0.552 0 1 0.448 1 1s-0.448 1-1 1z\"></path>\n",
       "</symbol>\n",
       "</defs>\n",
       "</svg>\n",
       "<style>/* CSS stylesheet for displaying xarray objects in jupyterlab.\n",
       " *\n",
       " */\n",
       "\n",
       ":root {\n",
       "  --xr-font-color0: var(--jp-content-font-color0, rgba(0, 0, 0, 1));\n",
       "  --xr-font-color2: var(--jp-content-font-color2, rgba(0, 0, 0, 0.54));\n",
       "  --xr-font-color3: var(--jp-content-font-color3, rgba(0, 0, 0, 0.38));\n",
       "  --xr-border-color: var(--jp-border-color2, #e0e0e0);\n",
       "  --xr-disabled-color: var(--jp-layout-color3, #bdbdbd);\n",
       "  --xr-background-color: var(--jp-layout-color0, white);\n",
       "  --xr-background-color-row-even: var(--jp-layout-color1, white);\n",
       "  --xr-background-color-row-odd: var(--jp-layout-color2, #eeeeee);\n",
       "}\n",
       "\n",
       ".xr-wrap {\n",
       "  min-width: 300px;\n",
       "  max-width: 700px;\n",
       "}\n",
       "\n",
       ".xr-header {\n",
       "  padding-top: 6px;\n",
       "  padding-bottom: 6px;\n",
       "  margin-bottom: 4px;\n",
       "  border-bottom: solid 1px var(--xr-border-color);\n",
       "}\n",
       "\n",
       ".xr-header > div,\n",
       ".xr-header > ul {\n",
       "  display: inline;\n",
       "  margin-top: 0;\n",
       "  margin-bottom: 0;\n",
       "}\n",
       "\n",
       ".xr-obj-type,\n",
       ".xr-array-name {\n",
       "  margin-left: 2px;\n",
       "  margin-right: 10px;\n",
       "}\n",
       "\n",
       ".xr-obj-type {\n",
       "  color: var(--xr-font-color2);\n",
       "}\n",
       "\n",
       ".xr-sections {\n",
       "  padding-left: 0 !important;\n",
       "  display: grid;\n",
       "  grid-template-columns: 150px auto auto 1fr 20px 20px;\n",
       "}\n",
       "\n",
       ".xr-section-item {\n",
       "  display: contents;\n",
       "}\n",
       "\n",
       ".xr-section-item input {\n",
       "  display: none;\n",
       "}\n",
       "\n",
       ".xr-section-item input + label {\n",
       "  color: var(--xr-disabled-color);\n",
       "}\n",
       "\n",
       ".xr-section-item input:enabled + label {\n",
       "  cursor: pointer;\n",
       "  color: var(--xr-font-color2);\n",
       "}\n",
       "\n",
       ".xr-section-item input:enabled + label:hover {\n",
       "  color: var(--xr-font-color0);\n",
       "}\n",
       "\n",
       ".xr-section-summary {\n",
       "  grid-column: 1;\n",
       "  color: var(--xr-font-color2);\n",
       "  font-weight: 500;\n",
       "}\n",
       "\n",
       ".xr-section-summary > span {\n",
       "  display: inline-block;\n",
       "  padding-left: 0.5em;\n",
       "}\n",
       "\n",
       ".xr-section-summary-in:disabled + label {\n",
       "  color: var(--xr-font-color2);\n",
       "}\n",
       "\n",
       ".xr-section-summary-in + label:before {\n",
       "  display: inline-block;\n",
       "  content: '►';\n",
       "  font-size: 11px;\n",
       "  width: 15px;\n",
       "  text-align: center;\n",
       "}\n",
       "\n",
       ".xr-section-summary-in:disabled + label:before {\n",
       "  color: var(--xr-disabled-color);\n",
       "}\n",
       "\n",
       ".xr-section-summary-in:checked + label:before {\n",
       "  content: '▼';\n",
       "}\n",
       "\n",
       ".xr-section-summary-in:checked + label > span {\n",
       "  display: none;\n",
       "}\n",
       "\n",
       ".xr-section-summary,\n",
       ".xr-section-inline-details {\n",
       "  padding-top: 4px;\n",
       "  padding-bottom: 4px;\n",
       "}\n",
       "\n",
       ".xr-section-inline-details {\n",
       "  grid-column: 2 / -1;\n",
       "}\n",
       "\n",
       ".xr-section-details {\n",
       "  display: none;\n",
       "  grid-column: 1 / -1;\n",
       "  margin-bottom: 5px;\n",
       "}\n",
       "\n",
       ".xr-section-summary-in:checked ~ .xr-section-details {\n",
       "  display: contents;\n",
       "}\n",
       "\n",
       ".xr-array-wrap {\n",
       "  grid-column: 1 / -1;\n",
       "  display: grid;\n",
       "  grid-template-columns: 20px auto;\n",
       "}\n",
       "\n",
       ".xr-array-wrap > label {\n",
       "  grid-column: 1;\n",
       "  vertical-align: top;\n",
       "}\n",
       "\n",
       ".xr-preview {\n",
       "  color: var(--xr-font-color3);\n",
       "}\n",
       "\n",
       ".xr-array-preview,\n",
       ".xr-array-data {\n",
       "  padding: 0 5px !important;\n",
       "  grid-column: 2;\n",
       "}\n",
       "\n",
       ".xr-array-data,\n",
       ".xr-array-in:checked ~ .xr-array-preview {\n",
       "  display: none;\n",
       "}\n",
       "\n",
       ".xr-array-in:checked ~ .xr-array-data,\n",
       ".xr-array-preview {\n",
       "  display: inline-block;\n",
       "}\n",
       "\n",
       ".xr-dim-list {\n",
       "  display: inline-block !important;\n",
       "  list-style: none;\n",
       "  padding: 0 !important;\n",
       "  margin: 0;\n",
       "}\n",
       "\n",
       ".xr-dim-list li {\n",
       "  display: inline-block;\n",
       "  padding: 0;\n",
       "  margin: 0;\n",
       "}\n",
       "\n",
       ".xr-dim-list:before {\n",
       "  content: '(';\n",
       "}\n",
       "\n",
       ".xr-dim-list:after {\n",
       "  content: ')';\n",
       "}\n",
       "\n",
       ".xr-dim-list li:not(:last-child):after {\n",
       "  content: ',';\n",
       "  padding-right: 5px;\n",
       "}\n",
       "\n",
       ".xr-has-index {\n",
       "  font-weight: bold;\n",
       "}\n",
       "\n",
       ".xr-var-list,\n",
       ".xr-var-item {\n",
       "  display: contents;\n",
       "}\n",
       "\n",
       ".xr-var-item > div,\n",
       ".xr-var-item label,\n",
       ".xr-var-item > .xr-var-name span {\n",
       "  background-color: var(--xr-background-color-row-even);\n",
       "  margin-bottom: 0;\n",
       "}\n",
       "\n",
       ".xr-var-item > .xr-var-name:hover span {\n",
       "  padding-right: 5px;\n",
       "}\n",
       "\n",
       ".xr-var-list > li:nth-child(odd) > div,\n",
       ".xr-var-list > li:nth-child(odd) > label,\n",
       ".xr-var-list > li:nth-child(odd) > .xr-var-name span {\n",
       "  background-color: var(--xr-background-color-row-odd);\n",
       "}\n",
       "\n",
       ".xr-var-name {\n",
       "  grid-column: 1;\n",
       "}\n",
       "\n",
       ".xr-var-dims {\n",
       "  grid-column: 2;\n",
       "}\n",
       "\n",
       ".xr-var-dtype {\n",
       "  grid-column: 3;\n",
       "  text-align: right;\n",
       "  color: var(--xr-font-color2);\n",
       "}\n",
       "\n",
       ".xr-var-preview {\n",
       "  grid-column: 4;\n",
       "}\n",
       "\n",
       ".xr-var-name,\n",
       ".xr-var-dims,\n",
       ".xr-var-dtype,\n",
       ".xr-preview,\n",
       ".xr-attrs dt {\n",
       "  white-space: nowrap;\n",
       "  overflow: hidden;\n",
       "  text-overflow: ellipsis;\n",
       "  padding-right: 10px;\n",
       "}\n",
       "\n",
       ".xr-var-name:hover,\n",
       ".xr-var-dims:hover,\n",
       ".xr-var-dtype:hover,\n",
       ".xr-attrs dt:hover {\n",
       "  overflow: visible;\n",
       "  width: auto;\n",
       "  z-index: 1;\n",
       "}\n",
       "\n",
       ".xr-var-attrs,\n",
       ".xr-var-data {\n",
       "  display: none;\n",
       "  background-color: var(--xr-background-color) !important;\n",
       "  padding-bottom: 5px !important;\n",
       "}\n",
       "\n",
       ".xr-var-attrs-in:checked ~ .xr-var-attrs,\n",
       ".xr-var-data-in:checked ~ .xr-var-data {\n",
       "  display: block;\n",
       "}\n",
       "\n",
       ".xr-var-data > table {\n",
       "  float: right;\n",
       "}\n",
       "\n",
       ".xr-var-name span,\n",
       ".xr-var-data,\n",
       ".xr-attrs {\n",
       "  padding-left: 25px !important;\n",
       "}\n",
       "\n",
       ".xr-attrs,\n",
       ".xr-var-attrs,\n",
       ".xr-var-data {\n",
       "  grid-column: 1 / -1;\n",
       "}\n",
       "\n",
       "dl.xr-attrs {\n",
       "  padding: 0;\n",
       "  margin: 0;\n",
       "  display: grid;\n",
       "  grid-template-columns: 125px auto;\n",
       "}\n",
       "\n",
       ".xr-attrs dt, dd {\n",
       "  padding: 0;\n",
       "  margin: 0;\n",
       "  float: left;\n",
       "  padding-right: 10px;\n",
       "  width: auto;\n",
       "}\n",
       "\n",
       ".xr-attrs dt {\n",
       "  font-weight: normal;\n",
       "  grid-column: 1;\n",
       "}\n",
       "\n",
       ".xr-attrs dt:hover span {\n",
       "  display: inline-block;\n",
       "  background: var(--xr-background-color);\n",
       "  padding-right: 10px;\n",
       "}\n",
       "\n",
       ".xr-attrs dd {\n",
       "  grid-column: 2;\n",
       "  white-space: pre-wrap;\n",
       "  word-break: break-all;\n",
       "}\n",
       "\n",
       ".xr-icon-database,\n",
       ".xr-icon-file-text2 {\n",
       "  display: inline-block;\n",
       "  vertical-align: middle;\n",
       "  width: 1em;\n",
       "  height: 1.5em !important;\n",
       "  stroke-width: 0;\n",
       "  stroke: currentColor;\n",
       "  fill: currentColor;\n",
       "}\n",
       "</style><div class='xr-wrap'><div class='xr-header'><div class='xr-obj-type'>xarray.Dataset</div></div><ul class='xr-sections'><li class='xr-section-item'><input id='section-2591f51d-9f64-4051-b796-db98584867aa' class='xr-section-summary-in' type='checkbox' disabled ><label for='section-2591f51d-9f64-4051-b796-db98584867aa' class='xr-section-summary'  title='Expand/collapse section'>Dimensions:</label><div class='xr-section-inline-details'><ul class='xr-dim-list'><li><span class='xr-has-index'>nu</span>: 170000</li><li><span class='xr-has-index'>time</span>: 2920</li></ul></div><div class='xr-section-details'></div></li><li class='xr-section-item'><input id='section-9f485440-4410-4aea-bda0-19fe7b7706dc' class='xr-section-summary-in' type='checkbox'  checked><label for='section-9f485440-4410-4aea-bda0-19fe7b7706dc' class='xr-section-summary' >Coordinates: <span>(2)</span></label><div class='xr-section-inline-details'></div><div class='xr-section-details'><ul class='xr-var-list'><li class='xr-var-item'><div class='xr-var-name'><span class='xr-has-index'>nu</span></div><div class='xr-var-dims'>(nu)</div><div class='xr-var-dtype'>float64</div><div class='xr-var-preview xr-preview'>400.0 400.0 ... 2.1e+03 2.1e+03</div><input id='attrs-3eba6bca-8c89-490d-ba85-3c7b22a590f1' class='xr-var-attrs-in' type='checkbox' disabled><label for='attrs-3eba6bca-8c89-490d-ba85-3c7b22a590f1' title='Show/Hide attributes'><svg class='icon xr-icon-file-text2'><use xlink:href='#icon-file-text2'></use></svg></label><input id='data-348688f1-b1b0-44db-8d1d-c74bfa21e4a7' class='xr-var-data-in' type='checkbox'><label for='data-348688f1-b1b0-44db-8d1d-c74bfa21e4a7' title='Show/Hide data repr'><svg class='icon xr-icon-database'><use xlink:href='#icon-database'></use></svg></label><div class='xr-var-attrs'><dl class='xr-attrs'></dl></div><pre class='xr-var-data'>array([ 400.  ,  400.01,  400.02, ..., 2099.97, 2099.98, 2099.99])</pre></li><li class='xr-var-item'><div class='xr-var-name'><span class='xr-has-index'>time</span></div><div class='xr-var-dims'>(time)</div><div class='xr-var-dtype'>datetime64[ns]</div><div class='xr-var-preview xr-preview'>2011-01-01T01:30:00 ... 2011-12-31T22:30:00</div><input id='attrs-730c7566-a12a-4226-8522-38842261502a' class='xr-var-attrs-in' type='checkbox' disabled><label for='attrs-730c7566-a12a-4226-8522-38842261502a' title='Show/Hide attributes'><svg class='icon xr-icon-file-text2'><use xlink:href='#icon-file-text2'></use></svg></label><input id='data-5ec117d3-53f2-441f-a00e-c01d66c4fd8c' class='xr-var-data-in' type='checkbox'><label for='data-5ec117d3-53f2-441f-a00e-c01d66c4fd8c' title='Show/Hide data repr'><svg class='icon xr-icon-database'><use xlink:href='#icon-database'></use></svg></label><div class='xr-var-attrs'><dl class='xr-attrs'></dl></div><pre class='xr-var-data'>array([&#x27;2011-01-01T01:30:00.000000000&#x27;, &#x27;2011-01-01T04:30:00.000000000&#x27;,\n",
       "       &#x27;2011-01-01T07:30:00.000000000&#x27;, ..., &#x27;2011-12-31T16:30:00.000000000&#x27;,\n",
       "       &#x27;2011-12-31T19:30:00.000000000&#x27;, &#x27;2011-12-31T22:30:00.000000000&#x27;],\n",
       "      dtype=&#x27;datetime64[ns]&#x27;)</pre></li></ul></div></li><li class='xr-section-item'><input id='section-8c867e00-7fcd-474f-8032-41f948083101' class='xr-section-summary-in' type='checkbox'  checked><label for='section-8c867e00-7fcd-474f-8032-41f948083101' class='xr-section-summary' >Data variables: <span>(10)</span></label><div class='xr-section-inline-details'></div><div class='xr-section-details'><ul class='xr-var-list'><li class='xr-var-item'><div class='xr-var-name'><span>lw_down_CO2</span></div><div class='xr-var-dims'>(nu, time)</div><div class='xr-var-dtype'>float64</div><div class='xr-var-preview xr-preview'>0.00051 0.0005091 ... 3.078e-07</div><input id='attrs-2f24fe4b-797f-4bf5-aeb4-bc6c7e97f097' class='xr-var-attrs-in' type='checkbox' disabled><label for='attrs-2f24fe4b-797f-4bf5-aeb4-bc6c7e97f097' title='Show/Hide attributes'><svg class='icon xr-icon-file-text2'><use xlink:href='#icon-file-text2'></use></svg></label><input id='data-c433f992-026f-493b-ae3f-b83782c64fcd' class='xr-var-data-in' type='checkbox'><label for='data-c433f992-026f-493b-ae3f-b83782c64fcd' title='Show/Hide data repr'><svg class='icon xr-icon-database'><use xlink:href='#icon-database'></use></svg></label><div class='xr-var-attrs'><dl class='xr-attrs'></dl></div><pre class='xr-var-data'>array([[5.09950051e-04, 5.09062327e-04, 5.08082847e-04, ...,\n",
       "        4.00823914e-04, 4.01774179e-04, 4.02502446e-04],\n",
       "       [5.09995740e-04, 5.09129685e-04, 5.08134971e-04, ...,\n",
       "        4.00849498e-04, 4.01813398e-04, 4.02530775e-04],\n",
       "       [5.10058164e-04, 5.09161139e-04, 5.08194239e-04, ...,\n",
       "        4.00890783e-04, 4.01856293e-04, 4.02551946e-04],\n",
       "       ...,\n",
       "       [9.60469938e-07, 9.43233442e-07, 9.17557452e-07, ...,\n",
       "        3.15523217e-07, 3.25478764e-07, 3.29205244e-07],\n",
       "       [9.27276169e-07, 9.10489267e-07, 8.85821105e-07, ...,\n",
       "        3.04756402e-07, 3.14556854e-07, 3.18035099e-07],\n",
       "       [8.96392539e-07, 8.79987699e-07, 8.56366795e-07, ...,\n",
       "        2.95041770e-07, 3.04440130e-07, 3.07810120e-07]])</pre></li><li class='xr-var-item'><div class='xr-var-name'><span>lw_down_CH4</span></div><div class='xr-var-dims'>(nu, time)</div><div class='xr-var-dtype'>float64</div><div class='xr-var-preview xr-preview'>0.0 0.0 0.0 0.0 ... 0.0 0.0 0.0 0.0</div><input id='attrs-4c7502d1-fc77-4986-a2d6-fc8573bed908' class='xr-var-attrs-in' type='checkbox' disabled><label for='attrs-4c7502d1-fc77-4986-a2d6-fc8573bed908' title='Show/Hide attributes'><svg class='icon xr-icon-file-text2'><use xlink:href='#icon-file-text2'></use></svg></label><input id='data-ed2dbaf9-523d-4cc8-8601-a80caf66d5a6' class='xr-var-data-in' type='checkbox'><label for='data-ed2dbaf9-523d-4cc8-8601-a80caf66d5a6' title='Show/Hide data repr'><svg class='icon xr-icon-database'><use xlink:href='#icon-database'></use></svg></label><div class='xr-var-attrs'><dl class='xr-attrs'></dl></div><pre class='xr-var-data'>array([[0., 0., 0., ..., 0., 0., 0.],\n",
       "       [0., 0., 0., ..., 0., 0., 0.],\n",
       "       [0., 0., 0., ..., 0., 0., 0.],\n",
       "       ...,\n",
       "       [0., 0., 0., ..., 0., 0., 0.],\n",
       "       [0., 0., 0., ..., 0., 0., 0.],\n",
       "       [0., 0., 0., ..., 0., 0., 0.]])</pre></li><li class='xr-var-item'><div class='xr-var-name'><span>lw_down_H2O</span></div><div class='xr-var-dims'>(nu, time)</div><div class='xr-var-dtype'>float64</div><div class='xr-var-preview xr-preview'>0.09026 0.09063 ... 7.323e-07</div><input id='attrs-2e6b14eb-3bc6-4bf1-b1e2-95cac6737240' class='xr-var-attrs-in' type='checkbox' disabled><label for='attrs-2e6b14eb-3bc6-4bf1-b1e2-95cac6737240' title='Show/Hide attributes'><svg class='icon xr-icon-file-text2'><use xlink:href='#icon-file-text2'></use></svg></label><input id='data-93ce3c9f-d101-4772-af48-6c4de3c5026b' class='xr-var-data-in' type='checkbox'><label for='data-93ce3c9f-d101-4772-af48-6c4de3c5026b' title='Show/Hide data repr'><svg class='icon xr-icon-database'><use xlink:href='#icon-database'></use></svg></label><div class='xr-var-attrs'><dl class='xr-attrs'></dl></div><pre class='xr-var-data'>array([[9.02603349e-02, 9.06270644e-02, 9.01923266e-02, ...,\n",
       "        6.07217126e-02, 6.39698629e-02, 6.51759732e-02],\n",
       "       [9.00253004e-02, 9.04038066e-02, 8.99996015e-02, ...,\n",
       "        6.26513619e-02, 6.57849964e-02, 6.69517033e-02],\n",
       "       [8.97708566e-02, 9.01602200e-02, 8.97878170e-02, ...,\n",
       "        6.45356718e-02, 6.75302224e-02, 6.86504503e-02],\n",
       "       ...,\n",
       "       [1.79808225e-05, 1.67002439e-05, 1.42566999e-05, ...,\n",
       "        6.66391194e-07, 7.90940059e-07, 8.37372499e-07],\n",
       "       [1.73504692e-05, 1.61203839e-05, 1.37620387e-05, ...,\n",
       "        6.25610059e-07, 7.45267613e-07, 7.91856433e-07],\n",
       "       [1.60255653e-05, 1.49013310e-05, 1.27224782e-05, ...,\n",
       "        5.76229858e-07, 6.88277328e-07, 7.32261609e-07]])</pre></li><li class='xr-var-item'><div class='xr-var-name'><span>lw_down_total</span></div><div class='xr-var-dims'>(nu, time)</div><div class='xr-var-dtype'>float64</div><div class='xr-var-preview xr-preview'>0.09026 0.09063 ... 1.039e-06</div><input id='attrs-2208f8a2-6df7-4b13-9f91-937f134a768e' class='xr-var-attrs-in' type='checkbox' disabled><label for='attrs-2208f8a2-6df7-4b13-9f91-937f134a768e' title='Show/Hide attributes'><svg class='icon xr-icon-file-text2'><use xlink:href='#icon-file-text2'></use></svg></label><input id='data-710623eb-a3b6-4053-a182-04f2f63f36ce' class='xr-var-data-in' type='checkbox'><label for='data-710623eb-a3b6-4053-a182-04f2f63f36ce' title='Show/Hide data repr'><svg class='icon xr-icon-database'><use xlink:href='#icon-database'></use></svg></label><div class='xr-var-attrs'><dl class='xr-attrs'></dl></div><pre class='xr-var-data'>array([[9.02589154e-02, 9.06257127e-02, 9.01911687e-02, ...,\n",
       "        6.07958823e-02, 6.40323232e-02, 6.52347297e-02],\n",
       "       [9.00239292e-02, 9.04025010e-02, 8.99984779e-02, ...,\n",
       "        6.27153277e-02, 6.58380252e-02, 6.70013235e-02],\n",
       "       [8.97695496e-02, 9.01589666e-02, 8.97867346e-02, ...,\n",
       "        6.45896960e-02, 6.75742029e-02, 6.86913526e-02],\n",
       "       ...,\n",
       "       [1.89220335e-05, 1.76258695e-05, 1.51589647e-05, ...,\n",
       "        9.81302120e-07, 1.11572644e-06, 1.16586114e-06],\n",
       "       [1.82597512e-05, 1.70144420e-05, 1.46336660e-05, ...,\n",
       "        9.29818876e-07, 1.05920291e-06, 1.10924560e-06],\n",
       "       [1.69059175e-05, 1.57666522e-05, 1.35661802e-05, ...,\n",
       "        8.70784246e-07, 9.92162860e-07, 1.03949458e-06]])</pre></li><li class='xr-var-item'><div class='xr-var-name'><span>eh_CO2</span></div><div class='xr-var-dims'>(nu, time)</div><div class='xr-var-dtype'>float64</div><div class='xr-var-preview xr-preview'>nan nan nan nan ... nan nan nan nan</div><input id='attrs-83cafb73-e7da-4bec-a7f2-1c5285f4aba6' class='xr-var-attrs-in' type='checkbox' disabled><label for='attrs-83cafb73-e7da-4bec-a7f2-1c5285f4aba6' title='Show/Hide attributes'><svg class='icon xr-icon-file-text2'><use xlink:href='#icon-file-text2'></use></svg></label><input id='data-c402bfa1-4c92-4b86-b76d-f5b4541172f3' class='xr-var-data-in' type='checkbox'><label for='data-c402bfa1-4c92-4b86-b76d-f5b4541172f3' title='Show/Hide data repr'><svg class='icon xr-icon-database'><use xlink:href='#icon-database'></use></svg></label><div class='xr-var-attrs'><dl class='xr-attrs'></dl></div><pre class='xr-var-data'>array([[nan, nan, nan, ..., nan, nan, nan],\n",
       "       [nan, nan, nan, ..., nan, nan, nan],\n",
       "       [nan, nan, nan, ..., nan, nan, nan],\n",
       "       ...,\n",
       "       [nan, nan, nan, ..., nan, nan, nan],\n",
       "       [nan, nan, nan, ..., nan, nan, nan],\n",
       "       [nan, nan, nan, ..., nan, nan, nan]])</pre></li><li class='xr-var-item'><div class='xr-var-name'><span>eh_CH4</span></div><div class='xr-var-dims'>(nu, time)</div><div class='xr-var-dtype'>float64</div><div class='xr-var-preview xr-preview'>nan nan nan nan ... nan nan nan nan</div><input id='attrs-0396cd3f-a481-4ed3-bb77-5c9a5cd2e372' class='xr-var-attrs-in' type='checkbox' disabled><label for='attrs-0396cd3f-a481-4ed3-bb77-5c9a5cd2e372' title='Show/Hide attributes'><svg class='icon xr-icon-file-text2'><use xlink:href='#icon-file-text2'></use></svg></label><input id='data-bcc29833-5934-45ee-9410-29c5bc2015a9' class='xr-var-data-in' type='checkbox'><label for='data-bcc29833-5934-45ee-9410-29c5bc2015a9' title='Show/Hide data repr'><svg class='icon xr-icon-database'><use xlink:href='#icon-database'></use></svg></label><div class='xr-var-attrs'><dl class='xr-attrs'></dl></div><pre class='xr-var-data'>array([[nan, nan, nan, ..., nan, nan, nan],\n",
       "       [nan, nan, nan, ..., nan, nan, nan],\n",
       "       [nan, nan, nan, ..., nan, nan, nan],\n",
       "       ...,\n",
       "       [nan, nan, nan, ..., nan, nan, nan],\n",
       "       [nan, nan, nan, ..., nan, nan, nan],\n",
       "       [nan, nan, nan, ..., nan, nan, nan]])</pre></li><li class='xr-var-item'><div class='xr-var-name'><span>eh_H2O</span></div><div class='xr-var-dims'>(nu, time)</div><div class='xr-var-dtype'>float64</div><div class='xr-var-preview xr-preview'>191.4 178.4 179.1 ... nan nan nan</div><input id='attrs-890fe3df-f5ac-401a-a4f2-40e567daad31' class='xr-var-attrs-in' type='checkbox' disabled><label for='attrs-890fe3df-f5ac-401a-a4f2-40e567daad31' title='Show/Hide attributes'><svg class='icon xr-icon-file-text2'><use xlink:href='#icon-file-text2'></use></svg></label><input id='data-77d94681-edb2-47ff-a804-bec28082747f' class='xr-var-data-in' type='checkbox'><label for='data-77d94681-edb2-47ff-a804-bec28082747f' title='Show/Hide data repr'><svg class='icon xr-icon-database'><use xlink:href='#icon-database'></use></svg></label><div class='xr-var-attrs'><dl class='xr-attrs'></dl></div><pre class='xr-var-data'>array([[ 191.36249245,  178.36662287,  179.09390322, ..., 1267.22452431,\n",
       "        1012.3325535 ,  930.68006491],\n",
       "       [ 181.77437628,  170.08205904,  170.51887188, ..., 1140.00066587,\n",
       "         923.75667704,  848.68833454],\n",
       "       [ 172.56508865,  162.12467213,  162.28258638, ..., 1030.68590085,\n",
       "         844.36844119,  774.33376371],\n",
       "       ...,\n",
       "       [          nan,           nan,           nan, ...,           nan,\n",
       "                  nan,           nan],\n",
       "       [          nan,           nan,           nan, ...,           nan,\n",
       "                  nan,           nan],\n",
       "       [          nan,           nan,           nan, ...,           nan,\n",
       "                  nan,           nan]])</pre></li><li class='xr-var-item'><div class='xr-var-name'><span>dT_CO2</span></div><div class='xr-var-dims'>(nu, time)</div><div class='xr-var-dtype'>float64</div><div class='xr-var-preview xr-preview'>nan nan nan nan ... nan nan nan nan</div><input id='attrs-975195d0-1960-4fc7-908a-7ae7bc6ad9ae' class='xr-var-attrs-in' type='checkbox' disabled><label for='attrs-975195d0-1960-4fc7-908a-7ae7bc6ad9ae' title='Show/Hide attributes'><svg class='icon xr-icon-file-text2'><use xlink:href='#icon-file-text2'></use></svg></label><input id='data-b603e437-565a-4dc1-810b-002f8e3673dd' class='xr-var-data-in' type='checkbox'><label for='data-b603e437-565a-4dc1-810b-002f8e3673dd' title='Show/Hide data repr'><svg class='icon xr-icon-database'><use xlink:href='#icon-database'></use></svg></label><div class='xr-var-attrs'><dl class='xr-attrs'></dl></div><pre class='xr-var-data'>array([[nan, nan, nan, ..., nan, nan, nan],\n",
       "       [nan, nan, nan, ..., nan, nan, nan],\n",
       "       [nan, nan, nan, ..., nan, nan, nan],\n",
       "       ...,\n",
       "       [nan, nan, nan, ..., nan, nan, nan],\n",
       "       [nan, nan, nan, ..., nan, nan, nan],\n",
       "       [nan, nan, nan, ..., nan, nan, nan]])</pre></li><li class='xr-var-item'><div class='xr-var-name'><span>dT_CH4</span></div><div class='xr-var-dims'>(nu, time)</div><div class='xr-var-dtype'>float64</div><div class='xr-var-preview xr-preview'>nan nan nan nan ... nan nan nan nan</div><input id='attrs-e711d280-7cb8-47ef-9b31-2699245b577c' class='xr-var-attrs-in' type='checkbox' disabled><label for='attrs-e711d280-7cb8-47ef-9b31-2699245b577c' title='Show/Hide attributes'><svg class='icon xr-icon-file-text2'><use xlink:href='#icon-file-text2'></use></svg></label><input id='data-7014d09b-3eab-4973-ae47-c622b3c34e12' class='xr-var-data-in' type='checkbox'><label for='data-7014d09b-3eab-4973-ae47-c622b3c34e12' title='Show/Hide data repr'><svg class='icon xr-icon-database'><use xlink:href='#icon-database'></use></svg></label><div class='xr-var-attrs'><dl class='xr-attrs'></dl></div><pre class='xr-var-data'>array([[nan, nan, nan, ..., nan, nan, nan],\n",
       "       [nan, nan, nan, ..., nan, nan, nan],\n",
       "       [nan, nan, nan, ..., nan, nan, nan],\n",
       "       ...,\n",
       "       [nan, nan, nan, ..., nan, nan, nan],\n",
       "       [nan, nan, nan, ..., nan, nan, nan],\n",
       "       [nan, nan, nan, ..., nan, nan, nan]])</pre></li><li class='xr-var-item'><div class='xr-var-name'><span>dT_H2O</span></div><div class='xr-var-dims'>(nu, time)</div><div class='xr-var-dtype'>float64</div><div class='xr-var-preview xr-preview'>0.07908 0.09735 0.08765 ... nan nan</div><input id='attrs-9c27c44a-ec54-4b18-9039-18d788ef9558' class='xr-var-attrs-in' type='checkbox' disabled><label for='attrs-9c27c44a-ec54-4b18-9039-18d788ef9558' title='Show/Hide attributes'><svg class='icon xr-icon-file-text2'><use xlink:href='#icon-file-text2'></use></svg></label><input id='data-6d7e72ba-4929-40eb-b559-cea32e44f936' class='xr-var-data-in' type='checkbox'><label for='data-6d7e72ba-4929-40eb-b559-cea32e44f936' title='Show/Hide data repr'><svg class='icon xr-icon-database'><use xlink:href='#icon-database'></use></svg></label><div class='xr-var-attrs'><dl class='xr-attrs'></dl></div><pre class='xr-var-data'>array([[ 0.07907931,  0.09735206,  0.08765409, ..., -0.00610203,\n",
       "        -0.00590349, -0.00539096],\n",
       "       [ 0.08934257,  0.10573281,  0.09694383, ..., -0.00450113,\n",
       "        -0.00525373, -0.00483022],\n",
       "       [ 0.09764811,  0.11239226,  0.10428623, ..., -0.00409984,\n",
       "        -0.00431305, -0.00447671],\n",
       "       ...,\n",
       "       [        nan,         nan,         nan, ...,         nan,\n",
       "                nan,         nan],\n",
       "       [        nan,         nan,         nan, ...,         nan,\n",
       "                nan,         nan],\n",
       "       [        nan,         nan,         nan, ...,         nan,\n",
       "                nan,         nan]])</pre></li></ul></div></li><li class='xr-section-item'><input id='section-11709837-8a92-4709-abf3-4730eac45e56' class='xr-section-summary-in' type='checkbox' disabled ><label for='section-11709837-8a92-4709-abf3-4730eac45e56' class='xr-section-summary'  title='Expand/collapse section'>Attributes: <span>(0)</span></label><div class='xr-section-inline-details'></div><div class='xr-section-details'><dl class='xr-attrs'></dl></div></li></ul></div></div>"
      ],
      "text/plain": [
       "<xarray.Dataset>\n",
       "Dimensions:        (nu: 170000, time: 2920)\n",
       "Coordinates:\n",
       "  * nu             (nu) float64 400.0 400.0 400.0 ... 2.1e+03 2.1e+03 2.1e+03\n",
       "  * time           (time) datetime64[ns] 2011-01-01T01:30:00 ... 2011-12-31T22:30:00\n",
       "Data variables:\n",
       "    lw_down_CO2    (nu, time) float64 0.00051 0.0005091 ... 3.044e-07 3.078e-07\n",
       "    lw_down_CH4    (nu, time) float64 0.0 0.0 0.0 0.0 0.0 ... 0.0 0.0 0.0 0.0\n",
       "    lw_down_H2O    (nu, time) float64 0.09026 0.09063 ... 6.883e-07 7.323e-07\n",
       "    lw_down_total  (nu, time) float64 0.09026 0.09063 ... 9.922e-07 1.039e-06\n",
       "    eh_CO2         (nu, time) float64 nan nan nan nan nan ... nan nan nan nan\n",
       "    eh_CH4         (nu, time) float64 nan nan nan nan nan ... nan nan nan nan\n",
       "    eh_H2O         (nu, time) float64 191.4 178.4 179.1 195.4 ... nan nan nan\n",
       "    dT_CO2         (nu, time) float64 nan nan nan nan nan ... nan nan nan nan\n",
       "    dT_CH4         (nu, time) float64 nan nan nan nan nan ... nan nan nan nan\n",
       "    dT_H2O         (nu, time) float64 0.07908 0.09735 0.08765 ... nan nan nan"
      ]
     },
     "execution_count": 6,
     "metadata": {},
     "output_type": "execute_result"
    }
   ],
   "source": [
    "%%time\n",
    "ds_all = xr.open_mfdataset(result, \n",
    "                           combine='by_coords')\n",
    "ds_all.load()"
   ]
  },
  {
   "cell_type": "code",
   "execution_count": 149,
   "metadata": {},
   "outputs": [
    {
     "data": {
      "text/html": [
       "<div><svg style=\"position: absolute; width: 0; height: 0; overflow: hidden\">\n",
       "<defs>\n",
       "<symbol id=\"icon-database\" viewBox=\"0 0 32 32\">\n",
       "<title>Show/Hide data repr</title>\n",
       "<path d=\"M16 0c-8.837 0-16 2.239-16 5v4c0 2.761 7.163 5 16 5s16-2.239 16-5v-4c0-2.761-7.163-5-16-5z\"></path>\n",
       "<path d=\"M16 17c-8.837 0-16-2.239-16-5v6c0 2.761 7.163 5 16 5s16-2.239 16-5v-6c0 2.761-7.163 5-16 5z\"></path>\n",
       "<path d=\"M16 26c-8.837 0-16-2.239-16-5v6c0 2.761 7.163 5 16 5s16-2.239 16-5v-6c0 2.761-7.163 5-16 5z\"></path>\n",
       "</symbol>\n",
       "<symbol id=\"icon-file-text2\" viewBox=\"0 0 32 32\">\n",
       "<title>Show/Hide attributes</title>\n",
       "<path d=\"M28.681 7.159c-0.694-0.947-1.662-2.053-2.724-3.116s-2.169-2.030-3.116-2.724c-1.612-1.182-2.393-1.319-2.841-1.319h-15.5c-1.378 0-2.5 1.121-2.5 2.5v27c0 1.378 1.122 2.5 2.5 2.5h23c1.378 0 2.5-1.122 2.5-2.5v-19.5c0-0.448-0.137-1.23-1.319-2.841zM24.543 5.457c0.959 0.959 1.712 1.825 2.268 2.543h-4.811v-4.811c0.718 0.556 1.584 1.309 2.543 2.268zM28 29.5c0 0.271-0.229 0.5-0.5 0.5h-23c-0.271 0-0.5-0.229-0.5-0.5v-27c0-0.271 0.229-0.5 0.5-0.5 0 0 15.499-0 15.5 0v7c0 0.552 0.448 1 1 1h7v19.5z\"></path>\n",
       "<path d=\"M23 26h-14c-0.552 0-1-0.448-1-1s0.448-1 1-1h14c0.552 0 1 0.448 1 1s-0.448 1-1 1z\"></path>\n",
       "<path d=\"M23 22h-14c-0.552 0-1-0.448-1-1s0.448-1 1-1h14c0.552 0 1 0.448 1 1s-0.448 1-1 1z\"></path>\n",
       "<path d=\"M23 18h-14c-0.552 0-1-0.448-1-1s0.448-1 1-1h14c0.552 0 1 0.448 1 1s-0.448 1-1 1z\"></path>\n",
       "</symbol>\n",
       "</defs>\n",
       "</svg>\n",
       "<style>/* CSS stylesheet for displaying xarray objects in jupyterlab.\n",
       " *\n",
       " */\n",
       "\n",
       ":root {\n",
       "  --xr-font-color0: var(--jp-content-font-color0, rgba(0, 0, 0, 1));\n",
       "  --xr-font-color2: var(--jp-content-font-color2, rgba(0, 0, 0, 0.54));\n",
       "  --xr-font-color3: var(--jp-content-font-color3, rgba(0, 0, 0, 0.38));\n",
       "  --xr-border-color: var(--jp-border-color2, #e0e0e0);\n",
       "  --xr-disabled-color: var(--jp-layout-color3, #bdbdbd);\n",
       "  --xr-background-color: var(--jp-layout-color0, white);\n",
       "  --xr-background-color-row-even: var(--jp-layout-color1, white);\n",
       "  --xr-background-color-row-odd: var(--jp-layout-color2, #eeeeee);\n",
       "}\n",
       "\n",
       ".xr-wrap {\n",
       "  min-width: 300px;\n",
       "  max-width: 700px;\n",
       "}\n",
       "\n",
       ".xr-header {\n",
       "  padding-top: 6px;\n",
       "  padding-bottom: 6px;\n",
       "  margin-bottom: 4px;\n",
       "  border-bottom: solid 1px var(--xr-border-color);\n",
       "}\n",
       "\n",
       ".xr-header > div,\n",
       ".xr-header > ul {\n",
       "  display: inline;\n",
       "  margin-top: 0;\n",
       "  margin-bottom: 0;\n",
       "}\n",
       "\n",
       ".xr-obj-type,\n",
       ".xr-array-name {\n",
       "  margin-left: 2px;\n",
       "  margin-right: 10px;\n",
       "}\n",
       "\n",
       ".xr-obj-type {\n",
       "  color: var(--xr-font-color2);\n",
       "}\n",
       "\n",
       ".xr-sections {\n",
       "  padding-left: 0 !important;\n",
       "  display: grid;\n",
       "  grid-template-columns: 150px auto auto 1fr 20px 20px;\n",
       "}\n",
       "\n",
       ".xr-section-item {\n",
       "  display: contents;\n",
       "}\n",
       "\n",
       ".xr-section-item input {\n",
       "  display: none;\n",
       "}\n",
       "\n",
       ".xr-section-item input + label {\n",
       "  color: var(--xr-disabled-color);\n",
       "}\n",
       "\n",
       ".xr-section-item input:enabled + label {\n",
       "  cursor: pointer;\n",
       "  color: var(--xr-font-color2);\n",
       "}\n",
       "\n",
       ".xr-section-item input:enabled + label:hover {\n",
       "  color: var(--xr-font-color0);\n",
       "}\n",
       "\n",
       ".xr-section-summary {\n",
       "  grid-column: 1;\n",
       "  color: var(--xr-font-color2);\n",
       "  font-weight: 500;\n",
       "}\n",
       "\n",
       ".xr-section-summary > span {\n",
       "  display: inline-block;\n",
       "  padding-left: 0.5em;\n",
       "}\n",
       "\n",
       ".xr-section-summary-in:disabled + label {\n",
       "  color: var(--xr-font-color2);\n",
       "}\n",
       "\n",
       ".xr-section-summary-in + label:before {\n",
       "  display: inline-block;\n",
       "  content: '►';\n",
       "  font-size: 11px;\n",
       "  width: 15px;\n",
       "  text-align: center;\n",
       "}\n",
       "\n",
       ".xr-section-summary-in:disabled + label:before {\n",
       "  color: var(--xr-disabled-color);\n",
       "}\n",
       "\n",
       ".xr-section-summary-in:checked + label:before {\n",
       "  content: '▼';\n",
       "}\n",
       "\n",
       ".xr-section-summary-in:checked + label > span {\n",
       "  display: none;\n",
       "}\n",
       "\n",
       ".xr-section-summary,\n",
       ".xr-section-inline-details {\n",
       "  padding-top: 4px;\n",
       "  padding-bottom: 4px;\n",
       "}\n",
       "\n",
       ".xr-section-inline-details {\n",
       "  grid-column: 2 / -1;\n",
       "}\n",
       "\n",
       ".xr-section-details {\n",
       "  display: none;\n",
       "  grid-column: 1 / -1;\n",
       "  margin-bottom: 5px;\n",
       "}\n",
       "\n",
       ".xr-section-summary-in:checked ~ .xr-section-details {\n",
       "  display: contents;\n",
       "}\n",
       "\n",
       ".xr-array-wrap {\n",
       "  grid-column: 1 / -1;\n",
       "  display: grid;\n",
       "  grid-template-columns: 20px auto;\n",
       "}\n",
       "\n",
       ".xr-array-wrap > label {\n",
       "  grid-column: 1;\n",
       "  vertical-align: top;\n",
       "}\n",
       "\n",
       ".xr-preview {\n",
       "  color: var(--xr-font-color3);\n",
       "}\n",
       "\n",
       ".xr-array-preview,\n",
       ".xr-array-data {\n",
       "  padding: 0 5px !important;\n",
       "  grid-column: 2;\n",
       "}\n",
       "\n",
       ".xr-array-data,\n",
       ".xr-array-in:checked ~ .xr-array-preview {\n",
       "  display: none;\n",
       "}\n",
       "\n",
       ".xr-array-in:checked ~ .xr-array-data,\n",
       ".xr-array-preview {\n",
       "  display: inline-block;\n",
       "}\n",
       "\n",
       ".xr-dim-list {\n",
       "  display: inline-block !important;\n",
       "  list-style: none;\n",
       "  padding: 0 !important;\n",
       "  margin: 0;\n",
       "}\n",
       "\n",
       ".xr-dim-list li {\n",
       "  display: inline-block;\n",
       "  padding: 0;\n",
       "  margin: 0;\n",
       "}\n",
       "\n",
       ".xr-dim-list:before {\n",
       "  content: '(';\n",
       "}\n",
       "\n",
       ".xr-dim-list:after {\n",
       "  content: ')';\n",
       "}\n",
       "\n",
       ".xr-dim-list li:not(:last-child):after {\n",
       "  content: ',';\n",
       "  padding-right: 5px;\n",
       "}\n",
       "\n",
       ".xr-has-index {\n",
       "  font-weight: bold;\n",
       "}\n",
       "\n",
       ".xr-var-list,\n",
       ".xr-var-item {\n",
       "  display: contents;\n",
       "}\n",
       "\n",
       ".xr-var-item > div,\n",
       ".xr-var-item label,\n",
       ".xr-var-item > .xr-var-name span {\n",
       "  background-color: var(--xr-background-color-row-even);\n",
       "  margin-bottom: 0;\n",
       "}\n",
       "\n",
       ".xr-var-item > .xr-var-name:hover span {\n",
       "  padding-right: 5px;\n",
       "}\n",
       "\n",
       ".xr-var-list > li:nth-child(odd) > div,\n",
       ".xr-var-list > li:nth-child(odd) > label,\n",
       ".xr-var-list > li:nth-child(odd) > .xr-var-name span {\n",
       "  background-color: var(--xr-background-color-row-odd);\n",
       "}\n",
       "\n",
       ".xr-var-name {\n",
       "  grid-column: 1;\n",
       "}\n",
       "\n",
       ".xr-var-dims {\n",
       "  grid-column: 2;\n",
       "}\n",
       "\n",
       ".xr-var-dtype {\n",
       "  grid-column: 3;\n",
       "  text-align: right;\n",
       "  color: var(--xr-font-color2);\n",
       "}\n",
       "\n",
       ".xr-var-preview {\n",
       "  grid-column: 4;\n",
       "}\n",
       "\n",
       ".xr-var-name,\n",
       ".xr-var-dims,\n",
       ".xr-var-dtype,\n",
       ".xr-preview,\n",
       ".xr-attrs dt {\n",
       "  white-space: nowrap;\n",
       "  overflow: hidden;\n",
       "  text-overflow: ellipsis;\n",
       "  padding-right: 10px;\n",
       "}\n",
       "\n",
       ".xr-var-name:hover,\n",
       ".xr-var-dims:hover,\n",
       ".xr-var-dtype:hover,\n",
       ".xr-attrs dt:hover {\n",
       "  overflow: visible;\n",
       "  width: auto;\n",
       "  z-index: 1;\n",
       "}\n",
       "\n",
       ".xr-var-attrs,\n",
       ".xr-var-data {\n",
       "  display: none;\n",
       "  background-color: var(--xr-background-color) !important;\n",
       "  padding-bottom: 5px !important;\n",
       "}\n",
       "\n",
       ".xr-var-attrs-in:checked ~ .xr-var-attrs,\n",
       ".xr-var-data-in:checked ~ .xr-var-data {\n",
       "  display: block;\n",
       "}\n",
       "\n",
       ".xr-var-data > table {\n",
       "  float: right;\n",
       "}\n",
       "\n",
       ".xr-var-name span,\n",
       ".xr-var-data,\n",
       ".xr-attrs {\n",
       "  padding-left: 25px !important;\n",
       "}\n",
       "\n",
       ".xr-attrs,\n",
       ".xr-var-attrs,\n",
       ".xr-var-data {\n",
       "  grid-column: 1 / -1;\n",
       "}\n",
       "\n",
       "dl.xr-attrs {\n",
       "  padding: 0;\n",
       "  margin: 0;\n",
       "  display: grid;\n",
       "  grid-template-columns: 125px auto;\n",
       "}\n",
       "\n",
       ".xr-attrs dt, dd {\n",
       "  padding: 0;\n",
       "  margin: 0;\n",
       "  float: left;\n",
       "  padding-right: 10px;\n",
       "  width: auto;\n",
       "}\n",
       "\n",
       ".xr-attrs dt {\n",
       "  font-weight: normal;\n",
       "  grid-column: 1;\n",
       "}\n",
       "\n",
       ".xr-attrs dt:hover span {\n",
       "  display: inline-block;\n",
       "  background: var(--xr-background-color);\n",
       "  padding-right: 10px;\n",
       "}\n",
       "\n",
       ".xr-attrs dd {\n",
       "  grid-column: 2;\n",
       "  white-space: pre-wrap;\n",
       "  word-break: break-all;\n",
       "}\n",
       "\n",
       ".xr-icon-database,\n",
       ".xr-icon-file-text2 {\n",
       "  display: inline-block;\n",
       "  vertical-align: middle;\n",
       "  width: 1em;\n",
       "  height: 1.5em !important;\n",
       "  stroke-width: 0;\n",
       "  stroke: currentColor;\n",
       "  fill: currentColor;\n",
       "}\n",
       "</style><div class='xr-wrap'><div class='xr-header'><div class='xr-obj-type'>xarray.Dataset</div></div><ul class='xr-sections'><li class='xr-section-item'><input id='section-2760cd7e-89bf-4e37-b75a-3d08ca891e2e' class='xr-section-summary-in' type='checkbox' disabled ><label for='section-2760cd7e-89bf-4e37-b75a-3d08ca891e2e' class='xr-section-summary'  title='Expand/collapse section'>Dimensions:</label><div class='xr-section-inline-details'><ul class='xr-dim-list'><li><span class='xr-has-index'>nu</span>: 170000</li><li><span class='xr-has-index'>time</span>: 2920</li></ul></div><div class='xr-section-details'></div></li><li class='xr-section-item'><input id='section-a180db16-73a6-4dea-8dd7-ea508e54f44d' class='xr-section-summary-in' type='checkbox'  checked><label for='section-a180db16-73a6-4dea-8dd7-ea508e54f44d' class='xr-section-summary' >Coordinates: <span>(2)</span></label><div class='xr-section-inline-details'></div><div class='xr-section-details'><ul class='xr-var-list'><li class='xr-var-item'><div class='xr-var-name'><span class='xr-has-index'>nu</span></div><div class='xr-var-dims'>(nu)</div><div class='xr-var-dtype'>float64</div><div class='xr-var-preview xr-preview'>400.0 400.0 ... 2.1e+03 2.1e+03</div><input id='attrs-4dfc6f4d-4c12-4ea1-95ee-9e454965ec7c' class='xr-var-attrs-in' type='checkbox' disabled><label for='attrs-4dfc6f4d-4c12-4ea1-95ee-9e454965ec7c' title='Show/Hide attributes'><svg class='icon xr-icon-file-text2'><use xlink:href='#icon-file-text2'></use></svg></label><input id='data-e5f46d59-bfe1-4f4f-8561-2ad523ddc5dc' class='xr-var-data-in' type='checkbox'><label for='data-e5f46d59-bfe1-4f4f-8561-2ad523ddc5dc' title='Show/Hide data repr'><svg class='icon xr-icon-database'><use xlink:href='#icon-database'></use></svg></label><div class='xr-var-attrs'><dl class='xr-attrs'></dl></div><pre class='xr-var-data'>array([ 400.  ,  400.01,  400.02, ..., 2099.97, 2099.98, 2099.99])</pre></li><li class='xr-var-item'><div class='xr-var-name'><span class='xr-has-index'>time</span></div><div class='xr-var-dims'>(time)</div><div class='xr-var-dtype'>datetime64[ns]</div><div class='xr-var-preview xr-preview'>2011-01-01T01:30:00 ... 2011-12-31T22:30:00</div><input id='attrs-0cb48e98-5293-4392-9438-0e940f64451e' class='xr-var-attrs-in' type='checkbox' disabled><label for='attrs-0cb48e98-5293-4392-9438-0e940f64451e' title='Show/Hide attributes'><svg class='icon xr-icon-file-text2'><use xlink:href='#icon-file-text2'></use></svg></label><input id='data-e8503bfa-83bc-4447-8c5c-1960b1694e82' class='xr-var-data-in' type='checkbox'><label for='data-e8503bfa-83bc-4447-8c5c-1960b1694e82' title='Show/Hide data repr'><svg class='icon xr-icon-database'><use xlink:href='#icon-database'></use></svg></label><div class='xr-var-attrs'><dl class='xr-attrs'></dl></div><pre class='xr-var-data'>array([&#x27;2011-01-01T01:30:00.000000000&#x27;, &#x27;2011-01-01T04:30:00.000000000&#x27;,\n",
       "       &#x27;2011-01-01T07:30:00.000000000&#x27;, ..., &#x27;2011-12-31T16:30:00.000000000&#x27;,\n",
       "       &#x27;2011-12-31T19:30:00.000000000&#x27;, &#x27;2011-12-31T22:30:00.000000000&#x27;],\n",
       "      dtype=&#x27;datetime64[ns]&#x27;)</pre></li></ul></div></li><li class='xr-section-item'><input id='section-dd8e6445-bf4b-40e6-bf28-504e80ed1adb' class='xr-section-summary-in' type='checkbox'  checked><label for='section-dd8e6445-bf4b-40e6-bf28-504e80ed1adb' class='xr-section-summary' >Data variables: <span>(10)</span></label><div class='xr-section-inline-details'></div><div class='xr-section-details'><ul class='xr-var-list'><li class='xr-var-item'><div class='xr-var-name'><span>lw_down_CO2</span></div><div class='xr-var-dims'>(nu, time)</div><div class='xr-var-dtype'>float64</div><div class='xr-var-preview xr-preview'>0.0003618 0.0003612 ... 2.181e-07</div><input id='attrs-bab4f955-48f7-40c4-a959-71b279d3c40c' class='xr-var-attrs-in' type='checkbox' disabled><label for='attrs-bab4f955-48f7-40c4-a959-71b279d3c40c' title='Show/Hide attributes'><svg class='icon xr-icon-file-text2'><use xlink:href='#icon-file-text2'></use></svg></label><input id='data-d4df51e2-a9ae-4bba-9bda-8dba624534f0' class='xr-var-data-in' type='checkbox'><label for='data-d4df51e2-a9ae-4bba-9bda-8dba624534f0' title='Show/Hide data repr'><svg class='icon xr-icon-database'><use xlink:href='#icon-database'></use></svg></label><div class='xr-var-attrs'><dl class='xr-attrs'></dl></div><pre class='xr-var-data'>array([[3.61797997e-04, 3.61192232e-04, 3.60469300e-04, ...,\n",
       "        2.84344818e-04, 2.85066365e-04, 2.85545453e-04],\n",
       "       [3.61828658e-04, 3.61221991e-04, 3.60515468e-04, ...,\n",
       "        2.84387440e-04, 2.85077878e-04, 2.85570739e-04],\n",
       "       [3.61846774e-04, 3.61239926e-04, 3.60557433e-04, ...,\n",
       "        2.84406185e-04, 2.85105313e-04, 2.85588399e-04],\n",
       "       ...,\n",
       "       [6.81362367e-07, 6.68529496e-07, 6.50613296e-07, ...,\n",
       "        2.23753740e-07, 2.30768996e-07, 2.33405931e-07],\n",
       "       [6.57466386e-07, 6.45594132e-07, 6.27958867e-07, ...,\n",
       "        2.16051590e-07, 2.23033285e-07, 2.25476545e-07],\n",
       "       [6.35899405e-07, 6.24137421e-07, 6.07201783e-07, ...,\n",
       "        2.09151926e-07, 2.15759790e-07, 2.18140480e-07]])</pre></li><li class='xr-var-item'><div class='xr-var-name'><span>lw_down_CH4</span></div><div class='xr-var-dims'>(nu, time)</div><div class='xr-var-dtype'>float64</div><div class='xr-var-preview xr-preview'>0.0 0.0 0.0 0.0 ... 0.0 0.0 0.0 0.0</div><input id='attrs-41f8e74a-0d00-4132-a292-6a36f1b55880' class='xr-var-attrs-in' type='checkbox' disabled><label for='attrs-41f8e74a-0d00-4132-a292-6a36f1b55880' title='Show/Hide attributes'><svg class='icon xr-icon-file-text2'><use xlink:href='#icon-file-text2'></use></svg></label><input id='data-caec21af-4060-4400-bdaf-a67d4ec744bd' class='xr-var-data-in' type='checkbox'><label for='data-caec21af-4060-4400-bdaf-a67d4ec744bd' title='Show/Hide data repr'><svg class='icon xr-icon-database'><use xlink:href='#icon-database'></use></svg></label><div class='xr-var-attrs'><dl class='xr-attrs'></dl></div><pre class='xr-var-data'>array([[0., 0., 0., ..., 0., 0., 0.],\n",
       "       [0., 0., 0., ..., 0., 0., 0.],\n",
       "       [0., 0., 0., ..., 0., 0., 0.],\n",
       "       ...,\n",
       "       [0., 0., 0., ..., 0., 0., 0.],\n",
       "       [0., 0., 0., ..., 0., 0., 0.],\n",
       "       [0., 0., 0., ..., 0., 0., 0.]])</pre></li><li class='xr-var-item'><div class='xr-var-name'><span>lw_down_H2O</span></div><div class='xr-var-dims'>(nu, time)</div><div class='xr-var-dtype'>float64</div><div class='xr-var-preview xr-preview'>0.09026 0.09063 ... 7.323e-07</div><input id='attrs-e0a6d5e4-3d81-4759-a1b1-bd5fca4728ed' class='xr-var-attrs-in' type='checkbox' disabled><label for='attrs-e0a6d5e4-3d81-4759-a1b1-bd5fca4728ed' title='Show/Hide attributes'><svg class='icon xr-icon-file-text2'><use xlink:href='#icon-file-text2'></use></svg></label><input id='data-a5c85ce9-b1b7-4c3a-b5a8-214da31b52e4' class='xr-var-data-in' type='checkbox'><label for='data-a5c85ce9-b1b7-4c3a-b5a8-214da31b52e4' title='Show/Hide data repr'><svg class='icon xr-icon-database'><use xlink:href='#icon-database'></use></svg></label><div class='xr-var-attrs'><dl class='xr-attrs'></dl></div><pre class='xr-var-data'>array([[9.02603349e-02, 9.06270644e-02, 9.01923266e-02, ...,\n",
       "        6.07217126e-02, 6.39698629e-02, 6.51759732e-02],\n",
       "       [9.00253004e-02, 9.04038066e-02, 8.99996015e-02, ...,\n",
       "        6.26513619e-02, 6.57849964e-02, 6.69517033e-02],\n",
       "       [8.97708566e-02, 9.01602200e-02, 8.97878170e-02, ...,\n",
       "        6.45356718e-02, 6.75302224e-02, 6.86504503e-02],\n",
       "       ...,\n",
       "       [1.79808225e-05, 1.67002439e-05, 1.42566999e-05, ...,\n",
       "        6.66391194e-07, 7.90940059e-07, 8.37372499e-07],\n",
       "       [1.73504692e-05, 1.61203839e-05, 1.37620387e-05, ...,\n",
       "        6.25610059e-07, 7.45267613e-07, 7.91856433e-07],\n",
       "       [1.60255653e-05, 1.49013310e-05, 1.27224782e-05, ...,\n",
       "        5.76229858e-07, 6.88277328e-07, 7.32261609e-07]])</pre></li><li class='xr-var-item'><div class='xr-var-name'><span>lw_down_total</span></div><div class='xr-var-dims'>(nu, time)</div><div class='xr-var-dtype'>float64</div><div class='xr-var-preview xr-preview'>0.09026 0.09063 ... 9.5e-07</div><input id='attrs-021227fa-fd7a-4188-9773-b8fe576ede20' class='xr-var-attrs-in' type='checkbox' disabled><label for='attrs-021227fa-fd7a-4188-9773-b8fe576ede20' title='Show/Hide attributes'><svg class='icon xr-icon-file-text2'><use xlink:href='#icon-file-text2'></use></svg></label><input id='data-41a4d012-cf7e-4b68-aa3f-c99a1481e75b' class='xr-var-data-in' type='checkbox'><label for='data-41a4d012-cf7e-4b68-aa3f-c99a1481e75b' title='Show/Hide data repr'><svg class='icon xr-icon-database'><use xlink:href='#icon-database'></use></svg></label><div class='xr-var-attrs'><dl class='xr-attrs'></dl></div><pre class='xr-var-data'>array([[9.02593254e-02, 9.06261074e-02, 9.01915054e-02, ...,\n",
       "        6.07743302e-02, 6.40141806e-02, 6.52176579e-02],\n",
       "       [9.00243304e-02, 9.04028819e-02, 8.99988041e-02, ...,\n",
       "        6.26967433e-02, 6.58226187e-02, 6.69869042e-02],\n",
       "       [8.97699315e-02, 9.01593327e-02, 8.97870497e-02, ...,\n",
       "        6.45739958e-02, 6.75614267e-02, 6.86794690e-02],\n",
       "       ...,\n",
       "       [1.86484201e-05, 1.73562695e-05, 1.48965325e-05, ...,\n",
       "        8.89710728e-07, 1.02121816e-06, 1.07027036e-06],\n",
       "       [1.79951013e-05, 1.67543416e-05, 1.43800189e-05, ...,\n",
       "        8.41273442e-07, 9.67860192e-07, 1.01687504e-06],\n",
       "       [1.66501088e-05, 1.55151064e-05, 1.33208249e-05, ...,\n",
       "        7.85036286e-07, 9.03644055e-07, 9.49993037e-07]])</pre></li><li class='xr-var-item'><div class='xr-var-name'><span>eh_CO2</span></div><div class='xr-var-dims'>(nu, time)</div><div class='xr-var-dtype'>float64</div><div class='xr-var-preview xr-preview'>nan nan nan nan ... nan nan nan nan</div><input id='attrs-daa02941-a405-472c-a624-94d5ac421dc7' class='xr-var-attrs-in' type='checkbox' disabled><label for='attrs-daa02941-a405-472c-a624-94d5ac421dc7' title='Show/Hide attributes'><svg class='icon xr-icon-file-text2'><use xlink:href='#icon-file-text2'></use></svg></label><input id='data-d9804dfe-410a-4495-b2b0-266b7601b7bc' class='xr-var-data-in' type='checkbox'><label for='data-d9804dfe-410a-4495-b2b0-266b7601b7bc' title='Show/Hide data repr'><svg class='icon xr-icon-database'><use xlink:href='#icon-database'></use></svg></label><div class='xr-var-attrs'><dl class='xr-attrs'></dl></div><pre class='xr-var-data'>array([[nan, nan, nan, ..., nan, nan, nan],\n",
       "       [nan, nan, nan, ..., nan, nan, nan],\n",
       "       [nan, nan, nan, ..., nan, nan, nan],\n",
       "       ...,\n",
       "       [nan, nan, nan, ..., nan, nan, nan],\n",
       "       [nan, nan, nan, ..., nan, nan, nan],\n",
       "       [nan, nan, nan, ..., nan, nan, nan]])</pre></li><li class='xr-var-item'><div class='xr-var-name'><span>eh_CH4</span></div><div class='xr-var-dims'>(nu, time)</div><div class='xr-var-dtype'>float64</div><div class='xr-var-preview xr-preview'>nan nan nan nan ... nan nan nan nan</div><input id='attrs-2f3c77cf-89cb-49e7-bbb4-9de5087d71e1' class='xr-var-attrs-in' type='checkbox' disabled><label for='attrs-2f3c77cf-89cb-49e7-bbb4-9de5087d71e1' title='Show/Hide attributes'><svg class='icon xr-icon-file-text2'><use xlink:href='#icon-file-text2'></use></svg></label><input id='data-e87c55fa-2b93-4553-9267-c140944e4bb4' class='xr-var-data-in' type='checkbox'><label for='data-e87c55fa-2b93-4553-9267-c140944e4bb4' title='Show/Hide data repr'><svg class='icon xr-icon-database'><use xlink:href='#icon-database'></use></svg></label><div class='xr-var-attrs'><dl class='xr-attrs'></dl></div><pre class='xr-var-data'>array([[nan, nan, nan, ..., nan, nan, nan],\n",
       "       [nan, nan, nan, ..., nan, nan, nan],\n",
       "       [nan, nan, nan, ..., nan, nan, nan],\n",
       "       ...,\n",
       "       [nan, nan, nan, ..., nan, nan, nan],\n",
       "       [nan, nan, nan, ..., nan, nan, nan],\n",
       "       [nan, nan, nan, ..., nan, nan, nan]])</pre></li><li class='xr-var-item'><div class='xr-var-name'><span>eh_H2O</span></div><div class='xr-var-dims'>(nu, time)</div><div class='xr-var-dtype'>float64</div><div class='xr-var-preview xr-preview'>191.4 178.4 179.1 ... nan nan nan</div><input id='attrs-e82b7784-12d7-441b-ba71-8f72118d7363' class='xr-var-attrs-in' type='checkbox' disabled><label for='attrs-e82b7784-12d7-441b-ba71-8f72118d7363' title='Show/Hide attributes'><svg class='icon xr-icon-file-text2'><use xlink:href='#icon-file-text2'></use></svg></label><input id='data-169037bc-ca37-4208-9c82-8727d64fee7f' class='xr-var-data-in' type='checkbox'><label for='data-169037bc-ca37-4208-9c82-8727d64fee7f' title='Show/Hide data repr'><svg class='icon xr-icon-database'><use xlink:href='#icon-database'></use></svg></label><div class='xr-var-attrs'><dl class='xr-attrs'></dl></div><pre class='xr-var-data'>array([[ 191.36249245,  178.36662287,  179.09390322, ..., 1267.22452431,\n",
       "        1012.3325535 ,  930.68006491],\n",
       "       [ 181.77437628,  170.08205904,  170.51887188, ..., 1140.00066587,\n",
       "         923.75667704,  848.68833454],\n",
       "       [ 172.56508865,  162.12467213,  162.28258638, ..., 1030.68590085,\n",
       "         844.36844119,  774.33376371],\n",
       "       ...,\n",
       "       [          nan,           nan,           nan, ...,           nan,\n",
       "                  nan,           nan],\n",
       "       [          nan,           nan,           nan, ...,           nan,\n",
       "                  nan,           nan],\n",
       "       [          nan,           nan,           nan, ...,           nan,\n",
       "                  nan,           nan]])</pre></li><li class='xr-var-item'><div class='xr-var-name'><span>dT_CO2</span></div><div class='xr-var-dims'>(nu, time)</div><div class='xr-var-dtype'>float64</div><div class='xr-var-preview xr-preview'>nan nan nan nan ... nan nan nan nan</div><input id='attrs-8ed57375-bfed-48bc-8295-f6a5549ae5d9' class='xr-var-attrs-in' type='checkbox' disabled><label for='attrs-8ed57375-bfed-48bc-8295-f6a5549ae5d9' title='Show/Hide attributes'><svg class='icon xr-icon-file-text2'><use xlink:href='#icon-file-text2'></use></svg></label><input id='data-1d23ab9e-2bd5-4aab-a1ba-54260214dc56' class='xr-var-data-in' type='checkbox'><label for='data-1d23ab9e-2bd5-4aab-a1ba-54260214dc56' title='Show/Hide data repr'><svg class='icon xr-icon-database'><use xlink:href='#icon-database'></use></svg></label><div class='xr-var-attrs'><dl class='xr-attrs'></dl></div><pre class='xr-var-data'>array([[nan, nan, nan, ..., nan, nan, nan],\n",
       "       [nan, nan, nan, ..., nan, nan, nan],\n",
       "       [nan, nan, nan, ..., nan, nan, nan],\n",
       "       ...,\n",
       "       [nan, nan, nan, ..., nan, nan, nan],\n",
       "       [nan, nan, nan, ..., nan, nan, nan],\n",
       "       [nan, nan, nan, ..., nan, nan, nan]])</pre></li><li class='xr-var-item'><div class='xr-var-name'><span>dT_CH4</span></div><div class='xr-var-dims'>(nu, time)</div><div class='xr-var-dtype'>float64</div><div class='xr-var-preview xr-preview'>nan nan nan nan ... nan nan nan nan</div><input id='attrs-74ae4246-aba6-42ed-a9fc-303c247fd79f' class='xr-var-attrs-in' type='checkbox' disabled><label for='attrs-74ae4246-aba6-42ed-a9fc-303c247fd79f' title='Show/Hide attributes'><svg class='icon xr-icon-file-text2'><use xlink:href='#icon-file-text2'></use></svg></label><input id='data-ce24221d-9ae4-4cc6-9fc3-5370cc438cc1' class='xr-var-data-in' type='checkbox'><label for='data-ce24221d-9ae4-4cc6-9fc3-5370cc438cc1' title='Show/Hide data repr'><svg class='icon xr-icon-database'><use xlink:href='#icon-database'></use></svg></label><div class='xr-var-attrs'><dl class='xr-attrs'></dl></div><pre class='xr-var-data'>array([[nan, nan, nan, ..., nan, nan, nan],\n",
       "       [nan, nan, nan, ..., nan, nan, nan],\n",
       "       [nan, nan, nan, ..., nan, nan, nan],\n",
       "       ...,\n",
       "       [nan, nan, nan, ..., nan, nan, nan],\n",
       "       [nan, nan, nan, ..., nan, nan, nan],\n",
       "       [nan, nan, nan, ..., nan, nan, nan]])</pre></li><li class='xr-var-item'><div class='xr-var-name'><span>dT_H2O</span></div><div class='xr-var-dims'>(nu, time)</div><div class='xr-var-dtype'>float64</div><div class='xr-var-preview xr-preview'>0.07908 0.09735 0.08765 ... nan nan</div><input id='attrs-e21a3df3-296f-44d8-bfbc-9d2021c6dccf' class='xr-var-attrs-in' type='checkbox' disabled><label for='attrs-e21a3df3-296f-44d8-bfbc-9d2021c6dccf' title='Show/Hide attributes'><svg class='icon xr-icon-file-text2'><use xlink:href='#icon-file-text2'></use></svg></label><input id='data-f6845226-619a-4cf8-8d67-3203ef2d2d6c' class='xr-var-data-in' type='checkbox'><label for='data-f6845226-619a-4cf8-8d67-3203ef2d2d6c' title='Show/Hide data repr'><svg class='icon xr-icon-database'><use xlink:href='#icon-database'></use></svg></label><div class='xr-var-attrs'><dl class='xr-attrs'></dl></div><pre class='xr-var-data'>array([[ 0.07907931,  0.09735206,  0.08765409, ..., -0.00610203,\n",
       "        -0.00590349, -0.00539096],\n",
       "       [ 0.08934257,  0.10573281,  0.09694383, ..., -0.00450113,\n",
       "        -0.00525373, -0.00483022],\n",
       "       [ 0.09764811,  0.11239226,  0.10428623, ..., -0.00409984,\n",
       "        -0.00431305, -0.00447671],\n",
       "       ...,\n",
       "       [        nan,         nan,         nan, ...,         nan,\n",
       "                nan,         nan],\n",
       "       [        nan,         nan,         nan, ...,         nan,\n",
       "                nan,         nan],\n",
       "       [        nan,         nan,         nan, ...,         nan,\n",
       "                nan,         nan]])</pre></li></ul></div></li><li class='xr-section-item'><input id='section-23320e76-0602-41a9-8771-5073b15de6b3' class='xr-section-summary-in' type='checkbox' disabled ><label for='section-23320e76-0602-41a9-8771-5073b15de6b3' class='xr-section-summary'  title='Expand/collapse section'>Attributes: <span>(0)</span></label><div class='xr-section-inline-details'></div><div class='xr-section-details'><dl class='xr-attrs'></dl></div></li></ul></div></div>"
      ],
      "text/plain": [
       "<xarray.Dataset>\n",
       "Dimensions:        (nu: 170000, time: 2920)\n",
       "Coordinates:\n",
       "  * nu             (nu) float64 400.0 400.0 400.0 ... 2.1e+03 2.1e+03 2.1e+03\n",
       "  * time           (time) datetime64[ns] 2011-01-01T01:30:00 ... 2011-12-31T22:30:00\n",
       "Data variables:\n",
       "    lw_down_CO2    (nu, time) float64 0.0003618 0.0003612 ... 2.181e-07\n",
       "    lw_down_CH4    (nu, time) float64 0.0 0.0 0.0 0.0 0.0 ... 0.0 0.0 0.0 0.0\n",
       "    lw_down_H2O    (nu, time) float64 0.09026 0.09063 ... 6.883e-07 7.323e-07\n",
       "    lw_down_total  (nu, time) float64 0.09026 0.09063 ... 9.036e-07 9.5e-07\n",
       "    eh_CO2         (nu, time) float64 nan nan nan nan nan ... nan nan nan nan\n",
       "    eh_CH4         (nu, time) float64 nan nan nan nan nan ... nan nan nan nan\n",
       "    eh_H2O         (nu, time) float64 191.4 178.4 179.1 195.4 ... nan nan nan\n",
       "    dT_CO2         (nu, time) float64 nan nan nan nan nan ... nan nan nan nan\n",
       "    dT_CH4         (nu, time) float64 nan nan nan nan nan ... nan nan nan nan\n",
       "    dT_H2O         (nu, time) float64 0.07908 0.09735 0.08765 ... nan nan nan"
      ]
     },
     "execution_count": 149,
     "metadata": {},
     "output_type": "execute_result"
    }
   ],
   "source": [
    "ds_all_pre_co2 = xr.open_mfdataset(result_pre_co2, \n",
    "                           combine='by_coords')\n",
    "ds_all_pre_co2.load()"
   ]
  },
  {
   "cell_type": "code",
   "execution_count": 90,
   "metadata": {},
   "outputs": [],
   "source": [
    "# ds_all.isel(time = -1)['lw_down_CO2'].plot()\n",
    "# surf_diff_ds = ds_all - ds_all_pre_co2"
   ]
  },
  {
   "cell_type": "code",
   "execution_count": 76,
   "metadata": {},
   "outputs": [
    {
     "data": {
      "text/plain": [
       "(0.0, 30000.0)"
      ]
     },
     "execution_count": 76,
     "metadata": {},
     "output_type": "execute_result"
    },
    {
     "data": {
      "image/png": "[encoded data removed]",
      "text/plain": [
       "<Figure size 432x288 with 1 Axes>"
      ]
     },
     "metadata": {
      "needs_background": "light"
     },
     "output_type": "display_data"
    }
   ],
   "source": [
    "ds_all.isel(time = 8)['eh_CO2'].plot()\n",
    "plt.xlim([550, 800])\n",
    "plt.ylim([0, 30000])"
   ]
  },
  {
   "cell_type": "code",
   "execution_count": 90,
   "metadata": {},
   "outputs": [
    {
     "data": {
      "text/plain": [
       "(550.0, 800.0)"
      ]
     },
     "execution_count": 90,
     "metadata": {},
     "output_type": "execute_result"
    },
    {
     "data": {
      "image/png": "[encoded data removed]",
      "text/plain": [
       "<Figure size 432x288 with 1 Axes>"
      ]
     },
     "metadata": {
      "needs_background": "light"
     },
     "output_type": "display_data"
    }
   ],
   "source": [
    "ds_all.isel(time = -1)['lw_down_total'].plot()\n",
    "plt.xlim([550, 800])\n",
    "# plt.ylim([0, 30000])"
   ]
  },
  {
   "cell_type": "code",
   "execution_count": 6,
   "metadata": {},
   "outputs": [
    {
     "name": "stderr",
     "output_type": "stream",
     "text": [
      "/home/cchristo/anaconda3/envs/rad_transfer/lib/python3.6/site-packages/numpy/lib/function_base.py:2198: RuntimeWarning: Mean of empty slice\n",
      "  results = func(*(arg[index] for arg in args))\n"
     ]
    }
   ],
   "source": [
    "# ds_all_mean = xr.apply_ufunc(np.nanmean, ds_all, input_core_dims = [['time']], vectorize = True)\n",
    "ds_all_mean = ds_all.mean(dim = 'time')"
   ]
  },
  {
   "cell_type": "code",
   "execution_count": null,
   "metadata": {},
   "outputs": [],
   "source": []
  },
  {
   "cell_type": "code",
   "execution_count": 7,
   "metadata": {},
   "outputs": [
    {
     "name": "stderr",
     "output_type": "stream",
     "text": [
      "/home/cchristo/anaconda3/envs/rad_transfer/lib/python3.6/site-packages/xarray/core/nanops.py:142: RuntimeWarning: Mean of empty slice\n",
      "  return np.nanmean(a, axis=axis, dtype=dtype)\n"
     ]
    }
   ],
   "source": [
    "seasonal = ds_all.groupby('time.season').mean(dim = 'time', skipna = True)"
   ]
  },
  {
   "cell_type": "code",
   "execution_count": 150,
   "metadata": {},
   "outputs": [
    {
     "name": "stderr",
     "output_type": "stream",
     "text": [
      "/home/cchristo/anaconda3/envs/rad_transfer/lib/python3.6/site-packages/xarray/core/nanops.py:142: RuntimeWarning: Mean of empty slice\n",
      "  return np.nanmean(a, axis=axis, dtype=dtype)\n"
     ]
    }
   ],
   "source": [
    "seasonal_pre_co2 = ds_all_pre_co2.groupby('time.season').mean(dim = 'time', skipna = True)"
   ]
  },
  {
   "cell_type": "code",
   "execution_count": null,
   "metadata": {},
   "outputs": [],
   "source": []
  },
  {
   "cell_type": "code",
   "execution_count": 175,
   "metadata": {},
   "outputs": [],
   "source": [
    "seas_i = 0\n",
    "surf_diff = seasonal.isel(season = seas_i)['lw_down_total'] - \\\n",
    "    seasonal_pre_co2.isel(season = seas_i)['lw_down_total']"
   ]
  },
  {
   "cell_type": "code",
   "execution_count": 176,
   "metadata": {},
   "outputs": [
    {
     "data": {
      "text/plain": [
       "[<matplotlib.lines.Line2D at 0x7fc5a9039320>]"
      ]
     },
     "execution_count": 176,
     "metadata": {},
     "output_type": "execute_result"
    },
    {
     "data": {
      "image/png": "[encoded data removed]",
      "text/plain": [
       "<Figure size 432x288 with 1 Axes>"
      ]
     },
     "metadata": {
      "needs_background": "light"
     },
     "output_type": "display_data"
    }
   ],
   "source": [
    "\n",
    "surf_diff.plot()"
   ]
  },
  {
   "cell_type": "code",
   "execution_count": 172,
   "metadata": {},
   "outputs": [
    {
     "data": {
      "text/plain": [
       "[<matplotlib.lines.Line2D at 0x7fc5a87928d0>]"
      ]
     },
     "execution_count": 172,
     "metadata": {},
     "output_type": "execute_result"
    },
    {
     "data": {
      "image/png": "[encoded data removed]",
      "text/plain": [
       "<Figure size 432x288 with 1 Axes>"
      ]
     },
     "metadata": {
      "needs_background": "light"
     },
     "output_type": "display_data"
    }
   ],
   "source": [
    "surf_diff.plot()"
   ]
  },
  {
   "cell_type": "code",
   "execution_count": 131,
   "metadata": {},
   "outputs": [],
   "source": []
  },
  {
   "cell_type": "code",
   "execution_count": 177,
   "metadata": {},
   "outputs": [
    {
     "data": {
      "text/plain": [
       "1.7626967638449094"
      ]
     },
     "execution_count": 177,
     "metadata": {},
     "output_type": "execute_result"
    }
   ],
   "source": [
    "%run simulate_radiances_utils.py\n",
    "nu_ = surf_diff['nu'].values\n",
    "nu_inds = np.where((nu_ > 491.79016) & (nu_ < 1799.8556))\n",
    "compute_rf_from_diff_spec(surf_diff.values[nu_inds], nu = nu_[nu_inds])\n"
   ]
  },
  {
   "cell_type": "code",
   "execution_count": 165,
   "metadata": {},
   "outputs": [
    {
     "data": {
      "text/plain": [
       "2.2584232943452784"
      ]
     },
     "execution_count": 165,
     "metadata": {},
     "output_type": "execute_result"
    }
   ],
   "source": [
    "nu_ = surf_diff['nu'].values\n",
    "nu_inds = np.where((nu_ > 491.79016) & (nu_ < 1799.8556))\n",
    "compute_rf_from_diff_spec(surf_diff.values[nu_inds], nu = nu_[nu_inds])\n",
    "\n"
   ]
  },
  {
   "cell_type": "code",
   "execution_count": 169,
   "metadata": {},
   "outputs": [
    {
     "data": {
      "text/plain": [
       "0.495733"
      ]
     },
     "execution_count": 169,
     "metadata": {},
     "output_type": "execute_result"
    }
   ],
   "source": [
    "2.258423 - 1.76269"
   ]
  },
  {
   "cell_type": "code",
   "execution_count": 60,
   "metadata": {},
   "outputs": [
    {
     "data": {
      "text/plain": [
       "[<matplotlib.lines.Line2D at 0x7fc5ac0fbe48>]"
      ]
     },
     "execution_count": 60,
     "metadata": {},
     "output_type": "execute_result"
    },
    {
     "data": {
      "image/png": "[encoded data removed]",
      "text/plain": [
       "<Figure size 432x288 with 1 Axes>"
      ]
     },
     "metadata": {
      "needs_background": "light"
     },
     "output_type": "display_data"
    }
   ],
   "source": [
    "seasonal.isel(season = 1)['lw_down_H2O'].plot()"
   ]
  },
  {
   "cell_type": "code",
   "execution_count": 25,
   "metadata": {},
   "outputs": [
    {
     "data": {
      "text/plain": [
       "[<matplotlib.lines.Line2D at 0x7fc5adc571d0>]"
      ]
     },
     "execution_count": 25,
     "metadata": {},
     "output_type": "execute_result"
    },
    {
     "data": {
      "image/png": "[encoded data removed]",
      "text/plain": [
       "<Figure size 432x288 with 1 Axes>"
      ]
     },
     "metadata": {
      "needs_background": "light"
     },
     "output_type": "display_data"
    }
   ],
   "source": [
    "seasonal.isel(season = 3)['lw_down_CO2'].plot()"
   ]
  },
  {
   "cell_type": "code",
   "execution_count": 33,
   "metadata": {},
   "outputs": [
    {
     "data": {
      "image/png": "[encoded data removed]",
      "text/plain": [
       "<Figure size 432x288 with 1 Axes>"
      ]
     },
     "metadata": {
      "needs_background": "light"
     },
     "output_type": "display_data"
    }
   ],
   "source": [
    "seasonal.isel(season = 2)['eh_CO2'].plot()\n",
    "plt.xlim([550, 700])\n",
    "plt.gca().set_yscale('log')\n",
    "# plt.xlim([730, 740])\n",
    "# plt.ylim([0, 1000])"
   ]
  },
  {
   "cell_type": "code",
   "execution_count": 64,
   "metadata": {},
   "outputs": [],
   "source": [
    "# seasonal"
   ]
  },
  {
   "cell_type": "code",
   "execution_count": 84,
   "metadata": {},
   "outputs": [
    {
     "data": {
      "text/plain": [
       "(550.0, 700.0)"
      ]
     },
     "execution_count": 84,
     "metadata": {},
     "output_type": "execute_result"
    },
    {
     "data": {
      "image/png": "[encoded data removed]",
      "text/plain": [
       "<Figure size 432x288 with 1 Axes>"
      ]
     },
     "metadata": {
      "needs_background": "light"
     },
     "output_type": "display_data"
    }
   ],
   "source": [
    "seasonal.isel(season = 1)['dT_CO2'].plot()\n",
    "plt.xlim([550, 700])\n",
    "# plt.gca().set_yscale('log')"
   ]
  },
  {
   "cell_type": "code",
   "execution_count": 187,
   "metadata": {},
   "outputs": [],
   "source": [
    "# seas_i"
   ]
  },
  {
   "cell_type": "code",
   "execution_count": 185,
   "metadata": {},
   "outputs": [
    {
     "ename": "ValueError",
     "evalue": "x and y must have same first dimension, but have shapes (170000,) and (4, 170000)",
     "output_type": "error",
     "traceback": [
      "\u001b[0;31m---------------------------------------------------------------------------\u001b[0m",
      "\u001b[0;31mValueError\u001b[0m                                Traceback (most recent call last)",
      "\u001b[0;32m<ipython-input-185-906a98ea476a>\u001b[0m in \u001b[0;36m<module>\u001b[0;34m\u001b[0m\n\u001b[1;32m      3\u001b[0m                     \u001b[0mseasonal\u001b[0m\u001b[0;34m[\u001b[0m\u001b[0;34m'lw_down_CH4'\u001b[0m\u001b[0;34m]\u001b[0m\u001b[0;34m.\u001b[0m\u001b[0mvalues\u001b[0m\u001b[0;34m,\u001b[0m\u001b[0;34m\u001b[0m\u001b[0;34m\u001b[0m\u001b[0m\n\u001b[1;32m      4\u001b[0m                     \u001b[0mseasonal\u001b[0m\u001b[0;34m[\u001b[0m\u001b[0;34m'lw_down_H2O'\u001b[0m\u001b[0;34m]\u001b[0m\u001b[0;34m.\u001b[0m\u001b[0mvalues\u001b[0m\u001b[0;34m,\u001b[0m\u001b[0;34m\u001b[0m\u001b[0;34m\u001b[0m\u001b[0m\n\u001b[0;32m----> 5\u001b[0;31m                     nu = nu_)\n\u001b[0m",
      "\u001b[0;32m~/proj_christian/rad_transfer_python/simulate_radiances_utils.py\u001b[0m in \u001b[0;36mplot_downwelling_rad\u001b[0;34m(Down_CO2, Down_CH4, Down_H2O, nu, xlims)\u001b[0m\n\u001b[1;32m    467\u001b[0m                          xlims = (500, 1800)):\n\u001b[1;32m    468\u001b[0m     \u001b[0mplt\u001b[0m\u001b[0;34m.\u001b[0m\u001b[0mfigure\u001b[0m\u001b[0;34m(\u001b[0m\u001b[0mfigsize\u001b[0m \u001b[0;34m=\u001b[0m \u001b[0;34m(\u001b[0m\u001b[0;36m10\u001b[0m\u001b[0;34m,\u001b[0m\u001b[0;36m7\u001b[0m\u001b[0;34m)\u001b[0m\u001b[0;34m)\u001b[0m\u001b[0;34m\u001b[0m\u001b[0;34m\u001b[0m\u001b[0m\n\u001b[0;32m--> 469\u001b[0;31m     \u001b[0mplt\u001b[0m\u001b[0;34m.\u001b[0m\u001b[0mplot\u001b[0m\u001b[0;34m(\u001b[0m\u001b[0mnu\u001b[0m\u001b[0;34m,\u001b[0m \u001b[0;36m1e3\u001b[0m\u001b[0;34m*\u001b[0m\u001b[0mDown_CO2\u001b[0m\u001b[0;34m,\u001b[0m\u001b[0mlabel\u001b[0m\u001b[0;34m=\u001b[0m\u001b[0;34m'Rdown CO2'\u001b[0m\u001b[0;34m,\u001b[0m \u001b[0malpha\u001b[0m\u001b[0;34m=\u001b[0m\u001b[0;36m0.7\u001b[0m \u001b[0;34m,\u001b[0m\u001b[0mlinewidth\u001b[0m \u001b[0;34m=\u001b[0m \u001b[0;36m0.5\u001b[0m\u001b[0;34m)\u001b[0m\u001b[0;34m\u001b[0m\u001b[0;34m\u001b[0m\u001b[0m\n\u001b[0m\u001b[1;32m    470\u001b[0m     \u001b[0mplt\u001b[0m\u001b[0;34m.\u001b[0m\u001b[0mplot\u001b[0m\u001b[0;34m(\u001b[0m\u001b[0mnu\u001b[0m\u001b[0;34m,\u001b[0m \u001b[0;36m1e3\u001b[0m\u001b[0;34m*\u001b[0m\u001b[0mDown_CH4\u001b[0m\u001b[0;34m,\u001b[0m\u001b[0mlabel\u001b[0m\u001b[0;34m=\u001b[0m\u001b[0;34m'Rdown CH4'\u001b[0m\u001b[0;34m,\u001b[0m \u001b[0malpha\u001b[0m\u001b[0;34m=\u001b[0m\u001b[0;36m0.7\u001b[0m \u001b[0;34m,\u001b[0m\u001b[0mlinewidth\u001b[0m \u001b[0;34m=\u001b[0m \u001b[0;36m0.5\u001b[0m\u001b[0;34m)\u001b[0m\u001b[0;34m\u001b[0m\u001b[0;34m\u001b[0m\u001b[0m\n\u001b[1;32m    471\u001b[0m     \u001b[0mplt\u001b[0m\u001b[0;34m.\u001b[0m\u001b[0mplot\u001b[0m\u001b[0;34m(\u001b[0m\u001b[0mnu\u001b[0m\u001b[0;34m,\u001b[0m \u001b[0;36m1e3\u001b[0m\u001b[0;34m*\u001b[0m\u001b[0mDown_H2O\u001b[0m\u001b[0;34m,\u001b[0m\u001b[0mlabel\u001b[0m\u001b[0;34m=\u001b[0m\u001b[0;34m'Rdown H2O'\u001b[0m\u001b[0;34m,\u001b[0m \u001b[0malpha\u001b[0m\u001b[0;34m=\u001b[0m\u001b[0;36m0.7\u001b[0m \u001b[0;34m,\u001b[0m\u001b[0mlinewidth\u001b[0m \u001b[0;34m=\u001b[0m \u001b[0;36m0.5\u001b[0m\u001b[0;34m)\u001b[0m\u001b[0;34m\u001b[0m\u001b[0;34m\u001b[0m\u001b[0m\n",
      "\u001b[0;32m~/anaconda3/envs/rad_transfer/lib/python3.6/site-packages/matplotlib/pyplot.py\u001b[0m in \u001b[0;36mplot\u001b[0;34m(scalex, scaley, data, *args, **kwargs)\u001b[0m\n\u001b[1;32m   2761\u001b[0m     return gca().plot(\n\u001b[1;32m   2762\u001b[0m         *args, scalex=scalex, scaley=scaley, **({\"data\": data} if data\n\u001b[0;32m-> 2763\u001b[0;31m         is not None else {}), **kwargs)\n\u001b[0m\u001b[1;32m   2764\u001b[0m \u001b[0;34m\u001b[0m\u001b[0m\n\u001b[1;32m   2765\u001b[0m \u001b[0;34m\u001b[0m\u001b[0m\n",
      "\u001b[0;32m~/anaconda3/envs/rad_transfer/lib/python3.6/site-packages/matplotlib/axes/_axes.py\u001b[0m in \u001b[0;36mplot\u001b[0;34m(self, scalex, scaley, data, *args, **kwargs)\u001b[0m\n\u001b[1;32m   1645\u001b[0m         \"\"\"\n\u001b[1;32m   1646\u001b[0m         \u001b[0mkwargs\u001b[0m \u001b[0;34m=\u001b[0m \u001b[0mcbook\u001b[0m\u001b[0;34m.\u001b[0m\u001b[0mnormalize_kwargs\u001b[0m\u001b[0;34m(\u001b[0m\u001b[0mkwargs\u001b[0m\u001b[0;34m,\u001b[0m \u001b[0mmlines\u001b[0m\u001b[0;34m.\u001b[0m\u001b[0mLine2D\u001b[0m\u001b[0;34m)\u001b[0m\u001b[0;34m\u001b[0m\u001b[0;34m\u001b[0m\u001b[0m\n\u001b[0;32m-> 1647\u001b[0;31m         \u001b[0mlines\u001b[0m \u001b[0;34m=\u001b[0m \u001b[0;34m[\u001b[0m\u001b[0;34m*\u001b[0m\u001b[0mself\u001b[0m\u001b[0;34m.\u001b[0m\u001b[0m_get_lines\u001b[0m\u001b[0;34m(\u001b[0m\u001b[0;34m*\u001b[0m\u001b[0margs\u001b[0m\u001b[0;34m,\u001b[0m \u001b[0mdata\u001b[0m\u001b[0;34m=\u001b[0m\u001b[0mdata\u001b[0m\u001b[0;34m,\u001b[0m \u001b[0;34m**\u001b[0m\u001b[0mkwargs\u001b[0m\u001b[0;34m)\u001b[0m\u001b[0;34m]\u001b[0m\u001b[0;34m\u001b[0m\u001b[0;34m\u001b[0m\u001b[0m\n\u001b[0m\u001b[1;32m   1648\u001b[0m         \u001b[0;32mfor\u001b[0m \u001b[0mline\u001b[0m \u001b[0;32min\u001b[0m \u001b[0mlines\u001b[0m\u001b[0;34m:\u001b[0m\u001b[0;34m\u001b[0m\u001b[0;34m\u001b[0m\u001b[0m\n\u001b[1;32m   1649\u001b[0m             \u001b[0mself\u001b[0m\u001b[0;34m.\u001b[0m\u001b[0madd_line\u001b[0m\u001b[0;34m(\u001b[0m\u001b[0mline\u001b[0m\u001b[0;34m)\u001b[0m\u001b[0;34m\u001b[0m\u001b[0;34m\u001b[0m\u001b[0m\n",
      "\u001b[0;32m~/anaconda3/envs/rad_transfer/lib/python3.6/site-packages/matplotlib/axes/_base.py\u001b[0m in \u001b[0;36m__call__\u001b[0;34m(self, *args, **kwargs)\u001b[0m\n\u001b[1;32m    214\u001b[0m                 \u001b[0mthis\u001b[0m \u001b[0;34m+=\u001b[0m \u001b[0margs\u001b[0m\u001b[0;34m[\u001b[0m\u001b[0;36m0\u001b[0m\u001b[0;34m]\u001b[0m\u001b[0;34m,\u001b[0m\u001b[0;34m\u001b[0m\u001b[0;34m\u001b[0m\u001b[0m\n\u001b[1;32m    215\u001b[0m                 \u001b[0margs\u001b[0m \u001b[0;34m=\u001b[0m \u001b[0margs\u001b[0m\u001b[0;34m[\u001b[0m\u001b[0;36m1\u001b[0m\u001b[0;34m:\u001b[0m\u001b[0;34m]\u001b[0m\u001b[0;34m\u001b[0m\u001b[0;34m\u001b[0m\u001b[0m\n\u001b[0;32m--> 216\u001b[0;31m             \u001b[0;32myield\u001b[0m \u001b[0;32mfrom\u001b[0m \u001b[0mself\u001b[0m\u001b[0;34m.\u001b[0m\u001b[0m_plot_args\u001b[0m\u001b[0;34m(\u001b[0m\u001b[0mthis\u001b[0m\u001b[0;34m,\u001b[0m \u001b[0mkwargs\u001b[0m\u001b[0;34m)\u001b[0m\u001b[0;34m\u001b[0m\u001b[0;34m\u001b[0m\u001b[0m\n\u001b[0m\u001b[1;32m    217\u001b[0m \u001b[0;34m\u001b[0m\u001b[0m\n\u001b[1;32m    218\u001b[0m     \u001b[0;32mdef\u001b[0m \u001b[0mget_next_color\u001b[0m\u001b[0;34m(\u001b[0m\u001b[0mself\u001b[0m\u001b[0;34m)\u001b[0m\u001b[0;34m:\u001b[0m\u001b[0;34m\u001b[0m\u001b[0;34m\u001b[0m\u001b[0m\n",
      "\u001b[0;32m~/anaconda3/envs/rad_transfer/lib/python3.6/site-packages/matplotlib/axes/_base.py\u001b[0m in \u001b[0;36m_plot_args\u001b[0;34m(self, tup, kwargs)\u001b[0m\n\u001b[1;32m    340\u001b[0m \u001b[0;34m\u001b[0m\u001b[0m\n\u001b[1;32m    341\u001b[0m         \u001b[0;32mif\u001b[0m \u001b[0mx\u001b[0m\u001b[0;34m.\u001b[0m\u001b[0mshape\u001b[0m\u001b[0;34m[\u001b[0m\u001b[0;36m0\u001b[0m\u001b[0;34m]\u001b[0m \u001b[0;34m!=\u001b[0m \u001b[0my\u001b[0m\u001b[0;34m.\u001b[0m\u001b[0mshape\u001b[0m\u001b[0;34m[\u001b[0m\u001b[0;36m0\u001b[0m\u001b[0;34m]\u001b[0m\u001b[0;34m:\u001b[0m\u001b[0;34m\u001b[0m\u001b[0;34m\u001b[0m\u001b[0m\n\u001b[0;32m--> 342\u001b[0;31m             raise ValueError(f\"x and y must have same first dimension, but \"\n\u001b[0m\u001b[1;32m    343\u001b[0m                              f\"have shapes {x.shape} and {y.shape}\")\n\u001b[1;32m    344\u001b[0m         \u001b[0;32mif\u001b[0m \u001b[0mx\u001b[0m\u001b[0;34m.\u001b[0m\u001b[0mndim\u001b[0m \u001b[0;34m>\u001b[0m \u001b[0;36m2\u001b[0m \u001b[0;32mor\u001b[0m \u001b[0my\u001b[0m\u001b[0;34m.\u001b[0m\u001b[0mndim\u001b[0m \u001b[0;34m>\u001b[0m \u001b[0;36m2\u001b[0m\u001b[0;34m:\u001b[0m\u001b[0;34m\u001b[0m\u001b[0;34m\u001b[0m\u001b[0m\n",
      "\u001b[0;31mValueError\u001b[0m: x and y must have same first dimension, but have shapes (170000,) and (4, 170000)"
     ]
    },
    {
     "data": {
      "image/png": "[encoded data removed]",
      "text/plain": [
       "<Figure size 720x504 with 1 Axes>"
      ]
     },
     "metadata": {
      "needs_background": "light"
     },
     "output_type": "display_data"
    }
   ],
   "source": [
    "%run simulate_radiances_utils.py\n",
    "R_down_CO2_seas_i = seasonal['lw_down_CO2'].isel(season = seas_i).values\n",
    "R_down_CH4_seas_i  = seasonal['lw_down_CH4'].isel(season = seas_i).values\n",
    "R_down_CH4_seas_i = seasonal['lw_down_H2O'].isel(season = seas_i).values\n",
    "plot_downwelling_rad(R_down_CO2_seas_i,\n",
    "                    R_down_CH4_seas_i,\n",
    "                    R_down_H2O_seas_i,\n",
    "                    nu = nu_)"
   ]
  }
 ],
 "metadata": {
  "kernelspec": {
   "display_name": "Python 3",
   "language": "python",
   "name": "python3"
  },
  "language_info": {
   "codemirror_mode": {
    "name": "ipython",
    "version": 3
   },
   "file_extension": ".py",
   "mimetype": "text/x-python",
   "name": "python",
   "nbconvert_exporter": "python",
   "pygments_lexer": "ipython3",
   "version": "3.6.10"
  }
 },
 "nbformat": 4,
 "nbformat_minor": 4
}
