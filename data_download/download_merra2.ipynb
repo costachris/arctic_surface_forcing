{
 "cells": [
  {
   "cell_type": "code",
   "execution_count": 3,
   "metadata": {},
   "outputs": [],
   "source": [
    "import xarray as xr\n",
    "import numpy as np\n",
    "import matplotlib.pyplot as plt\n",
    "import matplotlib\n",
    "import os\n",
    "import requests\n",
    "import pandas as pd"
   ]
  },
  {
   "cell_type": "code",
   "execution_count": 18,
   "metadata": {},
   "outputs": [],
   "source": [
    "dates = pd.date_range('2015-09-01', '2015-09-07', freq = 'D')"
   ]
  },
  {
   "cell_type": "code",
   "execution_count": 19,
   "metadata": {},
   "outputs": [],
   "source": [
    "# output_data_dir = '/export/data1/cchristo/merra2/merra2_pres_levels/'\n",
    "# output_data_dir = '/home/cchristo/proj_christian/data/reanalysis_3d/merra2/'\n",
    "output_data_dir = '/export/data2/groupMembers/cchristo/reanalysis_3d/merra2/'\n",
    "\n",
    "# string formats for saving locally\n",
    "output_rel_subpath_format = '{year}/{month:02d}/'\n",
    "output_file_path_format = output_data_dir + output_rel_subpath_format + 'MERRA2_400.tavg3_3d_asm_Nv.{year}{month:02d}{day:02d}.nc4'\n",
    "output_rel_path_format = output_data_dir + output_rel_subpath_format\n",
    "\n",
    "# string format for MERRA2 data requests\n",
    "input_url_format = 'https://goldsmr5.gesdisc.eosdis.nasa.gov/data/MERRA2/M2T3NVASM.5.12.4/{year}/{month:02d}/MERRA2_400.tavg3_3d_asm_Nv.{year}{month:02d}{day:02d}.nc4'\n",
    "\n"
   ]
  },
  {
   "cell_type": "code",
   "execution_count": 20,
   "metadata": {},
   "outputs": [
    {
     "name": "stdout",
     "output_type": "stream",
     "text": [
      "Downloading:   2015-09-01 00:00:00\n",
      "Downloading:   2015-09-02 00:00:00\n",
      "Downloading:   2015-09-03 00:00:00\n",
      "Downloading:   2015-09-04 00:00:00\n",
      "Downloading:   2015-09-05 00:00:00\n",
      "Downloading:   2015-09-06 00:00:00\n",
      "Downloading:   2015-09-07 00:00:00\n"
     ]
    }
   ],
   "source": [
    "for date_i in dates:\n",
    "    print('Downloading:  ', date_i)\n",
    "    URL = input_url_format.format(year = date_i.year, month = date_i.month, day = date_i.day)\n",
    "    output_rel_path = output_rel_path_format.format(year = date_i.year, month = date_i.month, day = date_i.day)\n",
    "    output_file_path = output_file_path_format.format(year = date_i.year, month = date_i.month, day = date_i.day)\n",
    "    try:\n",
    "        # make rel dir if it doesn't already exist\n",
    "#         if not os.path.exists(output_rel_path):\n",
    "#             os.makedirs(output_rel_path)\n",
    "#       if file aleady exists move on\n",
    "        if not os.path.exists(output_file_path):\n",
    "            wget_string = 'wget --load-cookies ~/.urs_cookies --save-cookies ~/.urs_cookies --auth-no-challenge=on --keep-session-cookies --content-disposition ' + URL + ' --directory-prefix ' + output_rel_path       \n",
    "            os.system(wget_string)\n",
    "    except Exception as e:\n",
    "        print('Could not download ', date_i, ' : ', e)\n"
   ]
  },
  {
   "cell_type": "code",
   "execution_count": 9,
   "metadata": {},
   "outputs": [
    {
     "data": {
      "text/plain": [
       "'/home/cchristo/proj_christian/data/reanalysis_3d/merra2/2015/03/'"
      ]
     },
     "execution_count": 9,
     "metadata": {},
     "output_type": "execute_result"
    }
   ],
   "source": [
    "output_rel_path"
   ]
  }
 ],
 "metadata": {
  "kernelspec": {
   "display_name": "Python 3",
   "language": "python",
   "name": "python3"
  },
  "language_info": {
   "codemirror_mode": {
    "name": "ipython",
    "version": 3
   },
   "file_extension": ".py",
   "mimetype": "text/x-python",
   "name": "python",
   "nbconvert_exporter": "python",
   "pygments_lexer": "ipython3",
   "version": "3.6.10"
  }
 },
 "nbformat": 4,
 "nbformat_minor": 4
}
